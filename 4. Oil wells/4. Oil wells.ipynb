{
 "cells": [
  {
   "cell_type": "markdown",
   "metadata": {},
   "source": [
    "# Выбор локации для скважины"
   ]
  },
  {
   "cell_type": "markdown",
   "metadata": {},
   "source": [
    "Допустим, вы работаете в добывающей компании «ГлавРосГосНефть». Нужно решить, где бурить новую скважину.\n",
    "\n",
    "Вам предоставлены пробы нефти в трёх регионах: в каждом 10 000 месторождений, где измерили качество нефти и объём её запасов. Постройте модель машинного обучения, которая поможет определить регион, где добыча принесёт наибольшую прибыль. Проанализируйте возможную прибыль и риски техникой *Bootstrap.*\n",
    "\n",
    "Шаги для выбора локации:\n",
    "\n",
    "- В избранном регионе ищут месторождения, для каждого определяют значения признаков;\n",
    "- Строят модель и оценивают объём запасов;\n",
    "- Выбирают месторождения с самым высокими оценками значений. Количество месторождений зависит от бюджета компании и стоимости разработки одной скважины;\n",
    "- Прибыль равна суммарной прибыли отобранных месторождений."
   ]
  },
  {
   "cell_type": "markdown",
   "metadata": {},
   "source": [
    "- id — уникальный идентификатор скважины;\n",
    "- f0, f1, f2 — три признака точек (неважно, что они означают, но сами признаки значимы);\n",
    "- product — объём запасов в скважине (тыс. баррелей)."
   ]
  },
  {
   "cell_type": "markdown",
   "metadata": {},
   "source": [
    "## Загрузка и подготовка данных"
   ]
  },
  {
   "cell_type": "code",
   "execution_count": 1,
   "metadata": {},
   "outputs": [],
   "source": [
    "import pandas as pd\n",
    "import seaborn as sns\n",
    "import matplotlib.pyplot as plt\n",
    "from sklearn.model_selection import train_test_split\n",
    "from sklearn.linear_model import LinearRegression\n",
    "from sklearn.preprocessing import StandardScaler\n",
    "from sklearn.metrics import mean_squared_error\n",
    "from numpy.random import RandomState\n",
    "\n",
    "\n",
    "pd.options.mode.chained_assignment = None\n",
    "RANDOM_STATE = RandomState(77777)"
   ]
  },
  {
   "cell_type": "markdown",
   "metadata": {},
   "source": [
    "<div class=\"alert alert-block alert-success\">\n",
    "<b>Успех:</b> Отлично, что все импорты собраны в первой ячейке ноутбука! Если у того, кто будет запускать твой ноутбук будут отсутствовать некоторые библиотеки, то он это увидит сразу, а не в процессе!\n",
    "</div>"
   ]
  },
  {
   "cell_type": "code",
   "execution_count": 2,
   "metadata": {},
   "outputs": [],
   "source": [
    "try:\n",
    "    geo_data_0 = pd.read_csv('/datasets/geo_data_0.csv')\n",
    "    geo_data_1 = pd.read_csv('/datasets/geo_data_1.csv')\n",
    "    geo_data_2 = pd.read_csv('/datasets/geo_data_2.csv')\n",
    "except:\n",
    "    geo_data_0 = pd.read_csv('C:\\\\D\\\\Project\\\\datasets\\\\geo_data_0.csv')\n",
    "    geo_data_1 = pd.read_csv('C:\\\\D\\\\Project\\\\datasets\\\\geo_data_1.csv')\n",
    "    geo_data_2 = pd.read_csv('C:\\\\D\\\\Project\\\\datasets\\\\geo_data_2.csv')"
   ]
  },
  {
   "cell_type": "markdown",
   "metadata": {},
   "source": [
    "**Первый регион**"
   ]
  },
  {
   "cell_type": "code",
   "execution_count": 3,
   "metadata": {},
   "outputs": [
    {
     "name": "stdout",
     "output_type": "stream",
     "text": [
      "<class 'pandas.core.frame.DataFrame'>\n",
      "RangeIndex: 100000 entries, 0 to 99999\n",
      "Data columns (total 5 columns):\n",
      " #   Column   Non-Null Count   Dtype  \n",
      "---  ------   --------------   -----  \n",
      " 0   id       100000 non-null  object \n",
      " 1   f0       100000 non-null  float64\n",
      " 2   f1       100000 non-null  float64\n",
      " 3   f2       100000 non-null  float64\n",
      " 4   product  100000 non-null  float64\n",
      "dtypes: float64(4), object(1)\n",
      "memory usage: 3.8+ MB\n"
     ]
    }
   ],
   "source": [
    "geo_data_0.info()"
   ]
  },
  {
   "cell_type": "code",
   "execution_count": 4,
   "metadata": {},
   "outputs": [
    {
     "data": {
      "text/html": [
       "<div>\n",
       "<style scoped>\n",
       "    .dataframe tbody tr th:only-of-type {\n",
       "        vertical-align: middle;\n",
       "    }\n",
       "\n",
       "    .dataframe tbody tr th {\n",
       "        vertical-align: top;\n",
       "    }\n",
       "\n",
       "    .dataframe thead th {\n",
       "        text-align: right;\n",
       "    }\n",
       "</style>\n",
       "<table border=\"1\" class=\"dataframe\">\n",
       "  <thead>\n",
       "    <tr style=\"text-align: right;\">\n",
       "      <th></th>\n",
       "      <th>id</th>\n",
       "      <th>f0</th>\n",
       "      <th>f1</th>\n",
       "      <th>f2</th>\n",
       "      <th>product</th>\n",
       "    </tr>\n",
       "  </thead>\n",
       "  <tbody>\n",
       "    <tr>\n",
       "      <th>0</th>\n",
       "      <td>txEyH</td>\n",
       "      <td>0.705745</td>\n",
       "      <td>-0.497823</td>\n",
       "      <td>1.221170</td>\n",
       "      <td>105.280062</td>\n",
       "    </tr>\n",
       "    <tr>\n",
       "      <th>1</th>\n",
       "      <td>2acmU</td>\n",
       "      <td>1.334711</td>\n",
       "      <td>-0.340164</td>\n",
       "      <td>4.365080</td>\n",
       "      <td>73.037750</td>\n",
       "    </tr>\n",
       "    <tr>\n",
       "      <th>2</th>\n",
       "      <td>409Wp</td>\n",
       "      <td>1.022732</td>\n",
       "      <td>0.151990</td>\n",
       "      <td>1.419926</td>\n",
       "      <td>85.265647</td>\n",
       "    </tr>\n",
       "    <tr>\n",
       "      <th>3</th>\n",
       "      <td>iJLyR</td>\n",
       "      <td>-0.032172</td>\n",
       "      <td>0.139033</td>\n",
       "      <td>2.978566</td>\n",
       "      <td>168.620776</td>\n",
       "    </tr>\n",
       "    <tr>\n",
       "      <th>4</th>\n",
       "      <td>Xdl7t</td>\n",
       "      <td>1.988431</td>\n",
       "      <td>0.155413</td>\n",
       "      <td>4.751769</td>\n",
       "      <td>154.036647</td>\n",
       "    </tr>\n",
       "  </tbody>\n",
       "</table>\n",
       "</div>"
      ],
      "text/plain": [
       "      id        f0        f1        f2     product\n",
       "0  txEyH  0.705745 -0.497823  1.221170  105.280062\n",
       "1  2acmU  1.334711 -0.340164  4.365080   73.037750\n",
       "2  409Wp  1.022732  0.151990  1.419926   85.265647\n",
       "3  iJLyR -0.032172  0.139033  2.978566  168.620776\n",
       "4  Xdl7t  1.988431  0.155413  4.751769  154.036647"
      ]
     },
     "execution_count": 4,
     "metadata": {},
     "output_type": "execute_result"
    }
   ],
   "source": [
    "geo_data_0.head()"
   ]
  },
  {
   "cell_type": "code",
   "execution_count": 5,
   "metadata": {},
   "outputs": [
    {
     "data": {
      "text/plain": [
       "10"
      ]
     },
     "execution_count": 5,
     "metadata": {},
     "output_type": "execute_result"
    }
   ],
   "source": [
    "geo_data_0['id'].duplicated().sum()"
   ]
  },
  {
   "cell_type": "code",
   "execution_count": 6,
   "metadata": {},
   "outputs": [
    {
     "data": {
      "text/html": [
       "<div>\n",
       "<style scoped>\n",
       "    .dataframe tbody tr th:only-of-type {\n",
       "        vertical-align: middle;\n",
       "    }\n",
       "\n",
       "    .dataframe tbody tr th {\n",
       "        vertical-align: top;\n",
       "    }\n",
       "\n",
       "    .dataframe thead th {\n",
       "        text-align: right;\n",
       "    }\n",
       "</style>\n",
       "<table border=\"1\" class=\"dataframe\">\n",
       "  <thead>\n",
       "    <tr style=\"text-align: right;\">\n",
       "      <th></th>\n",
       "      <th>id</th>\n",
       "      <th>f0</th>\n",
       "      <th>f1</th>\n",
       "      <th>f2</th>\n",
       "      <th>product</th>\n",
       "    </tr>\n",
       "  </thead>\n",
       "  <tbody>\n",
       "    <tr>\n",
       "      <th>66136</th>\n",
       "      <td>74z30</td>\n",
       "      <td>1.084962</td>\n",
       "      <td>-0.312358</td>\n",
       "      <td>6.990771</td>\n",
       "      <td>127.643327</td>\n",
       "    </tr>\n",
       "    <tr>\n",
       "      <th>64022</th>\n",
       "      <td>74z30</td>\n",
       "      <td>0.741456</td>\n",
       "      <td>0.459229</td>\n",
       "      <td>5.153109</td>\n",
       "      <td>140.771492</td>\n",
       "    </tr>\n",
       "    <tr>\n",
       "      <th>51970</th>\n",
       "      <td>A5aEY</td>\n",
       "      <td>-0.180335</td>\n",
       "      <td>0.935548</td>\n",
       "      <td>-2.094773</td>\n",
       "      <td>33.020205</td>\n",
       "    </tr>\n",
       "    <tr>\n",
       "      <th>3389</th>\n",
       "      <td>A5aEY</td>\n",
       "      <td>-0.039949</td>\n",
       "      <td>0.156872</td>\n",
       "      <td>0.209861</td>\n",
       "      <td>89.249364</td>\n",
       "    </tr>\n",
       "    <tr>\n",
       "      <th>69163</th>\n",
       "      <td>AGS9W</td>\n",
       "      <td>-0.933795</td>\n",
       "      <td>0.116194</td>\n",
       "      <td>-3.655896</td>\n",
       "      <td>19.230453</td>\n",
       "    </tr>\n",
       "    <tr>\n",
       "      <th>42529</th>\n",
       "      <td>AGS9W</td>\n",
       "      <td>1.454747</td>\n",
       "      <td>-0.479651</td>\n",
       "      <td>0.683380</td>\n",
       "      <td>126.370504</td>\n",
       "    </tr>\n",
       "    <tr>\n",
       "      <th>931</th>\n",
       "      <td>HZww2</td>\n",
       "      <td>0.755284</td>\n",
       "      <td>0.368511</td>\n",
       "      <td>1.863211</td>\n",
       "      <td>30.681774</td>\n",
       "    </tr>\n",
       "    <tr>\n",
       "      <th>7530</th>\n",
       "      <td>HZww2</td>\n",
       "      <td>1.061194</td>\n",
       "      <td>-0.373969</td>\n",
       "      <td>10.430210</td>\n",
       "      <td>158.828695</td>\n",
       "    </tr>\n",
       "    <tr>\n",
       "      <th>63593</th>\n",
       "      <td>QcMuo</td>\n",
       "      <td>0.635635</td>\n",
       "      <td>-0.473422</td>\n",
       "      <td>0.862670</td>\n",
       "      <td>64.578675</td>\n",
       "    </tr>\n",
       "    <tr>\n",
       "      <th>1949</th>\n",
       "      <td>QcMuo</td>\n",
       "      <td>0.506563</td>\n",
       "      <td>-0.323775</td>\n",
       "      <td>-2.215583</td>\n",
       "      <td>75.496502</td>\n",
       "    </tr>\n",
       "    <tr>\n",
       "      <th>75715</th>\n",
       "      <td>Tdehs</td>\n",
       "      <td>0.112079</td>\n",
       "      <td>0.430296</td>\n",
       "      <td>3.218993</td>\n",
       "      <td>60.964018</td>\n",
       "    </tr>\n",
       "    <tr>\n",
       "      <th>21426</th>\n",
       "      <td>Tdehs</td>\n",
       "      <td>0.829407</td>\n",
       "      <td>0.298807</td>\n",
       "      <td>-0.049563</td>\n",
       "      <td>96.035308</td>\n",
       "    </tr>\n",
       "    <tr>\n",
       "      <th>92341</th>\n",
       "      <td>TtcGQ</td>\n",
       "      <td>0.110711</td>\n",
       "      <td>1.022689</td>\n",
       "      <td>0.911381</td>\n",
       "      <td>101.318008</td>\n",
       "    </tr>\n",
       "    <tr>\n",
       "      <th>60140</th>\n",
       "      <td>TtcGQ</td>\n",
       "      <td>0.569276</td>\n",
       "      <td>-0.104876</td>\n",
       "      <td>6.440215</td>\n",
       "      <td>85.350186</td>\n",
       "    </tr>\n",
       "    <tr>\n",
       "      <th>89582</th>\n",
       "      <td>bsk9y</td>\n",
       "      <td>0.398908</td>\n",
       "      <td>-0.400253</td>\n",
       "      <td>10.122376</td>\n",
       "      <td>163.433078</td>\n",
       "    </tr>\n",
       "    <tr>\n",
       "      <th>97785</th>\n",
       "      <td>bsk9y</td>\n",
       "      <td>0.378429</td>\n",
       "      <td>0.005837</td>\n",
       "      <td>0.160827</td>\n",
       "      <td>160.637302</td>\n",
       "    </tr>\n",
       "    <tr>\n",
       "      <th>41724</th>\n",
       "      <td>bxg6G</td>\n",
       "      <td>-0.823752</td>\n",
       "      <td>0.546319</td>\n",
       "      <td>3.630479</td>\n",
       "      <td>93.007798</td>\n",
       "    </tr>\n",
       "    <tr>\n",
       "      <th>1364</th>\n",
       "      <td>bxg6G</td>\n",
       "      <td>0.411645</td>\n",
       "      <td>0.856830</td>\n",
       "      <td>-3.653440</td>\n",
       "      <td>73.604260</td>\n",
       "    </tr>\n",
       "    <tr>\n",
       "      <th>16633</th>\n",
       "      <td>fiKDv</td>\n",
       "      <td>0.157341</td>\n",
       "      <td>1.028359</td>\n",
       "      <td>5.585586</td>\n",
       "      <td>95.817889</td>\n",
       "    </tr>\n",
       "    <tr>\n",
       "      <th>90815</th>\n",
       "      <td>fiKDv</td>\n",
       "      <td>0.049883</td>\n",
       "      <td>0.841313</td>\n",
       "      <td>6.394613</td>\n",
       "      <td>137.346586</td>\n",
       "    </tr>\n",
       "  </tbody>\n",
       "</table>\n",
       "</div>"
      ],
      "text/plain": [
       "          id        f0        f1         f2     product\n",
       "66136  74z30  1.084962 -0.312358   6.990771  127.643327\n",
       "64022  74z30  0.741456  0.459229   5.153109  140.771492\n",
       "51970  A5aEY -0.180335  0.935548  -2.094773   33.020205\n",
       "3389   A5aEY -0.039949  0.156872   0.209861   89.249364\n",
       "69163  AGS9W -0.933795  0.116194  -3.655896   19.230453\n",
       "42529  AGS9W  1.454747 -0.479651   0.683380  126.370504\n",
       "931    HZww2  0.755284  0.368511   1.863211   30.681774\n",
       "7530   HZww2  1.061194 -0.373969  10.430210  158.828695\n",
       "63593  QcMuo  0.635635 -0.473422   0.862670   64.578675\n",
       "1949   QcMuo  0.506563 -0.323775  -2.215583   75.496502\n",
       "75715  Tdehs  0.112079  0.430296   3.218993   60.964018\n",
       "21426  Tdehs  0.829407  0.298807  -0.049563   96.035308\n",
       "92341  TtcGQ  0.110711  1.022689   0.911381  101.318008\n",
       "60140  TtcGQ  0.569276 -0.104876   6.440215   85.350186\n",
       "89582  bsk9y  0.398908 -0.400253  10.122376  163.433078\n",
       "97785  bsk9y  0.378429  0.005837   0.160827  160.637302\n",
       "41724  bxg6G -0.823752  0.546319   3.630479   93.007798\n",
       "1364   bxg6G  0.411645  0.856830  -3.653440   73.604260\n",
       "16633  fiKDv  0.157341  1.028359   5.585586   95.817889\n",
       "90815  fiKDv  0.049883  0.841313   6.394613  137.346586"
      ]
     },
     "execution_count": 6,
     "metadata": {},
     "output_type": "execute_result"
    }
   ],
   "source": [
    "geo_data_0[geo_data_0['id'].duplicated(False)].sort_values('id')"
   ]
  },
  {
   "cell_type": "code",
   "execution_count": 7,
   "metadata": {},
   "outputs": [
    {
     "data": {
      "text/html": [
       "<div>\n",
       "<style scoped>\n",
       "    .dataframe tbody tr th:only-of-type {\n",
       "        vertical-align: middle;\n",
       "    }\n",
       "\n",
       "    .dataframe tbody tr th {\n",
       "        vertical-align: top;\n",
       "    }\n",
       "\n",
       "    .dataframe thead th {\n",
       "        text-align: right;\n",
       "    }\n",
       "</style>\n",
       "<table border=\"1\" class=\"dataframe\">\n",
       "  <thead>\n",
       "    <tr style=\"text-align: right;\">\n",
       "      <th></th>\n",
       "      <th>f0</th>\n",
       "      <th>f1</th>\n",
       "      <th>f2</th>\n",
       "      <th>product</th>\n",
       "    </tr>\n",
       "  </thead>\n",
       "  <tbody>\n",
       "    <tr>\n",
       "      <th>count</th>\n",
       "      <td>100000.000000</td>\n",
       "      <td>100000.000000</td>\n",
       "      <td>100000.000000</td>\n",
       "      <td>100000.000000</td>\n",
       "    </tr>\n",
       "    <tr>\n",
       "      <th>mean</th>\n",
       "      <td>0.500419</td>\n",
       "      <td>0.250143</td>\n",
       "      <td>2.502647</td>\n",
       "      <td>92.500000</td>\n",
       "    </tr>\n",
       "    <tr>\n",
       "      <th>std</th>\n",
       "      <td>0.871832</td>\n",
       "      <td>0.504433</td>\n",
       "      <td>3.248248</td>\n",
       "      <td>44.288691</td>\n",
       "    </tr>\n",
       "    <tr>\n",
       "      <th>min</th>\n",
       "      <td>-1.408605</td>\n",
       "      <td>-0.848218</td>\n",
       "      <td>-12.088328</td>\n",
       "      <td>0.000000</td>\n",
       "    </tr>\n",
       "    <tr>\n",
       "      <th>25%</th>\n",
       "      <td>-0.072580</td>\n",
       "      <td>-0.200881</td>\n",
       "      <td>0.287748</td>\n",
       "      <td>56.497507</td>\n",
       "    </tr>\n",
       "    <tr>\n",
       "      <th>50%</th>\n",
       "      <td>0.502360</td>\n",
       "      <td>0.250252</td>\n",
       "      <td>2.515969</td>\n",
       "      <td>91.849972</td>\n",
       "    </tr>\n",
       "    <tr>\n",
       "      <th>75%</th>\n",
       "      <td>1.073581</td>\n",
       "      <td>0.700646</td>\n",
       "      <td>4.715088</td>\n",
       "      <td>128.564089</td>\n",
       "    </tr>\n",
       "    <tr>\n",
       "      <th>max</th>\n",
       "      <td>2.362331</td>\n",
       "      <td>1.343769</td>\n",
       "      <td>16.003790</td>\n",
       "      <td>185.364347</td>\n",
       "    </tr>\n",
       "  </tbody>\n",
       "</table>\n",
       "</div>"
      ],
      "text/plain": [
       "                  f0             f1             f2        product\n",
       "count  100000.000000  100000.000000  100000.000000  100000.000000\n",
       "mean        0.500419       0.250143       2.502647      92.500000\n",
       "std         0.871832       0.504433       3.248248      44.288691\n",
       "min        -1.408605      -0.848218     -12.088328       0.000000\n",
       "25%        -0.072580      -0.200881       0.287748      56.497507\n",
       "50%         0.502360       0.250252       2.515969      91.849972\n",
       "75%         1.073581       0.700646       4.715088     128.564089\n",
       "max         2.362331       1.343769      16.003790     185.364347"
      ]
     },
     "execution_count": 7,
     "metadata": {},
     "output_type": "execute_result"
    }
   ],
   "source": [
    "geo_data_0.describe()"
   ]
  },
  {
   "cell_type": "code",
   "execution_count": 8,
   "metadata": {},
   "outputs": [
    {
     "data": {
      "image/png": "[encoded data removed]",
      "text/plain": [
       "<Figure size 900x700 with 2 Axes>"
      ]
     },
     "metadata": {},
     "output_type": "display_data"
    }
   ],
   "source": [
    "plt.figure(figsize=(9,7))\n",
    "sns.heatmap(geo_data_0.corr(), annot=True)\n",
    "plt.title('Корреляция в первом регионе')\n",
    "plt.show()"
   ]
  },
  {
   "cell_type": "markdown",
   "metadata": {},
   "source": [
    "Корреляция по шкале Чеддока:\n",
    "- Признак f0 коррелирует с f1 (умеренно отрицательно) и product (слабо положительно);\n",
    "- Признак f1 коррелирует с product (слабо отрицательно);\n",
    "- Признак f2 коррелирует с product (умеренно положительно).\n",
    "\n",
    "![Шкала Чеддока](https://intuit.ru/EDI/22_08_23_1/1692656410-28489/tutorial/25/objects/8/files/8_1.gif)"
   ]
  },
  {
   "cell_type": "code",
   "execution_count": 9,
   "metadata": {},
   "outputs": [
    {
     "data": {
      "image/png": "[encoded data removed]",
      "text/plain": [
       "<Figure size 400x300 with 1 Axes>"
      ]
     },
     "metadata": {},
     "output_type": "display_data"
    }
   ],
   "source": [
    "plt.figure(figsize=(4,3))\n",
    "sns.histplot(data=geo_data_0, x='product', kde=True, bins=10)\n",
    "plt.xlabel('Продукт')\n",
    "plt.ylabel('Количество')\n",
    "plt.title('Product у первого региона')\n",
    "plt.show()"
   ]
  },
  {
   "cell_type": "code",
   "execution_count": 10,
   "metadata": {},
   "outputs": [
    {
     "data": {
      "image/png": "[encoded data removed]",
      "text/plain": [
       "<Figure size 1500x800 with 1 Axes>"
      ]
     },
     "metadata": {},
     "output_type": "display_data"
    }
   ],
   "source": [
    "plt.figure(figsize=(15,8))\n",
    "sns.histplot(data=geo_data_0, x='product', kde=True)\n",
    "plt.title('Product у первого региона, расширенная версия', fontsize=20)\n",
    "plt.xlabel('Продукт', fontsize=15)\n",
    "plt.ylabel('Количество', fontsize=15)\n",
    "plt.show()"
   ]
  },
  {
   "cell_type": "markdown",
   "metadata": {},
   "source": [
    "**Второй регион**"
   ]
  },
  {
   "cell_type": "code",
   "execution_count": 11,
   "metadata": {},
   "outputs": [
    {
     "name": "stdout",
     "output_type": "stream",
     "text": [
      "<class 'pandas.core.frame.DataFrame'>\n",
      "RangeIndex: 100000 entries, 0 to 99999\n",
      "Data columns (total 5 columns):\n",
      " #   Column   Non-Null Count   Dtype  \n",
      "---  ------   --------------   -----  \n",
      " 0   id       100000 non-null  object \n",
      " 1   f0       100000 non-null  float64\n",
      " 2   f1       100000 non-null  float64\n",
      " 3   f2       100000 non-null  float64\n",
      " 4   product  100000 non-null  float64\n",
      "dtypes: float64(4), object(1)\n",
      "memory usage: 3.8+ MB\n"
     ]
    }
   ],
   "source": [
    "geo_data_1.info()"
   ]
  },
  {
   "cell_type": "code",
   "execution_count": 12,
   "metadata": {},
   "outputs": [
    {
     "data": {
      "text/html": [
       "<div>\n",
       "<style scoped>\n",
       "    .dataframe tbody tr th:only-of-type {\n",
       "        vertical-align: middle;\n",
       "    }\n",
       "\n",
       "    .dataframe tbody tr th {\n",
       "        vertical-align: top;\n",
       "    }\n",
       "\n",
       "    .dataframe thead th {\n",
       "        text-align: right;\n",
       "    }\n",
       "</style>\n",
       "<table border=\"1\" class=\"dataframe\">\n",
       "  <thead>\n",
       "    <tr style=\"text-align: right;\">\n",
       "      <th></th>\n",
       "      <th>id</th>\n",
       "      <th>f0</th>\n",
       "      <th>f1</th>\n",
       "      <th>f2</th>\n",
       "      <th>product</th>\n",
       "    </tr>\n",
       "  </thead>\n",
       "  <tbody>\n",
       "    <tr>\n",
       "      <th>0</th>\n",
       "      <td>kBEdx</td>\n",
       "      <td>-15.001348</td>\n",
       "      <td>-8.276000</td>\n",
       "      <td>-0.005876</td>\n",
       "      <td>3.179103</td>\n",
       "    </tr>\n",
       "    <tr>\n",
       "      <th>1</th>\n",
       "      <td>62mP7</td>\n",
       "      <td>14.272088</td>\n",
       "      <td>-3.475083</td>\n",
       "      <td>0.999183</td>\n",
       "      <td>26.953261</td>\n",
       "    </tr>\n",
       "    <tr>\n",
       "      <th>2</th>\n",
       "      <td>vyE1P</td>\n",
       "      <td>6.263187</td>\n",
       "      <td>-5.948386</td>\n",
       "      <td>5.001160</td>\n",
       "      <td>134.766305</td>\n",
       "    </tr>\n",
       "    <tr>\n",
       "      <th>3</th>\n",
       "      <td>KcrkZ</td>\n",
       "      <td>-13.081196</td>\n",
       "      <td>-11.506057</td>\n",
       "      <td>4.999415</td>\n",
       "      <td>137.945408</td>\n",
       "    </tr>\n",
       "    <tr>\n",
       "      <th>4</th>\n",
       "      <td>AHL4O</td>\n",
       "      <td>12.702195</td>\n",
       "      <td>-8.147433</td>\n",
       "      <td>5.004363</td>\n",
       "      <td>134.766305</td>\n",
       "    </tr>\n",
       "  </tbody>\n",
       "</table>\n",
       "</div>"
      ],
      "text/plain": [
       "      id         f0         f1        f2     product\n",
       "0  kBEdx -15.001348  -8.276000 -0.005876    3.179103\n",
       "1  62mP7  14.272088  -3.475083  0.999183   26.953261\n",
       "2  vyE1P   6.263187  -5.948386  5.001160  134.766305\n",
       "3  KcrkZ -13.081196 -11.506057  4.999415  137.945408\n",
       "4  AHL4O  12.702195  -8.147433  5.004363  134.766305"
      ]
     },
     "execution_count": 12,
     "metadata": {},
     "output_type": "execute_result"
    }
   ],
   "source": [
    "geo_data_1.head()"
   ]
  },
  {
   "cell_type": "code",
   "execution_count": 13,
   "metadata": {},
   "outputs": [
    {
     "data": {
      "text/plain": [
       "4"
      ]
     },
     "execution_count": 13,
     "metadata": {},
     "output_type": "execute_result"
    }
   ],
   "source": [
    "geo_data_1['id'].duplicated().sum()"
   ]
  },
  {
   "cell_type": "code",
   "execution_count": 14,
   "metadata": {},
   "outputs": [
    {
     "data": {
      "text/html": [
       "<div>\n",
       "<style scoped>\n",
       "    .dataframe tbody tr th:only-of-type {\n",
       "        vertical-align: middle;\n",
       "    }\n",
       "\n",
       "    .dataframe tbody tr th {\n",
       "        vertical-align: top;\n",
       "    }\n",
       "\n",
       "    .dataframe thead th {\n",
       "        text-align: right;\n",
       "    }\n",
       "</style>\n",
       "<table border=\"1\" class=\"dataframe\">\n",
       "  <thead>\n",
       "    <tr style=\"text-align: right;\">\n",
       "      <th></th>\n",
       "      <th>id</th>\n",
       "      <th>f0</th>\n",
       "      <th>f1</th>\n",
       "      <th>f2</th>\n",
       "      <th>product</th>\n",
       "    </tr>\n",
       "  </thead>\n",
       "  <tbody>\n",
       "    <tr>\n",
       "      <th>5849</th>\n",
       "      <td>5ltQ6</td>\n",
       "      <td>-3.435401</td>\n",
       "      <td>-12.296043</td>\n",
       "      <td>1.999796</td>\n",
       "      <td>57.085625</td>\n",
       "    </tr>\n",
       "    <tr>\n",
       "      <th>84461</th>\n",
       "      <td>5ltQ6</td>\n",
       "      <td>18.213839</td>\n",
       "      <td>2.191999</td>\n",
       "      <td>3.993869</td>\n",
       "      <td>107.813044</td>\n",
       "    </tr>\n",
       "    <tr>\n",
       "      <th>1305</th>\n",
       "      <td>LHZR0</td>\n",
       "      <td>11.170835</td>\n",
       "      <td>-1.945066</td>\n",
       "      <td>3.002872</td>\n",
       "      <td>80.859783</td>\n",
       "    </tr>\n",
       "    <tr>\n",
       "      <th>41906</th>\n",
       "      <td>LHZR0</td>\n",
       "      <td>-8.989672</td>\n",
       "      <td>-4.286607</td>\n",
       "      <td>2.009139</td>\n",
       "      <td>57.085625</td>\n",
       "    </tr>\n",
       "    <tr>\n",
       "      <th>2721</th>\n",
       "      <td>bfPNe</td>\n",
       "      <td>-9.494442</td>\n",
       "      <td>-5.463692</td>\n",
       "      <td>4.006042</td>\n",
       "      <td>110.992147</td>\n",
       "    </tr>\n",
       "    <tr>\n",
       "      <th>82178</th>\n",
       "      <td>bfPNe</td>\n",
       "      <td>-6.202799</td>\n",
       "      <td>-4.820045</td>\n",
       "      <td>2.995107</td>\n",
       "      <td>84.038886</td>\n",
       "    </tr>\n",
       "    <tr>\n",
       "      <th>47591</th>\n",
       "      <td>wt4Uk</td>\n",
       "      <td>-9.091098</td>\n",
       "      <td>-8.109279</td>\n",
       "      <td>-0.002314</td>\n",
       "      <td>3.179103</td>\n",
       "    </tr>\n",
       "    <tr>\n",
       "      <th>82873</th>\n",
       "      <td>wt4Uk</td>\n",
       "      <td>10.259972</td>\n",
       "      <td>-9.376355</td>\n",
       "      <td>4.994297</td>\n",
       "      <td>134.766305</td>\n",
       "    </tr>\n",
       "  </tbody>\n",
       "</table>\n",
       "</div>"
      ],
      "text/plain": [
       "          id         f0         f1        f2     product\n",
       "5849   5ltQ6  -3.435401 -12.296043  1.999796   57.085625\n",
       "84461  5ltQ6  18.213839   2.191999  3.993869  107.813044\n",
       "1305   LHZR0  11.170835  -1.945066  3.002872   80.859783\n",
       "41906  LHZR0  -8.989672  -4.286607  2.009139   57.085625\n",
       "2721   bfPNe  -9.494442  -5.463692  4.006042  110.992147\n",
       "82178  bfPNe  -6.202799  -4.820045  2.995107   84.038886\n",
       "47591  wt4Uk  -9.091098  -8.109279 -0.002314    3.179103\n",
       "82873  wt4Uk  10.259972  -9.376355  4.994297  134.766305"
      ]
     },
     "execution_count": 14,
     "metadata": {},
     "output_type": "execute_result"
    }
   ],
   "source": [
    "geo_data_1[geo_data_1['id'].duplicated(False)].sort_values('id')"
   ]
  },
  {
   "cell_type": "code",
   "execution_count": 15,
   "metadata": {},
   "outputs": [
    {
     "data": {
      "text/html": [
       "<div>\n",
       "<style scoped>\n",
       "    .dataframe tbody tr th:only-of-type {\n",
       "        vertical-align: middle;\n",
       "    }\n",
       "\n",
       "    .dataframe tbody tr th {\n",
       "        vertical-align: top;\n",
       "    }\n",
       "\n",
       "    .dataframe thead th {\n",
       "        text-align: right;\n",
       "    }\n",
       "</style>\n",
       "<table border=\"1\" class=\"dataframe\">\n",
       "  <thead>\n",
       "    <tr style=\"text-align: right;\">\n",
       "      <th></th>\n",
       "      <th>f0</th>\n",
       "      <th>f1</th>\n",
       "      <th>f2</th>\n",
       "      <th>product</th>\n",
       "    </tr>\n",
       "  </thead>\n",
       "  <tbody>\n",
       "    <tr>\n",
       "      <th>count</th>\n",
       "      <td>100000.000000</td>\n",
       "      <td>100000.000000</td>\n",
       "      <td>100000.000000</td>\n",
       "      <td>100000.000000</td>\n",
       "    </tr>\n",
       "    <tr>\n",
       "      <th>mean</th>\n",
       "      <td>1.141296</td>\n",
       "      <td>-4.796579</td>\n",
       "      <td>2.494541</td>\n",
       "      <td>68.825000</td>\n",
       "    </tr>\n",
       "    <tr>\n",
       "      <th>std</th>\n",
       "      <td>8.965932</td>\n",
       "      <td>5.119872</td>\n",
       "      <td>1.703572</td>\n",
       "      <td>45.944423</td>\n",
       "    </tr>\n",
       "    <tr>\n",
       "      <th>min</th>\n",
       "      <td>-31.609576</td>\n",
       "      <td>-26.358598</td>\n",
       "      <td>-0.018144</td>\n",
       "      <td>0.000000</td>\n",
       "    </tr>\n",
       "    <tr>\n",
       "      <th>25%</th>\n",
       "      <td>-6.298551</td>\n",
       "      <td>-8.267985</td>\n",
       "      <td>1.000021</td>\n",
       "      <td>26.953261</td>\n",
       "    </tr>\n",
       "    <tr>\n",
       "      <th>50%</th>\n",
       "      <td>1.153055</td>\n",
       "      <td>-4.813172</td>\n",
       "      <td>2.011479</td>\n",
       "      <td>57.085625</td>\n",
       "    </tr>\n",
       "    <tr>\n",
       "      <th>75%</th>\n",
       "      <td>8.621015</td>\n",
       "      <td>-1.332816</td>\n",
       "      <td>3.999904</td>\n",
       "      <td>107.813044</td>\n",
       "    </tr>\n",
       "    <tr>\n",
       "      <th>max</th>\n",
       "      <td>29.421755</td>\n",
       "      <td>18.734063</td>\n",
       "      <td>5.019721</td>\n",
       "      <td>137.945408</td>\n",
       "    </tr>\n",
       "  </tbody>\n",
       "</table>\n",
       "</div>"
      ],
      "text/plain": [
       "                  f0             f1             f2        product\n",
       "count  100000.000000  100000.000000  100000.000000  100000.000000\n",
       "mean        1.141296      -4.796579       2.494541      68.825000\n",
       "std         8.965932       5.119872       1.703572      45.944423\n",
       "min       -31.609576     -26.358598      -0.018144       0.000000\n",
       "25%        -6.298551      -8.267985       1.000021      26.953261\n",
       "50%         1.153055      -4.813172       2.011479      57.085625\n",
       "75%         8.621015      -1.332816       3.999904     107.813044\n",
       "max        29.421755      18.734063       5.019721     137.945408"
      ]
     },
     "execution_count": 15,
     "metadata": {},
     "output_type": "execute_result"
    }
   ],
   "source": [
    "geo_data_1.describe()"
   ]
  },
  {
   "cell_type": "code",
   "execution_count": 16,
   "metadata": {},
   "outputs": [
    {
     "data": {
      "image/png": "[encoded data removed]",
      "text/plain": [
       "<Figure size 900x700 with 2 Axes>"
      ]
     },
     "metadata": {},
     "output_type": "display_data"
    }
   ],
   "source": [
    "plt.figure(figsize=(9,7))\n",
    "sns.heatmap(geo_data_1.corr(), annot=True)\n",
    "plt.title('Корреляция во втором регионе')\n",
    "plt.show()"
   ]
  },
  {
   "cell_type": "markdown",
   "metadata": {},
   "source": [
    "Корреляция по шкале Чеддока:\n",
    "- Признак f0 коррелирует с f1 (слабо положительно);\n",
    "- Признак f2 коррелирует с product (весьма высоко положительно)."
   ]
  },
  {
   "cell_type": "code",
   "execution_count": 17,
   "metadata": {},
   "outputs": [
    {
     "data": {
      "image/png": "[encoded data removed]",
      "text/plain": [
       "<Figure size 400x300 with 1 Axes>"
      ]
     },
     "metadata": {},
     "output_type": "display_data"
    }
   ],
   "source": [
    "plt.figure(figsize=(4,3))\n",
    "sns.histplot(data=geo_data_1, x='product', kde=True, bins=10)\n",
    "plt.title('Product у второго региона')\n",
    "plt.xlabel('Продукт')\n",
    "plt.ylabel('Количество')\n",
    "plt.show()"
   ]
  },
  {
   "cell_type": "code",
   "execution_count": 18,
   "metadata": {
    "scrolled": false
   },
   "outputs": [
    {
     "data": {
      "image/png": "[encoded data removed]",
      "text/plain": [
       "<Figure size 700x500 with 1 Axes>"
      ]
     },
     "metadata": {},
     "output_type": "display_data"
    }
   ],
   "source": [
    "plt.figure(figsize=(7,5))\n",
    "sns.histplot(data=geo_data_1, x='product', kde=True)\n",
    "plt.title('Product у второго региона, расширенная версия')\n",
    "plt.xlabel('Продукт')\n",
    "plt.ylabel('Количество')\n",
    "plt.show()"
   ]
  },
  {
   "cell_type": "code",
   "execution_count": 19,
   "metadata": {},
   "outputs": [
    {
     "data": {
      "image/png": "[encoded data removed]",
      "text/plain": [
       "<Figure size 400x300 with 1 Axes>"
      ]
     },
     "metadata": {},
     "output_type": "display_data"
    }
   ],
   "source": [
    "plt.figure(figsize=(4,3))\n",
    "sns.histplot(data=geo_data_1, x='f2', kde=True)\n",
    "plt.title('f2 у второго региона')\n",
    "plt.xlabel('f2')\n",
    "plt.ylabel('Количество')\n",
    "plt.show()"
   ]
  },
  {
   "cell_type": "code",
   "execution_count": 20,
   "metadata": {},
   "outputs": [
    {
     "data": {
      "image/png": "[encoded data removed]",
      "text/plain": [
       "<Figure size 640x480 with 1 Axes>"
      ]
     },
     "metadata": {},
     "output_type": "display_data"
    }
   ],
   "source": [
    "sns.scatterplot(data=geo_data_1, x='f2', y='product')\n",
    "plt.title('Диаграмма рассеяния f2 и product')\n",
    "plt.show()"
   ]
  },
  {
   "cell_type": "markdown",
   "metadata": {},
   "source": [
    "**Третий регион**"
   ]
  },
  {
   "cell_type": "code",
   "execution_count": 21,
   "metadata": {},
   "outputs": [
    {
     "name": "stdout",
     "output_type": "stream",
     "text": [
      "<class 'pandas.core.frame.DataFrame'>\n",
      "RangeIndex: 100000 entries, 0 to 99999\n",
      "Data columns (total 5 columns):\n",
      " #   Column   Non-Null Count   Dtype  \n",
      "---  ------   --------------   -----  \n",
      " 0   id       100000 non-null  object \n",
      " 1   f0       100000 non-null  float64\n",
      " 2   f1       100000 non-null  float64\n",
      " 3   f2       100000 non-null  float64\n",
      " 4   product  100000 non-null  float64\n",
      "dtypes: float64(4), object(1)\n",
      "memory usage: 3.8+ MB\n"
     ]
    }
   ],
   "source": [
    "geo_data_2.info()"
   ]
  },
  {
   "cell_type": "code",
   "execution_count": 22,
   "metadata": {
    "scrolled": true
   },
   "outputs": [
    {
     "data": {
      "text/html": [
       "<div>\n",
       "<style scoped>\n",
       "    .dataframe tbody tr th:only-of-type {\n",
       "        vertical-align: middle;\n",
       "    }\n",
       "\n",
       "    .dataframe tbody tr th {\n",
       "        vertical-align: top;\n",
       "    }\n",
       "\n",
       "    .dataframe thead th {\n",
       "        text-align: right;\n",
       "    }\n",
       "</style>\n",
       "<table border=\"1\" class=\"dataframe\">\n",
       "  <thead>\n",
       "    <tr style=\"text-align: right;\">\n",
       "      <th></th>\n",
       "      <th>id</th>\n",
       "      <th>f0</th>\n",
       "      <th>f1</th>\n",
       "      <th>f2</th>\n",
       "      <th>product</th>\n",
       "    </tr>\n",
       "  </thead>\n",
       "  <tbody>\n",
       "    <tr>\n",
       "      <th>0</th>\n",
       "      <td>fwXo0</td>\n",
       "      <td>-1.146987</td>\n",
       "      <td>0.963328</td>\n",
       "      <td>-0.828965</td>\n",
       "      <td>27.758673</td>\n",
       "    </tr>\n",
       "    <tr>\n",
       "      <th>1</th>\n",
       "      <td>WJtFt</td>\n",
       "      <td>0.262778</td>\n",
       "      <td>0.269839</td>\n",
       "      <td>-2.530187</td>\n",
       "      <td>56.069697</td>\n",
       "    </tr>\n",
       "    <tr>\n",
       "      <th>2</th>\n",
       "      <td>ovLUW</td>\n",
       "      <td>0.194587</td>\n",
       "      <td>0.289035</td>\n",
       "      <td>-5.586433</td>\n",
       "      <td>62.871910</td>\n",
       "    </tr>\n",
       "    <tr>\n",
       "      <th>3</th>\n",
       "      <td>q6cA6</td>\n",
       "      <td>2.236060</td>\n",
       "      <td>-0.553760</td>\n",
       "      <td>0.930038</td>\n",
       "      <td>114.572842</td>\n",
       "    </tr>\n",
       "    <tr>\n",
       "      <th>4</th>\n",
       "      <td>WPMUX</td>\n",
       "      <td>-0.515993</td>\n",
       "      <td>1.716266</td>\n",
       "      <td>5.899011</td>\n",
       "      <td>149.600746</td>\n",
       "    </tr>\n",
       "  </tbody>\n",
       "</table>\n",
       "</div>"
      ],
      "text/plain": [
       "      id        f0        f1        f2     product\n",
       "0  fwXo0 -1.146987  0.963328 -0.828965   27.758673\n",
       "1  WJtFt  0.262778  0.269839 -2.530187   56.069697\n",
       "2  ovLUW  0.194587  0.289035 -5.586433   62.871910\n",
       "3  q6cA6  2.236060 -0.553760  0.930038  114.572842\n",
       "4  WPMUX -0.515993  1.716266  5.899011  149.600746"
      ]
     },
     "execution_count": 22,
     "metadata": {},
     "output_type": "execute_result"
    }
   ],
   "source": [
    "geo_data_2.head()"
   ]
  },
  {
   "cell_type": "code",
   "execution_count": 23,
   "metadata": {},
   "outputs": [
    {
     "data": {
      "text/plain": [
       "4"
      ]
     },
     "execution_count": 23,
     "metadata": {},
     "output_type": "execute_result"
    }
   ],
   "source": [
    "geo_data_2['id'].duplicated().sum()"
   ]
  },
  {
   "cell_type": "code",
   "execution_count": 24,
   "metadata": {},
   "outputs": [
    {
     "data": {
      "text/html": [
       "<div>\n",
       "<style scoped>\n",
       "    .dataframe tbody tr th:only-of-type {\n",
       "        vertical-align: middle;\n",
       "    }\n",
       "\n",
       "    .dataframe tbody tr th {\n",
       "        vertical-align: top;\n",
       "    }\n",
       "\n",
       "    .dataframe thead th {\n",
       "        text-align: right;\n",
       "    }\n",
       "</style>\n",
       "<table border=\"1\" class=\"dataframe\">\n",
       "  <thead>\n",
       "    <tr style=\"text-align: right;\">\n",
       "      <th></th>\n",
       "      <th>id</th>\n",
       "      <th>f0</th>\n",
       "      <th>f1</th>\n",
       "      <th>f2</th>\n",
       "      <th>product</th>\n",
       "    </tr>\n",
       "  </thead>\n",
       "  <tbody>\n",
       "    <tr>\n",
       "      <th>11449</th>\n",
       "      <td>VF7Jo</td>\n",
       "      <td>2.122656</td>\n",
       "      <td>-0.858275</td>\n",
       "      <td>5.746001</td>\n",
       "      <td>181.716817</td>\n",
       "    </tr>\n",
       "    <tr>\n",
       "      <th>28039</th>\n",
       "      <td>xCHr8</td>\n",
       "      <td>1.633027</td>\n",
       "      <td>0.368135</td>\n",
       "      <td>-2.378367</td>\n",
       "      <td>6.120525</td>\n",
       "    </tr>\n",
       "    <tr>\n",
       "      <th>43233</th>\n",
       "      <td>xCHr8</td>\n",
       "      <td>-0.847066</td>\n",
       "      <td>2.101796</td>\n",
       "      <td>5.597130</td>\n",
       "      <td>184.388641</td>\n",
       "    </tr>\n",
       "    <tr>\n",
       "      <th>44378</th>\n",
       "      <td>Vcm5J</td>\n",
       "      <td>-1.229484</td>\n",
       "      <td>-2.439204</td>\n",
       "      <td>1.222909</td>\n",
       "      <td>137.968290</td>\n",
       "    </tr>\n",
       "    <tr>\n",
       "      <th>45404</th>\n",
       "      <td>KUPhW</td>\n",
       "      <td>0.231846</td>\n",
       "      <td>-1.698941</td>\n",
       "      <td>4.990775</td>\n",
       "      <td>11.716299</td>\n",
       "    </tr>\n",
       "    <tr>\n",
       "      <th>49564</th>\n",
       "      <td>VF7Jo</td>\n",
       "      <td>-0.883115</td>\n",
       "      <td>0.560537</td>\n",
       "      <td>0.723601</td>\n",
       "      <td>136.233420</td>\n",
       "    </tr>\n",
       "    <tr>\n",
       "      <th>55967</th>\n",
       "      <td>KUPhW</td>\n",
       "      <td>1.211150</td>\n",
       "      <td>3.176408</td>\n",
       "      <td>5.543540</td>\n",
       "      <td>132.831802</td>\n",
       "    </tr>\n",
       "    <tr>\n",
       "      <th>95090</th>\n",
       "      <td>Vcm5J</td>\n",
       "      <td>2.587702</td>\n",
       "      <td>1.986875</td>\n",
       "      <td>2.482245</td>\n",
       "      <td>92.327572</td>\n",
       "    </tr>\n",
       "  </tbody>\n",
       "</table>\n",
       "</div>"
      ],
      "text/plain": [
       "          id        f0        f1        f2     product\n",
       "11449  VF7Jo  2.122656 -0.858275  5.746001  181.716817\n",
       "28039  xCHr8  1.633027  0.368135 -2.378367    6.120525\n",
       "43233  xCHr8 -0.847066  2.101796  5.597130  184.388641\n",
       "44378  Vcm5J -1.229484 -2.439204  1.222909  137.968290\n",
       "45404  KUPhW  0.231846 -1.698941  4.990775   11.716299\n",
       "49564  VF7Jo -0.883115  0.560537  0.723601  136.233420\n",
       "55967  KUPhW  1.211150  3.176408  5.543540  132.831802\n",
       "95090  Vcm5J  2.587702  1.986875  2.482245   92.327572"
      ]
     },
     "execution_count": 24,
     "metadata": {},
     "output_type": "execute_result"
    }
   ],
   "source": [
    "geo_data_2[geo_data_2['id'].duplicated(False)]"
   ]
  },
  {
   "cell_type": "code",
   "execution_count": 25,
   "metadata": {},
   "outputs": [
    {
     "data": {
      "text/html": [
       "<div>\n",
       "<style scoped>\n",
       "    .dataframe tbody tr th:only-of-type {\n",
       "        vertical-align: middle;\n",
       "    }\n",
       "\n",
       "    .dataframe tbody tr th {\n",
       "        vertical-align: top;\n",
       "    }\n",
       "\n",
       "    .dataframe thead th {\n",
       "        text-align: right;\n",
       "    }\n",
       "</style>\n",
       "<table border=\"1\" class=\"dataframe\">\n",
       "  <thead>\n",
       "    <tr style=\"text-align: right;\">\n",
       "      <th></th>\n",
       "      <th>f0</th>\n",
       "      <th>f1</th>\n",
       "      <th>f2</th>\n",
       "      <th>product</th>\n",
       "    </tr>\n",
       "  </thead>\n",
       "  <tbody>\n",
       "    <tr>\n",
       "      <th>count</th>\n",
       "      <td>100000.000000</td>\n",
       "      <td>100000.000000</td>\n",
       "      <td>100000.000000</td>\n",
       "      <td>100000.000000</td>\n",
       "    </tr>\n",
       "    <tr>\n",
       "      <th>mean</th>\n",
       "      <td>0.002023</td>\n",
       "      <td>-0.002081</td>\n",
       "      <td>2.495128</td>\n",
       "      <td>95.000000</td>\n",
       "    </tr>\n",
       "    <tr>\n",
       "      <th>std</th>\n",
       "      <td>1.732045</td>\n",
       "      <td>1.730417</td>\n",
       "      <td>3.473445</td>\n",
       "      <td>44.749921</td>\n",
       "    </tr>\n",
       "    <tr>\n",
       "      <th>min</th>\n",
       "      <td>-8.760004</td>\n",
       "      <td>-7.084020</td>\n",
       "      <td>-11.970335</td>\n",
       "      <td>0.000000</td>\n",
       "    </tr>\n",
       "    <tr>\n",
       "      <th>25%</th>\n",
       "      <td>-1.162288</td>\n",
       "      <td>-1.174820</td>\n",
       "      <td>0.130359</td>\n",
       "      <td>59.450441</td>\n",
       "    </tr>\n",
       "    <tr>\n",
       "      <th>50%</th>\n",
       "      <td>0.009424</td>\n",
       "      <td>-0.009482</td>\n",
       "      <td>2.484236</td>\n",
       "      <td>94.925613</td>\n",
       "    </tr>\n",
       "    <tr>\n",
       "      <th>75%</th>\n",
       "      <td>1.158535</td>\n",
       "      <td>1.163678</td>\n",
       "      <td>4.858794</td>\n",
       "      <td>130.595027</td>\n",
       "    </tr>\n",
       "    <tr>\n",
       "      <th>max</th>\n",
       "      <td>7.238262</td>\n",
       "      <td>7.844801</td>\n",
       "      <td>16.739402</td>\n",
       "      <td>190.029838</td>\n",
       "    </tr>\n",
       "  </tbody>\n",
       "</table>\n",
       "</div>"
      ],
      "text/plain": [
       "                  f0             f1             f2        product\n",
       "count  100000.000000  100000.000000  100000.000000  100000.000000\n",
       "mean        0.002023      -0.002081       2.495128      95.000000\n",
       "std         1.732045       1.730417       3.473445      44.749921\n",
       "min        -8.760004      -7.084020     -11.970335       0.000000\n",
       "25%        -1.162288      -1.174820       0.130359      59.450441\n",
       "50%         0.009424      -0.009482       2.484236      94.925613\n",
       "75%         1.158535       1.163678       4.858794     130.595027\n",
       "max         7.238262       7.844801      16.739402     190.029838"
      ]
     },
     "execution_count": 25,
     "metadata": {},
     "output_type": "execute_result"
    }
   ],
   "source": [
    "geo_data_2.describe()"
   ]
  },
  {
   "cell_type": "code",
   "execution_count": 26,
   "metadata": {},
   "outputs": [
    {
     "data": {
      "image/png": "[encoded data removed]",
      "text/plain": [
       "<Figure size 900x700 with 2 Axes>"
      ]
     },
     "metadata": {},
     "output_type": "display_data"
    }
   ],
   "source": [
    "plt.figure(figsize=(9,7))\n",
    "sns.heatmap(geo_data_2.corr(), annot=True)\n",
    "plt.title('Корреляция в третьем регионе')\n",
    "plt.show()"
   ]
  },
  {
   "cell_type": "markdown",
   "metadata": {},
   "source": [
    "Корреляция по шкале Чеддока:\n",
    "- Признак f2 коррелирует с product (умеренно положительно)."
   ]
  },
  {
   "cell_type": "code",
   "execution_count": 27,
   "metadata": {},
   "outputs": [
    {
     "data": {
      "image/png": "[encoded data removed]",
      "text/plain": [
       "<Figure size 400x300 with 1 Axes>"
      ]
     },
     "metadata": {},
     "output_type": "display_data"
    }
   ],
   "source": [
    "plt.figure(figsize=(4,3))\n",
    "sns.histplot(data=geo_data_2, x='product', kde=True, bins=10)\n",
    "plt.title('Product у третьего региона')\n",
    "plt.xlabel('Продукт')\n",
    "plt.ylabel('Количество')\n",
    "plt.show()"
   ]
  },
  {
   "cell_type": "code",
   "execution_count": 28,
   "metadata": {},
   "outputs": [
    {
     "data": {
      "image/png": "[encoded data removed]",
      "text/plain": [
       "<Figure size 1400x700 with 1 Axes>"
      ]
     },
     "metadata": {},
     "output_type": "display_data"
    }
   ],
   "source": [
    "plt.figure(figsize=(14,7))\n",
    "sns.histplot(data=geo_data_2, x='product', kde=True)\n",
    "plt.title('Product у третьего региона, расширенная версия')\n",
    "plt.xlabel('Продукт')\n",
    "plt.ylabel('Количество')\n",
    "plt.show()"
   ]
  },
  {
   "cell_type": "markdown",
   "metadata": {},
   "source": [
    "**Вывод:** В данных отсутствуют пропуски. Были дубликаты во всех регионах, либо была допущена ошибка в id, либо замеры были произведены несколько раз. Удалять их не буду. У первого и третьего регионов мультимодальное распределение. У второго региона - биномальное распределение.\n",
    "\n",
    "У второго региона сильная корреляция между f2 и product, то есть по f2 проще будет предсказать product.\n",
    "\n",
    "Признак id можно удалить, он не дает модели никакой ценной информации."
   ]
  },
  {
   "cell_type": "code",
   "execution_count": 29,
   "metadata": {},
   "outputs": [],
   "source": [
    "geo_data_0.drop(['id'], axis=1, inplace=True)\n",
    "geo_data_1.drop(['id'], axis=1, inplace=True)\n",
    "geo_data_2.drop(['id'], axis=1, inplace=True)"
   ]
  },
  {
   "cell_type": "markdown",
   "metadata": {},
   "source": [
    "## Обучение и проверка модели"
   ]
  },
  {
   "cell_type": "markdown",
   "metadata": {},
   "source": [
    "Условия задачи:\n",
    "- Для обучения модели подходит только линейная регрессия (остальные — недостаточно предсказуемые)."
   ]
  },
  {
   "cell_type": "code",
   "execution_count": 30,
   "metadata": {},
   "outputs": [],
   "source": [
    "def train_and_valid_split(dataframe):\n",
    "    '''\n",
    "    функция, разбивающая на обучающую и валидационную выборки\n",
    "    просто чтобы не писать один и тот же код для каждого региона\n",
    "    \n",
    "    '''\n",
    "    features = dataframe.drop(['product'], axis=1)\n",
    "    target = dataframe['product']\n",
    "    features_train, features_valid, target_train, target_valid = train_test_split(\n",
    "        features,\n",
    "        target,\n",
    "        test_size=0.2,\n",
    "        random_state=RANDOM_STATE)\n",
    "    print(features_train.shape, features_valid.shape)\n",
    "    col = ['f0', 'f1', 'f2']\n",
    "    scaler = StandardScaler()\n",
    "    scaler.fit(features_train)\n",
    "    features_train[col] = scaler.transform(features_train[col])\n",
    "    features_valid[col] = scaler.transform(features_valid[col])\n",
    "    return features_train, features_valid, target_train, target_valid\n",
    "\n",
    "\n",
    "def model_study(features_train, target_train, features_valid, target_valid):\n",
    "    '''функция, которая возвращает модель, предсказание модели и rmse'''\n",
    "    model = LinearRegression()\n",
    "    model.fit(features_train, target_train)\n",
    "    pred = model.predict(features_valid)\n",
    "    rmse = mean_squared_error(target_valid, pred)**0.5\n",
    "    print(f'RMSE = {round(rmse,3)}, средний запас предсказанного сырья = {round(pred.mean(), 2)}')\n",
    "    return model, pred, rmse"
   ]
  },
  {
   "cell_type": "markdown",
   "metadata": {},
   "source": [
    "**Модель первого региона**"
   ]
  },
  {
   "cell_type": "code",
   "execution_count": 31,
   "metadata": {
    "scrolled": true
   },
   "outputs": [
    {
     "name": "stdout",
     "output_type": "stream",
     "text": [
      "(80000, 3) (20000, 3)\n"
     ]
    }
   ],
   "source": [
    "features_train_0, features_valid_0, target_train_0, target_valid_0 = train_and_valid_split(geo_data_0)"
   ]
  },
  {
   "cell_type": "code",
   "execution_count": 32,
   "metadata": {
    "scrolled": true
   },
   "outputs": [
    {
     "name": "stdout",
     "output_type": "stream",
     "text": [
      "RMSE = 37.704, средний запас предсказанного сырья = 92.39\n"
     ]
    }
   ],
   "source": [
    "model_0, pred_0, rmse_0 = model_study(features_train_0, target_train_0, features_valid_0, target_valid_0)"
   ]
  },
  {
   "cell_type": "markdown",
   "metadata": {},
   "source": [
    "**Модель второго региона**"
   ]
  },
  {
   "cell_type": "code",
   "execution_count": 33,
   "metadata": {},
   "outputs": [
    {
     "name": "stdout",
     "output_type": "stream",
     "text": [
      "(80000, 3) (20000, 3)\n",
      "RMSE = 0.893, средний запас предсказанного сырья = 68.8\n"
     ]
    }
   ],
   "source": [
    "features_train_1, features_valid_1, target_train_1, target_valid_1 = train_and_valid_split(geo_data_1)\n",
    "model_1, pred_1, rmse_1 = model_study(features_train_1, target_train_1, features_valid_1, target_valid_1)"
   ]
  },
  {
   "cell_type": "markdown",
   "metadata": {},
   "source": [
    "**Модель третьего региона**"
   ]
  },
  {
   "cell_type": "code",
   "execution_count": 34,
   "metadata": {},
   "outputs": [
    {
     "name": "stdout",
     "output_type": "stream",
     "text": [
      "(80000, 3) (20000, 3)\n",
      "RMSE = 39.95, средний запас предсказанного сырья = 95.07\n"
     ]
    }
   ],
   "source": [
    "features_train_2, features_valid_2, target_train_2, target_valid_2 = train_and_valid_split(geo_data_2)\n",
    "model_2, pred_2, rmse_2 = model_study(features_train_2, target_train_2, features_valid_2, target_valid_2)"
   ]
  },
  {
   "cell_type": "markdown",
   "metadata": {},
   "source": [
    "**Первый регион**\n",
    "- RMSE = 37.498\n",
    "- Средний запас предсказанного сырья = 92.35\n",
    "\n",
    "**Второй регион**\n",
    "- RMSE = 0.891\n",
    "- Средний запас предсказанного сырья = 69.15\n",
    "\n",
    "**Третий регион**\n",
    "- RMSE = 40.34\n",
    "- Средний запас предсказанного сырья = 95.15"
   ]
  },
  {
   "cell_type": "markdown",
   "metadata": {},
   "source": [
    "**Вывод:** У первого и третьего региона RMSE и средний запас предсказанного сырья +- одинаковые, подозреваю, что это связано с практически одинаковым размером и распределением данных.\n",
    "\n",
    "У второго региона самый маленький RMSE и средний запас предсказанного сырья - маленькая ошибка связана с сильной корреляцией f2 и целевого признака product, а маленький средний запас предсказанного сырья связан с распределение - много скважин с маленьким запасом сырья и мало скважин с аномально большим запасом."
   ]
  },
  {
   "cell_type": "markdown",
   "metadata": {},
   "source": [
    "## Подготовка к расчёту прибыли"
   ]
  },
  {
   "cell_type": "markdown",
   "metadata": {},
   "source": [
    "Условия задачи:\n",
    "- При разведке региона исследуют 500 точек, из которых с помощью машинного обучения выбирают 200 лучших для разработки.\n",
    "- Бюджет на разработку скважин в регионе — 10 млрд рублей.\n",
    "- При нынешних ценах один баррель сырья приносит 450 рублей дохода. Доход с каждой единицы продукта составляет 450 тыс. рублей, поскольку объём указан в тысячах баррелей.\n",
    "- После оценки рисков нужно оставить лишь те регионы, в которых вероятность убытков меньше 2.5%. Среди них выбирают регион с наибольшей средней прибылью."
   ]
  },
  {
   "cell_type": "code",
   "execution_count": 35,
   "metadata": {},
   "outputs": [],
   "source": [
    "def profit_and_roi(region):\n",
    "    reg = {0: geo_data_0, 1: geo_data_1, 2: geo_data_2}\n",
    "    prod = reg[region][\"product\"].mean() \n",
    "    cost = prod * COST_OF_ONE\n",
    "    profit = cost - budget_for_one_point / 1_000\n",
    "    roi = round(profit / (budget_for_one_point / 1_000) * 100, 2)\n",
    "    print(f'Средняя добыча в {region + 1} регионе: {round(prod, 2)} тыс. баррелей')\n",
    "    print(f'Стоимость: {round(cost / 1_000, 2)} млн. руб.')\n",
    "    print(f'Средняя прибыль: {round(profit / 1_000, 2)} млн. руб.')\n",
    "    print(f'ROI: {roi} %')\n",
    "    return roi"
   ]
  },
  {
   "cell_type": "code",
   "execution_count": 36,
   "metadata": {},
   "outputs": [],
   "source": [
    "POINT = 500\n",
    "BEST = 200\n",
    "BUDGET = 10_000_000_000\n",
    "COST_OF_ONE = 450\n",
    "LOSS = 0.025"
   ]
  },
  {
   "cell_type": "code",
   "execution_count": 37,
   "metadata": {
    "scrolled": true
   },
   "outputs": [
    {
     "name": "stdout",
     "output_type": "stream",
     "text": [
      "Бюджет для одной скважины: 50 млн. руб.\n"
     ]
    }
   ],
   "source": [
    "budget_for_one_point = BUDGET / BEST\n",
    "print(f'Бюджет для одной скважины: {int(budget_for_one_point/1_000_000)} млн. руб.')"
   ]
  },
  {
   "cell_type": "code",
   "execution_count": 38,
   "metadata": {},
   "outputs": [
    {
     "name": "stdout",
     "output_type": "stream",
     "text": [
      "Достаточный объём сырья для безубыточной разработки новой скважины: 111.1 тыс. баррелей\n"
     ]
    }
   ],
   "source": [
    "print(f'Достаточный объём сырья для безубыточной разработки новой скважины: {round(budget_for_one_point / (COST_OF_ONE * 1_000), 1)} тыс. баррелей')"
   ]
  },
  {
   "cell_type": "markdown",
   "metadata": {},
   "source": [
    "**Первый регион**"
   ]
  },
  {
   "cell_type": "code",
   "execution_count": 39,
   "metadata": {},
   "outputs": [
    {
     "name": "stdout",
     "output_type": "stream",
     "text": [
      "Средняя добыча в 1 регионе: 92.5 тыс. баррелей\n",
      "Стоимость: 41.62 млн. руб.\n",
      "Средняя прибыль: -8.38 млн. руб.\n",
      "ROI: -16.75 %\n"
     ]
    }
   ],
   "source": [
    "roi_0 = profit_and_roi(0)"
   ]
  },
  {
   "cell_type": "markdown",
   "metadata": {},
   "source": [
    "**Второй регион**"
   ]
  },
  {
   "cell_type": "code",
   "execution_count": 40,
   "metadata": {},
   "outputs": [
    {
     "name": "stdout",
     "output_type": "stream",
     "text": [
      "Средняя добыча в 2 регионе: 68.83 тыс. баррелей\n",
      "Стоимость: 30.97 млн. руб.\n",
      "Средняя прибыль: -19.03 млн. руб.\n",
      "ROI: -38.06 %\n"
     ]
    }
   ],
   "source": [
    "roi_1 = profit_and_roi(1)"
   ]
  },
  {
   "cell_type": "markdown",
   "metadata": {},
   "source": [
    "**Третий регион**"
   ]
  },
  {
   "cell_type": "code",
   "execution_count": 41,
   "metadata": {},
   "outputs": [
    {
     "name": "stdout",
     "output_type": "stream",
     "text": [
      "Средняя добыча в 3 регионе: 95.0 тыс. баррелей\n",
      "Стоимость: 42.75 млн. руб.\n",
      "Средняя прибыль: -7.25 млн. руб.\n",
      "ROI: -14.5 %\n"
     ]
    }
   ],
   "source": [
    "roi_2 = profit_and_roi(2)"
   ]
  },
  {
   "cell_type": "markdown",
   "metadata": {},
   "source": [
    "**Вывод:** Если смотреть по среднему у всех регионов, то ни у одного региона не получается окупить инвестицию. Но нам нужно не все 10к скважин, где есть не только прибыльные, но и убыточные точки, а лучшие 200."
   ]
  },
  {
   "cell_type": "markdown",
   "metadata": {},
   "source": [
    "## Расчёт прибыли и рисков "
   ]
  },
  {
   "cell_type": "code",
   "execution_count": 42,
   "metadata": {},
   "outputs": [],
   "source": [
    "def best_200(target, predict):\n",
    "    predict = predict.sort_values(ascending=False)\n",
    "    target = target[predict.index][:200]\n",
    "    return target.sum() * COST_OF_ONE * 1_000 - BUDGET\n",
    "    \n",
    "def bootstrap(predict, target):\n",
    "    values = []\n",
    "    predict = pd.Series(predict, index=target.index)\n",
    "    for _ in range(1000):\n",
    "        probs_pred = predict.sample(n=POINT, replace=True, random_state=RANDOM_STATE)\n",
    "        values.append(best_200(target, probs_pred))\n",
    "        \n",
    "    values = pd.Series(values)\n",
    "    lower_values = values.quantile(0.025)\n",
    "    upper_values = values.quantile(0.975)\n",
    "    mean_values = values.mean()\n",
    "    risk_values = (values < 0).mean()\n",
    "    print(f'Средняя прибыль: {round(mean_values, 2)} руб.')\n",
    "    print(f'95%-й доверительный интервал прибыли расположен между {round(lower_values, 2)} и {round(upper_values, 2)} руб.')\n",
    "    print(f'Риск убытков: {round(risk_values * 100, 2)}%')\n",
    "    if risk_values < LOSS:\n",
    "        print('Регион рекомендован')\n",
    "    else:\n",
    "        print('Регион будет убыточным')\n",
    "        \n",
    "    "
   ]
  },
  {
   "cell_type": "markdown",
   "metadata": {},
   "source": [
    "**Первый регион**"
   ]
  },
  {
   "cell_type": "code",
   "execution_count": 43,
   "metadata": {
    "scrolled": false
   },
   "outputs": [
    {
     "name": "stdout",
     "output_type": "stream",
     "text": [
      "Средняя прибыль: 367801616.51 руб.\n",
      "95%-й доверительный интервал прибыли расположен между -133240253.73 и 861440074.9 руб.\n",
      "Риск убытков: 6.6%\n",
      "Регион будет убыточным\n"
     ]
    }
   ],
   "source": [
    "bootstrap(pred_0, target_valid_0)"
   ]
  },
  {
   "cell_type": "markdown",
   "metadata": {},
   "source": [
    "**Второй регион**"
   ]
  },
  {
   "cell_type": "code",
   "execution_count": 44,
   "metadata": {},
   "outputs": [
    {
     "name": "stdout",
     "output_type": "stream",
     "text": [
      "Средняя прибыль: 449936895.57 руб.\n",
      "95%-й доверительный интервал прибыли расположен между 68063072.54 и 861645863.77 руб.\n",
      "Риск убытков: 0.8%\n",
      "Регион рекомендован\n"
     ]
    }
   ],
   "source": [
    "bootstrap(pred_1, target_valid_1)"
   ]
  },
  {
   "cell_type": "markdown",
   "metadata": {},
   "source": [
    "**Третий регион**"
   ]
  },
  {
   "cell_type": "code",
   "execution_count": 45,
   "metadata": {},
   "outputs": [
    {
     "name": "stdout",
     "output_type": "stream",
     "text": [
      "Средняя прибыль: 394030366.53 руб.\n",
      "95%-й доверительный интервал прибыли расположен между -126744841.88 и 884060930.37 руб.\n",
      "Риск убытков: 7.6%\n",
      "Регион будет убыточным\n"
     ]
    }
   ],
   "source": [
    "bootstrap(pred_2, target_valid_2)"
   ]
  },
  {
   "cell_type": "markdown",
   "metadata": {},
   "source": [
    "**Вывод:** Единственный неубыточным оказался второй регион, при том, что у него самая большая средняя прибыль:\n",
    "- Средняя прибыль: 449936895.57 руб.\n",
    "- 95%-й доверительный интервал прибыли расположен между 68063072.54 и 861645863.77 руб..\n",
    "- Риск убытков: 0.8%."
   ]
  },
  {
   "cell_type": "markdown",
   "metadata": {},
   "source": [
    "## Общий вывод"
   ]
  },
  {
   "cell_type": "markdown",
   "metadata": {},
   "source": [
    "У первого и третьего региона наблюдается мультимодальное распределение, у второго региона бимодальное. На втором региона у целевого признака высокая положительаня зависимость с признаком f2, поэтому легче предсказать прибыль. RMSE у первого и третьего регионов +- схожи, тк. данные совпадают по размеру и распределению. Меньше всего RMSE у второго региона.\n",
    "\n",
    "Бюджет для одной скважины равен 50 млн. руб, это примерно 111.1 тыс. баррелей. Несмотря на среднюю добычу по регионам (первый регион 92.5 тыс. баррелей, второй регион 68.82 тыс. баррелей и третий регион 95.0 тыс. баррелей), второй регион оказался менее рисковый и единственный прибыльный. По итогу, второй регион имеет характеристики:\n",
    "\n",
    "- Средняя прибыль: 449936895.57 руб.\n",
    "- 95%-й доверительный интервал прибыли расположен между 68063072.54 и 861645863.77 руб..\n",
    "- Риск убытков: 0.8%."
   ]
  }
 ],
 "metadata": {
  "ExecuteTimeLog": [
   {
    "duration": 425,
    "start_time": "2023-01-14T16:41:02.504Z"
   },
   {
    "duration": 828,
    "start_time": "2023-01-14T16:41:03.438Z"
   },
   {
    "duration": 1679,
    "start_time": "2023-01-14T16:42:02.680Z"
   },
   {
    "duration": 15,
    "start_time": "2023-01-14T16:42:15.370Z"
   },
   {
    "duration": 1386,
    "start_time": "2023-01-14T16:43:36.637Z"
   },
   {
    "duration": 386,
    "start_time": "2023-01-14T16:43:38.025Z"
   },
   {
    "duration": 16,
    "start_time": "2023-01-14T16:43:38.413Z"
   },
   {
    "duration": 41436,
    "start_time": "2023-01-14T16:46:26.480Z"
   },
   {
    "duration": 26487,
    "start_time": "2023-01-14T16:47:10.451Z"
   },
   {
    "duration": 0,
    "start_time": "2023-01-14T16:47:36.940Z"
   },
   {
    "duration": 7,
    "start_time": "2023-01-14T16:47:39.772Z"
   },
   {
    "duration": 395,
    "start_time": "2023-01-14T16:47:44.606Z"
   },
   {
    "duration": 180,
    "start_time": "2023-01-14T16:49:35.167Z"
   },
   {
    "duration": 1125,
    "start_time": "2023-01-14T16:51:52.343Z"
   },
   {
    "duration": 379,
    "start_time": "2023-01-14T16:51:53.470Z"
   },
   {
    "duration": 15,
    "start_time": "2023-01-14T16:51:53.851Z"
   },
   {
    "duration": 54,
    "start_time": "2023-01-14T16:51:53.868Z"
   },
   {
    "duration": 14,
    "start_time": "2023-01-14T16:53:03.002Z"
   },
   {
    "duration": 40,
    "start_time": "2023-01-14T16:53:11.292Z"
   },
   {
    "duration": 14,
    "start_time": "2023-01-14T16:53:39.398Z"
   },
   {
    "duration": 39,
    "start_time": "2023-01-14T16:53:49.345Z"
   },
   {
    "duration": 1375,
    "start_time": "2023-01-15T10:22:21.105Z"
   },
   {
    "duration": 1633,
    "start_time": "2023-01-15T10:22:22.482Z"
   },
   {
    "duration": 24,
    "start_time": "2023-01-15T10:22:24.118Z"
   },
   {
    "duration": 53,
    "start_time": "2023-01-15T10:22:24.143Z"
   },
   {
    "duration": 742,
    "start_time": "2023-01-15T10:22:24.605Z"
   },
   {
    "duration": 699,
    "start_time": "2023-01-15T10:23:48.804Z"
   },
   {
    "duration": 617,
    "start_time": "2023-01-15T10:26:00.569Z"
   },
   {
    "duration": 694,
    "start_time": "2023-01-15T10:27:07.958Z"
   },
   {
    "duration": 9,
    "start_time": "2023-01-15T10:36:08.993Z"
   },
   {
    "duration": 1208,
    "start_time": "2023-01-15T10:36:16.955Z"
   },
   {
    "duration": 414,
    "start_time": "2023-01-15T10:36:18.165Z"
   },
   {
    "duration": 16,
    "start_time": "2023-01-15T10:36:18.581Z"
   },
   {
    "duration": 65,
    "start_time": "2023-01-15T10:36:18.599Z"
   },
   {
    "duration": 799,
    "start_time": "2023-01-15T10:36:18.666Z"
   },
   {
    "duration": 13,
    "start_time": "2023-01-15T10:36:19.467Z"
   },
   {
    "duration": 50,
    "start_time": "2023-01-15T10:36:19.482Z"
   },
   {
    "duration": 21,
    "start_time": "2023-01-15T10:36:19.534Z"
   },
   {
    "duration": 57,
    "start_time": "2023-01-15T10:36:19.557Z"
   },
   {
    "duration": 822,
    "start_time": "2023-01-15T10:36:40.282Z"
   },
   {
    "duration": 684,
    "start_time": "2023-01-15T10:36:45.205Z"
   },
   {
    "duration": 713,
    "start_time": "2023-01-15T10:36:59.828Z"
   },
   {
    "duration": 727,
    "start_time": "2023-01-15T10:37:22.933Z"
   },
   {
    "duration": 804,
    "start_time": "2023-01-15T10:37:26.273Z"
   },
   {
    "duration": 677,
    "start_time": "2023-01-15T10:38:02.920Z"
   },
   {
    "duration": 759,
    "start_time": "2023-01-15T10:38:45.464Z"
   },
   {
    "duration": 771,
    "start_time": "2023-01-15T10:38:50.348Z"
   },
   {
    "duration": 790,
    "start_time": "2023-01-15T10:38:54.053Z"
   },
   {
    "duration": 808,
    "start_time": "2023-01-15T10:38:59.199Z"
   },
   {
    "duration": 681,
    "start_time": "2023-01-15T10:39:16.653Z"
   },
   {
    "duration": 232,
    "start_time": "2023-01-15T11:04:56.901Z"
   },
   {
    "duration": 2,
    "start_time": "2023-01-15T11:05:59.836Z"
   },
   {
    "duration": 10,
    "start_time": "2023-01-15T11:07:38.451Z"
   },
   {
    "duration": 21,
    "start_time": "2023-01-15T11:08:00.608Z"
   },
   {
    "duration": 16,
    "start_time": "2023-01-15T11:08:05.645Z"
   },
   {
    "duration": 138,
    "start_time": "2023-01-15T11:08:24.982Z"
   },
   {
    "duration": 21,
    "start_time": "2023-01-15T11:08:31.870Z"
   },
   {
    "duration": 15,
    "start_time": "2023-01-15T11:09:36.900Z"
   },
   {
    "duration": 562,
    "start_time": "2023-01-15T11:13:06.205Z"
   },
   {
    "duration": 597,
    "start_time": "2023-01-15T11:13:25.874Z"
   },
   {
    "duration": 648,
    "start_time": "2023-01-15T11:13:33.537Z"
   },
   {
    "duration": 545,
    "start_time": "2023-01-15T11:13:36.059Z"
   },
   {
    "duration": 701,
    "start_time": "2023-01-15T11:14:51.131Z"
   },
   {
    "duration": 723,
    "start_time": "2023-01-15T11:15:02.886Z"
   },
   {
    "duration": 583,
    "start_time": "2023-01-15T11:15:08.019Z"
   },
   {
    "duration": 543,
    "start_time": "2023-01-15T11:15:15.934Z"
   },
   {
    "duration": 698,
    "start_time": "2023-01-15T11:15:33.479Z"
   },
   {
    "duration": 844,
    "start_time": "2023-01-15T11:16:03.425Z"
   },
   {
    "duration": 561,
    "start_time": "2023-01-15T11:16:07.918Z"
   },
   {
    "duration": 599,
    "start_time": "2023-01-15T11:16:31.996Z"
   },
   {
    "duration": 620,
    "start_time": "2023-01-15T11:17:51.442Z"
   },
   {
    "duration": 1363,
    "start_time": "2023-01-15T11:18:01.514Z"
   },
   {
    "duration": 372,
    "start_time": "2023-01-15T11:18:02.879Z"
   },
   {
    "duration": 17,
    "start_time": "2023-01-15T11:18:03.253Z"
   },
   {
    "duration": 65,
    "start_time": "2023-01-15T11:18:03.271Z"
   },
   {
    "duration": 9,
    "start_time": "2023-01-15T11:18:03.340Z"
   },
   {
    "duration": 53,
    "start_time": "2023-01-15T11:18:03.351Z"
   },
   {
    "duration": 583,
    "start_time": "2023-01-15T11:18:03.406Z"
   },
   {
    "duration": 796,
    "start_time": "2023-01-15T11:18:03.991Z"
   },
   {
    "duration": 14,
    "start_time": "2023-01-15T11:18:04.788Z"
   },
   {
    "duration": 37,
    "start_time": "2023-01-15T11:18:04.814Z"
   },
   {
    "duration": 620,
    "start_time": "2023-01-15T11:18:04.852Z"
   },
   {
    "duration": 672,
    "start_time": "2023-01-15T11:18:05.474Z"
   },
   {
    "duration": 14,
    "start_time": "2023-01-15T11:18:06.148Z"
   },
   {
    "duration": 33,
    "start_time": "2023-01-15T11:18:06.164Z"
   },
   {
    "duration": 585,
    "start_time": "2023-01-15T11:18:06.199Z"
   },
   {
    "duration": 856,
    "start_time": "2023-01-15T11:18:06.786Z"
   },
   {
    "duration": 123,
    "start_time": "2023-01-15T11:18:07.645Z"
   },
   {
    "duration": 6,
    "start_time": "2023-01-15T11:19:41.206Z"
   },
   {
    "duration": 3,
    "start_time": "2023-01-15T11:19:53.171Z"
   },
   {
    "duration": 11,
    "start_time": "2023-01-15T11:19:55.935Z"
   },
   {
    "duration": 17,
    "start_time": "2023-01-15T11:26:30.169Z"
   },
   {
    "duration": 21,
    "start_time": "2023-01-15T11:27:21.472Z"
   },
   {
    "duration": 10,
    "start_time": "2023-01-15T11:28:17.632Z"
   },
   {
    "duration": 33,
    "start_time": "2023-01-15T11:29:12.252Z"
   },
   {
    "duration": 33,
    "start_time": "2023-01-15T11:29:28.010Z"
   },
   {
    "duration": 43,
    "start_time": "2023-01-15T11:29:30.937Z"
   },
   {
    "duration": 9,
    "start_time": "2023-01-15T11:29:55.094Z"
   },
   {
    "duration": 25,
    "start_time": "2023-01-15T11:30:20.418Z"
   },
   {
    "duration": 21,
    "start_time": "2023-01-15T11:30:48.957Z"
   },
   {
    "duration": 15,
    "start_time": "2023-01-15T11:31:04.645Z"
   },
   {
    "duration": 11,
    "start_time": "2023-01-15T11:31:09.406Z"
   },
   {
    "duration": 20,
    "start_time": "2023-01-15T11:31:14.183Z"
   },
   {
    "duration": 20,
    "start_time": "2023-01-15T11:31:34.168Z"
   },
   {
    "duration": 10,
    "start_time": "2023-01-15T11:32:05.039Z"
   },
   {
    "duration": 19,
    "start_time": "2023-01-15T11:32:35.188Z"
   },
   {
    "duration": 29,
    "start_time": "2023-01-15T11:32:38.168Z"
   },
   {
    "duration": 20,
    "start_time": "2023-01-15T11:32:41.322Z"
   },
   {
    "duration": 27,
    "start_time": "2023-01-15T11:33:12.971Z"
   },
   {
    "duration": 1374,
    "start_time": "2023-01-15T11:38:20.172Z"
   },
   {
    "duration": 347,
    "start_time": "2023-01-15T11:38:21.548Z"
   },
   {
    "duration": 20,
    "start_time": "2023-01-15T11:38:21.897Z"
   },
   {
    "duration": 23,
    "start_time": "2023-01-15T11:38:21.920Z"
   },
   {
    "duration": 29,
    "start_time": "2023-01-15T11:38:21.945Z"
   },
   {
    "duration": 25,
    "start_time": "2023-01-15T11:38:21.976Z"
   },
   {
    "duration": 16,
    "start_time": "2023-01-15T11:38:22.002Z"
   },
   {
    "duration": 25,
    "start_time": "2023-01-15T11:38:22.019Z"
   },
   {
    "duration": 35,
    "start_time": "2023-01-15T11:38:22.046Z"
   },
   {
    "duration": 717,
    "start_time": "2023-01-15T11:38:22.083Z"
   },
   {
    "duration": 773,
    "start_time": "2023-01-15T11:38:22.802Z"
   },
   {
    "duration": 15,
    "start_time": "2023-01-15T11:38:23.576Z"
   },
   {
    "duration": 22,
    "start_time": "2023-01-15T11:38:23.592Z"
   },
   {
    "duration": 22,
    "start_time": "2023-01-15T11:38:23.617Z"
   },
   {
    "duration": 26,
    "start_time": "2023-01-15T11:38:23.641Z"
   },
   {
    "duration": 21,
    "start_time": "2023-01-15T11:38:23.669Z"
   },
   {
    "duration": 52,
    "start_time": "2023-01-15T11:38:23.692Z"
   },
   {
    "duration": 611,
    "start_time": "2023-01-15T11:38:23.745Z"
   },
   {
    "duration": 695,
    "start_time": "2023-01-15T11:38:24.358Z"
   },
   {
    "duration": 14,
    "start_time": "2023-01-15T11:38:25.055Z"
   },
   {
    "duration": 9,
    "start_time": "2023-01-15T11:38:25.070Z"
   },
   {
    "duration": 45,
    "start_time": "2023-01-15T11:38:25.081Z"
   },
   {
    "duration": 30,
    "start_time": "2023-01-15T11:38:25.127Z"
   },
   {
    "duration": 24,
    "start_time": "2023-01-15T11:38:25.159Z"
   },
   {
    "duration": 44,
    "start_time": "2023-01-15T11:38:25.185Z"
   },
   {
    "duration": 550,
    "start_time": "2023-01-15T11:38:25.231Z"
   },
   {
    "duration": 773,
    "start_time": "2023-01-15T11:38:25.783Z"
   },
   {
    "duration": 4,
    "start_time": "2023-01-15T11:38:26.557Z"
   },
   {
    "duration": 141,
    "start_time": "2023-01-15T11:38:26.562Z"
   },
   {
    "duration": 17,
    "start_time": "2023-01-15T11:39:16.275Z"
   },
   {
    "duration": 13,
    "start_time": "2023-01-15T11:39:29.144Z"
   },
   {
    "duration": 4,
    "start_time": "2023-01-15T11:46:33.551Z"
   },
   {
    "duration": 4,
    "start_time": "2023-01-15T11:47:03.386Z"
   },
   {
    "duration": 4,
    "start_time": "2023-01-15T11:47:31.555Z"
   },
   {
    "duration": 4,
    "start_time": "2023-01-15T11:48:37.633Z"
   },
   {
    "duration": 4,
    "start_time": "2023-01-15T11:48:51.370Z"
   },
   {
    "duration": 22,
    "start_time": "2023-01-15T11:48:51.669Z"
   },
   {
    "duration": 4,
    "start_time": "2023-01-15T11:49:08.274Z"
   },
   {
    "duration": 1371,
    "start_time": "2023-01-15T11:49:20.804Z"
   },
   {
    "duration": 358,
    "start_time": "2023-01-15T11:49:22.177Z"
   },
   {
    "duration": 15,
    "start_time": "2023-01-15T11:49:22.537Z"
   },
   {
    "duration": 13,
    "start_time": "2023-01-15T11:49:22.554Z"
   },
   {
    "duration": 21,
    "start_time": "2023-01-15T11:49:22.569Z"
   },
   {
    "duration": 23,
    "start_time": "2023-01-15T11:49:22.613Z"
   },
   {
    "duration": 19,
    "start_time": "2023-01-15T11:49:22.638Z"
   },
   {
    "duration": 26,
    "start_time": "2023-01-15T11:49:22.659Z"
   },
   {
    "duration": 58,
    "start_time": "2023-01-15T11:49:22.687Z"
   },
   {
    "duration": 666,
    "start_time": "2023-01-15T11:49:22.747Z"
   },
   {
    "duration": 656,
    "start_time": "2023-01-15T11:49:23.414Z"
   },
   {
    "duration": 16,
    "start_time": "2023-01-15T11:49:24.072Z"
   },
   {
    "duration": 24,
    "start_time": "2023-01-15T11:49:24.090Z"
   },
   {
    "duration": 20,
    "start_time": "2023-01-15T11:49:24.117Z"
   },
   {
    "duration": 25,
    "start_time": "2023-01-15T11:49:24.140Z"
   },
   {
    "duration": 24,
    "start_time": "2023-01-15T11:49:24.166Z"
   },
   {
    "duration": 53,
    "start_time": "2023-01-15T11:49:24.192Z"
   },
   {
    "duration": 674,
    "start_time": "2023-01-15T11:49:24.247Z"
   },
   {
    "duration": 724,
    "start_time": "2023-01-15T11:49:24.923Z"
   },
   {
    "duration": 13,
    "start_time": "2023-01-15T11:49:25.649Z"
   },
   {
    "duration": 16,
    "start_time": "2023-01-15T11:49:25.663Z"
   },
   {
    "duration": 34,
    "start_time": "2023-01-15T11:49:25.680Z"
   },
   {
    "duration": 25,
    "start_time": "2023-01-15T11:49:25.716Z"
   },
   {
    "duration": 25,
    "start_time": "2023-01-15T11:49:25.743Z"
   },
   {
    "duration": 49,
    "start_time": "2023-01-15T11:49:25.769Z"
   },
   {
    "duration": 559,
    "start_time": "2023-01-15T11:49:25.819Z"
   },
   {
    "duration": 786,
    "start_time": "2023-01-15T11:49:26.380Z"
   },
   {
    "duration": 4,
    "start_time": "2023-01-15T11:49:27.168Z"
   },
   {
    "duration": 156,
    "start_time": "2023-01-15T11:49:27.174Z"
   },
   {
    "duration": 3,
    "start_time": "2023-01-15T11:49:46.263Z"
   },
   {
    "duration": 22,
    "start_time": "2023-01-15T11:49:46.563Z"
   },
   {
    "duration": 1394,
    "start_time": "2023-01-15T11:49:51.979Z"
   },
   {
    "duration": 351,
    "start_time": "2023-01-15T11:49:53.376Z"
   },
   {
    "duration": 15,
    "start_time": "2023-01-15T11:49:53.728Z"
   },
   {
    "duration": 13,
    "start_time": "2023-01-15T11:49:53.744Z"
   },
   {
    "duration": 22,
    "start_time": "2023-01-15T11:49:53.760Z"
   },
   {
    "duration": 45,
    "start_time": "2023-01-15T11:49:53.783Z"
   },
   {
    "duration": 28,
    "start_time": "2023-01-15T11:49:53.830Z"
   },
   {
    "duration": 50,
    "start_time": "2023-01-15T11:49:53.860Z"
   },
   {
    "duration": 38,
    "start_time": "2023-01-15T11:49:53.912Z"
   },
   {
    "duration": 637,
    "start_time": "2023-01-15T11:49:53.951Z"
   },
   {
    "duration": 840,
    "start_time": "2023-01-15T11:49:54.590Z"
   },
   {
    "duration": 14,
    "start_time": "2023-01-15T11:49:55.432Z"
   },
   {
    "duration": 21,
    "start_time": "2023-01-15T11:49:55.448Z"
   },
   {
    "duration": 26,
    "start_time": "2023-01-15T11:49:55.471Z"
   },
   {
    "duration": 26,
    "start_time": "2023-01-15T11:49:55.499Z"
   },
   {
    "duration": 28,
    "start_time": "2023-01-15T11:49:55.526Z"
   },
   {
    "duration": 37,
    "start_time": "2023-01-15T11:49:55.556Z"
   },
   {
    "duration": 583,
    "start_time": "2023-01-15T11:49:55.594Z"
   },
   {
    "duration": 653,
    "start_time": "2023-01-15T11:49:56.178Z"
   },
   {
    "duration": 15,
    "start_time": "2023-01-15T11:49:56.832Z"
   },
   {
    "duration": 34,
    "start_time": "2023-01-15T11:49:56.849Z"
   },
   {
    "duration": 23,
    "start_time": "2023-01-15T11:49:56.885Z"
   },
   {
    "duration": 38,
    "start_time": "2023-01-15T11:49:56.910Z"
   },
   {
    "duration": 54,
    "start_time": "2023-01-15T11:49:56.950Z"
   },
   {
    "duration": 35,
    "start_time": "2023-01-15T11:49:57.006Z"
   },
   {
    "duration": 665,
    "start_time": "2023-01-15T11:49:57.043Z"
   },
   {
    "duration": 765,
    "start_time": "2023-01-15T11:49:57.710Z"
   },
   {
    "duration": 5,
    "start_time": "2023-01-15T11:49:58.477Z"
   },
   {
    "duration": 38,
    "start_time": "2023-01-15T11:49:58.483Z"
   },
   {
    "duration": 4,
    "start_time": "2023-01-15T11:56:16.295Z"
   },
   {
    "duration": 20,
    "start_time": "2023-01-15T11:56:16.670Z"
   },
   {
    "duration": 4,
    "start_time": "2023-01-15T11:57:56.580Z"
   },
   {
    "duration": 21,
    "start_time": "2023-01-15T11:57:56.914Z"
   },
   {
    "duration": 21,
    "start_time": "2023-01-15T11:58:45.936Z"
   },
   {
    "duration": 14,
    "start_time": "2023-01-15T12:04:24.919Z"
   },
   {
    "duration": 4,
    "start_time": "2023-01-15T12:04:56.844Z"
   },
   {
    "duration": 3,
    "start_time": "2023-01-15T12:05:01.459Z"
   },
   {
    "duration": 35,
    "start_time": "2023-01-15T12:05:25.334Z"
   },
   {
    "duration": 11,
    "start_time": "2023-01-15T12:05:33.462Z"
   },
   {
    "duration": 35,
    "start_time": "2023-01-15T12:05:48.881Z"
   },
   {
    "duration": 1414,
    "start_time": "2023-01-15T12:06:00.510Z"
   },
   {
    "duration": 353,
    "start_time": "2023-01-15T12:06:01.926Z"
   },
   {
    "duration": 16,
    "start_time": "2023-01-15T12:06:02.281Z"
   },
   {
    "duration": 47,
    "start_time": "2023-01-15T12:06:02.299Z"
   },
   {
    "duration": 49,
    "start_time": "2023-01-15T12:06:02.349Z"
   },
   {
    "duration": 29,
    "start_time": "2023-01-15T12:06:02.401Z"
   },
   {
    "duration": 23,
    "start_time": "2023-01-15T12:06:02.432Z"
   },
   {
    "duration": 43,
    "start_time": "2023-01-15T12:06:02.458Z"
   },
   {
    "duration": 37,
    "start_time": "2023-01-15T12:06:02.503Z"
   },
   {
    "duration": 630,
    "start_time": "2023-01-15T12:06:02.542Z"
   },
   {
    "duration": 692,
    "start_time": "2023-01-15T12:06:03.173Z"
   },
   {
    "duration": 13,
    "start_time": "2023-01-15T12:06:03.867Z"
   },
   {
    "duration": 9,
    "start_time": "2023-01-15T12:06:03.882Z"
   },
   {
    "duration": 34,
    "start_time": "2023-01-15T12:06:03.893Z"
   },
   {
    "duration": 25,
    "start_time": "2023-01-15T12:06:03.929Z"
   },
   {
    "duration": 34,
    "start_time": "2023-01-15T12:06:03.956Z"
   },
   {
    "duration": 43,
    "start_time": "2023-01-15T12:06:03.992Z"
   },
   {
    "duration": 733,
    "start_time": "2023-01-15T12:06:04.037Z"
   },
   {
    "duration": 714,
    "start_time": "2023-01-15T12:06:04.773Z"
   },
   {
    "duration": 14,
    "start_time": "2023-01-15T12:06:05.489Z"
   },
   {
    "duration": 9,
    "start_time": "2023-01-15T12:06:05.513Z"
   },
   {
    "duration": 41,
    "start_time": "2023-01-15T12:06:05.524Z"
   },
   {
    "duration": 47,
    "start_time": "2023-01-15T12:06:05.566Z"
   },
   {
    "duration": 38,
    "start_time": "2023-01-15T12:06:05.615Z"
   },
   {
    "duration": 38,
    "start_time": "2023-01-15T12:06:05.655Z"
   },
   {
    "duration": 821,
    "start_time": "2023-01-15T12:06:05.695Z"
   },
   {
    "duration": 689,
    "start_time": "2023-01-15T12:06:06.518Z"
   },
   {
    "duration": 4,
    "start_time": "2023-01-15T12:06:07.209Z"
   },
   {
    "duration": 19,
    "start_time": "2023-01-15T12:06:07.215Z"
   },
   {
    "duration": 3,
    "start_time": "2023-01-15T12:06:07.236Z"
   },
   {
    "duration": 3,
    "start_time": "2023-01-15T12:06:23.589Z"
   },
   {
    "duration": 1398,
    "start_time": "2023-01-15T12:06:28.478Z"
   },
   {
    "duration": 345,
    "start_time": "2023-01-15T12:06:29.878Z"
   },
   {
    "duration": 15,
    "start_time": "2023-01-15T12:06:30.225Z"
   },
   {
    "duration": 36,
    "start_time": "2023-01-15T12:06:30.241Z"
   },
   {
    "duration": 71,
    "start_time": "2023-01-15T12:06:30.279Z"
   },
   {
    "duration": 72,
    "start_time": "2023-01-15T12:06:30.352Z"
   },
   {
    "duration": 29,
    "start_time": "2023-01-15T12:06:30.426Z"
   },
   {
    "duration": 47,
    "start_time": "2023-01-15T12:06:30.458Z"
   },
   {
    "duration": 125,
    "start_time": "2023-01-15T12:06:30.507Z"
   },
   {
    "duration": 562,
    "start_time": "2023-01-15T12:06:30.634Z"
   },
   {
    "duration": 677,
    "start_time": "2023-01-15T12:06:31.198Z"
   },
   {
    "duration": 14,
    "start_time": "2023-01-15T12:06:31.877Z"
   },
   {
    "duration": 81,
    "start_time": "2023-01-15T12:06:31.895Z"
   },
   {
    "duration": 114,
    "start_time": "2023-01-15T12:06:31.979Z"
   },
   {
    "duration": 26,
    "start_time": "2023-01-15T12:06:32.095Z"
   },
   {
    "duration": 41,
    "start_time": "2023-01-15T12:06:32.122Z"
   },
   {
    "duration": 34,
    "start_time": "2023-01-15T12:06:32.165Z"
   },
   {
    "duration": 671,
    "start_time": "2023-01-15T12:06:32.200Z"
   },
   {
    "duration": 668,
    "start_time": "2023-01-15T12:06:32.873Z"
   },
   {
    "duration": 13,
    "start_time": "2023-01-15T12:06:33.542Z"
   },
   {
    "duration": 9,
    "start_time": "2023-01-15T12:06:33.557Z"
   },
   {
    "duration": 39,
    "start_time": "2023-01-15T12:06:33.568Z"
   },
   {
    "duration": 30,
    "start_time": "2023-01-15T12:06:33.609Z"
   },
   {
    "duration": 25,
    "start_time": "2023-01-15T12:06:33.640Z"
   },
   {
    "duration": 46,
    "start_time": "2023-01-15T12:06:33.667Z"
   },
   {
    "duration": 656,
    "start_time": "2023-01-15T12:06:33.715Z"
   },
   {
    "duration": 711,
    "start_time": "2023-01-15T12:06:34.373Z"
   },
   {
    "duration": 5,
    "start_time": "2023-01-15T12:06:35.086Z"
   },
   {
    "duration": 41,
    "start_time": "2023-01-15T12:06:35.093Z"
   },
   {
    "duration": 8,
    "start_time": "2023-01-15T12:06:35.137Z"
   },
   {
    "duration": 4,
    "start_time": "2023-01-15T12:14:06.506Z"
   },
   {
    "duration": 24,
    "start_time": "2023-01-15T12:14:07.556Z"
   },
   {
    "duration": 4,
    "start_time": "2023-01-15T12:14:18.079Z"
   },
   {
    "duration": 5,
    "start_time": "2023-01-15T12:15:47.784Z"
   },
   {
    "duration": 160,
    "start_time": "2023-01-15T12:15:48.196Z"
   },
   {
    "duration": 4,
    "start_time": "2023-01-15T12:15:48.607Z"
   },
   {
    "duration": 5,
    "start_time": "2023-01-15T12:16:40.376Z"
   },
   {
    "duration": 30,
    "start_time": "2023-01-15T12:16:40.864Z"
   },
   {
    "duration": 4,
    "start_time": "2023-01-15T12:17:21.801Z"
   },
   {
    "duration": 23,
    "start_time": "2023-01-15T12:17:22.364Z"
   },
   {
    "duration": 4,
    "start_time": "2023-01-15T12:17:23.264Z"
   },
   {
    "duration": 5,
    "start_time": "2023-01-15T12:17:33.168Z"
   },
   {
    "duration": 11,
    "start_time": "2023-01-15T12:19:43.620Z"
   },
   {
    "duration": 1373,
    "start_time": "2023-01-15T12:20:12.715Z"
   },
   {
    "duration": 381,
    "start_time": "2023-01-15T12:20:14.090Z"
   },
   {
    "duration": 17,
    "start_time": "2023-01-15T12:20:14.475Z"
   },
   {
    "duration": 24,
    "start_time": "2023-01-15T12:20:14.494Z"
   },
   {
    "duration": 28,
    "start_time": "2023-01-15T12:20:14.520Z"
   },
   {
    "duration": 28,
    "start_time": "2023-01-15T12:20:14.550Z"
   },
   {
    "duration": 14,
    "start_time": "2023-01-15T12:20:14.579Z"
   },
   {
    "duration": 49,
    "start_time": "2023-01-15T12:20:14.595Z"
   },
   {
    "duration": 44,
    "start_time": "2023-01-15T12:20:14.645Z"
   },
   {
    "duration": 619,
    "start_time": "2023-01-15T12:20:14.691Z"
   },
   {
    "duration": 660,
    "start_time": "2023-01-15T12:20:15.312Z"
   },
   {
    "duration": 14,
    "start_time": "2023-01-15T12:20:15.974Z"
   },
   {
    "duration": 14,
    "start_time": "2023-01-15T12:20:15.990Z"
   },
   {
    "duration": 30,
    "start_time": "2023-01-15T12:20:16.013Z"
   },
   {
    "duration": 25,
    "start_time": "2023-01-15T12:20:16.044Z"
   },
   {
    "duration": 36,
    "start_time": "2023-01-15T12:20:16.071Z"
   },
   {
    "duration": 34,
    "start_time": "2023-01-15T12:20:16.109Z"
   },
   {
    "duration": 643,
    "start_time": "2023-01-15T12:20:16.144Z"
   },
   {
    "duration": 682,
    "start_time": "2023-01-15T12:20:16.789Z"
   },
   {
    "duration": 14,
    "start_time": "2023-01-15T12:20:17.473Z"
   },
   {
    "duration": 24,
    "start_time": "2023-01-15T12:20:17.489Z"
   },
   {
    "duration": 19,
    "start_time": "2023-01-15T12:20:17.515Z"
   },
   {
    "duration": 27,
    "start_time": "2023-01-15T12:20:17.536Z"
   },
   {
    "duration": 27,
    "start_time": "2023-01-15T12:20:17.565Z"
   },
   {
    "duration": 60,
    "start_time": "2023-01-15T12:20:17.593Z"
   },
   {
    "duration": 623,
    "start_time": "2023-01-15T12:20:17.655Z"
   },
   {
    "duration": 701,
    "start_time": "2023-01-15T12:20:18.280Z"
   },
   {
    "duration": 4,
    "start_time": "2023-01-15T12:20:18.983Z"
   },
   {
    "duration": 33,
    "start_time": "2023-01-15T12:20:18.989Z"
   },
   {
    "duration": 3,
    "start_time": "2023-01-15T12:20:19.024Z"
   },
   {
    "duration": 4,
    "start_time": "2023-01-15T12:20:30.845Z"
   },
   {
    "duration": 4,
    "start_time": "2023-01-15T12:20:32.915Z"
   },
   {
    "duration": 4,
    "start_time": "2023-01-15T12:20:52.358Z"
   },
   {
    "duration": 28,
    "start_time": "2023-01-15T12:20:52.657Z"
   },
   {
    "duration": 11,
    "start_time": "2023-01-15T12:20:53.218Z"
   },
   {
    "duration": 5,
    "start_time": "2023-01-15T12:21:37.745Z"
   },
   {
    "duration": 26,
    "start_time": "2023-01-15T12:21:38.082Z"
   },
   {
    "duration": 4,
    "start_time": "2023-01-15T12:21:51.496Z"
   },
   {
    "duration": 26,
    "start_time": "2023-01-15T12:21:52.529Z"
   },
   {
    "duration": 3,
    "start_time": "2023-01-15T12:22:15.570Z"
   },
   {
    "duration": 1427,
    "start_time": "2023-01-15T12:22:20.321Z"
   },
   {
    "duration": 357,
    "start_time": "2023-01-15T12:22:21.751Z"
   },
   {
    "duration": 18,
    "start_time": "2023-01-15T12:22:22.109Z"
   },
   {
    "duration": 42,
    "start_time": "2023-01-15T12:22:22.129Z"
   },
   {
    "duration": 33,
    "start_time": "2023-01-15T12:22:22.174Z"
   },
   {
    "duration": 24,
    "start_time": "2023-01-15T12:22:22.209Z"
   },
   {
    "duration": 15,
    "start_time": "2023-01-15T12:22:22.235Z"
   },
   {
    "duration": 37,
    "start_time": "2023-01-15T12:22:22.252Z"
   },
   {
    "duration": 42,
    "start_time": "2023-01-15T12:22:22.291Z"
   },
   {
    "duration": 667,
    "start_time": "2023-01-15T12:22:22.335Z"
   },
   {
    "duration": 766,
    "start_time": "2023-01-15T12:22:23.004Z"
   },
   {
    "duration": 13,
    "start_time": "2023-01-15T12:22:23.772Z"
   },
   {
    "duration": 9,
    "start_time": "2023-01-15T12:22:23.787Z"
   },
   {
    "duration": 30,
    "start_time": "2023-01-15T12:22:23.799Z"
   },
   {
    "duration": 33,
    "start_time": "2023-01-15T12:22:23.831Z"
   },
   {
    "duration": 35,
    "start_time": "2023-01-15T12:22:23.866Z"
   },
   {
    "duration": 40,
    "start_time": "2023-01-15T12:22:23.903Z"
   },
   {
    "duration": 614,
    "start_time": "2023-01-15T12:22:23.944Z"
   },
   {
    "duration": 684,
    "start_time": "2023-01-15T12:22:24.560Z"
   },
   {
    "duration": 14,
    "start_time": "2023-01-15T12:22:25.246Z"
   },
   {
    "duration": 10,
    "start_time": "2023-01-15T12:22:25.261Z"
   },
   {
    "duration": 37,
    "start_time": "2023-01-15T12:22:25.273Z"
   },
   {
    "duration": 33,
    "start_time": "2023-01-15T12:22:25.312Z"
   },
   {
    "duration": 34,
    "start_time": "2023-01-15T12:22:25.347Z"
   },
   {
    "duration": 37,
    "start_time": "2023-01-15T12:22:25.382Z"
   },
   {
    "duration": 648,
    "start_time": "2023-01-15T12:22:25.423Z"
   },
   {
    "duration": 697,
    "start_time": "2023-01-15T12:22:26.073Z"
   },
   {
    "duration": 5,
    "start_time": "2023-01-15T12:22:26.771Z"
   },
   {
    "duration": 36,
    "start_time": "2023-01-15T12:22:26.778Z"
   },
   {
    "duration": 11,
    "start_time": "2023-01-15T12:22:26.816Z"
   },
   {
    "duration": 5,
    "start_time": "2023-01-15T12:22:26.829Z"
   },
   {
    "duration": 352,
    "start_time": "2023-01-15T12:28:10.622Z"
   },
   {
    "duration": 266,
    "start_time": "2023-01-15T12:28:22.822Z"
   },
   {
    "duration": 320,
    "start_time": "2023-01-15T12:28:29.414Z"
   },
   {
    "duration": 316,
    "start_time": "2023-01-15T12:28:52.535Z"
   },
   {
    "duration": 326,
    "start_time": "2023-01-15T12:28:59.911Z"
   },
   {
    "duration": 357,
    "start_time": "2023-01-15T12:29:05.787Z"
   },
   {
    "duration": 363,
    "start_time": "2023-01-15T12:29:10.016Z"
   },
   {
    "duration": 334,
    "start_time": "2023-01-15T12:29:19.591Z"
   },
   {
    "duration": 420,
    "start_time": "2023-01-15T12:29:25.006Z"
   },
   {
    "duration": 331,
    "start_time": "2023-01-15T12:30:32.791Z"
   },
   {
    "duration": 323,
    "start_time": "2023-01-15T12:30:55.177Z"
   },
   {
    "duration": 333,
    "start_time": "2023-01-15T12:32:03.658Z"
   },
   {
    "duration": 351,
    "start_time": "2023-01-15T12:32:18.496Z"
   },
   {
    "duration": 288,
    "start_time": "2023-01-15T12:32:35.241Z"
   },
   {
    "duration": 114,
    "start_time": "2023-01-15T12:41:19.569Z"
   },
   {
    "duration": 290,
    "start_time": "2023-01-15T12:41:27.719Z"
   },
   {
    "duration": 301,
    "start_time": "2023-01-15T12:43:01.686Z"
   },
   {
    "duration": 317,
    "start_time": "2023-01-15T12:43:07.019Z"
   },
   {
    "duration": 309,
    "start_time": "2023-01-15T12:43:10.917Z"
   },
   {
    "duration": 120,
    "start_time": "2023-01-15T12:43:26.332Z"
   },
   {
    "duration": 767,
    "start_time": "2023-01-15T12:43:47.534Z"
   },
   {
    "duration": 824,
    "start_time": "2023-01-15T12:43:54.903Z"
   },
   {
    "duration": 715,
    "start_time": "2023-01-15T12:43:58.541Z"
   },
   {
    "duration": 681,
    "start_time": "2023-01-15T12:44:04.293Z"
   },
   {
    "duration": 596,
    "start_time": "2023-01-15T12:44:15.431Z"
   },
   {
    "duration": 694,
    "start_time": "2023-01-15T12:45:48.034Z"
   },
   {
    "duration": 18,
    "start_time": "2023-01-15T12:46:12.899Z"
   },
   {
    "duration": 21,
    "start_time": "2023-01-15T12:48:00.390Z"
   },
   {
    "duration": 16,
    "start_time": "2023-01-15T12:48:02.973Z"
   },
   {
    "duration": 1268,
    "start_time": "2023-01-15T12:49:22.381Z"
   },
   {
    "duration": 1272,
    "start_time": "2023-01-15T12:49:35.222Z"
   },
   {
    "duration": 1179,
    "start_time": "2023-01-15T12:49:48.581Z"
   },
   {
    "duration": 1127,
    "start_time": "2023-01-15T12:51:01.913Z"
   },
   {
    "duration": 1408,
    "start_time": "2023-01-15T12:51:29.298Z"
   },
   {
    "duration": 1478,
    "start_time": "2023-01-15T12:51:36.076Z"
   },
   {
    "duration": 1016,
    "start_time": "2023-01-15T12:51:40.412Z"
   },
   {
    "duration": 1105,
    "start_time": "2023-01-15T12:51:53.249Z"
   },
   {
    "duration": 720,
    "start_time": "2023-01-15T12:52:22.236Z"
   },
   {
    "duration": 1233,
    "start_time": "2023-01-15T12:52:27.139Z"
   },
   {
    "duration": 1130,
    "start_time": "2023-01-15T12:52:41.434Z"
   },
   {
    "duration": 1256,
    "start_time": "2023-01-15T12:52:58.390Z"
   },
   {
    "duration": 1126,
    "start_time": "2023-01-15T12:53:15.530Z"
   },
   {
    "duration": 1117,
    "start_time": "2023-01-15T12:53:20.834Z"
   },
   {
    "duration": 1129,
    "start_time": "2023-01-15T12:53:31.948Z"
   },
   {
    "duration": 1133,
    "start_time": "2023-01-15T12:53:40.918Z"
   },
   {
    "duration": 1268,
    "start_time": "2023-01-15T12:53:44.443Z"
   },
   {
    "duration": 81,
    "start_time": "2023-01-15T12:53:56.950Z"
   },
   {
    "duration": 1164,
    "start_time": "2023-01-15T12:54:00.004Z"
   },
   {
    "duration": 1131,
    "start_time": "2023-01-15T12:54:11.913Z"
   },
   {
    "duration": 1167,
    "start_time": "2023-01-15T12:54:21.829Z"
   },
   {
    "duration": 668,
    "start_time": "2023-01-15T12:54:48.150Z"
   },
   {
    "duration": 1184,
    "start_time": "2023-01-15T12:55:07.370Z"
   },
   {
    "duration": 624,
    "start_time": "2023-01-15T12:55:37.083Z"
   },
   {
    "duration": 1287,
    "start_time": "2023-01-15T12:55:58.759Z"
   },
   {
    "duration": 1509,
    "start_time": "2023-01-16T05:17:38.388Z"
   },
   {
    "duration": 1621,
    "start_time": "2023-01-16T05:17:39.900Z"
   },
   {
    "duration": 14,
    "start_time": "2023-01-16T05:17:41.523Z"
   },
   {
    "duration": 27,
    "start_time": "2023-01-16T05:17:41.539Z"
   },
   {
    "duration": 19,
    "start_time": "2023-01-16T05:17:41.568Z"
   },
   {
    "duration": 23,
    "start_time": "2023-01-16T05:17:41.588Z"
   },
   {
    "duration": 13,
    "start_time": "2023-01-16T05:17:41.613Z"
   },
   {
    "duration": 53,
    "start_time": "2023-01-16T05:17:41.627Z"
   },
   {
    "duration": 34,
    "start_time": "2023-01-16T05:17:41.682Z"
   },
   {
    "duration": 410,
    "start_time": "2023-01-16T05:17:41.718Z"
   },
   {
    "duration": 631,
    "start_time": "2023-01-16T05:17:42.201Z"
   },
   {
    "duration": 662,
    "start_time": "2023-01-16T05:17:44.345Z"
   },
   {
    "duration": 13,
    "start_time": "2023-01-16T05:17:46.453Z"
   },
   {
    "duration": 8,
    "start_time": "2023-01-16T05:17:46.641Z"
   },
   {
    "duration": 19,
    "start_time": "2023-01-16T05:17:46.828Z"
   },
   {
    "duration": 21,
    "start_time": "2023-01-16T05:17:47.015Z"
   },
   {
    "duration": 28,
    "start_time": "2023-01-16T05:17:47.389Z"
   },
   {
    "duration": 35,
    "start_time": "2023-01-16T05:17:47.726Z"
   },
   {
    "duration": 273,
    "start_time": "2023-01-16T05:17:47.913Z"
   },
   {
    "duration": 651,
    "start_time": "2023-01-16T05:17:48.251Z"
   },
   {
    "duration": 984,
    "start_time": "2023-01-16T05:17:48.904Z"
   },
   {
    "duration": 551,
    "start_time": "2023-01-16T05:17:49.889Z"
   },
   {
    "duration": 14,
    "start_time": "2023-01-16T05:17:50.442Z"
   },
   {
    "duration": 13,
    "start_time": "2023-01-16T05:17:50.457Z"
   },
   {
    "duration": 18,
    "start_time": "2023-01-16T05:17:50.478Z"
   },
   {
    "duration": 30,
    "start_time": "2023-01-16T05:17:50.498Z"
   },
   {
    "duration": 30,
    "start_time": "2023-01-16T05:17:50.530Z"
   },
   {
    "duration": 35,
    "start_time": "2023-01-16T05:17:52.479Z"
   },
   {
    "duration": 310,
    "start_time": "2023-01-16T05:17:53.191Z"
   },
   {
    "duration": 554,
    "start_time": "2023-01-16T05:17:53.788Z"
   },
   {
    "duration": 652,
    "start_time": "2023-01-16T05:17:54.344Z"
   },
   {
    "duration": 5,
    "start_time": "2023-01-16T05:17:56.709Z"
   },
   {
    "duration": 30,
    "start_time": "2023-01-16T05:17:57.420Z"
   },
   {
    "duration": 4,
    "start_time": "2023-01-16T05:25:26.191Z"
   },
   {
    "duration": 5,
    "start_time": "2023-01-16T05:28:07.486Z"
   },
   {
    "duration": 1345,
    "start_time": "2023-01-16T05:30:11.085Z"
   },
   {
    "duration": 344,
    "start_time": "2023-01-16T05:30:12.432Z"
   },
   {
    "duration": 14,
    "start_time": "2023-01-16T05:30:12.777Z"
   },
   {
    "duration": 13,
    "start_time": "2023-01-16T05:30:12.792Z"
   },
   {
    "duration": 26,
    "start_time": "2023-01-16T05:30:12.808Z"
   },
   {
    "duration": 46,
    "start_time": "2023-01-16T05:30:12.836Z"
   },
   {
    "duration": 14,
    "start_time": "2023-01-16T05:30:12.884Z"
   },
   {
    "duration": 31,
    "start_time": "2023-01-16T05:30:12.900Z"
   },
   {
    "duration": 61,
    "start_time": "2023-01-16T05:30:12.933Z"
   },
   {
    "duration": 319,
    "start_time": "2023-01-16T05:30:12.996Z"
   },
   {
    "duration": 587,
    "start_time": "2023-01-16T05:30:13.317Z"
   },
   {
    "duration": 625,
    "start_time": "2023-01-16T05:30:13.906Z"
   },
   {
    "duration": 14,
    "start_time": "2023-01-16T05:30:14.533Z"
   },
   {
    "duration": 24,
    "start_time": "2023-01-16T05:30:14.550Z"
   },
   {
    "duration": 20,
    "start_time": "2023-01-16T05:30:14.577Z"
   },
   {
    "duration": 23,
    "start_time": "2023-01-16T05:30:14.598Z"
   },
   {
    "duration": 30,
    "start_time": "2023-01-16T05:30:14.622Z"
   },
   {
    "duration": 58,
    "start_time": "2023-01-16T05:30:14.654Z"
   },
   {
    "duration": 312,
    "start_time": "2023-01-16T05:30:14.714Z"
   },
   {
    "duration": 710,
    "start_time": "2023-01-16T05:30:15.028Z"
   },
   {
    "duration": 1046,
    "start_time": "2023-01-16T05:30:15.740Z"
   },
   {
    "duration": 545,
    "start_time": "2023-01-16T05:30:16.788Z"
   },
   {
    "duration": 13,
    "start_time": "2023-01-16T05:30:17.336Z"
   },
   {
    "duration": 28,
    "start_time": "2023-01-16T05:30:17.351Z"
   },
   {
    "duration": 29,
    "start_time": "2023-01-16T05:30:17.381Z"
   },
   {
    "duration": 58,
    "start_time": "2023-01-16T05:30:17.411Z"
   },
   {
    "duration": 47,
    "start_time": "2023-01-16T05:30:17.471Z"
   },
   {
    "duration": 38,
    "start_time": "2023-01-16T05:30:17.520Z"
   },
   {
    "duration": 321,
    "start_time": "2023-01-16T05:30:17.559Z"
   },
   {
    "duration": 534,
    "start_time": "2023-01-16T05:30:17.882Z"
   },
   {
    "duration": 678,
    "start_time": "2023-01-16T05:30:18.418Z"
   },
   {
    "duration": 7,
    "start_time": "2023-01-16T05:30:19.097Z"
   },
   {
    "duration": 35,
    "start_time": "2023-01-16T05:30:19.106Z"
   },
   {
    "duration": 130,
    "start_time": "2023-01-16T05:30:19.143Z"
   },
   {
    "duration": 1398,
    "start_time": "2023-01-16T05:30:41.346Z"
   },
   {
    "duration": 387,
    "start_time": "2023-01-16T05:30:42.747Z"
   },
   {
    "duration": 14,
    "start_time": "2023-01-16T05:30:43.136Z"
   },
   {
    "duration": 47,
    "start_time": "2023-01-16T05:30:43.152Z"
   },
   {
    "duration": 45,
    "start_time": "2023-01-16T05:30:43.202Z"
   },
   {
    "duration": 42,
    "start_time": "2023-01-16T05:30:43.249Z"
   },
   {
    "duration": 29,
    "start_time": "2023-01-16T05:30:43.293Z"
   },
   {
    "duration": 46,
    "start_time": "2023-01-16T05:30:43.323Z"
   },
   {
    "duration": 61,
    "start_time": "2023-01-16T05:30:43.370Z"
   },
   {
    "duration": 354,
    "start_time": "2023-01-16T05:30:43.432Z"
   },
   {
    "duration": 744,
    "start_time": "2023-01-16T05:30:43.788Z"
   },
   {
    "duration": 684,
    "start_time": "2023-01-16T05:30:44.534Z"
   },
   {
    "duration": 13,
    "start_time": "2023-01-16T05:30:45.220Z"
   },
   {
    "duration": 10,
    "start_time": "2023-01-16T05:30:45.236Z"
   },
   {
    "duration": 44,
    "start_time": "2023-01-16T05:30:45.247Z"
   },
   {
    "duration": 27,
    "start_time": "2023-01-16T05:30:45.292Z"
   },
   {
    "duration": 52,
    "start_time": "2023-01-16T05:30:45.321Z"
   },
   {
    "duration": 35,
    "start_time": "2023-01-16T05:30:45.374Z"
   },
   {
    "duration": 326,
    "start_time": "2023-01-16T05:30:45.412Z"
   },
   {
    "duration": 798,
    "start_time": "2023-01-16T05:30:45.740Z"
   },
   {
    "duration": 1147,
    "start_time": "2023-01-16T05:30:46.541Z"
   },
   {
    "duration": 556,
    "start_time": "2023-01-16T05:30:47.690Z"
   },
   {
    "duration": 13,
    "start_time": "2023-01-16T05:30:48.248Z"
   },
   {
    "duration": 20,
    "start_time": "2023-01-16T05:30:48.263Z"
   },
   {
    "duration": 25,
    "start_time": "2023-01-16T05:30:48.285Z"
   },
   {
    "duration": 21,
    "start_time": "2023-01-16T05:30:48.312Z"
   },
   {
    "duration": 47,
    "start_time": "2023-01-16T05:30:48.335Z"
   },
   {
    "duration": 39,
    "start_time": "2023-01-16T05:30:48.384Z"
   },
   {
    "duration": 360,
    "start_time": "2023-01-16T05:30:48.425Z"
   },
   {
    "duration": 659,
    "start_time": "2023-01-16T05:30:48.787Z"
   },
   {
    "duration": 670,
    "start_time": "2023-01-16T05:30:49.448Z"
   },
   {
    "duration": 6,
    "start_time": "2023-01-16T05:30:50.120Z"
   },
   {
    "duration": 57,
    "start_time": "2023-01-16T05:30:50.128Z"
   },
   {
    "duration": 20,
    "start_time": "2023-01-16T05:30:50.187Z"
   },
   {
    "duration": 5,
    "start_time": "2023-01-16T05:32:21.212Z"
   },
   {
    "duration": 26,
    "start_time": "2023-01-16T05:32:22.966Z"
   },
   {
    "duration": 74,
    "start_time": "2023-01-16T05:32:23.303Z"
   },
   {
    "duration": 33,
    "start_time": "2023-01-16T05:33:05.852Z"
   },
   {
    "duration": 1409,
    "start_time": "2023-01-16T05:34:24.651Z"
   },
   {
    "duration": 352,
    "start_time": "2023-01-16T05:34:26.062Z"
   },
   {
    "duration": 15,
    "start_time": "2023-01-16T05:34:26.416Z"
   },
   {
    "duration": 12,
    "start_time": "2023-01-16T05:34:26.433Z"
   },
   {
    "duration": 33,
    "start_time": "2023-01-16T05:34:26.447Z"
   },
   {
    "duration": 21,
    "start_time": "2023-01-16T05:34:26.482Z"
   },
   {
    "duration": 12,
    "start_time": "2023-01-16T05:34:26.505Z"
   },
   {
    "duration": 30,
    "start_time": "2023-01-16T05:34:26.519Z"
   },
   {
    "duration": 38,
    "start_time": "2023-01-16T05:34:26.577Z"
   },
   {
    "duration": 331,
    "start_time": "2023-01-16T05:34:26.618Z"
   },
   {
    "duration": 567,
    "start_time": "2023-01-16T05:34:26.951Z"
   },
   {
    "duration": 684,
    "start_time": "2023-01-16T05:34:27.520Z"
   },
   {
    "duration": 14,
    "start_time": "2023-01-16T05:34:28.206Z"
   },
   {
    "duration": 10,
    "start_time": "2023-01-16T05:34:28.222Z"
   },
   {
    "duration": 24,
    "start_time": "2023-01-16T05:34:28.234Z"
   },
   {
    "duration": 23,
    "start_time": "2023-01-16T05:34:28.277Z"
   },
   {
    "duration": 29,
    "start_time": "2023-01-16T05:34:28.302Z"
   },
   {
    "duration": 52,
    "start_time": "2023-01-16T05:34:28.333Z"
   },
   {
    "duration": 308,
    "start_time": "2023-01-16T05:34:28.387Z"
   },
   {
    "duration": 706,
    "start_time": "2023-01-16T05:34:28.697Z"
   },
   {
    "duration": 1211,
    "start_time": "2023-01-16T05:34:29.405Z"
   },
   {
    "duration": 642,
    "start_time": "2023-01-16T05:34:30.618Z"
   },
   {
    "duration": 20,
    "start_time": "2023-01-16T05:34:31.262Z"
   },
   {
    "duration": 18,
    "start_time": "2023-01-16T05:34:31.284Z"
   },
   {
    "duration": 39,
    "start_time": "2023-01-16T05:34:31.303Z"
   },
   {
    "duration": 35,
    "start_time": "2023-01-16T05:34:31.344Z"
   },
   {
    "duration": 47,
    "start_time": "2023-01-16T05:34:31.381Z"
   },
   {
    "duration": 38,
    "start_time": "2023-01-16T05:34:31.431Z"
   },
   {
    "duration": 325,
    "start_time": "2023-01-16T05:34:31.471Z"
   },
   {
    "duration": 670,
    "start_time": "2023-01-16T05:34:31.798Z"
   },
   {
    "duration": 723,
    "start_time": "2023-01-16T05:34:32.470Z"
   },
   {
    "duration": 6,
    "start_time": "2023-01-16T05:34:33.195Z"
   },
   {
    "duration": 39,
    "start_time": "2023-01-16T05:34:33.203Z"
   },
   {
    "duration": 36,
    "start_time": "2023-01-16T05:34:33.244Z"
   },
   {
    "duration": 198,
    "start_time": "2023-01-16T05:34:33.283Z"
   },
   {
    "duration": 123,
    "start_time": "2023-01-16T05:34:33.483Z"
   },
   {
    "duration": 3,
    "start_time": "2023-01-16T06:05:06.205Z"
   },
   {
    "duration": 4,
    "start_time": "2023-01-16T06:07:02.039Z"
   },
   {
    "duration": 3,
    "start_time": "2023-01-16T06:07:36.857Z"
   },
   {
    "duration": 3,
    "start_time": "2023-01-16T06:07:50.894Z"
   },
   {
    "duration": 3,
    "start_time": "2023-01-16T06:08:26.713Z"
   },
   {
    "duration": 4,
    "start_time": "2023-01-16T06:08:30.789Z"
   },
   {
    "duration": 4,
    "start_time": "2023-01-16T06:09:59.438Z"
   },
   {
    "duration": 6,
    "start_time": "2023-01-16T06:11:30.758Z"
   },
   {
    "duration": 7,
    "start_time": "2023-01-16T06:13:26.165Z"
   },
   {
    "duration": 10,
    "start_time": "2023-01-16T06:13:44.955Z"
   },
   {
    "duration": 7,
    "start_time": "2023-01-16T06:13:52.603Z"
   },
   {
    "duration": 71,
    "start_time": "2023-01-16T06:14:27.416Z"
   },
   {
    "duration": 6,
    "start_time": "2023-01-16T06:14:30.042Z"
   },
   {
    "duration": 8,
    "start_time": "2023-01-16T06:16:11.866Z"
   },
   {
    "duration": 9,
    "start_time": "2023-01-16T06:16:32.132Z"
   },
   {
    "duration": 1379,
    "start_time": "2023-01-16T06:18:00.365Z"
   },
   {
    "duration": 371,
    "start_time": "2023-01-16T06:18:01.746Z"
   },
   {
    "duration": 15,
    "start_time": "2023-01-16T06:18:02.118Z"
   },
   {
    "duration": 54,
    "start_time": "2023-01-16T06:18:02.135Z"
   },
   {
    "duration": 43,
    "start_time": "2023-01-16T06:18:02.191Z"
   },
   {
    "duration": 63,
    "start_time": "2023-01-16T06:18:02.236Z"
   },
   {
    "duration": 17,
    "start_time": "2023-01-16T06:18:02.301Z"
   },
   {
    "duration": 38,
    "start_time": "2023-01-16T06:18:02.320Z"
   },
   {
    "duration": 64,
    "start_time": "2023-01-16T06:18:02.361Z"
   },
   {
    "duration": 357,
    "start_time": "2023-01-16T06:18:02.428Z"
   },
   {
    "duration": 647,
    "start_time": "2023-01-16T06:18:02.787Z"
   },
   {
    "duration": 780,
    "start_time": "2023-01-16T06:18:03.437Z"
   },
   {
    "duration": 14,
    "start_time": "2023-01-16T06:18:04.219Z"
   },
   {
    "duration": 14,
    "start_time": "2023-01-16T06:18:04.235Z"
   },
   {
    "duration": 51,
    "start_time": "2023-01-16T06:18:04.251Z"
   },
   {
    "duration": 60,
    "start_time": "2023-01-16T06:18:04.304Z"
   },
   {
    "duration": 38,
    "start_time": "2023-01-16T06:18:04.366Z"
   },
   {
    "duration": 60,
    "start_time": "2023-01-16T06:18:04.406Z"
   },
   {
    "duration": 330,
    "start_time": "2023-01-16T06:18:04.468Z"
   },
   {
    "duration": 713,
    "start_time": "2023-01-16T06:18:04.800Z"
   },
   {
    "duration": 1030,
    "start_time": "2023-01-16T06:18:05.515Z"
   },
   {
    "duration": 633,
    "start_time": "2023-01-16T06:18:06.546Z"
   },
   {
    "duration": 15,
    "start_time": "2023-01-16T06:18:07.180Z"
   },
   {
    "duration": 18,
    "start_time": "2023-01-16T06:18:07.197Z"
   },
   {
    "duration": 27,
    "start_time": "2023-01-16T06:18:07.217Z"
   },
   {
    "duration": 38,
    "start_time": "2023-01-16T06:18:07.245Z"
   },
   {
    "duration": 33,
    "start_time": "2023-01-16T06:18:07.286Z"
   },
   {
    "duration": 36,
    "start_time": "2023-01-16T06:18:07.322Z"
   },
   {
    "duration": 323,
    "start_time": "2023-01-16T06:18:07.360Z"
   },
   {
    "duration": 647,
    "start_time": "2023-01-16T06:18:07.684Z"
   },
   {
    "duration": 696,
    "start_time": "2023-01-16T06:18:08.333Z"
   },
   {
    "duration": 7,
    "start_time": "2023-01-16T06:18:09.030Z"
   },
   {
    "duration": 41,
    "start_time": "2023-01-16T06:18:09.041Z"
   },
   {
    "duration": 15,
    "start_time": "2023-01-16T06:18:09.085Z"
   },
   {
    "duration": 223,
    "start_time": "2023-01-16T06:18:09.102Z"
   },
   {
    "duration": 170,
    "start_time": "2023-01-16T06:18:09.326Z"
   },
   {
    "duration": 3,
    "start_time": "2023-01-16T06:18:09.497Z"
   },
   {
    "duration": 90,
    "start_time": "2023-01-16T06:18:09.502Z"
   },
   {
    "duration": 7,
    "start_time": "2023-01-16T06:18:09.679Z"
   },
   {
    "duration": 3,
    "start_time": "2023-01-16T06:21:04.666Z"
   },
   {
    "duration": 3,
    "start_time": "2023-01-16T06:21:39.858Z"
   },
   {
    "duration": 4,
    "start_time": "2023-01-16T06:21:48.999Z"
   },
   {
    "duration": 90,
    "start_time": "2023-01-16T06:22:02.234Z"
   },
   {
    "duration": 103,
    "start_time": "2023-01-16T06:22:12.625Z"
   },
   {
    "duration": 4,
    "start_time": "2023-01-16T06:22:32.565Z"
   },
   {
    "duration": 4,
    "start_time": "2023-01-16T06:22:40.504Z"
   },
   {
    "duration": 5,
    "start_time": "2023-01-16T06:23:08.832Z"
   },
   {
    "duration": 4,
    "start_time": "2023-01-16T06:30:51.610Z"
   },
   {
    "duration": 5,
    "start_time": "2023-01-16T06:31:33.316Z"
   },
   {
    "duration": 3,
    "start_time": "2023-01-16T06:37:21.140Z"
   },
   {
    "duration": 4,
    "start_time": "2023-01-16T06:38:29.130Z"
   },
   {
    "duration": 7,
    "start_time": "2023-01-16T06:39:37.360Z"
   },
   {
    "duration": 5,
    "start_time": "2023-01-16T06:39:47.708Z"
   },
   {
    "duration": 3,
    "start_time": "2023-01-16T06:40:08.496Z"
   },
   {
    "duration": 3,
    "start_time": "2023-01-16T06:40:10.944Z"
   },
   {
    "duration": 5,
    "start_time": "2023-01-16T06:40:12.163Z"
   },
   {
    "duration": 5,
    "start_time": "2023-01-16T06:40:21.248Z"
   },
   {
    "duration": 5,
    "start_time": "2023-01-16T06:40:29.663Z"
   },
   {
    "duration": 6,
    "start_time": "2023-01-16T07:06:34.741Z"
   },
   {
    "duration": 9,
    "start_time": "2023-01-16T07:07:44.900Z"
   },
   {
    "duration": 11,
    "start_time": "2023-01-16T07:08:13.790Z"
   },
   {
    "duration": 3,
    "start_time": "2023-01-16T07:08:17.309Z"
   },
   {
    "duration": 5,
    "start_time": "2023-01-16T07:08:22.846Z"
   },
   {
    "duration": 3,
    "start_time": "2023-01-16T07:08:34.046Z"
   },
   {
    "duration": 5,
    "start_time": "2023-01-16T07:08:34.245Z"
   },
   {
    "duration": 6,
    "start_time": "2023-01-16T07:08:47.055Z"
   },
   {
    "duration": 5,
    "start_time": "2023-01-16T07:08:47.467Z"
   },
   {
    "duration": 2,
    "start_time": "2023-01-16T07:10:00.352Z"
   },
   {
    "duration": 5,
    "start_time": "2023-01-16T07:10:05.743Z"
   },
   {
    "duration": 5,
    "start_time": "2023-01-16T07:10:13.457Z"
   },
   {
    "duration": 3,
    "start_time": "2023-01-16T07:10:46.977Z"
   },
   {
    "duration": 4,
    "start_time": "2023-01-16T07:10:47.442Z"
   },
   {
    "duration": 1345,
    "start_time": "2023-01-16T07:10:51.391Z"
   },
   {
    "duration": 350,
    "start_time": "2023-01-16T07:10:52.739Z"
   },
   {
    "duration": 15,
    "start_time": "2023-01-16T07:10:53.091Z"
   },
   {
    "duration": 12,
    "start_time": "2023-01-16T07:10:53.108Z"
   },
   {
    "duration": 19,
    "start_time": "2023-01-16T07:10:53.121Z"
   },
   {
    "duration": 39,
    "start_time": "2023-01-16T07:10:53.142Z"
   },
   {
    "duration": 14,
    "start_time": "2023-01-16T07:10:53.182Z"
   },
   {
    "duration": 38,
    "start_time": "2023-01-16T07:10:53.197Z"
   },
   {
    "duration": 54,
    "start_time": "2023-01-16T07:10:53.237Z"
   },
   {
    "duration": 335,
    "start_time": "2023-01-16T07:10:53.294Z"
   },
   {
    "duration": 623,
    "start_time": "2023-01-16T07:10:53.630Z"
   },
   {
    "duration": 633,
    "start_time": "2023-01-16T07:10:54.255Z"
   },
   {
    "duration": 13,
    "start_time": "2023-01-16T07:10:54.889Z"
   },
   {
    "duration": 9,
    "start_time": "2023-01-16T07:10:54.904Z"
   },
   {
    "duration": 25,
    "start_time": "2023-01-16T07:10:54.914Z"
   },
   {
    "duration": 39,
    "start_time": "2023-01-16T07:10:54.940Z"
   },
   {
    "duration": 30,
    "start_time": "2023-01-16T07:10:54.980Z"
   },
   {
    "duration": 33,
    "start_time": "2023-01-16T07:10:55.011Z"
   },
   {
    "duration": 335,
    "start_time": "2023-01-16T07:10:55.045Z"
   },
   {
    "duration": 642,
    "start_time": "2023-01-16T07:10:55.382Z"
   },
   {
    "duration": 1093,
    "start_time": "2023-01-16T07:10:56.026Z"
   },
   {
    "duration": 647,
    "start_time": "2023-01-16T07:10:57.121Z"
   },
   {
    "duration": 16,
    "start_time": "2023-01-16T07:10:57.770Z"
   },
   {
    "duration": 37,
    "start_time": "2023-01-16T07:10:57.787Z"
   },
   {
    "duration": 26,
    "start_time": "2023-01-16T07:10:57.826Z"
   },
   {
    "duration": 51,
    "start_time": "2023-01-16T07:10:57.854Z"
   },
   {
    "duration": 46,
    "start_time": "2023-01-16T07:10:57.907Z"
   },
   {
    "duration": 39,
    "start_time": "2023-01-16T07:10:57.958Z"
   },
   {
    "duration": 325,
    "start_time": "2023-01-16T07:10:57.999Z"
   },
   {
    "duration": 638,
    "start_time": "2023-01-16T07:10:58.327Z"
   },
   {
    "duration": 678,
    "start_time": "2023-01-16T07:10:58.966Z"
   },
   {
    "duration": 6,
    "start_time": "2023-01-16T07:10:59.646Z"
   },
   {
    "duration": 42,
    "start_time": "2023-01-16T07:10:59.654Z"
   },
   {
    "duration": 14,
    "start_time": "2023-01-16T07:10:59.697Z"
   },
   {
    "duration": 191,
    "start_time": "2023-01-16T07:10:59.713Z"
   },
   {
    "duration": 190,
    "start_time": "2023-01-16T07:10:59.906Z"
   },
   {
    "duration": 2,
    "start_time": "2023-01-16T07:11:00.098Z"
   },
   {
    "duration": 78,
    "start_time": "2023-01-16T07:11:00.102Z"
   },
   {
    "duration": 119,
    "start_time": "2023-01-16T07:11:00.181Z"
   },
   {
    "duration": 12,
    "start_time": "2023-01-16T07:11:00.301Z"
   },
   {
    "duration": 27,
    "start_time": "2023-01-16T07:11:00.315Z"
   },
   {
    "duration": 30,
    "start_time": "2023-01-16T07:11:00.344Z"
   },
   {
    "duration": 35,
    "start_time": "2023-01-16T07:11:00.375Z"
   },
   {
    "duration": 31,
    "start_time": "2023-01-16T07:11:00.412Z"
   },
   {
    "duration": 20,
    "start_time": "2023-01-16T07:11:00.444Z"
   },
   {
    "duration": 24,
    "start_time": "2023-01-16T07:11:00.466Z"
   },
   {
    "duration": 5,
    "start_time": "2023-01-16T07:11:55.256Z"
   },
   {
    "duration": 6,
    "start_time": "2023-01-16T07:12:02.764Z"
   },
   {
    "duration": 4,
    "start_time": "2023-01-16T07:13:59.510Z"
   },
   {
    "duration": 3,
    "start_time": "2023-01-16T07:15:30.349Z"
   },
   {
    "duration": 4,
    "start_time": "2023-01-16T07:16:11.801Z"
   },
   {
    "duration": 83,
    "start_time": "2023-01-16T07:25:02.713Z"
   },
   {
    "duration": 3,
    "start_time": "2023-01-16T07:25:08.744Z"
   },
   {
    "duration": 6,
    "start_time": "2023-01-16T07:25:09.250Z"
   },
   {
    "duration": 3,
    "start_time": "2023-01-16T07:25:22.135Z"
   },
   {
    "duration": 6,
    "start_time": "2023-01-16T07:25:22.392Z"
   },
   {
    "duration": 3,
    "start_time": "2023-01-16T07:26:25.548Z"
   },
   {
    "duration": 7,
    "start_time": "2023-01-16T07:26:26.001Z"
   },
   {
    "duration": 4,
    "start_time": "2023-01-16T07:26:40.303Z"
   },
   {
    "duration": 7,
    "start_time": "2023-01-16T07:26:40.602Z"
   },
   {
    "duration": 3,
    "start_time": "2023-01-16T07:26:55.101Z"
   },
   {
    "duration": 6,
    "start_time": "2023-01-16T07:26:55.449Z"
   },
   {
    "duration": 3,
    "start_time": "2023-01-16T07:27:38.792Z"
   },
   {
    "duration": 6,
    "start_time": "2023-01-16T07:27:39.094Z"
   },
   {
    "duration": 3,
    "start_time": "2023-01-16T07:27:44.817Z"
   },
   {
    "duration": 7,
    "start_time": "2023-01-16T07:27:46.995Z"
   },
   {
    "duration": 4,
    "start_time": "2023-01-16T07:27:55.546Z"
   },
   {
    "duration": 7,
    "start_time": "2023-01-16T07:27:55.959Z"
   },
   {
    "duration": 1431,
    "start_time": "2023-01-16T07:28:09.882Z"
   },
   {
    "duration": 404,
    "start_time": "2023-01-16T07:28:11.316Z"
   },
   {
    "duration": 16,
    "start_time": "2023-01-16T07:28:11.721Z"
   },
   {
    "duration": 18,
    "start_time": "2023-01-16T07:28:11.738Z"
   },
   {
    "duration": 34,
    "start_time": "2023-01-16T07:28:11.759Z"
   },
   {
    "duration": 35,
    "start_time": "2023-01-16T07:28:11.795Z"
   },
   {
    "duration": 18,
    "start_time": "2023-01-16T07:28:11.832Z"
   },
   {
    "duration": 56,
    "start_time": "2023-01-16T07:28:11.852Z"
   },
   {
    "duration": 41,
    "start_time": "2023-01-16T07:28:11.910Z"
   },
   {
    "duration": 356,
    "start_time": "2023-01-16T07:28:11.953Z"
   },
   {
    "duration": 634,
    "start_time": "2023-01-16T07:28:12.311Z"
   },
   {
    "duration": 706,
    "start_time": "2023-01-16T07:28:12.948Z"
   },
   {
    "duration": 22,
    "start_time": "2023-01-16T07:28:13.656Z"
   },
   {
    "duration": 14,
    "start_time": "2023-01-16T07:28:13.681Z"
   },
   {
    "duration": 29,
    "start_time": "2023-01-16T07:28:13.697Z"
   },
   {
    "duration": 35,
    "start_time": "2023-01-16T07:28:13.728Z"
   },
   {
    "duration": 50,
    "start_time": "2023-01-16T07:28:13.766Z"
   },
   {
    "duration": 37,
    "start_time": "2023-01-16T07:28:13.819Z"
   },
   {
    "duration": 389,
    "start_time": "2023-01-16T07:28:13.858Z"
   },
   {
    "duration": 713,
    "start_time": "2023-01-16T07:28:14.249Z"
   },
   {
    "duration": 1159,
    "start_time": "2023-01-16T07:28:14.964Z"
   },
   {
    "duration": 761,
    "start_time": "2023-01-16T07:28:16.125Z"
   },
   {
    "duration": 16,
    "start_time": "2023-01-16T07:28:16.888Z"
   },
   {
    "duration": 24,
    "start_time": "2023-01-16T07:28:16.906Z"
   },
   {
    "duration": 39,
    "start_time": "2023-01-16T07:28:16.932Z"
   },
   {
    "duration": 32,
    "start_time": "2023-01-16T07:28:16.973Z"
   },
   {
    "duration": 31,
    "start_time": "2023-01-16T07:28:17.007Z"
   },
   {
    "duration": 42,
    "start_time": "2023-01-16T07:28:17.040Z"
   },
   {
    "duration": 339,
    "start_time": "2023-01-16T07:28:17.084Z"
   },
   {
    "duration": 699,
    "start_time": "2023-01-16T07:28:17.424Z"
   },
   {
    "duration": 741,
    "start_time": "2023-01-16T07:28:18.125Z"
   },
   {
    "duration": 6,
    "start_time": "2023-01-16T07:28:18.868Z"
   },
   {
    "duration": 32,
    "start_time": "2023-01-16T07:28:18.878Z"
   },
   {
    "duration": 14,
    "start_time": "2023-01-16T07:28:18.911Z"
   },
   {
    "duration": 183,
    "start_time": "2023-01-16T07:28:18.927Z"
   },
   {
    "duration": 178,
    "start_time": "2023-01-16T07:28:19.112Z"
   },
   {
    "duration": 187,
    "start_time": "2023-01-16T07:28:19.292Z"
   },
   {
    "duration": 27,
    "start_time": "2023-01-16T07:28:19.481Z"
   },
   {
    "duration": 25,
    "start_time": "2023-01-16T07:28:19.510Z"
   },
   {
    "duration": 22,
    "start_time": "2023-01-16T07:28:19.537Z"
   },
   {
    "duration": 4,
    "start_time": "2023-01-16T07:28:19.562Z"
   },
   {
    "duration": 16,
    "start_time": "2023-01-16T07:28:19.568Z"
   },
   {
    "duration": 11,
    "start_time": "2023-01-16T07:28:19.585Z"
   },
   {
    "duration": 25,
    "start_time": "2023-01-16T07:28:19.597Z"
   },
   {
    "duration": 28,
    "start_time": "2023-01-16T07:28:19.624Z"
   },
   {
    "duration": 21,
    "start_time": "2023-01-16T07:28:19.653Z"
   },
   {
    "duration": 25,
    "start_time": "2023-01-16T07:28:19.676Z"
   },
   {
    "duration": 5,
    "start_time": "2023-01-16T07:28:59.802Z"
   },
   {
    "duration": 8,
    "start_time": "2023-01-16T07:29:00.146Z"
   },
   {
    "duration": 4,
    "start_time": "2023-01-16T07:29:19.567Z"
   },
   {
    "duration": 118,
    "start_time": "2023-01-16T07:29:40.906Z"
   },
   {
    "duration": 5,
    "start_time": "2023-01-16T07:29:58.165Z"
   },
   {
    "duration": 17,
    "start_time": "2023-01-16T07:29:58.504Z"
   },
   {
    "duration": 5,
    "start_time": "2023-01-16T07:30:04.968Z"
   },
   {
    "duration": 8,
    "start_time": "2023-01-16T07:30:05.303Z"
   },
   {
    "duration": 5,
    "start_time": "2023-01-16T07:33:17.276Z"
   },
   {
    "duration": 8,
    "start_time": "2023-01-16T07:33:17.804Z"
   },
   {
    "duration": 5,
    "start_time": "2023-01-16T07:33:33.050Z"
   },
   {
    "duration": 11,
    "start_time": "2023-01-16T07:33:33.463Z"
   },
   {
    "duration": 4,
    "start_time": "2023-01-16T07:33:46.776Z"
   },
   {
    "duration": 9,
    "start_time": "2023-01-16T07:33:47.152Z"
   },
   {
    "duration": 5,
    "start_time": "2023-01-16T07:33:54.014Z"
   },
   {
    "duration": 8,
    "start_time": "2023-01-16T07:33:54.390Z"
   },
   {
    "duration": 4,
    "start_time": "2023-01-16T07:35:05.499Z"
   },
   {
    "duration": 9,
    "start_time": "2023-01-16T07:35:05.760Z"
   },
   {
    "duration": 5,
    "start_time": "2023-01-16T07:35:29.430Z"
   },
   {
    "duration": 7,
    "start_time": "2023-01-16T07:35:29.765Z"
   },
   {
    "duration": 4,
    "start_time": "2023-01-16T07:35:54.323Z"
   },
   {
    "duration": 9,
    "start_time": "2023-01-16T07:35:54.772Z"
   },
   {
    "duration": 4,
    "start_time": "2023-01-16T07:36:16.846Z"
   },
   {
    "duration": 7,
    "start_time": "2023-01-16T07:36:17.183Z"
   },
   {
    "duration": 4,
    "start_time": "2023-01-16T07:36:21.403Z"
   },
   {
    "duration": 8,
    "start_time": "2023-01-16T07:36:22.406Z"
   },
   {
    "duration": 4,
    "start_time": "2023-01-16T07:36:27.290Z"
   },
   {
    "duration": 7,
    "start_time": "2023-01-16T07:36:27.516Z"
   },
   {
    "duration": 4,
    "start_time": "2023-01-16T07:36:33.865Z"
   },
   {
    "duration": 7,
    "start_time": "2023-01-16T07:36:34.203Z"
   },
   {
    "duration": 6,
    "start_time": "2023-01-16T07:37:10.128Z"
   },
   {
    "duration": 8,
    "start_time": "2023-01-16T07:37:33.972Z"
   },
   {
    "duration": 4,
    "start_time": "2023-01-16T07:38:54.916Z"
   },
   {
    "duration": 5,
    "start_time": "2023-01-16T07:40:13.113Z"
   },
   {
    "duration": 8,
    "start_time": "2023-01-16T07:40:13.527Z"
   },
   {
    "duration": 5,
    "start_time": "2023-01-16T07:40:31.235Z"
   },
   {
    "duration": 7,
    "start_time": "2023-01-16T07:40:31.532Z"
   },
   {
    "duration": 5,
    "start_time": "2023-01-16T07:40:43.496Z"
   },
   {
    "duration": 8,
    "start_time": "2023-01-16T07:40:44.930Z"
   },
   {
    "duration": 5,
    "start_time": "2023-01-16T07:41:22.742Z"
   },
   {
    "duration": 8,
    "start_time": "2023-01-16T07:41:23.947Z"
   },
   {
    "duration": 5,
    "start_time": "2023-01-16T07:41:35.016Z"
   },
   {
    "duration": 8,
    "start_time": "2023-01-16T07:41:35.391Z"
   },
   {
    "duration": 4,
    "start_time": "2023-01-16T07:43:48.430Z"
   },
   {
    "duration": 7,
    "start_time": "2023-01-16T07:43:48.804Z"
   },
   {
    "duration": 5,
    "start_time": "2023-01-16T07:44:23.072Z"
   },
   {
    "duration": 9,
    "start_time": "2023-01-16T07:44:23.921Z"
   },
   {
    "duration": 1380,
    "start_time": "2023-01-16T07:45:45.242Z"
   },
   {
    "duration": 360,
    "start_time": "2023-01-16T07:45:46.624Z"
   },
   {
    "duration": 16,
    "start_time": "2023-01-16T07:45:46.986Z"
   },
   {
    "duration": 26,
    "start_time": "2023-01-16T07:45:47.005Z"
   },
   {
    "duration": 21,
    "start_time": "2023-01-16T07:45:47.033Z"
   },
   {
    "duration": 30,
    "start_time": "2023-01-16T07:45:47.056Z"
   },
   {
    "duration": 13,
    "start_time": "2023-01-16T07:45:47.087Z"
   },
   {
    "duration": 31,
    "start_time": "2023-01-16T07:45:47.103Z"
   },
   {
    "duration": 54,
    "start_time": "2023-01-16T07:45:47.136Z"
   },
   {
    "duration": 329,
    "start_time": "2023-01-16T07:45:47.192Z"
   },
   {
    "duration": 590,
    "start_time": "2023-01-16T07:45:47.522Z"
   },
   {
    "duration": 682,
    "start_time": "2023-01-16T07:45:48.114Z"
   },
   {
    "duration": 15,
    "start_time": "2023-01-16T07:45:48.798Z"
   },
   {
    "duration": 9,
    "start_time": "2023-01-16T07:45:48.816Z"
   },
   {
    "duration": 27,
    "start_time": "2023-01-16T07:45:48.827Z"
   },
   {
    "duration": 35,
    "start_time": "2023-01-16T07:45:48.856Z"
   },
   {
    "duration": 55,
    "start_time": "2023-01-16T07:45:48.892Z"
   },
   {
    "duration": 35,
    "start_time": "2023-01-16T07:45:48.949Z"
   },
   {
    "duration": 338,
    "start_time": "2023-01-16T07:45:48.986Z"
   },
   {
    "duration": 694,
    "start_time": "2023-01-16T07:45:49.326Z"
   },
   {
    "duration": 1204,
    "start_time": "2023-01-16T07:45:50.022Z"
   },
   {
    "duration": 624,
    "start_time": "2023-01-16T07:45:51.228Z"
   },
   {
    "duration": 13,
    "start_time": "2023-01-16T07:45:51.853Z"
   },
   {
    "duration": 19,
    "start_time": "2023-01-16T07:45:51.878Z"
   },
   {
    "duration": 27,
    "start_time": "2023-01-16T07:45:51.898Z"
   },
   {
    "duration": 33,
    "start_time": "2023-01-16T07:45:51.926Z"
   },
   {
    "duration": 45,
    "start_time": "2023-01-16T07:45:51.960Z"
   },
   {
    "duration": 35,
    "start_time": "2023-01-16T07:45:52.007Z"
   },
   {
    "duration": 353,
    "start_time": "2023-01-16T07:45:52.044Z"
   },
   {
    "duration": 642,
    "start_time": "2023-01-16T07:45:52.399Z"
   },
   {
    "duration": 672,
    "start_time": "2023-01-16T07:45:53.043Z"
   },
   {
    "duration": 6,
    "start_time": "2023-01-16T07:45:53.716Z"
   },
   {
    "duration": 35,
    "start_time": "2023-01-16T07:45:53.723Z"
   },
   {
    "duration": 22,
    "start_time": "2023-01-16T07:45:53.759Z"
   },
   {
    "duration": 218,
    "start_time": "2023-01-16T07:45:53.783Z"
   },
   {
    "duration": 187,
    "start_time": "2023-01-16T07:45:54.003Z"
   },
   {
    "duration": 2,
    "start_time": "2023-01-16T07:45:54.192Z"
   },
   {
    "duration": 84,
    "start_time": "2023-01-16T07:45:54.196Z"
   },
   {
    "duration": 116,
    "start_time": "2023-01-16T07:45:54.282Z"
   },
   {
    "duration": 16,
    "start_time": "2023-01-16T07:45:54.400Z"
   },
   {
    "duration": 11,
    "start_time": "2023-01-16T07:45:54.420Z"
   },
   {
    "duration": 23,
    "start_time": "2023-01-16T07:45:54.432Z"
   },
   {
    "duration": 24,
    "start_time": "2023-01-16T07:45:54.456Z"
   },
   {
    "duration": 125,
    "start_time": "2023-01-16T07:45:54.482Z"
   },
   {
    "duration": 4,
    "start_time": "2023-01-16T07:46:28.520Z"
   },
   {
    "duration": 7,
    "start_time": "2023-01-16T07:46:28.936Z"
   },
   {
    "duration": 4,
    "start_time": "2023-01-16T07:49:17.623Z"
   },
   {
    "duration": 8,
    "start_time": "2023-01-16T07:49:18.112Z"
   },
   {
    "duration": 5,
    "start_time": "2023-01-16T07:50:06.759Z"
   },
   {
    "duration": 6,
    "start_time": "2023-01-16T07:50:07.058Z"
   },
   {
    "duration": 4,
    "start_time": "2023-01-16T07:50:16.609Z"
   },
   {
    "duration": 7,
    "start_time": "2023-01-16T07:50:17.247Z"
   },
   {
    "duration": 4,
    "start_time": "2023-01-16T07:51:03.339Z"
   },
   {
    "duration": 7,
    "start_time": "2023-01-16T07:51:03.638Z"
   },
   {
    "duration": 6,
    "start_time": "2023-01-16T07:52:38.011Z"
   },
   {
    "duration": 7,
    "start_time": "2023-01-16T07:52:38.348Z"
   },
   {
    "duration": 4,
    "start_time": "2023-01-16T07:52:46.558Z"
   },
   {
    "duration": 7,
    "start_time": "2023-01-16T07:52:46.894Z"
   },
   {
    "duration": 4,
    "start_time": "2023-01-16T07:53:41.361Z"
   },
   {
    "duration": 7,
    "start_time": "2023-01-16T07:53:41.660Z"
   },
   {
    "duration": 5,
    "start_time": "2023-01-16T07:53:55.589Z"
   },
   {
    "duration": 6,
    "start_time": "2023-01-16T07:53:56.115Z"
   },
   {
    "duration": 5,
    "start_time": "2023-01-16T07:54:04.687Z"
   },
   {
    "duration": 9,
    "start_time": "2023-01-16T07:54:04.949Z"
   },
   {
    "duration": 7,
    "start_time": "2023-01-16T07:55:05.869Z"
   },
   {
    "duration": 6,
    "start_time": "2023-01-16T07:55:49.890Z"
   },
   {
    "duration": 1493,
    "start_time": "2023-01-16T10:33:12.995Z"
   },
   {
    "duration": 404,
    "start_time": "2023-01-16T10:33:14.490Z"
   },
   {
    "duration": 15,
    "start_time": "2023-01-16T10:33:14.896Z"
   },
   {
    "duration": 64,
    "start_time": "2023-01-16T10:33:14.913Z"
   },
   {
    "duration": 84,
    "start_time": "2023-01-16T10:33:14.980Z"
   },
   {
    "duration": 86,
    "start_time": "2023-01-16T10:33:15.066Z"
   },
   {
    "duration": 78,
    "start_time": "2023-01-16T10:33:15.154Z"
   },
   {
    "duration": 59,
    "start_time": "2023-01-16T10:33:15.233Z"
   },
   {
    "duration": 55,
    "start_time": "2023-01-16T10:33:15.295Z"
   },
   {
    "duration": 368,
    "start_time": "2023-01-16T10:33:15.353Z"
   },
   {
    "duration": 647,
    "start_time": "2023-01-16T10:33:15.723Z"
   },
   {
    "duration": 827,
    "start_time": "2023-01-16T10:33:16.372Z"
   },
   {
    "duration": 15,
    "start_time": "2023-01-16T10:33:17.201Z"
   },
   {
    "duration": 10,
    "start_time": "2023-01-16T10:33:17.218Z"
   },
   {
    "duration": 26,
    "start_time": "2023-01-16T10:33:17.229Z"
   },
   {
    "duration": 49,
    "start_time": "2023-01-16T10:33:17.256Z"
   },
   {
    "duration": 29,
    "start_time": "2023-01-16T10:33:17.306Z"
   },
   {
    "duration": 51,
    "start_time": "2023-01-16T10:33:17.336Z"
   },
   {
    "duration": 328,
    "start_time": "2023-01-16T10:33:17.390Z"
   },
   {
    "duration": 713,
    "start_time": "2023-01-16T10:33:17.720Z"
   },
   {
    "duration": 1195,
    "start_time": "2023-01-16T10:33:18.435Z"
   },
   {
    "duration": 688,
    "start_time": "2023-01-16T10:33:19.632Z"
   },
   {
    "duration": 16,
    "start_time": "2023-01-16T10:33:20.322Z"
   },
   {
    "duration": 10,
    "start_time": "2023-01-16T10:33:20.340Z"
   },
   {
    "duration": 52,
    "start_time": "2023-01-16T10:33:20.352Z"
   },
   {
    "duration": 31,
    "start_time": "2023-01-16T10:33:20.407Z"
   },
   {
    "duration": 43,
    "start_time": "2023-01-16T10:33:20.440Z"
   },
   {
    "duration": 41,
    "start_time": "2023-01-16T10:33:20.486Z"
   },
   {
    "duration": 378,
    "start_time": "2023-01-16T10:33:20.529Z"
   },
   {
    "duration": 674,
    "start_time": "2023-01-16T10:33:20.908Z"
   },
   {
    "duration": 682,
    "start_time": "2023-01-16T10:33:21.585Z"
   },
   {
    "duration": 6,
    "start_time": "2023-01-16T10:33:22.269Z"
   },
   {
    "duration": 56,
    "start_time": "2023-01-16T10:33:22.276Z"
   },
   {
    "duration": 16,
    "start_time": "2023-01-16T10:33:22.333Z"
   },
   {
    "duration": 197,
    "start_time": "2023-01-16T10:33:22.385Z"
   },
   {
    "duration": 205,
    "start_time": "2023-01-16T10:33:22.586Z"
   },
   {
    "duration": 8,
    "start_time": "2023-01-16T10:33:22.794Z"
   },
   {
    "duration": 98,
    "start_time": "2023-01-16T10:33:22.805Z"
   },
   {
    "duration": 15,
    "start_time": "2023-01-16T10:33:22.905Z"
   },
   {
    "duration": 8,
    "start_time": "2023-01-16T10:33:22.922Z"
   },
   {
    "duration": 8,
    "start_time": "2023-01-16T10:33:22.936Z"
   },
   {
    "duration": 29,
    "start_time": "2023-01-16T10:33:22.946Z"
   },
   {
    "duration": 29,
    "start_time": "2023-01-16T10:33:22.978Z"
   },
   {
    "duration": 16,
    "start_time": "2023-01-16T10:33:23.010Z"
   },
   {
    "duration": 8,
    "start_time": "2023-01-16T10:33:23.029Z"
   },
   {
    "duration": 12,
    "start_time": "2023-01-16T10:33:23.039Z"
   },
   {
    "duration": 1442,
    "start_time": "2023-01-16T10:42:54.511Z"
   },
   {
    "duration": 362,
    "start_time": "2023-01-16T10:42:55.956Z"
   },
   {
    "duration": 16,
    "start_time": "2023-01-16T10:42:56.320Z"
   },
   {
    "duration": 28,
    "start_time": "2023-01-16T10:42:56.338Z"
   },
   {
    "duration": 40,
    "start_time": "2023-01-16T10:42:56.368Z"
   },
   {
    "duration": 29,
    "start_time": "2023-01-16T10:42:56.409Z"
   },
   {
    "duration": 20,
    "start_time": "2023-01-16T10:42:56.440Z"
   },
   {
    "duration": 38,
    "start_time": "2023-01-16T10:42:56.461Z"
   },
   {
    "duration": 40,
    "start_time": "2023-01-16T10:42:56.501Z"
   },
   {
    "duration": 379,
    "start_time": "2023-01-16T10:42:56.542Z"
   },
   {
    "duration": 779,
    "start_time": "2023-01-16T10:42:56.923Z"
   },
   {
    "duration": 780,
    "start_time": "2023-01-16T10:42:57.704Z"
   },
   {
    "duration": 17,
    "start_time": "2023-01-16T10:42:58.486Z"
   },
   {
    "duration": 39,
    "start_time": "2023-01-16T10:42:58.507Z"
   },
   {
    "duration": 43,
    "start_time": "2023-01-16T10:42:58.548Z"
   },
   {
    "duration": 38,
    "start_time": "2023-01-16T10:42:58.593Z"
   },
   {
    "duration": 56,
    "start_time": "2023-01-16T10:42:58.633Z"
   },
   {
    "duration": 55,
    "start_time": "2023-01-16T10:42:58.691Z"
   },
   {
    "duration": 381,
    "start_time": "2023-01-16T10:42:58.748Z"
   },
   {
    "duration": 835,
    "start_time": "2023-01-16T10:42:59.132Z"
   },
   {
    "duration": 1137,
    "start_time": "2023-01-16T10:42:59.969Z"
   },
   {
    "duration": 654,
    "start_time": "2023-01-16T10:43:01.108Z"
   },
   {
    "duration": 17,
    "start_time": "2023-01-16T10:43:01.764Z"
   },
   {
    "duration": 65,
    "start_time": "2023-01-16T10:43:01.782Z"
   },
   {
    "duration": 70,
    "start_time": "2023-01-16T10:43:01.849Z"
   },
   {
    "duration": 70,
    "start_time": "2023-01-16T10:43:01.921Z"
   },
   {
    "duration": 73,
    "start_time": "2023-01-16T10:43:01.993Z"
   },
   {
    "duration": 36,
    "start_time": "2023-01-16T10:43:02.068Z"
   },
   {
    "duration": 313,
    "start_time": "2023-01-16T10:43:02.106Z"
   },
   {
    "duration": 604,
    "start_time": "2023-01-16T10:43:02.420Z"
   },
   {
    "duration": 690,
    "start_time": "2023-01-16T10:43:03.026Z"
   },
   {
    "duration": 6,
    "start_time": "2023-01-16T10:43:03.718Z"
   },
   {
    "duration": 62,
    "start_time": "2023-01-16T10:43:03.726Z"
   },
   {
    "duration": 21,
    "start_time": "2023-01-16T10:43:03.791Z"
   },
   {
    "duration": 206,
    "start_time": "2023-01-16T10:43:03.814Z"
   },
   {
    "duration": 137,
    "start_time": "2023-01-16T10:43:04.078Z"
   },
   {
    "duration": 137,
    "start_time": "2023-01-16T10:43:04.279Z"
   },
   {
    "duration": 54,
    "start_time": "2023-01-16T10:43:04.418Z"
   },
   {
    "duration": 41,
    "start_time": "2023-01-16T10:43:04.474Z"
   },
   {
    "duration": 47,
    "start_time": "2023-01-16T10:43:04.517Z"
   },
   {
    "duration": 63,
    "start_time": "2023-01-16T10:43:04.569Z"
   },
   {
    "duration": 63,
    "start_time": "2023-01-16T10:43:04.633Z"
   },
   {
    "duration": 56,
    "start_time": "2023-01-16T10:43:04.697Z"
   },
   {
    "duration": 65,
    "start_time": "2023-01-16T10:43:04.755Z"
   },
   {
    "duration": 50,
    "start_time": "2023-01-16T10:43:04.822Z"
   },
   {
    "duration": 27,
    "start_time": "2023-01-16T10:43:04.874Z"
   },
   {
    "duration": 6,
    "start_time": "2023-01-16T11:06:18.629Z"
   },
   {
    "duration": 9,
    "start_time": "2023-01-16T11:06:19.526Z"
   },
   {
    "duration": 4,
    "start_time": "2023-01-16T11:06:47.018Z"
   },
   {
    "duration": 7,
    "start_time": "2023-01-16T11:06:47.730Z"
   },
   {
    "duration": 7,
    "start_time": "2023-01-16T11:06:48.557Z"
   },
   {
    "duration": 8,
    "start_time": "2023-01-16T11:06:50.134Z"
   },
   {
    "duration": 1521,
    "start_time": "2023-01-16T11:06:59.127Z"
   },
   {
    "duration": 361,
    "start_time": "2023-01-16T11:07:00.650Z"
   },
   {
    "duration": 17,
    "start_time": "2023-01-16T11:07:01.013Z"
   },
   {
    "duration": 26,
    "start_time": "2023-01-16T11:07:01.032Z"
   },
   {
    "duration": 27,
    "start_time": "2023-01-16T11:07:01.060Z"
   },
   {
    "duration": 51,
    "start_time": "2023-01-16T11:07:01.089Z"
   },
   {
    "duration": 25,
    "start_time": "2023-01-16T11:07:01.142Z"
   },
   {
    "duration": 39,
    "start_time": "2023-01-16T11:07:01.169Z"
   },
   {
    "duration": 39,
    "start_time": "2023-01-16T11:07:01.210Z"
   },
   {
    "duration": 353,
    "start_time": "2023-01-16T11:07:01.252Z"
   },
   {
    "duration": 648,
    "start_time": "2023-01-16T11:07:01.607Z"
   },
   {
    "duration": 668,
    "start_time": "2023-01-16T11:07:02.257Z"
   },
   {
    "duration": 15,
    "start_time": "2023-01-16T11:07:02.927Z"
   },
   {
    "duration": 14,
    "start_time": "2023-01-16T11:07:02.944Z"
   },
   {
    "duration": 38,
    "start_time": "2023-01-16T11:07:02.961Z"
   },
   {
    "duration": 30,
    "start_time": "2023-01-16T11:07:03.001Z"
   },
   {
    "duration": 33,
    "start_time": "2023-01-16T11:07:03.032Z"
   },
   {
    "duration": 54,
    "start_time": "2023-01-16T11:07:03.067Z"
   },
   {
    "duration": 349,
    "start_time": "2023-01-16T11:07:03.123Z"
   },
   {
    "duration": 800,
    "start_time": "2023-01-16T11:07:03.473Z"
   },
   {
    "duration": 1111,
    "start_time": "2023-01-16T11:07:04.278Z"
   },
   {
    "duration": 610,
    "start_time": "2023-01-16T11:07:05.391Z"
   },
   {
    "duration": 13,
    "start_time": "2023-01-16T11:07:06.003Z"
   },
   {
    "duration": 32,
    "start_time": "2023-01-16T11:07:06.017Z"
   },
   {
    "duration": 50,
    "start_time": "2023-01-16T11:07:06.051Z"
   },
   {
    "duration": 27,
    "start_time": "2023-01-16T11:07:06.103Z"
   },
   {
    "duration": 29,
    "start_time": "2023-01-16T11:07:06.132Z"
   },
   {
    "duration": 46,
    "start_time": "2023-01-16T11:07:06.165Z"
   },
   {
    "duration": 322,
    "start_time": "2023-01-16T11:07:06.213Z"
   },
   {
    "duration": 595,
    "start_time": "2023-01-16T11:07:06.537Z"
   },
   {
    "duration": 677,
    "start_time": "2023-01-16T11:07:07.133Z"
   },
   {
    "duration": 6,
    "start_time": "2023-01-16T11:07:07.811Z"
   },
   {
    "duration": 44,
    "start_time": "2023-01-16T11:07:07.819Z"
   },
   {
    "duration": 18,
    "start_time": "2023-01-16T11:07:07.865Z"
   },
   {
    "duration": 208,
    "start_time": "2023-01-16T11:07:07.886Z"
   },
   {
    "duration": 201,
    "start_time": "2023-01-16T11:07:08.096Z"
   },
   {
    "duration": 3,
    "start_time": "2023-01-16T11:07:08.299Z"
   },
   {
    "duration": 76,
    "start_time": "2023-01-16T11:07:08.303Z"
   },
   {
    "duration": 104,
    "start_time": "2023-01-16T11:07:08.381Z"
   },
   {
    "duration": 3,
    "start_time": "2023-01-16T11:07:08.487Z"
   },
   {
    "duration": 6,
    "start_time": "2023-01-16T11:07:08.492Z"
   },
   {
    "duration": 16,
    "start_time": "2023-01-16T11:07:08.499Z"
   },
   {
    "duration": 4,
    "start_time": "2023-01-16T11:07:08.517Z"
   },
   {
    "duration": 18,
    "start_time": "2023-01-16T11:07:08.523Z"
   },
   {
    "duration": 6,
    "start_time": "2023-01-16T11:07:08.543Z"
   },
   {
    "duration": 29,
    "start_time": "2023-01-16T11:07:08.551Z"
   },
   {
    "duration": 4,
    "start_time": "2023-01-16T11:07:08.582Z"
   },
   {
    "duration": 9,
    "start_time": "2023-01-16T11:07:31.498Z"
   },
   {
    "duration": 5,
    "start_time": "2023-01-16T11:07:38.450Z"
   },
   {
    "duration": 9,
    "start_time": "2023-01-16T11:07:40.069Z"
   },
   {
    "duration": 8,
    "start_time": "2023-01-16T11:07:40.595Z"
   },
   {
    "duration": 9,
    "start_time": "2023-01-16T11:07:41.121Z"
   },
   {
    "duration": 6,
    "start_time": "2023-01-16T11:19:36.218Z"
   },
   {
    "duration": 111,
    "start_time": "2023-01-16T11:19:59.853Z"
   },
   {
    "duration": 654,
    "start_time": "2023-01-16T11:20:06.086Z"
   },
   {
    "duration": 8,
    "start_time": "2023-01-16T11:20:37.172Z"
   },
   {
    "duration": 678,
    "start_time": "2023-01-16T11:20:37.622Z"
   },
   {
    "duration": 4,
    "start_time": "2023-01-16T11:20:55.403Z"
   },
   {
    "duration": 668,
    "start_time": "2023-01-16T11:20:55.779Z"
   },
   {
    "duration": 4,
    "start_time": "2023-01-16T11:22:02.894Z"
   },
   {
    "duration": 535,
    "start_time": "2023-01-16T11:22:03.343Z"
   },
   {
    "duration": 7,
    "start_time": "2023-01-16T11:22:14.116Z"
   },
   {
    "duration": 560,
    "start_time": "2023-01-16T11:22:14.641Z"
   },
   {
    "duration": 12,
    "start_time": "2023-01-16T11:25:04.643Z"
   },
   {
    "duration": 567,
    "start_time": "2023-01-16T11:25:04.942Z"
   },
   {
    "duration": 6,
    "start_time": "2023-01-16T11:25:36.303Z"
   },
   {
    "duration": 587,
    "start_time": "2023-01-16T11:25:36.904Z"
   },
   {
    "duration": 1679,
    "start_time": "2023-01-16T14:39:53.093Z"
   },
   {
    "duration": 1525,
    "start_time": "2023-01-16T14:39:54.775Z"
   },
   {
    "duration": 22,
    "start_time": "2023-01-16T14:39:56.303Z"
   },
   {
    "duration": 21,
    "start_time": "2023-01-16T14:39:56.326Z"
   },
   {
    "duration": 23,
    "start_time": "2023-01-16T14:39:56.350Z"
   },
   {
    "duration": 49,
    "start_time": "2023-01-16T14:39:56.375Z"
   },
   {
    "duration": 22,
    "start_time": "2023-01-16T14:39:56.427Z"
   },
   {
    "duration": 54,
    "start_time": "2023-01-16T14:39:56.450Z"
   },
   {
    "duration": 38,
    "start_time": "2023-01-16T14:39:56.505Z"
   },
   {
    "duration": 414,
    "start_time": "2023-01-16T14:39:56.545Z"
   },
   {
    "duration": 605,
    "start_time": "2023-01-16T14:39:56.960Z"
   },
   {
    "duration": 714,
    "start_time": "2023-01-16T14:39:57.567Z"
   },
   {
    "duration": 19,
    "start_time": "2023-01-16T14:39:58.283Z"
   },
   {
    "duration": 9,
    "start_time": "2023-01-16T14:39:58.306Z"
   },
   {
    "duration": 21,
    "start_time": "2023-01-16T14:39:58.317Z"
   },
   {
    "duration": 23,
    "start_time": "2023-01-16T14:39:58.340Z"
   },
   {
    "duration": 56,
    "start_time": "2023-01-16T14:39:58.365Z"
   },
   {
    "duration": 36,
    "start_time": "2023-01-16T14:39:58.423Z"
   },
   {
    "duration": 358,
    "start_time": "2023-01-16T14:39:58.461Z"
   },
   {
    "duration": 711,
    "start_time": "2023-01-16T14:39:58.821Z"
   },
   {
    "duration": 1244,
    "start_time": "2023-01-16T14:39:59.534Z"
   },
   {
    "duration": 642,
    "start_time": "2023-01-16T14:40:00.780Z"
   },
   {
    "duration": 16,
    "start_time": "2023-01-16T14:40:01.424Z"
   },
   {
    "duration": 61,
    "start_time": "2023-01-16T14:40:01.442Z"
   },
   {
    "duration": 95,
    "start_time": "2023-01-16T14:40:01.505Z"
   },
   {
    "duration": 67,
    "start_time": "2023-01-16T14:40:01.601Z"
   },
   {
    "duration": 101,
    "start_time": "2023-01-16T14:40:01.670Z"
   },
   {
    "duration": 78,
    "start_time": "2023-01-16T14:40:01.772Z"
   },
   {
    "duration": 368,
    "start_time": "2023-01-16T14:40:01.852Z"
   },
   {
    "duration": 687,
    "start_time": "2023-01-16T14:40:02.222Z"
   },
   {
    "duration": 817,
    "start_time": "2023-01-16T14:40:02.911Z"
   },
   {
    "duration": 6,
    "start_time": "2023-01-16T14:40:03.730Z"
   },
   {
    "duration": 38,
    "start_time": "2023-01-16T14:40:03.738Z"
   },
   {
    "duration": 223,
    "start_time": "2023-01-16T14:40:03.778Z"
   },
   {
    "duration": 292,
    "start_time": "2023-01-16T14:40:04.003Z"
   },
   {
    "duration": 197,
    "start_time": "2023-01-16T14:40:04.298Z"
   },
   {
    "duration": 5,
    "start_time": "2023-01-16T14:40:04.498Z"
   },
   {
    "duration": 100,
    "start_time": "2023-01-16T14:40:04.504Z"
   },
   {
    "duration": 12,
    "start_time": "2023-01-16T14:40:04.606Z"
   },
   {
    "duration": 4,
    "start_time": "2023-01-16T14:40:04.620Z"
   },
   {
    "duration": 3,
    "start_time": "2023-01-16T14:40:04.629Z"
   },
   {
    "duration": 8,
    "start_time": "2023-01-16T14:40:04.634Z"
   },
   {
    "duration": 4,
    "start_time": "2023-01-16T14:40:04.644Z"
   },
   {
    "duration": 11,
    "start_time": "2023-01-16T14:40:04.650Z"
   },
   {
    "duration": 39,
    "start_time": "2023-01-16T14:40:04.663Z"
   },
   {
    "duration": 9,
    "start_time": "2023-01-16T14:40:04.704Z"
   },
   {
    "duration": 6,
    "start_time": "2023-01-16T14:40:04.715Z"
   },
   {
    "duration": 703,
    "start_time": "2023-01-16T14:40:04.723Z"
   },
   {
    "duration": 5,
    "start_time": "2023-01-16T14:58:20.809Z"
   },
   {
    "duration": 128,
    "start_time": "2023-01-16T14:58:54.217Z"
   },
   {
    "duration": 4,
    "start_time": "2023-01-16T14:59:14.915Z"
   },
   {
    "duration": 18,
    "start_time": "2023-01-16T14:59:15.358Z"
   },
   {
    "duration": 6,
    "start_time": "2023-01-16T14:59:47.210Z"
   },
   {
    "duration": 18,
    "start_time": "2023-01-16T14:59:47.510Z"
   },
   {
    "duration": 4,
    "start_time": "2023-01-16T15:01:55.078Z"
   },
   {
    "duration": 14,
    "start_time": "2023-01-16T15:01:55.790Z"
   },
   {
    "duration": 9,
    "start_time": "2023-01-16T15:03:44.632Z"
   },
   {
    "duration": 3,
    "start_time": "2023-01-16T15:04:03.590Z"
   },
   {
    "duration": 4,
    "start_time": "2023-01-16T15:04:14.553Z"
   },
   {
    "duration": 13,
    "start_time": "2023-01-16T15:04:14.927Z"
   },
   {
    "duration": 831,
    "start_time": "2023-01-16T15:04:33.139Z"
   },
   {
    "duration": 1463,
    "start_time": "2023-01-16T15:04:44.078Z"
   },
   {
    "duration": 373,
    "start_time": "2023-01-16T15:04:45.543Z"
   },
   {
    "duration": 18,
    "start_time": "2023-01-16T15:04:45.919Z"
   },
   {
    "duration": 14,
    "start_time": "2023-01-16T15:04:45.939Z"
   },
   {
    "duration": 20,
    "start_time": "2023-01-16T15:04:45.955Z"
   },
   {
    "duration": 34,
    "start_time": "2023-01-16T15:04:45.997Z"
   },
   {
    "duration": 22,
    "start_time": "2023-01-16T15:04:46.034Z"
   },
   {
    "duration": 48,
    "start_time": "2023-01-16T15:04:46.058Z"
   },
   {
    "duration": 46,
    "start_time": "2023-01-16T15:04:46.108Z"
   },
   {
    "duration": 390,
    "start_time": "2023-01-16T15:04:46.157Z"
   },
   {
    "duration": 680,
    "start_time": "2023-01-16T15:04:46.549Z"
   },
   {
    "duration": 733,
    "start_time": "2023-01-16T15:04:47.231Z"
   },
   {
    "duration": 16,
    "start_time": "2023-01-16T15:04:47.966Z"
   },
   {
    "duration": 11,
    "start_time": "2023-01-16T15:04:47.998Z"
   },
   {
    "duration": 38,
    "start_time": "2023-01-16T15:04:48.011Z"
   },
   {
    "duration": 38,
    "start_time": "2023-01-16T15:04:48.052Z"
   },
   {
    "duration": 62,
    "start_time": "2023-01-16T15:04:48.092Z"
   },
   {
    "duration": 71,
    "start_time": "2023-01-16T15:04:48.156Z"
   },
   {
    "duration": 320,
    "start_time": "2023-01-16T15:04:48.228Z"
   },
   {
    "duration": 744,
    "start_time": "2023-01-16T15:04:48.550Z"
   },
   {
    "duration": 1276,
    "start_time": "2023-01-16T15:04:49.296Z"
   },
   {
    "duration": 722,
    "start_time": "2023-01-16T15:04:50.574Z"
   },
   {
    "duration": 16,
    "start_time": "2023-01-16T15:04:51.299Z"
   },
   {
    "duration": 11,
    "start_time": "2023-01-16T15:04:51.317Z"
   },
   {
    "duration": 24,
    "start_time": "2023-01-16T15:04:51.330Z"
   },
   {
    "duration": 49,
    "start_time": "2023-01-16T15:04:51.356Z"
   },
   {
    "duration": 37,
    "start_time": "2023-01-16T15:04:51.407Z"
   },
   {
    "duration": 51,
    "start_time": "2023-01-16T15:04:51.446Z"
   },
   {
    "duration": 330,
    "start_time": "2023-01-16T15:04:51.499Z"
   },
   {
    "duration": 630,
    "start_time": "2023-01-16T15:04:51.831Z"
   },
   {
    "duration": 691,
    "start_time": "2023-01-16T15:04:52.463Z"
   },
   {
    "duration": 6,
    "start_time": "2023-01-16T15:04:53.156Z"
   },
   {
    "duration": 43,
    "start_time": "2023-01-16T15:04:53.163Z"
   },
   {
    "duration": 16,
    "start_time": "2023-01-16T15:04:53.208Z"
   },
   {
    "duration": 189,
    "start_time": "2023-01-16T15:04:53.226Z"
   },
   {
    "duration": 192,
    "start_time": "2023-01-16T15:04:53.417Z"
   },
   {
    "duration": 3,
    "start_time": "2023-01-16T15:04:53.611Z"
   },
   {
    "duration": 94,
    "start_time": "2023-01-16T15:04:53.615Z"
   },
   {
    "duration": 96,
    "start_time": "2023-01-16T15:04:53.712Z"
   },
   {
    "duration": 4,
    "start_time": "2023-01-16T15:04:53.810Z"
   },
   {
    "duration": 8,
    "start_time": "2023-01-16T15:04:53.818Z"
   },
   {
    "duration": 9,
    "start_time": "2023-01-16T15:04:53.828Z"
   },
   {
    "duration": 6,
    "start_time": "2023-01-16T15:04:53.839Z"
   },
   {
    "duration": 825,
    "start_time": "2023-01-16T15:04:53.847Z"
   },
   {
    "duration": 5,
    "start_time": "2023-01-16T15:04:54.674Z"
   },
   {
    "duration": 22,
    "start_time": "2023-01-16T15:04:54.681Z"
   },
   {
    "duration": 9,
    "start_time": "2023-01-16T15:04:54.705Z"
   },
   {
    "duration": 9,
    "start_time": "2023-01-16T15:04:54.716Z"
   },
   {
    "duration": 6,
    "start_time": "2023-01-16T15:05:16.433Z"
   },
   {
    "duration": 881,
    "start_time": "2023-01-16T15:05:17.485Z"
   },
   {
    "duration": 7,
    "start_time": "2023-01-16T15:05:33.304Z"
   },
   {
    "duration": 906,
    "start_time": "2023-01-16T15:05:33.919Z"
   },
   {
    "duration": 5,
    "start_time": "2023-01-16T15:07:10.142Z"
   },
   {
    "duration": 840,
    "start_time": "2023-01-16T15:07:10.478Z"
   },
   {
    "duration": 6,
    "start_time": "2023-01-16T15:12:10.821Z"
   },
   {
    "duration": 856,
    "start_time": "2023-01-16T15:12:11.189Z"
   },
   {
    "duration": 5,
    "start_time": "2023-01-16T15:13:43.611Z"
   },
   {
    "duration": 870,
    "start_time": "2023-01-16T15:13:44.738Z"
   },
   {
    "duration": 5,
    "start_time": "2023-01-16T15:14:00.416Z"
   },
   {
    "duration": 858,
    "start_time": "2023-01-16T15:14:01.316Z"
   },
   {
    "duration": 845,
    "start_time": "2023-01-16T15:15:48.176Z"
   },
   {
    "duration": 820,
    "start_time": "2023-01-16T15:16:08.181Z"
   },
   {
    "duration": 859,
    "start_time": "2023-01-16T15:16:43.820Z"
   },
   {
    "duration": 6,
    "start_time": "2023-01-16T15:17:21.030Z"
   },
   {
    "duration": 887,
    "start_time": "2023-01-16T15:17:22.156Z"
   },
   {
    "duration": 860,
    "start_time": "2023-01-16T15:17:23.923Z"
   },
   {
    "duration": 868,
    "start_time": "2023-01-16T15:17:25.049Z"
   },
   {
    "duration": 6,
    "start_time": "2023-01-16T15:17:51.807Z"
   },
   {
    "duration": 832,
    "start_time": "2023-01-16T15:17:52.598Z"
   },
   {
    "duration": 856,
    "start_time": "2023-01-16T15:17:53.432Z"
   },
   {
    "duration": 858,
    "start_time": "2023-01-16T15:17:57.921Z"
   },
   {
    "duration": 5,
    "start_time": "2023-01-16T15:18:23.530Z"
   },
   {
    "duration": 875,
    "start_time": "2023-01-16T15:18:24.694Z"
   },
   {
    "duration": 5,
    "start_time": "2023-01-16T15:18:49.150Z"
   },
   {
    "duration": 892,
    "start_time": "2023-01-16T15:18:50.013Z"
   },
   {
    "duration": 6,
    "start_time": "2023-01-16T15:18:56.421Z"
   },
   {
    "duration": 859,
    "start_time": "2023-01-16T15:18:57.719Z"
   },
   {
    "duration": 5,
    "start_time": "2023-01-16T15:19:13.386Z"
   },
   {
    "duration": 926,
    "start_time": "2023-01-16T15:19:14.438Z"
   },
   {
    "duration": 5,
    "start_time": "2023-01-16T15:19:22.897Z"
   },
   {
    "duration": 856,
    "start_time": "2023-01-16T15:19:23.685Z"
   },
   {
    "duration": 5,
    "start_time": "2023-01-16T15:19:37.088Z"
   },
   {
    "duration": 950,
    "start_time": "2023-01-16T15:19:38.516Z"
   },
   {
    "duration": 7,
    "start_time": "2023-01-16T15:20:56.416Z"
   },
   {
    "duration": 892,
    "start_time": "2023-01-16T15:20:57.428Z"
   },
   {
    "duration": 920,
    "start_time": "2023-01-16T15:21:05.697Z"
   },
   {
    "duration": 868,
    "start_time": "2023-01-16T15:21:06.619Z"
   },
   {
    "duration": 843,
    "start_time": "2023-01-16T15:21:08.354Z"
   },
   {
    "duration": 5,
    "start_time": "2023-01-16T15:21:18.862Z"
   },
   {
    "duration": 879,
    "start_time": "2023-01-16T15:21:19.687Z"
   },
   {
    "duration": 6,
    "start_time": "2023-01-16T15:21:39.346Z"
   },
   {
    "duration": 860,
    "start_time": "2023-01-16T15:21:40.096Z"
   },
   {
    "duration": 884,
    "start_time": "2023-01-16T15:21:44.705Z"
   },
   {
    "duration": 5,
    "start_time": "2023-01-16T15:22:09.178Z"
   },
   {
    "duration": 870,
    "start_time": "2023-01-16T15:22:10.081Z"
   },
   {
    "duration": 881,
    "start_time": "2023-01-16T15:22:18.301Z"
   },
   {
    "duration": 5,
    "start_time": "2023-01-16T15:22:30.708Z"
   },
   {
    "duration": 877,
    "start_time": "2023-01-16T15:22:31.909Z"
   },
   {
    "duration": 947,
    "start_time": "2023-01-16T15:22:35.904Z"
   },
   {
    "duration": 878,
    "start_time": "2023-01-16T15:22:38.542Z"
   },
   {
    "duration": 5,
    "start_time": "2023-01-16T15:23:11.928Z"
   },
   {
    "duration": 839,
    "start_time": "2023-01-16T15:23:12.837Z"
   },
   {
    "duration": 905,
    "start_time": "2023-01-16T15:23:15.986Z"
   },
   {
    "duration": 885,
    "start_time": "2023-01-16T15:23:19.685Z"
   },
   {
    "duration": 5,
    "start_time": "2023-01-16T15:26:19.708Z"
   },
   {
    "duration": 858,
    "start_time": "2023-01-16T15:26:20.722Z"
   },
   {
    "duration": 874,
    "start_time": "2023-01-16T15:26:23.128Z"
   },
   {
    "duration": 906,
    "start_time": "2023-01-16T15:26:25.614Z"
   },
   {
    "duration": 6,
    "start_time": "2023-01-16T15:26:48.154Z"
   },
   {
    "duration": 841,
    "start_time": "2023-01-16T15:26:49.393Z"
   },
   {
    "duration": 859,
    "start_time": "2023-01-16T15:26:50.294Z"
   },
   {
    "duration": 848,
    "start_time": "2023-01-16T15:26:51.197Z"
   },
   {
    "duration": 6,
    "start_time": "2023-01-16T15:28:26.430Z"
   },
   {
    "duration": 907,
    "start_time": "2023-01-16T15:28:27.370Z"
   },
   {
    "duration": 857,
    "start_time": "2023-01-16T15:28:28.279Z"
   },
   {
    "duration": 851,
    "start_time": "2023-01-16T15:28:29.138Z"
   },
   {
    "duration": 1312,
    "start_time": "2023-01-16T15:28:40.550Z"
   },
   {
    "duration": 375,
    "start_time": "2023-01-16T15:28:41.864Z"
   },
   {
    "duration": 16,
    "start_time": "2023-01-16T15:28:42.241Z"
   },
   {
    "duration": 13,
    "start_time": "2023-01-16T15:28:42.260Z"
   },
   {
    "duration": 37,
    "start_time": "2023-01-16T15:28:42.275Z"
   },
   {
    "duration": 25,
    "start_time": "2023-01-16T15:28:42.314Z"
   },
   {
    "duration": 14,
    "start_time": "2023-01-16T15:28:42.341Z"
   },
   {
    "duration": 64,
    "start_time": "2023-01-16T15:28:42.357Z"
   },
   {
    "duration": 40,
    "start_time": "2023-01-16T15:28:42.422Z"
   },
   {
    "duration": 377,
    "start_time": "2023-01-16T15:28:42.464Z"
   },
   {
    "duration": 645,
    "start_time": "2023-01-16T15:28:42.843Z"
   },
   {
    "duration": 702,
    "start_time": "2023-01-16T15:28:43.491Z"
   },
   {
    "duration": 14,
    "start_time": "2023-01-16T15:28:44.196Z"
   },
   {
    "duration": 9,
    "start_time": "2023-01-16T15:28:44.214Z"
   },
   {
    "duration": 24,
    "start_time": "2023-01-16T15:28:44.225Z"
   },
   {
    "duration": 46,
    "start_time": "2023-01-16T15:28:44.251Z"
   },
   {
    "duration": 33,
    "start_time": "2023-01-16T15:28:44.298Z"
   },
   {
    "duration": 36,
    "start_time": "2023-01-16T15:28:44.333Z"
   },
   {
    "duration": 359,
    "start_time": "2023-01-16T15:28:44.371Z"
   },
   {
    "duration": 762,
    "start_time": "2023-01-16T15:28:44.732Z"
   },
   {
    "duration": 1355,
    "start_time": "2023-01-16T15:28:45.496Z"
   },
   {
    "duration": 623,
    "start_time": "2023-01-16T15:28:46.853Z"
   },
   {
    "duration": 19,
    "start_time": "2023-01-16T15:28:47.477Z"
   },
   {
    "duration": 9,
    "start_time": "2023-01-16T15:28:47.498Z"
   },
   {
    "duration": 24,
    "start_time": "2023-01-16T15:28:47.508Z"
   },
   {
    "duration": 38,
    "start_time": "2023-01-16T15:28:47.533Z"
   },
   {
    "duration": 63,
    "start_time": "2023-01-16T15:28:47.572Z"
   },
   {
    "duration": 40,
    "start_time": "2023-01-16T15:28:47.637Z"
   },
   {
    "duration": 337,
    "start_time": "2023-01-16T15:28:47.679Z"
   },
   {
    "duration": 561,
    "start_time": "2023-01-16T15:28:48.018Z"
   },
   {
    "duration": 802,
    "start_time": "2023-01-16T15:28:48.580Z"
   },
   {
    "duration": 12,
    "start_time": "2023-01-16T15:28:49.384Z"
   },
   {
    "duration": 32,
    "start_time": "2023-01-16T15:28:49.398Z"
   },
   {
    "duration": 67,
    "start_time": "2023-01-16T15:28:49.432Z"
   },
   {
    "duration": 121,
    "start_time": "2023-01-16T15:28:49.501Z"
   },
   {
    "duration": 197,
    "start_time": "2023-01-16T15:28:49.624Z"
   },
   {
    "duration": 5,
    "start_time": "2023-01-16T15:28:49.822Z"
   },
   {
    "duration": 107,
    "start_time": "2023-01-16T15:28:49.897Z"
   },
   {
    "duration": 18,
    "start_time": "2023-01-16T15:28:50.006Z"
   },
   {
    "duration": 8,
    "start_time": "2023-01-16T15:28:50.027Z"
   },
   {
    "duration": 20,
    "start_time": "2023-01-16T15:28:50.041Z"
   },
   {
    "duration": 14,
    "start_time": "2023-01-16T15:28:50.063Z"
   },
   {
    "duration": 14,
    "start_time": "2023-01-16T15:28:50.079Z"
   },
   {
    "duration": 901,
    "start_time": "2023-01-16T15:28:50.095Z"
   },
   {
    "duration": 891,
    "start_time": "2023-01-16T15:28:50.998Z"
   },
   {
    "duration": 877,
    "start_time": "2023-01-16T15:28:51.891Z"
   },
   {
    "duration": 5,
    "start_time": "2023-01-16T15:28:52.770Z"
   },
   {
    "duration": 24,
    "start_time": "2023-01-16T15:28:52.778Z"
   },
   {
    "duration": 20,
    "start_time": "2023-01-16T15:28:52.804Z"
   },
   {
    "duration": 6,
    "start_time": "2023-01-16T15:28:52.826Z"
   },
   {
    "duration": 6,
    "start_time": "2023-01-16T15:29:49.889Z"
   },
   {
    "duration": 864,
    "start_time": "2023-01-16T15:29:50.716Z"
   },
   {
    "duration": 870,
    "start_time": "2023-01-16T15:29:51.582Z"
   },
   {
    "duration": 889,
    "start_time": "2023-01-16T15:29:52.454Z"
   },
   {
    "duration": 6,
    "start_time": "2023-01-16T15:30:07.350Z"
   },
   {
    "duration": 859,
    "start_time": "2023-01-16T15:30:08.476Z"
   },
   {
    "duration": 857,
    "start_time": "2023-01-16T15:30:09.376Z"
   },
   {
    "duration": 846,
    "start_time": "2023-01-16T15:30:17.383Z"
   },
   {
    "duration": 54,
    "start_time": "2023-01-16T15:32:03.728Z"
   },
   {
    "duration": 6,
    "start_time": "2023-01-16T15:32:33.415Z"
   },
   {
    "duration": 840,
    "start_time": "2023-01-16T15:32:34.616Z"
   },
   {
    "duration": 845,
    "start_time": "2023-01-16T15:32:35.458Z"
   },
   {
    "duration": 911,
    "start_time": "2023-01-16T15:32:36.305Z"
   },
   {
    "duration": 1408,
    "start_time": "2023-01-16T15:33:00.333Z"
   },
   {
    "duration": 378,
    "start_time": "2023-01-16T15:33:01.743Z"
   },
   {
    "duration": 15,
    "start_time": "2023-01-16T15:33:02.123Z"
   },
   {
    "duration": 118,
    "start_time": "2023-01-16T15:33:02.139Z"
   },
   {
    "duration": 19,
    "start_time": "2023-01-16T15:33:02.259Z"
   },
   {
    "duration": 31,
    "start_time": "2023-01-16T15:33:02.280Z"
   },
   {
    "duration": 14,
    "start_time": "2023-01-16T15:33:02.313Z"
   },
   {
    "duration": 33,
    "start_time": "2023-01-16T15:33:02.329Z"
   },
   {
    "duration": 54,
    "start_time": "2023-01-16T15:33:02.363Z"
   },
   {
    "duration": 330,
    "start_time": "2023-01-16T15:33:02.419Z"
   },
   {
    "duration": 655,
    "start_time": "2023-01-16T15:33:02.751Z"
   },
   {
    "duration": 675,
    "start_time": "2023-01-16T15:33:03.408Z"
   },
   {
    "duration": 21,
    "start_time": "2023-01-16T15:33:04.085Z"
   },
   {
    "duration": 10,
    "start_time": "2023-01-16T15:33:04.109Z"
   },
   {
    "duration": 32,
    "start_time": "2023-01-16T15:33:04.120Z"
   },
   {
    "duration": 28,
    "start_time": "2023-01-16T15:33:04.153Z"
   },
   {
    "duration": 46,
    "start_time": "2023-01-16T15:33:04.182Z"
   },
   {
    "duration": 38,
    "start_time": "2023-01-16T15:33:04.229Z"
   },
   {
    "duration": 343,
    "start_time": "2023-01-16T15:33:04.269Z"
   },
   {
    "duration": 666,
    "start_time": "2023-01-16T15:33:04.613Z"
   },
   {
    "duration": 1234,
    "start_time": "2023-01-16T15:33:05.281Z"
   },
   {
    "duration": 583,
    "start_time": "2023-01-16T15:33:06.516Z"
   },
   {
    "duration": 14,
    "start_time": "2023-01-16T15:33:07.101Z"
   },
   {
    "duration": 9,
    "start_time": "2023-01-16T15:33:07.117Z"
   },
   {
    "duration": 20,
    "start_time": "2023-01-16T15:33:07.128Z"
   },
   {
    "duration": 23,
    "start_time": "2023-01-16T15:33:07.149Z"
   },
   {
    "duration": 28,
    "start_time": "2023-01-16T15:33:07.196Z"
   },
   {
    "duration": 36,
    "start_time": "2023-01-16T15:33:07.226Z"
   },
   {
    "duration": 369,
    "start_time": "2023-01-16T15:33:07.264Z"
   },
   {
    "duration": 623,
    "start_time": "2023-01-16T15:33:07.635Z"
   },
   {
    "duration": 701,
    "start_time": "2023-01-16T15:33:08.260Z"
   },
   {
    "duration": 6,
    "start_time": "2023-01-16T15:33:08.963Z"
   },
   {
    "duration": 37,
    "start_time": "2023-01-16T15:33:08.971Z"
   },
   {
    "duration": 14,
    "start_time": "2023-01-16T15:33:09.010Z"
   },
   {
    "duration": 193,
    "start_time": "2023-01-16T15:33:09.026Z"
   },
   {
    "duration": 196,
    "start_time": "2023-01-16T15:33:09.221Z"
   },
   {
    "duration": 5,
    "start_time": "2023-01-16T15:33:09.419Z"
   },
   {
    "duration": 3,
    "start_time": "2023-01-16T15:33:09.496Z"
   },
   {
    "duration": 100,
    "start_time": "2023-01-16T15:33:09.502Z"
   },
   {
    "duration": 5,
    "start_time": "2023-01-16T15:33:09.604Z"
   },
   {
    "duration": 4,
    "start_time": "2023-01-16T15:33:09.612Z"
   },
   {
    "duration": 8,
    "start_time": "2023-01-16T15:33:09.617Z"
   },
   {
    "duration": 6,
    "start_time": "2023-01-16T15:33:09.626Z"
   },
   {
    "duration": 954,
    "start_time": "2023-01-16T15:33:09.634Z"
   },
   {
    "duration": 880,
    "start_time": "2023-01-16T15:33:10.597Z"
   },
   {
    "duration": 879,
    "start_time": "2023-01-16T15:33:11.478Z"
   },
   {
    "duration": 5,
    "start_time": "2023-01-16T15:33:12.359Z"
   },
   {
    "duration": 11,
    "start_time": "2023-01-16T15:33:12.366Z"
   },
   {
    "duration": 19,
    "start_time": "2023-01-16T15:33:12.379Z"
   },
   {
    "duration": 6,
    "start_time": "2023-01-16T15:33:12.400Z"
   },
   {
    "duration": 1454,
    "start_time": "2023-01-16T15:34:25.300Z"
   },
   {
    "duration": 356,
    "start_time": "2023-01-16T15:34:26.756Z"
   },
   {
    "duration": 17,
    "start_time": "2023-01-16T15:34:27.113Z"
   },
   {
    "duration": 13,
    "start_time": "2023-01-16T15:34:27.132Z"
   },
   {
    "duration": 40,
    "start_time": "2023-01-16T15:34:27.147Z"
   },
   {
    "duration": 28,
    "start_time": "2023-01-16T15:34:27.188Z"
   },
   {
    "duration": 13,
    "start_time": "2023-01-16T15:34:27.217Z"
   },
   {
    "duration": 28,
    "start_time": "2023-01-16T15:34:27.232Z"
   },
   {
    "duration": 56,
    "start_time": "2023-01-16T15:34:27.262Z"
   },
   {
    "duration": 315,
    "start_time": "2023-01-16T15:34:27.320Z"
   },
   {
    "duration": 632,
    "start_time": "2023-01-16T15:34:27.637Z"
   },
   {
    "duration": 680,
    "start_time": "2023-01-16T15:34:28.271Z"
   },
   {
    "duration": 15,
    "start_time": "2023-01-16T15:34:28.954Z"
   },
   {
    "duration": 8,
    "start_time": "2023-01-16T15:34:28.972Z"
   },
   {
    "duration": 19,
    "start_time": "2023-01-16T15:34:28.996Z"
   },
   {
    "duration": 25,
    "start_time": "2023-01-16T15:34:29.017Z"
   },
   {
    "duration": 27,
    "start_time": "2023-01-16T15:34:29.043Z"
   },
   {
    "duration": 50,
    "start_time": "2023-01-16T15:34:29.072Z"
   },
   {
    "duration": 307,
    "start_time": "2023-01-16T15:34:29.124Z"
   },
   {
    "duration": 617,
    "start_time": "2023-01-16T15:34:29.433Z"
   },
   {
    "duration": 1189,
    "start_time": "2023-01-16T15:34:30.051Z"
   },
   {
    "duration": 623,
    "start_time": "2023-01-16T15:34:31.242Z"
   },
   {
    "duration": 14,
    "start_time": "2023-01-16T15:34:31.866Z"
   },
   {
    "duration": 28,
    "start_time": "2023-01-16T15:34:31.881Z"
   },
   {
    "duration": 32,
    "start_time": "2023-01-16T15:34:31.911Z"
   },
   {
    "duration": 25,
    "start_time": "2023-01-16T15:34:31.946Z"
   },
   {
    "duration": 26,
    "start_time": "2023-01-16T15:34:31.973Z"
   },
   {
    "duration": 34,
    "start_time": "2023-01-16T15:34:32.002Z"
   },
   {
    "duration": 381,
    "start_time": "2023-01-16T15:34:32.038Z"
   },
   {
    "duration": 627,
    "start_time": "2023-01-16T15:34:32.422Z"
   },
   {
    "duration": 708,
    "start_time": "2023-01-16T15:34:33.051Z"
   },
   {
    "duration": 6,
    "start_time": "2023-01-16T15:34:33.761Z"
   },
   {
    "duration": 35,
    "start_time": "2023-01-16T15:34:33.768Z"
   },
   {
    "duration": 12,
    "start_time": "2023-01-16T15:34:33.805Z"
   },
   {
    "duration": 213,
    "start_time": "2023-01-16T15:34:33.819Z"
   },
   {
    "duration": 188,
    "start_time": "2023-01-16T15:34:34.034Z"
   },
   {
    "duration": 4,
    "start_time": "2023-01-16T15:34:34.301Z"
   },
   {
    "duration": 7,
    "start_time": "2023-01-16T15:34:34.397Z"
   },
   {
    "duration": 12,
    "start_time": "2023-01-16T15:34:34.405Z"
   },
   {
    "duration": 6,
    "start_time": "2023-01-16T15:34:34.419Z"
   },
   {
    "duration": 3,
    "start_time": "2023-01-16T15:34:34.429Z"
   },
   {
    "duration": 9,
    "start_time": "2023-01-16T15:34:34.433Z"
   },
   {
    "duration": 8,
    "start_time": "2023-01-16T15:34:34.443Z"
   },
   {
    "duration": 935,
    "start_time": "2023-01-16T15:34:34.452Z"
   },
   {
    "duration": 938,
    "start_time": "2023-01-16T15:34:35.389Z"
   },
   {
    "duration": 972,
    "start_time": "2023-01-16T15:34:36.331Z"
   },
   {
    "duration": 5,
    "start_time": "2023-01-16T15:34:37.305Z"
   },
   {
    "duration": 9,
    "start_time": "2023-01-16T15:34:37.312Z"
   },
   {
    "duration": 9,
    "start_time": "2023-01-16T15:34:37.323Z"
   },
   {
    "duration": 7,
    "start_time": "2023-01-16T15:34:37.334Z"
   },
   {
    "duration": 5,
    "start_time": "2023-01-16T15:48:13.820Z"
   },
   {
    "duration": 3,
    "start_time": "2023-01-16T15:48:15.828Z"
   },
   {
    "duration": 4,
    "start_time": "2023-01-16T15:48:16.589Z"
   },
   {
    "duration": 5,
    "start_time": "2023-01-16T15:48:35.167Z"
   },
   {
    "duration": 6,
    "start_time": "2023-01-16T15:49:29.104Z"
   },
   {
    "duration": 3,
    "start_time": "2023-01-16T15:49:29.552Z"
   },
   {
    "duration": 3,
    "start_time": "2023-01-16T15:49:29.975Z"
   },
   {
    "duration": 4,
    "start_time": "2023-01-16T15:49:36.661Z"
   },
   {
    "duration": 5,
    "start_time": "2023-01-16T15:50:00.799Z"
   },
   {
    "duration": 3,
    "start_time": "2023-01-16T15:50:01.137Z"
   },
   {
    "duration": 4,
    "start_time": "2023-01-16T15:50:01.441Z"
   },
   {
    "duration": 4,
    "start_time": "2023-01-16T15:50:01.730Z"
   },
   {
    "duration": 115,
    "start_time": "2023-01-16T15:50:36.182Z"
   },
   {
    "duration": 7,
    "start_time": "2023-01-16T15:51:19.126Z"
   },
   {
    "duration": 5,
    "start_time": "2023-01-16T15:51:58.992Z"
   },
   {
    "duration": 4,
    "start_time": "2023-01-16T15:52:23.643Z"
   },
   {
    "duration": 4,
    "start_time": "2023-01-16T15:52:46.184Z"
   },
   {
    "duration": 1330,
    "start_time": "2023-01-16T15:53:49.630Z"
   },
   {
    "duration": 364,
    "start_time": "2023-01-16T15:53:50.962Z"
   },
   {
    "duration": 16,
    "start_time": "2023-01-16T15:53:51.328Z"
   },
   {
    "duration": 16,
    "start_time": "2023-01-16T15:53:51.345Z"
   },
   {
    "duration": 36,
    "start_time": "2023-01-16T15:53:51.364Z"
   },
   {
    "duration": 34,
    "start_time": "2023-01-16T15:53:51.401Z"
   },
   {
    "duration": 16,
    "start_time": "2023-01-16T15:53:51.437Z"
   },
   {
    "duration": 49,
    "start_time": "2023-01-16T15:53:51.455Z"
   },
   {
    "duration": 37,
    "start_time": "2023-01-16T15:53:51.506Z"
   },
   {
    "duration": 396,
    "start_time": "2023-01-16T15:53:51.545Z"
   },
   {
    "duration": 673,
    "start_time": "2023-01-16T15:53:51.943Z"
   },
   {
    "duration": 635,
    "start_time": "2023-01-16T15:53:52.618Z"
   },
   {
    "duration": 15,
    "start_time": "2023-01-16T15:53:53.255Z"
   },
   {
    "duration": 24,
    "start_time": "2023-01-16T15:53:53.274Z"
   },
   {
    "duration": 26,
    "start_time": "2023-01-16T15:53:53.300Z"
   },
   {
    "duration": 35,
    "start_time": "2023-01-16T15:53:53.328Z"
   },
   {
    "duration": 30,
    "start_time": "2023-01-16T15:53:53.365Z"
   },
   {
    "duration": 36,
    "start_time": "2023-01-16T15:53:53.397Z"
   },
   {
    "duration": 325,
    "start_time": "2023-01-16T15:53:53.434Z"
   },
   {
    "duration": 716,
    "start_time": "2023-01-16T15:53:53.761Z"
   },
   {
    "duration": 1175,
    "start_time": "2023-01-16T15:53:54.479Z"
   },
   {
    "duration": 630,
    "start_time": "2023-01-16T15:53:55.656Z"
   },
   {
    "duration": 17,
    "start_time": "2023-01-16T15:53:56.288Z"
   },
   {
    "duration": 9,
    "start_time": "2023-01-16T15:53:56.307Z"
   },
   {
    "duration": 21,
    "start_time": "2023-01-16T15:53:56.318Z"
   },
   {
    "duration": 23,
    "start_time": "2023-01-16T15:53:56.341Z"
   },
   {
    "duration": 51,
    "start_time": "2023-01-16T15:53:56.366Z"
   },
   {
    "duration": 33,
    "start_time": "2023-01-16T15:53:56.419Z"
   },
   {
    "duration": 358,
    "start_time": "2023-01-16T15:53:56.453Z"
   },
   {
    "duration": 730,
    "start_time": "2023-01-16T15:53:56.813Z"
   },
   {
    "duration": 730,
    "start_time": "2023-01-16T15:53:57.545Z"
   },
   {
    "duration": 6,
    "start_time": "2023-01-16T15:53:58.277Z"
   },
   {
    "duration": 37,
    "start_time": "2023-01-16T15:53:58.285Z"
   },
   {
    "duration": 16,
    "start_time": "2023-01-16T15:53:58.324Z"
   },
   {
    "duration": 125,
    "start_time": "2023-01-16T15:53:58.396Z"
   },
   {
    "duration": 195,
    "start_time": "2023-01-16T15:53:58.525Z"
   },
   {
    "duration": 5,
    "start_time": "2023-01-16T15:53:58.722Z"
   },
   {
    "duration": 167,
    "start_time": "2023-01-16T15:53:58.729Z"
   },
   {
    "duration": 17,
    "start_time": "2023-01-16T15:53:58.898Z"
   },
   {
    "duration": 8,
    "start_time": "2023-01-16T15:53:58.917Z"
   },
   {
    "duration": 6,
    "start_time": "2023-01-16T15:53:58.929Z"
   },
   {
    "duration": 6,
    "start_time": "2023-01-16T15:53:58.937Z"
   },
   {
    "duration": 6,
    "start_time": "2023-01-16T15:53:58.944Z"
   },
   {
    "duration": 8,
    "start_time": "2023-01-16T15:53:58.951Z"
   },
   {
    "duration": 888,
    "start_time": "2023-01-16T15:53:58.961Z"
   },
   {
    "duration": 894,
    "start_time": "2023-01-16T15:53:59.851Z"
   },
   {
    "duration": 850,
    "start_time": "2023-01-16T15:54:00.747Z"
   },
   {
    "duration": 1364,
    "start_time": "2023-01-16T15:57:15.718Z"
   },
   {
    "duration": 380,
    "start_time": "2023-01-16T15:57:17.084Z"
   },
   {
    "duration": 15,
    "start_time": "2023-01-16T15:57:17.465Z"
   },
   {
    "duration": 28,
    "start_time": "2023-01-16T15:57:17.482Z"
   },
   {
    "duration": 22,
    "start_time": "2023-01-16T15:57:17.513Z"
   },
   {
    "duration": 23,
    "start_time": "2023-01-16T15:57:17.537Z"
   },
   {
    "duration": 14,
    "start_time": "2023-01-16T15:57:17.562Z"
   },
   {
    "duration": 31,
    "start_time": "2023-01-16T15:57:17.597Z"
   },
   {
    "duration": 38,
    "start_time": "2023-01-16T15:57:17.629Z"
   },
   {
    "duration": 383,
    "start_time": "2023-01-16T15:57:17.670Z"
   },
   {
    "duration": 607,
    "start_time": "2023-01-16T15:57:18.055Z"
   },
   {
    "duration": 726,
    "start_time": "2023-01-16T15:57:18.664Z"
   },
   {
    "duration": 14,
    "start_time": "2023-01-16T15:57:19.391Z"
   },
   {
    "duration": 9,
    "start_time": "2023-01-16T15:57:19.407Z"
   },
   {
    "duration": 21,
    "start_time": "2023-01-16T15:57:19.418Z"
   },
   {
    "duration": 22,
    "start_time": "2023-01-16T15:57:19.440Z"
   },
   {
    "duration": 60,
    "start_time": "2023-01-16T15:57:19.464Z"
   },
   {
    "duration": 34,
    "start_time": "2023-01-16T15:57:19.525Z"
   },
   {
    "duration": 348,
    "start_time": "2023-01-16T15:57:19.561Z"
   },
   {
    "duration": 651,
    "start_time": "2023-01-16T15:57:19.911Z"
   },
   {
    "duration": 1192,
    "start_time": "2023-01-16T15:57:20.564Z"
   },
   {
    "duration": 655,
    "start_time": "2023-01-16T15:57:21.758Z"
   },
   {
    "duration": 15,
    "start_time": "2023-01-16T15:57:22.415Z"
   },
   {
    "duration": 9,
    "start_time": "2023-01-16T15:57:22.432Z"
   },
   {
    "duration": 19,
    "start_time": "2023-01-16T15:57:22.443Z"
   },
   {
    "duration": 42,
    "start_time": "2023-01-16T15:57:22.464Z"
   },
   {
    "duration": 28,
    "start_time": "2023-01-16T15:57:22.508Z"
   },
   {
    "duration": 36,
    "start_time": "2023-01-16T15:57:22.540Z"
   },
   {
    "duration": 341,
    "start_time": "2023-01-16T15:57:22.597Z"
   },
   {
    "duration": 636,
    "start_time": "2023-01-16T15:57:22.940Z"
   },
   {
    "duration": 710,
    "start_time": "2023-01-16T15:57:23.578Z"
   },
   {
    "duration": 10,
    "start_time": "2023-01-16T15:57:24.289Z"
   },
   {
    "duration": 31,
    "start_time": "2023-01-16T15:57:24.301Z"
   },
   {
    "duration": 63,
    "start_time": "2023-01-16T15:57:24.333Z"
   },
   {
    "duration": 128,
    "start_time": "2023-01-16T15:57:24.398Z"
   },
   {
    "duration": 192,
    "start_time": "2023-01-16T15:57:24.528Z"
   },
   {
    "duration": 77,
    "start_time": "2023-01-16T15:57:24.722Z"
   },
   {
    "duration": 97,
    "start_time": "2023-01-16T15:57:24.801Z"
   },
   {
    "duration": 10,
    "start_time": "2023-01-16T15:57:24.900Z"
   },
   {
    "duration": 8,
    "start_time": "2023-01-16T15:57:24.912Z"
   },
   {
    "duration": 8,
    "start_time": "2023-01-16T15:57:24.922Z"
   },
   {
    "duration": 5,
    "start_time": "2023-01-16T15:57:24.932Z"
   },
   {
    "duration": 7,
    "start_time": "2023-01-16T15:57:24.938Z"
   },
   {
    "duration": 9,
    "start_time": "2023-01-16T15:57:24.947Z"
   },
   {
    "duration": 892,
    "start_time": "2023-01-16T15:57:24.958Z"
   },
   {
    "duration": 914,
    "start_time": "2023-01-16T15:57:25.852Z"
   },
   {
    "duration": 830,
    "start_time": "2023-01-16T15:57:26.767Z"
   },
   {
    "duration": 1409,
    "start_time": "2023-01-16T15:57:45.125Z"
   },
   {
    "duration": 375,
    "start_time": "2023-01-16T15:57:46.537Z"
   },
   {
    "duration": 16,
    "start_time": "2023-01-16T15:57:46.914Z"
   },
   {
    "duration": 14,
    "start_time": "2023-01-16T15:57:46.931Z"
   },
   {
    "duration": 18,
    "start_time": "2023-01-16T15:57:46.947Z"
   },
   {
    "duration": 48,
    "start_time": "2023-01-16T15:57:46.967Z"
   },
   {
    "duration": 14,
    "start_time": "2023-01-16T15:57:47.017Z"
   },
   {
    "duration": 29,
    "start_time": "2023-01-16T15:57:47.032Z"
   },
   {
    "duration": 58,
    "start_time": "2023-01-16T15:57:47.063Z"
   },
   {
    "duration": 346,
    "start_time": "2023-01-16T15:57:47.123Z"
   },
   {
    "duration": 598,
    "start_time": "2023-01-16T15:57:47.470Z"
   },
   {
    "duration": 697,
    "start_time": "2023-01-16T15:57:48.070Z"
   },
   {
    "duration": 13,
    "start_time": "2023-01-16T15:57:48.769Z"
   },
   {
    "duration": 17,
    "start_time": "2023-01-16T15:57:48.785Z"
   },
   {
    "duration": 27,
    "start_time": "2023-01-16T15:57:48.803Z"
   },
   {
    "duration": 26,
    "start_time": "2023-01-16T15:57:48.831Z"
   },
   {
    "duration": 42,
    "start_time": "2023-01-16T15:57:48.858Z"
   },
   {
    "duration": 38,
    "start_time": "2023-01-16T15:57:48.902Z"
   },
   {
    "duration": 371,
    "start_time": "2023-01-16T15:57:48.942Z"
   },
   {
    "duration": 633,
    "start_time": "2023-01-16T15:57:49.314Z"
   },
   {
    "duration": 1182,
    "start_time": "2023-01-16T15:57:49.949Z"
   },
   {
    "duration": 634,
    "start_time": "2023-01-16T15:57:51.132Z"
   },
   {
    "duration": 13,
    "start_time": "2023-01-16T15:57:51.767Z"
   },
   {
    "duration": 30,
    "start_time": "2023-01-16T15:57:51.781Z"
   },
   {
    "duration": 41,
    "start_time": "2023-01-16T15:57:51.812Z"
   },
   {
    "duration": 21,
    "start_time": "2023-01-16T15:57:51.854Z"
   },
   {
    "duration": 29,
    "start_time": "2023-01-16T15:57:51.876Z"
   },
   {
    "duration": 44,
    "start_time": "2023-01-16T15:57:51.907Z"
   },
   {
    "duration": 363,
    "start_time": "2023-01-16T15:57:51.953Z"
   },
   {
    "duration": 539,
    "start_time": "2023-01-16T15:57:52.317Z"
   },
   {
    "duration": 685,
    "start_time": "2023-01-16T15:57:52.857Z"
   },
   {
    "duration": 6,
    "start_time": "2023-01-16T15:57:53.543Z"
   },
   {
    "duration": 30,
    "start_time": "2023-01-16T15:57:53.550Z"
   },
   {
    "duration": 25,
    "start_time": "2023-01-16T15:57:53.581Z"
   },
   {
    "duration": 301,
    "start_time": "2023-01-16T15:57:53.609Z"
   },
   {
    "duration": 38,
    "start_time": "2023-01-16T15:57:53.997Z"
   },
   {
    "duration": 6,
    "start_time": "2023-01-16T15:57:54.099Z"
   },
   {
    "duration": 95,
    "start_time": "2023-01-16T15:57:54.107Z"
   },
   {
    "duration": 7,
    "start_time": "2023-01-16T15:57:54.204Z"
   },
   {
    "duration": 11,
    "start_time": "2023-01-16T15:57:54.213Z"
   },
   {
    "duration": 16,
    "start_time": "2023-01-16T15:57:54.227Z"
   },
   {
    "duration": 9,
    "start_time": "2023-01-16T15:57:54.245Z"
   },
   {
    "duration": 6,
    "start_time": "2023-01-16T15:57:54.256Z"
   },
   {
    "duration": 7,
    "start_time": "2023-01-16T15:57:54.263Z"
   },
   {
    "duration": 892,
    "start_time": "2023-01-16T15:57:54.272Z"
   },
   {
    "duration": 898,
    "start_time": "2023-01-16T15:57:55.166Z"
   },
   {
    "duration": 882,
    "start_time": "2023-01-16T15:57:56.067Z"
   },
   {
    "duration": 1349,
    "start_time": "2023-01-16T16:03:08.022Z"
   },
   {
    "duration": 388,
    "start_time": "2023-01-16T16:03:09.373Z"
   },
   {
    "duration": 16,
    "start_time": "2023-01-16T16:03:09.762Z"
   },
   {
    "duration": 24,
    "start_time": "2023-01-16T16:03:09.780Z"
   },
   {
    "duration": 20,
    "start_time": "2023-01-16T16:03:09.807Z"
   },
   {
    "duration": 22,
    "start_time": "2023-01-16T16:03:09.829Z"
   },
   {
    "duration": 22,
    "start_time": "2023-01-16T16:03:09.853Z"
   },
   {
    "duration": 34,
    "start_time": "2023-01-16T16:03:09.897Z"
   },
   {
    "duration": 44,
    "start_time": "2023-01-16T16:03:09.932Z"
   },
   {
    "duration": 387,
    "start_time": "2023-01-16T16:03:09.978Z"
   },
   {
    "duration": 699,
    "start_time": "2023-01-16T16:03:10.367Z"
   },
   {
    "duration": 719,
    "start_time": "2023-01-16T16:03:11.068Z"
   },
   {
    "duration": 26,
    "start_time": "2023-01-16T16:03:11.788Z"
   },
   {
    "duration": 11,
    "start_time": "2023-01-16T16:03:11.818Z"
   },
   {
    "duration": 37,
    "start_time": "2023-01-16T16:03:11.831Z"
   },
   {
    "duration": 30,
    "start_time": "2023-01-16T16:03:11.870Z"
   },
   {
    "duration": 35,
    "start_time": "2023-01-16T16:03:11.901Z"
   },
   {
    "duration": 37,
    "start_time": "2023-01-16T16:03:11.938Z"
   },
   {
    "duration": 355,
    "start_time": "2023-01-16T16:03:11.977Z"
   },
   {
    "duration": 734,
    "start_time": "2023-01-16T16:03:12.334Z"
   },
   {
    "duration": 1301,
    "start_time": "2023-01-16T16:03:13.069Z"
   },
   {
    "duration": 751,
    "start_time": "2023-01-16T16:03:14.372Z"
   },
   {
    "duration": 16,
    "start_time": "2023-01-16T16:03:15.125Z"
   },
   {
    "duration": 28,
    "start_time": "2023-01-16T16:03:15.142Z"
   },
   {
    "duration": 46,
    "start_time": "2023-01-16T16:03:15.172Z"
   },
   {
    "duration": 31,
    "start_time": "2023-01-16T16:03:15.220Z"
   },
   {
    "duration": 26,
    "start_time": "2023-01-16T16:03:15.252Z"
   },
   {
    "duration": 47,
    "start_time": "2023-01-16T16:03:15.279Z"
   },
   {
    "duration": 311,
    "start_time": "2023-01-16T16:03:15.328Z"
   },
   {
    "duration": 687,
    "start_time": "2023-01-16T16:03:15.640Z"
   },
   {
    "duration": 727,
    "start_time": "2023-01-16T16:03:16.329Z"
   },
   {
    "duration": 7,
    "start_time": "2023-01-16T16:03:17.057Z"
   },
   {
    "duration": 42,
    "start_time": "2023-01-16T16:03:17.066Z"
   },
   {
    "duration": 14,
    "start_time": "2023-01-16T16:03:17.110Z"
   },
   {
    "duration": 220,
    "start_time": "2023-01-16T16:03:17.126Z"
   },
   {
    "duration": 123,
    "start_time": "2023-01-16T16:03:17.396Z"
   },
   {
    "duration": 79,
    "start_time": "2023-01-16T16:03:17.522Z"
   },
   {
    "duration": 101,
    "start_time": "2023-01-16T16:03:17.603Z"
   },
   {
    "duration": 18,
    "start_time": "2023-01-16T16:03:17.706Z"
   },
   {
    "duration": 6,
    "start_time": "2023-01-16T16:03:17.725Z"
   },
   {
    "duration": 6,
    "start_time": "2023-01-16T16:03:17.735Z"
   },
   {
    "duration": 7,
    "start_time": "2023-01-16T16:03:17.743Z"
   },
   {
    "duration": 20,
    "start_time": "2023-01-16T16:03:17.752Z"
   },
   {
    "duration": 18,
    "start_time": "2023-01-16T16:03:17.773Z"
   },
   {
    "duration": 1001,
    "start_time": "2023-01-16T16:03:17.793Z"
   },
   {
    "duration": 0,
    "start_time": "2023-01-16T16:03:18.796Z"
   },
   {
    "duration": 0,
    "start_time": "2023-01-16T16:03:18.797Z"
   },
   {
    "duration": 7,
    "start_time": "2023-01-16T16:04:12.834Z"
   },
   {
    "duration": 852,
    "start_time": "2023-01-16T16:04:13.468Z"
   },
   {
    "duration": 867,
    "start_time": "2023-01-16T16:04:14.499Z"
   },
   {
    "duration": 948,
    "start_time": "2023-01-16T16:04:15.368Z"
   },
   {
    "duration": 7,
    "start_time": "2023-01-16T16:05:16.049Z"
   },
   {
    "duration": 829,
    "start_time": "2023-01-16T16:05:16.574Z"
   },
   {
    "duration": 859,
    "start_time": "2023-01-16T16:05:17.405Z"
   },
   {
    "duration": 851,
    "start_time": "2023-01-16T16:05:18.266Z"
   },
   {
    "duration": 9,
    "start_time": "2023-01-16T16:06:16.040Z"
   },
   {
    "duration": 876,
    "start_time": "2023-01-16T16:06:16.528Z"
   },
   {
    "duration": 846,
    "start_time": "2023-01-16T16:06:17.406Z"
   },
   {
    "duration": 5,
    "start_time": "2023-01-16T16:06:41.730Z"
   },
   {
    "duration": 846,
    "start_time": "2023-01-16T16:06:42.251Z"
   },
   {
    "duration": 868,
    "start_time": "2023-01-16T16:06:43.099Z"
   },
   {
    "duration": 844,
    "start_time": "2023-01-16T16:06:43.969Z"
   },
   {
    "duration": 6,
    "start_time": "2023-01-16T16:07:17.012Z"
   },
   {
    "duration": 1742,
    "start_time": "2023-01-16T16:07:17.801Z"
   },
   {
    "duration": 6,
    "start_time": "2023-01-16T16:07:33.578Z"
   },
   {
    "duration": 1828,
    "start_time": "2023-01-16T16:07:34.042Z"
   },
   {
    "duration": 1812,
    "start_time": "2023-01-16T16:07:55.130Z"
   },
   {
    "duration": 6,
    "start_time": "2023-01-16T16:08:10.311Z"
   },
   {
    "duration": 1679,
    "start_time": "2023-01-16T16:08:11.399Z"
   },
   {
    "duration": 6,
    "start_time": "2023-01-16T16:09:06.443Z"
   },
   {
    "duration": 4716,
    "start_time": "2023-01-16T16:09:06.969Z"
   },
   {
    "duration": 6,
    "start_time": "2023-01-16T16:09:15.008Z"
   },
   {
    "duration": 3620,
    "start_time": "2023-01-16T16:09:15.536Z"
   },
   {
    "duration": 3608,
    "start_time": "2023-01-16T16:09:22.530Z"
   },
   {
    "duration": 3606,
    "start_time": "2023-01-16T16:09:26.140Z"
   },
   {
    "duration": 6,
    "start_time": "2023-01-16T16:09:39.489Z"
   },
   {
    "duration": 1225,
    "start_time": "2023-01-16T16:09:40.823Z"
   },
   {
    "duration": 1270,
    "start_time": "2023-01-16T16:09:43.645Z"
   },
   {
    "duration": 1192,
    "start_time": "2023-01-16T16:09:48.184Z"
   },
   {
    "duration": 5,
    "start_time": "2023-01-16T16:10:08.754Z"
   },
   {
    "duration": 881,
    "start_time": "2023-01-16T16:10:09.333Z"
   },
   {
    "duration": 891,
    "start_time": "2023-01-16T16:10:10.274Z"
   },
   {
    "duration": 6,
    "start_time": "2023-01-16T16:10:50.409Z"
   },
   {
    "duration": 1990,
    "start_time": "2023-01-16T16:10:51.164Z"
   },
   {
    "duration": 5,
    "start_time": "2023-01-16T16:11:24.820Z"
   },
   {
    "duration": 735,
    "start_time": "2023-01-16T16:11:26.098Z"
   },
   {
    "duration": 681,
    "start_time": "2023-01-16T16:11:28.242Z"
   },
   {
    "duration": 701,
    "start_time": "2023-01-16T16:11:28.956Z"
   },
   {
    "duration": 7,
    "start_time": "2023-01-16T16:12:21.294Z"
   },
   {
    "duration": 885,
    "start_time": "2023-01-16T16:12:22.504Z"
   },
   {
    "duration": 977,
    "start_time": "2023-01-16T16:12:26.108Z"
   },
   {
    "duration": 4,
    "start_time": "2023-01-16T16:13:07.494Z"
   },
   {
    "duration": 1498,
    "start_time": "2023-01-16T16:13:14.399Z"
   },
   {
    "duration": 447,
    "start_time": "2023-01-16T16:13:15.900Z"
   },
   {
    "duration": 16,
    "start_time": "2023-01-16T16:13:16.348Z"
   },
   {
    "duration": 23,
    "start_time": "2023-01-16T16:13:16.366Z"
   },
   {
    "duration": 19,
    "start_time": "2023-01-16T16:13:16.395Z"
   },
   {
    "duration": 28,
    "start_time": "2023-01-16T16:13:16.416Z"
   },
   {
    "duration": 18,
    "start_time": "2023-01-16T16:13:16.446Z"
   },
   {
    "duration": 50,
    "start_time": "2023-01-16T16:13:16.466Z"
   },
   {
    "duration": 41,
    "start_time": "2023-01-16T16:13:16.518Z"
   },
   {
    "duration": 381,
    "start_time": "2023-01-16T16:13:16.561Z"
   },
   {
    "duration": 606,
    "start_time": "2023-01-16T16:13:16.945Z"
   },
   {
    "duration": 715,
    "start_time": "2023-01-16T16:13:17.553Z"
   },
   {
    "duration": 15,
    "start_time": "2023-01-16T16:13:18.270Z"
   },
   {
    "duration": 10,
    "start_time": "2023-01-16T16:13:18.296Z"
   },
   {
    "duration": 26,
    "start_time": "2023-01-16T16:13:18.308Z"
   },
   {
    "duration": 26,
    "start_time": "2023-01-16T16:13:18.336Z"
   },
   {
    "duration": 45,
    "start_time": "2023-01-16T16:13:18.364Z"
   },
   {
    "duration": 35,
    "start_time": "2023-01-16T16:13:18.411Z"
   },
   {
    "duration": 367,
    "start_time": "2023-01-16T16:13:18.448Z"
   },
   {
    "duration": 734,
    "start_time": "2023-01-16T16:13:18.817Z"
   },
   {
    "duration": 1208,
    "start_time": "2023-01-16T16:13:19.552Z"
   },
   {
    "duration": 622,
    "start_time": "2023-01-16T16:13:20.762Z"
   },
   {
    "duration": 21,
    "start_time": "2023-01-16T16:13:21.386Z"
   },
   {
    "duration": 11,
    "start_time": "2023-01-16T16:13:21.409Z"
   },
   {
    "duration": 22,
    "start_time": "2023-01-16T16:13:21.421Z"
   },
   {
    "duration": 22,
    "start_time": "2023-01-16T16:13:21.444Z"
   },
   {
    "duration": 50,
    "start_time": "2023-01-16T16:13:21.467Z"
   },
   {
    "duration": 35,
    "start_time": "2023-01-16T16:13:21.519Z"
   },
   {
    "duration": 358,
    "start_time": "2023-01-16T16:13:21.556Z"
   },
   {
    "duration": 582,
    "start_time": "2023-01-16T16:13:21.917Z"
   },
   {
    "duration": 643,
    "start_time": "2023-01-16T16:13:22.501Z"
   },
   {
    "duration": 6,
    "start_time": "2023-01-16T16:13:23.145Z"
   },
   {
    "duration": 48,
    "start_time": "2023-01-16T16:13:23.153Z"
   },
   {
    "duration": 21,
    "start_time": "2023-01-16T16:13:23.203Z"
   },
   {
    "duration": 189,
    "start_time": "2023-01-16T16:13:23.228Z"
   },
   {
    "duration": 192,
    "start_time": "2023-01-16T16:13:23.419Z"
   },
   {
    "duration": 4,
    "start_time": "2023-01-16T16:13:23.614Z"
   },
   {
    "duration": 102,
    "start_time": "2023-01-16T16:13:23.698Z"
   },
   {
    "duration": 7,
    "start_time": "2023-01-16T16:13:23.802Z"
   },
   {
    "duration": 15,
    "start_time": "2023-01-16T16:13:23.811Z"
   },
   {
    "duration": 8,
    "start_time": "2023-01-16T16:13:23.830Z"
   },
   {
    "duration": 12,
    "start_time": "2023-01-16T16:13:23.839Z"
   },
   {
    "duration": 8,
    "start_time": "2023-01-16T16:13:23.853Z"
   },
   {
    "duration": 20,
    "start_time": "2023-01-16T16:13:23.863Z"
   },
   {
    "duration": 716,
    "start_time": "2023-01-16T16:13:23.886Z"
   },
   {
    "duration": 746,
    "start_time": "2023-01-16T16:13:24.604Z"
   },
   {
    "duration": 684,
    "start_time": "2023-01-16T16:13:25.352Z"
   },
   {
    "duration": 1354,
    "start_time": "2023-01-16T16:13:48.454Z"
   },
   {
    "duration": 386,
    "start_time": "2023-01-16T16:13:49.811Z"
   },
   {
    "duration": 17,
    "start_time": "2023-01-16T16:13:50.199Z"
   },
   {
    "duration": 38,
    "start_time": "2023-01-16T16:13:50.218Z"
   },
   {
    "duration": 22,
    "start_time": "2023-01-16T16:13:50.260Z"
   },
   {
    "duration": 31,
    "start_time": "2023-01-16T16:13:50.283Z"
   },
   {
    "duration": 14,
    "start_time": "2023-01-16T16:13:50.316Z"
   },
   {
    "duration": 32,
    "start_time": "2023-01-16T16:13:50.332Z"
   },
   {
    "duration": 63,
    "start_time": "2023-01-16T16:13:50.366Z"
   },
   {
    "duration": 332,
    "start_time": "2023-01-16T16:13:50.430Z"
   },
   {
    "duration": 594,
    "start_time": "2023-01-16T16:13:50.764Z"
   },
   {
    "duration": 695,
    "start_time": "2023-01-16T16:13:51.360Z"
   },
   {
    "duration": 13,
    "start_time": "2023-01-16T16:13:52.057Z"
   },
   {
    "duration": 10,
    "start_time": "2023-01-16T16:13:52.073Z"
   },
   {
    "duration": 18,
    "start_time": "2023-01-16T16:13:52.097Z"
   },
   {
    "duration": 25,
    "start_time": "2023-01-16T16:13:52.117Z"
   },
   {
    "duration": 56,
    "start_time": "2023-01-16T16:13:52.144Z"
   },
   {
    "duration": 36,
    "start_time": "2023-01-16T16:13:52.202Z"
   },
   {
    "duration": 369,
    "start_time": "2023-01-16T16:13:52.240Z"
   },
   {
    "duration": 679,
    "start_time": "2023-01-16T16:13:52.611Z"
   },
   {
    "duration": 1165,
    "start_time": "2023-01-16T16:13:53.291Z"
   },
   {
    "duration": 652,
    "start_time": "2023-01-16T16:13:54.458Z"
   },
   {
    "duration": 16,
    "start_time": "2023-01-16T16:13:55.112Z"
   },
   {
    "duration": 11,
    "start_time": "2023-01-16T16:13:55.130Z"
   },
   {
    "duration": 21,
    "start_time": "2023-01-16T16:13:55.143Z"
   },
   {
    "duration": 49,
    "start_time": "2023-01-16T16:13:55.166Z"
   },
   {
    "duration": 43,
    "start_time": "2023-01-16T16:13:55.218Z"
   },
   {
    "duration": 43,
    "start_time": "2023-01-16T16:13:55.263Z"
   },
   {
    "duration": 331,
    "start_time": "2023-01-16T16:13:55.307Z"
   },
   {
    "duration": 706,
    "start_time": "2023-01-16T16:13:55.640Z"
   },
   {
    "duration": 703,
    "start_time": "2023-01-16T16:13:56.348Z"
   },
   {
    "duration": 5,
    "start_time": "2023-01-16T16:13:57.053Z"
   },
   {
    "duration": 36,
    "start_time": "2023-01-16T16:13:57.060Z"
   },
   {
    "duration": 13,
    "start_time": "2023-01-16T16:13:57.098Z"
   },
   {
    "duration": 283,
    "start_time": "2023-01-16T16:13:57.114Z"
   },
   {
    "duration": 127,
    "start_time": "2023-01-16T16:13:57.399Z"
   },
   {
    "duration": 5,
    "start_time": "2023-01-16T16:13:57.598Z"
   },
   {
    "duration": 92,
    "start_time": "2023-01-16T16:13:57.605Z"
   },
   {
    "duration": 13,
    "start_time": "2023-01-16T16:13:57.699Z"
   },
   {
    "duration": 6,
    "start_time": "2023-01-16T16:13:57.714Z"
   },
   {
    "duration": 7,
    "start_time": "2023-01-16T16:13:57.723Z"
   },
   {
    "duration": 5,
    "start_time": "2023-01-16T16:13:57.731Z"
   },
   {
    "duration": 7,
    "start_time": "2023-01-16T16:13:57.737Z"
   },
   {
    "duration": 7,
    "start_time": "2023-01-16T16:13:57.745Z"
   },
   {
    "duration": 740,
    "start_time": "2023-01-16T16:13:57.753Z"
   },
   {
    "duration": 699,
    "start_time": "2023-01-16T16:13:58.497Z"
   },
   {
    "duration": 720,
    "start_time": "2023-01-16T16:13:59.198Z"
   },
   {
    "duration": 1321,
    "start_time": "2023-01-16T16:14:13.236Z"
   },
   {
    "duration": 357,
    "start_time": "2023-01-16T16:14:14.559Z"
   },
   {
    "duration": 16,
    "start_time": "2023-01-16T16:14:14.918Z"
   },
   {
    "duration": 12,
    "start_time": "2023-01-16T16:14:14.935Z"
   },
   {
    "duration": 21,
    "start_time": "2023-01-16T16:14:14.950Z"
   },
   {
    "duration": 51,
    "start_time": "2023-01-16T16:14:14.972Z"
   },
   {
    "duration": 40,
    "start_time": "2023-01-16T16:14:15.024Z"
   },
   {
    "duration": 32,
    "start_time": "2023-01-16T16:14:15.065Z"
   },
   {
    "duration": 42,
    "start_time": "2023-01-16T16:14:15.099Z"
   },
   {
    "duration": 379,
    "start_time": "2023-01-16T16:14:15.143Z"
   },
   {
    "duration": 683,
    "start_time": "2023-01-16T16:14:15.524Z"
   },
   {
    "duration": 648,
    "start_time": "2023-01-16T16:14:16.209Z"
   },
   {
    "duration": 14,
    "start_time": "2023-01-16T16:14:16.858Z"
   },
   {
    "duration": 22,
    "start_time": "2023-01-16T16:14:16.875Z"
   },
   {
    "duration": 19,
    "start_time": "2023-01-16T16:14:16.899Z"
   },
   {
    "duration": 24,
    "start_time": "2023-01-16T16:14:16.919Z"
   },
   {
    "duration": 34,
    "start_time": "2023-01-16T16:14:16.945Z"
   },
   {
    "duration": 50,
    "start_time": "2023-01-16T16:14:16.981Z"
   },
   {
    "duration": 329,
    "start_time": "2023-01-16T16:14:17.033Z"
   },
   {
    "duration": 697,
    "start_time": "2023-01-16T16:14:17.364Z"
   },
   {
    "duration": 1180,
    "start_time": "2023-01-16T16:14:18.063Z"
   },
   {
    "duration": 630,
    "start_time": "2023-01-16T16:14:19.245Z"
   },
   {
    "duration": 21,
    "start_time": "2023-01-16T16:14:19.876Z"
   },
   {
    "duration": 9,
    "start_time": "2023-01-16T16:14:19.899Z"
   },
   {
    "duration": 21,
    "start_time": "2023-01-16T16:14:19.909Z"
   },
   {
    "duration": 25,
    "start_time": "2023-01-16T16:14:19.932Z"
   },
   {
    "duration": 44,
    "start_time": "2023-01-16T16:14:19.959Z"
   },
   {
    "duration": 39,
    "start_time": "2023-01-16T16:14:20.005Z"
   },
   {
    "duration": 385,
    "start_time": "2023-01-16T16:14:20.046Z"
   },
   {
    "duration": 648,
    "start_time": "2023-01-16T16:14:20.435Z"
   },
   {
    "duration": 781,
    "start_time": "2023-01-16T16:14:21.085Z"
   },
   {
    "duration": 5,
    "start_time": "2023-01-16T16:14:21.868Z"
   },
   {
    "duration": 34,
    "start_time": "2023-01-16T16:14:21.875Z"
   },
   {
    "duration": 14,
    "start_time": "2023-01-16T16:14:21.911Z"
   },
   {
    "duration": 198,
    "start_time": "2023-01-16T16:14:21.927Z"
   },
   {
    "duration": 190,
    "start_time": "2023-01-16T16:14:22.127Z"
   },
   {
    "duration": 80,
    "start_time": "2023-01-16T16:14:22.321Z"
   },
   {
    "duration": 95,
    "start_time": "2023-01-16T16:14:22.403Z"
   },
   {
    "duration": 6,
    "start_time": "2023-01-16T16:14:22.499Z"
   },
   {
    "duration": 5,
    "start_time": "2023-01-16T16:14:22.507Z"
   },
   {
    "duration": 4,
    "start_time": "2023-01-16T16:14:22.516Z"
   },
   {
    "duration": 5,
    "start_time": "2023-01-16T16:14:22.521Z"
   },
   {
    "duration": 4,
    "start_time": "2023-01-16T16:14:22.527Z"
   },
   {
    "duration": 7,
    "start_time": "2023-01-16T16:14:22.533Z"
   },
   {
    "duration": 734,
    "start_time": "2023-01-16T16:14:22.541Z"
   },
   {
    "duration": 676,
    "start_time": "2023-01-16T16:14:23.277Z"
   },
   {
    "duration": 711,
    "start_time": "2023-01-16T16:14:23.954Z"
   },
   {
    "duration": 1398,
    "start_time": "2023-01-16T16:29:58.564Z"
   },
   {
    "duration": 433,
    "start_time": "2023-01-16T16:29:59.964Z"
   },
   {
    "duration": 17,
    "start_time": "2023-01-16T16:30:00.398Z"
   },
   {
    "duration": 49,
    "start_time": "2023-01-16T16:30:00.416Z"
   },
   {
    "duration": 52,
    "start_time": "2023-01-16T16:30:00.468Z"
   },
   {
    "duration": 46,
    "start_time": "2023-01-16T16:30:00.522Z"
   },
   {
    "duration": 33,
    "start_time": "2023-01-16T16:30:00.570Z"
   },
   {
    "duration": 74,
    "start_time": "2023-01-16T16:30:00.605Z"
   },
   {
    "duration": 46,
    "start_time": "2023-01-16T16:30:00.681Z"
   },
   {
    "duration": 345,
    "start_time": "2023-01-16T16:30:00.729Z"
   },
   {
    "duration": 606,
    "start_time": "2023-01-16T16:30:01.076Z"
   },
   {
    "duration": 695,
    "start_time": "2023-01-16T16:30:01.683Z"
   },
   {
    "duration": 23,
    "start_time": "2023-01-16T16:30:02.379Z"
   },
   {
    "duration": 137,
    "start_time": "2023-01-16T16:30:02.405Z"
   },
   {
    "duration": 58,
    "start_time": "2023-01-16T16:30:02.544Z"
   },
   {
    "duration": 29,
    "start_time": "2023-01-16T16:30:02.604Z"
   },
   {
    "duration": 30,
    "start_time": "2023-01-16T16:30:02.634Z"
   },
   {
    "duration": 56,
    "start_time": "2023-01-16T16:30:02.667Z"
   },
   {
    "duration": 317,
    "start_time": "2023-01-16T16:30:02.725Z"
   },
   {
    "duration": 704,
    "start_time": "2023-01-16T16:30:03.044Z"
   },
   {
    "duration": 1208,
    "start_time": "2023-01-16T16:30:03.750Z"
   },
   {
    "duration": 629,
    "start_time": "2023-01-16T16:30:04.960Z"
   },
   {
    "duration": 18,
    "start_time": "2023-01-16T16:30:05.591Z"
   },
   {
    "duration": 13,
    "start_time": "2023-01-16T16:30:05.610Z"
   },
   {
    "duration": 23,
    "start_time": "2023-01-16T16:30:05.624Z"
   },
   {
    "duration": 25,
    "start_time": "2023-01-16T16:30:05.649Z"
   },
   {
    "duration": 39,
    "start_time": "2023-01-16T16:30:05.676Z"
   },
   {
    "duration": 35,
    "start_time": "2023-01-16T16:30:05.717Z"
   },
   {
    "duration": 358,
    "start_time": "2023-01-16T16:30:05.754Z"
   },
   {
    "duration": 691,
    "start_time": "2023-01-16T16:30:06.114Z"
   },
   {
    "duration": 656,
    "start_time": "2023-01-16T16:30:06.807Z"
   },
   {
    "duration": 6,
    "start_time": "2023-01-16T16:30:07.465Z"
   },
   {
    "duration": 35,
    "start_time": "2023-01-16T16:30:07.472Z"
   },
   {
    "duration": 15,
    "start_time": "2023-01-16T16:30:07.508Z"
   },
   {
    "duration": 204,
    "start_time": "2023-01-16T16:30:07.524Z"
   },
   {
    "duration": 122,
    "start_time": "2023-01-16T16:30:07.801Z"
   },
   {
    "duration": 73,
    "start_time": "2023-01-16T16:30:07.926Z"
   },
   {
    "duration": 96,
    "start_time": "2023-01-16T16:30:08.001Z"
   },
   {
    "duration": 4,
    "start_time": "2023-01-16T16:30:08.098Z"
   },
   {
    "duration": 7,
    "start_time": "2023-01-16T16:30:08.104Z"
   },
   {
    "duration": 15,
    "start_time": "2023-01-16T16:30:08.115Z"
   },
   {
    "duration": 13,
    "start_time": "2023-01-16T16:30:08.132Z"
   },
   {
    "duration": 6,
    "start_time": "2023-01-16T16:30:08.147Z"
   },
   {
    "duration": 8,
    "start_time": "2023-01-16T16:30:08.155Z"
   },
   {
    "duration": 716,
    "start_time": "2023-01-16T16:30:08.165Z"
   },
   {
    "duration": 690,
    "start_time": "2023-01-16T16:30:08.883Z"
   },
   {
    "duration": 707,
    "start_time": "2023-01-16T16:30:09.575Z"
   },
   {
    "duration": 22,
    "start_time": "2023-01-17T15:49:28.914Z"
   },
   {
    "duration": 72,
    "start_time": "2023-01-17T15:49:38.300Z"
   },
   {
    "duration": 1702,
    "start_time": "2023-01-17T15:49:42.297Z"
   },
   {
    "duration": 1765,
    "start_time": "2023-01-17T15:49:44.001Z"
   },
   {
    "duration": 21,
    "start_time": "2023-01-17T15:49:45.770Z"
   },
   {
    "duration": 19,
    "start_time": "2023-01-17T15:49:45.794Z"
   },
   {
    "duration": 21,
    "start_time": "2023-01-17T15:49:45.815Z"
   },
   {
    "duration": 30,
    "start_time": "2023-01-17T15:49:45.838Z"
   },
   {
    "duration": 27,
    "start_time": "2023-01-17T15:49:45.871Z"
   },
   {
    "duration": 39,
    "start_time": "2023-01-17T15:49:45.900Z"
   },
   {
    "duration": 48,
    "start_time": "2023-01-17T15:49:45.942Z"
   },
   {
    "duration": 419,
    "start_time": "2023-01-17T15:49:45.993Z"
   },
   {
    "duration": 610,
    "start_time": "2023-01-17T15:49:46.414Z"
   },
   {
    "duration": 811,
    "start_time": "2023-01-17T15:49:47.025Z"
   },
   {
    "duration": 16,
    "start_time": "2023-01-17T15:49:47.838Z"
   },
   {
    "duration": 22,
    "start_time": "2023-01-17T15:49:47.856Z"
   },
   {
    "duration": 49,
    "start_time": "2023-01-17T15:49:47.879Z"
   },
   {
    "duration": 40,
    "start_time": "2023-01-17T15:49:47.930Z"
   },
   {
    "duration": 50,
    "start_time": "2023-01-17T15:49:47.972Z"
   },
   {
    "duration": 37,
    "start_time": "2023-01-17T15:49:48.024Z"
   },
   {
    "duration": 329,
    "start_time": "2023-01-17T15:49:48.063Z"
   },
   {
    "duration": 746,
    "start_time": "2023-01-17T15:49:48.394Z"
   },
   {
    "duration": 1282,
    "start_time": "2023-01-17T15:49:49.143Z"
   },
   {
    "duration": 705,
    "start_time": "2023-01-17T15:49:50.427Z"
   },
   {
    "duration": 16,
    "start_time": "2023-01-17T15:49:51.134Z"
   },
   {
    "duration": 17,
    "start_time": "2023-01-17T15:49:51.152Z"
   },
   {
    "duration": 46,
    "start_time": "2023-01-17T15:49:51.172Z"
   },
   {
    "duration": 27,
    "start_time": "2023-01-17T15:49:51.221Z"
   },
   {
    "duration": 43,
    "start_time": "2023-01-17T15:49:51.250Z"
   },
   {
    "duration": 54,
    "start_time": "2023-01-17T15:49:51.298Z"
   },
   {
    "duration": 329,
    "start_time": "2023-01-17T15:49:51.354Z"
   },
   {
    "duration": 629,
    "start_time": "2023-01-17T15:49:51.685Z"
   },
   {
    "duration": 767,
    "start_time": "2023-01-17T15:49:52.316Z"
   },
   {
    "duration": 8,
    "start_time": "2023-01-17T15:49:53.087Z"
   },
   {
    "duration": 50,
    "start_time": "2023-01-17T15:49:53.097Z"
   },
   {
    "duration": 90,
    "start_time": "2023-01-17T15:49:53.150Z"
   },
   {
    "duration": 204,
    "start_time": "2023-01-17T15:49:53.243Z"
   },
   {
    "duration": 288,
    "start_time": "2023-01-17T15:49:53.450Z"
   },
   {
    "duration": 7,
    "start_time": "2023-01-17T15:49:53.740Z"
   },
   {
    "duration": 107,
    "start_time": "2023-01-17T15:49:53.749Z"
   },
   {
    "duration": 18,
    "start_time": "2023-01-17T15:49:53.858Z"
   },
   {
    "duration": 11,
    "start_time": "2023-01-17T15:49:53.878Z"
   },
   {
    "duration": 19,
    "start_time": "2023-01-17T15:49:53.891Z"
   },
   {
    "duration": 5,
    "start_time": "2023-01-17T15:49:53.912Z"
   },
   {
    "duration": 9,
    "start_time": "2023-01-17T15:49:53.919Z"
   },
   {
    "duration": 10,
    "start_time": "2023-01-17T15:49:53.930Z"
   },
   {
    "duration": 819,
    "start_time": "2023-01-17T15:49:53.942Z"
   },
   {
    "duration": 804,
    "start_time": "2023-01-17T15:49:54.763Z"
   },
   {
    "duration": 737,
    "start_time": "2023-01-17T15:49:55.569Z"
   },
   {
    "duration": 1421,
    "start_time": "2023-01-17T15:53:25.513Z"
   },
   {
    "duration": 375,
    "start_time": "2023-01-17T15:53:26.936Z"
   },
   {
    "duration": 25,
    "start_time": "2023-01-17T15:53:27.313Z"
   },
   {
    "duration": 13,
    "start_time": "2023-01-17T15:53:27.341Z"
   },
   {
    "duration": 21,
    "start_time": "2023-01-17T15:53:27.356Z"
   },
   {
    "duration": 24,
    "start_time": "2023-01-17T15:53:27.378Z"
   },
   {
    "duration": 41,
    "start_time": "2023-01-17T15:53:27.404Z"
   },
   {
    "duration": 34,
    "start_time": "2023-01-17T15:53:27.447Z"
   },
   {
    "duration": 58,
    "start_time": "2023-01-17T15:53:27.483Z"
   },
   {
    "duration": 340,
    "start_time": "2023-01-17T15:53:27.542Z"
   },
   {
    "duration": 732,
    "start_time": "2023-01-17T15:53:27.884Z"
   },
   {
    "duration": 714,
    "start_time": "2023-01-17T15:53:28.618Z"
   },
   {
    "duration": 20,
    "start_time": "2023-01-17T15:53:29.334Z"
   },
   {
    "duration": 22,
    "start_time": "2023-01-17T15:53:29.358Z"
   },
   {
    "duration": 34,
    "start_time": "2023-01-17T15:53:29.382Z"
   },
   {
    "duration": 39,
    "start_time": "2023-01-17T15:53:29.418Z"
   },
   {
    "duration": 42,
    "start_time": "2023-01-17T15:53:29.460Z"
   },
   {
    "duration": 48,
    "start_time": "2023-01-17T15:53:29.504Z"
   },
   {
    "duration": 311,
    "start_time": "2023-01-17T15:53:29.553Z"
   },
   {
    "duration": 639,
    "start_time": "2023-01-17T15:53:29.866Z"
   },
   {
    "duration": 1202,
    "start_time": "2023-01-17T15:53:30.507Z"
   },
   {
    "duration": 647,
    "start_time": "2023-01-17T15:53:31.711Z"
   },
   {
    "duration": 22,
    "start_time": "2023-01-17T15:53:32.360Z"
   },
   {
    "duration": 9,
    "start_time": "2023-01-17T15:53:32.384Z"
   },
   {
    "duration": 47,
    "start_time": "2023-01-17T15:53:32.395Z"
   },
   {
    "duration": 36,
    "start_time": "2023-01-17T15:53:32.444Z"
   },
   {
    "duration": 53,
    "start_time": "2023-01-17T15:53:32.482Z"
   },
   {
    "duration": 44,
    "start_time": "2023-01-17T15:53:32.537Z"
   },
   {
    "duration": 329,
    "start_time": "2023-01-17T15:53:32.583Z"
   },
   {
    "duration": 713,
    "start_time": "2023-01-17T15:53:32.915Z"
   },
   {
    "duration": 802,
    "start_time": "2023-01-17T15:53:33.636Z"
   },
   {
    "duration": 8,
    "start_time": "2023-01-17T15:53:34.440Z"
   },
   {
    "duration": 54,
    "start_time": "2023-01-17T15:53:34.450Z"
   },
   {
    "duration": 33,
    "start_time": "2023-01-17T15:53:34.506Z"
   },
   {
    "duration": 199,
    "start_time": "2023-01-17T15:53:34.541Z"
   },
   {
    "duration": 195,
    "start_time": "2023-01-17T15:53:34.742Z"
   },
   {
    "duration": 5,
    "start_time": "2023-01-17T15:53:35.035Z"
   },
   {
    "duration": 7,
    "start_time": "2023-01-17T15:53:35.042Z"
   },
   {
    "duration": 7,
    "start_time": "2023-01-17T15:53:35.050Z"
   },
   {
    "duration": 9,
    "start_time": "2023-01-17T15:53:35.059Z"
   },
   {
    "duration": 4,
    "start_time": "2023-01-17T15:53:35.072Z"
   },
   {
    "duration": 7,
    "start_time": "2023-01-17T15:53:35.078Z"
   },
   {
    "duration": 6,
    "start_time": "2023-01-17T15:53:35.087Z"
   },
   {
    "duration": 11,
    "start_time": "2023-01-17T15:53:35.094Z"
   },
   {
    "duration": 814,
    "start_time": "2023-01-17T15:53:35.107Z"
   },
   {
    "duration": 740,
    "start_time": "2023-01-17T15:53:35.923Z"
   },
   {
    "duration": 714,
    "start_time": "2023-01-17T15:53:36.665Z"
   }
  ],
  "kernelspec": {
   "display_name": "Python 3 (ipykernel)",
   "language": "python",
   "name": "python3"
  },
  "language_info": {
   "codemirror_mode": {
    "name": "ipython",
    "version": 3
   },
   "file_extension": ".py",
   "mimetype": "text/x-python",
   "name": "python",
   "nbconvert_exporter": "python",
   "pygments_lexer": "ipython3",
   "version": "3.9.13"
  },
  "toc": {
   "base_numbering": 1,
   "nav_menu": {},
   "number_sections": true,
   "sideBar": true,
   "skip_h1_title": true,
   "title_cell": "Table of Contents",
   "title_sidebar": "Contents",
   "toc_cell": false,
   "toc_position": {},
   "toc_section_display": true,
   "toc_window_display": false
  }
 },
 "nbformat": 4,
 "nbformat_minor": 2
}
