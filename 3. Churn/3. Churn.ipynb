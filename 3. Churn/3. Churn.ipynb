{
 "cells": [
  {
   "cell_type": "markdown",
   "metadata": {
    "toc": true
   },
   "source": [
    "<h1>Содержание<span class=\"tocSkip\"></span></h1>\n",
    "<div class=\"toc\"><ul class=\"toc-item\"><li><span><a href=\"#Подготовка-данных\" data-toc-modified-id=\"Подготовка-данных-1\"><span class=\"toc-item-num\">1&nbsp;&nbsp;</span>Подготовка данных</a></span></li><li><span><a href=\"#Исследование-задачи\" data-toc-modified-id=\"Исследование-задачи-2\"><span class=\"toc-item-num\">2&nbsp;&nbsp;</span>Исследование задачи</a></span><ul class=\"toc-item\"><li><span><a href=\"#Создание-выборок\" data-toc-modified-id=\"Создание-выборок-2.1\"><span class=\"toc-item-num\">2.1&nbsp;&nbsp;</span>Создание выборок</a></span></li><li><span><a href=\"#Обучение-моделей\" data-toc-modified-id=\"Обучение-моделей-2.2\"><span class=\"toc-item-num\">2.2&nbsp;&nbsp;</span>Обучение моделей</a></span></li></ul></li><li><span><a href=\"#Борьба-с-дисбалансом\" data-toc-modified-id=\"Борьба-с-дисбалансом-3\"><span class=\"toc-item-num\">3&nbsp;&nbsp;</span>Борьба с дисбалансом</a></span><ul class=\"toc-item\"><li><span><a href=\"#Уменьшение-выборки\" data-toc-modified-id=\"Уменьшение-выборки-3.1\"><span class=\"toc-item-num\">3.1&nbsp;&nbsp;</span>Уменьшение выборки</a></span></li><li><span><a href=\"#Увеличение-выборки\" data-toc-modified-id=\"Увеличение-выборки-3.2\"><span class=\"toc-item-num\">3.2&nbsp;&nbsp;</span>Увеличение выборки</a></span></li></ul></li><li><span><a href=\"#Тестирование-модели\" data-toc-modified-id=\"Тестирование-модели-4\"><span class=\"toc-item-num\">4&nbsp;&nbsp;</span>Тестирование модели</a></span></li></ul></div>"
   ]
  },
  {
   "cell_type": "markdown",
   "metadata": {},
   "source": [
    "# Отток клиентов"
   ]
  },
  {
   "cell_type": "markdown",
   "metadata": {},
   "source": [
    "Из «Бета-Банка» стали уходить клиенты. Каждый месяц. Немного, но заметно. Банковские маркетологи посчитали: сохранять текущих клиентов дешевле, чем привлекать новых.\n",
    "\n",
    "Нужно спрогнозировать, уйдёт клиент из банка в ближайшее время или нет. Вам предоставлены исторические данные о поведении клиентов и расторжении договоров с банком. \n",
    "\n",
    "**Цель:**\n",
    "\n",
    "Постройте модель с предельно большим значением *F1*-меры. Чтобы сдать проект успешно, нужно довести метрику до 0.59. Проверьте *F1*-меру на тестовой выборке самостоятельно.\n",
    "\n",
    "Дополнительно измеряйте *AUC-ROC*, сравнивайте её значение с *F1*-мерой.\n",
    "\n",
    "Источник данных: [https://www.kaggle.com/barelydedicated/bank-customer-churn-modeling](https://www.kaggle.com/barelydedicated/bank-customer-churn-modeling)"
   ]
  },
  {
   "cell_type": "markdown",
   "metadata": {},
   "source": [
    "**Признаки:**\n",
    "- RowNumber — индекс строки в данных;\n",
    "- CustomerId — уникальный идентификатор клиента;\n",
    "- Surname — фамилия;\n",
    "- CreditScore — кредитный рейтинг;\n",
    "- Geography — страна проживания;\n",
    "- Gender — пол;\n",
    "- Age — возраст;\n",
    "- Tenure — сколько лет человек является клиентом банка;\n",
    "- Balance — баланс на счёте;\n",
    "- NumOfProducts — количество продуктов банка, используемых клиентом;\n",
    "- HasCrCard — наличие кредитной карты;\n",
    "- IsActiveMember — активность клиента;\n",
    "- EstimatedSalary — предполагаемая зарплата;\n",
    "\n",
    "**Целевой признак:**\n",
    "- Exited — факт ухода клиента."
   ]
  },
  {
   "cell_type": "markdown",
   "metadata": {},
   "source": [
    "## Подготовка данных"
   ]
  },
  {
   "cell_type": "code",
   "execution_count": 1,
   "metadata": {},
   "outputs": [
    {
     "name": "stdout",
     "output_type": "stream",
     "text": [
      "Defaulting to user installation because normal site-packages is not writeable\n",
      "Requirement already satisfied: scikit-learn==1.1.3 in c:\\users\\бозон хиггса\\appdata\\roaming\\python\\python39\\site-packages (1.1.3)\n",
      "Requirement already satisfied: joblib>=1.0.0 in c:\\d\\program\\anaconda\\lib\\site-packages (from scikit-learn==1.1.3) (1.2.0)\n",
      "Requirement already satisfied: numpy>=1.17.3 in c:\\d\\program\\anaconda\\lib\\site-packages (from scikit-learn==1.1.3) (1.21.6)\n",
      "Requirement already satisfied: threadpoolctl>=2.0.0 in c:\\d\\program\\anaconda\\lib\\site-packages (from scikit-learn==1.1.3) (2.2.0)\n",
      "Requirement already satisfied: scipy>=1.3.2 in c:\\d\\program\\anaconda\\lib\\site-packages (from scikit-learn==1.1.3) (1.9.1)\n",
      "Defaulting to user installation because normal site-packages is not writeable\n",
      "Requirement already satisfied: imblearn in c:\\d\\program\\anaconda\\lib\\site-packages (0.0)\n",
      "Requirement already satisfied: imbalanced-learn in c:\\d\\program\\anaconda\\lib\\site-packages (from imblearn) (0.10.1)\n",
      "Requirement already satisfied: scikit-learn>=1.0.2 in c:\\users\\бозон хиггса\\appdata\\roaming\\python\\python39\\site-packages (from imbalanced-learn->imblearn) (1.1.3)\n",
      "Requirement already satisfied: threadpoolctl>=2.0.0 in c:\\d\\program\\anaconda\\lib\\site-packages (from imbalanced-learn->imblearn) (2.2.0)\n",
      "Requirement already satisfied: numpy>=1.17.3 in c:\\d\\program\\anaconda\\lib\\site-packages (from imbalanced-learn->imblearn) (1.21.6)\n",
      "Requirement already satisfied: scipy>=1.3.2 in c:\\d\\program\\anaconda\\lib\\site-packages (from imbalanced-learn->imblearn) (1.9.1)\n",
      "Requirement already satisfied: joblib>=1.1.1 in c:\\d\\program\\anaconda\\lib\\site-packages (from imbalanced-learn->imblearn) (1.2.0)\n"
     ]
    }
   ],
   "source": [
    "!pip install scikit-learn==1.1.3\n",
    "!pip install imblearn"
   ]
  },
  {
   "cell_type": "code",
   "execution_count": 2,
   "metadata": {},
   "outputs": [],
   "source": [
    "import pandas as pd\n",
    "import matplotlib.pyplot as plt\n",
    "import seaborn as sns\n",
    "\n",
    "from sklearn.ensemble import RandomForestClassifier\n",
    "from sklearn.tree import DecisionTreeClassifier\n",
    "from sklearn.linear_model import LogisticRegression\n",
    "from sklearn.preprocessing import (\n",
    "    StandardScaler,\n",
    "    OneHotEncoder\n",
    ")\n",
    "from sklearn.model_selection import train_test_split\n",
    "from sklearn.metrics import (\n",
    "    f1_score,\n",
    "    roc_auc_score\n",
    ")\n",
    "from sklearn.model_selection import GridSearchCV\n",
    "\n",
    "from imblearn.over_sampling import SMOTE\n",
    "from imblearn.under_sampling import RandomUnderSampler\n",
    "\n",
    "pd.options.mode.chained_assignment = None\n",
    "\n",
    "RANDOM_STATE=12345"
   ]
  },
  {
   "cell_type": "code",
   "execution_count": 3,
   "metadata": {
    "scrolled": false
   },
   "outputs": [],
   "source": [
    "try:\n",
    "    data = pd.read_csv('/datasets/Churn.csv')\n",
    "except:\n",
    "    data = pd.read_csv('C:\\\\D\\\\Project\\\\datasets\\\\Churn.csv')"
   ]
  },
  {
   "cell_type": "code",
   "execution_count": 4,
   "metadata": {},
   "outputs": [
    {
     "name": "stdout",
     "output_type": "stream",
     "text": [
      "<class 'pandas.core.frame.DataFrame'>\n",
      "RangeIndex: 10000 entries, 0 to 9999\n",
      "Data columns (total 14 columns):\n",
      " #   Column           Non-Null Count  Dtype  \n",
      "---  ------           --------------  -----  \n",
      " 0   RowNumber        10000 non-null  int64  \n",
      " 1   CustomerId       10000 non-null  int64  \n",
      " 2   Surname          10000 non-null  object \n",
      " 3   CreditScore      10000 non-null  int64  \n",
      " 4   Geography        10000 non-null  object \n",
      " 5   Gender           10000 non-null  object \n",
      " 6   Age              10000 non-null  int64  \n",
      " 7   Tenure           9091 non-null   float64\n",
      " 8   Balance          10000 non-null  float64\n",
      " 9   NumOfProducts    10000 non-null  int64  \n",
      " 10  HasCrCard        10000 non-null  int64  \n",
      " 11  IsActiveMember   10000 non-null  int64  \n",
      " 12  EstimatedSalary  10000 non-null  float64\n",
      " 13  Exited           10000 non-null  int64  \n",
      "dtypes: float64(3), int64(8), object(3)\n",
      "memory usage: 1.1+ MB\n"
     ]
    }
   ],
   "source": [
    "data.info()"
   ]
  },
  {
   "cell_type": "code",
   "execution_count": 5,
   "metadata": {},
   "outputs": [
    {
     "data": {
      "text/html": [
       "<div>\n",
       "<style scoped>\n",
       "    .dataframe tbody tr th:only-of-type {\n",
       "        vertical-align: middle;\n",
       "    }\n",
       "\n",
       "    .dataframe tbody tr th {\n",
       "        vertical-align: top;\n",
       "    }\n",
       "\n",
       "    .dataframe thead th {\n",
       "        text-align: right;\n",
       "    }\n",
       "</style>\n",
       "<table border=\"1\" class=\"dataframe\">\n",
       "  <thead>\n",
       "    <tr style=\"text-align: right;\">\n",
       "      <th></th>\n",
       "      <th>RowNumber</th>\n",
       "      <th>CustomerId</th>\n",
       "      <th>Surname</th>\n",
       "      <th>CreditScore</th>\n",
       "      <th>Geography</th>\n",
       "      <th>Gender</th>\n",
       "      <th>Age</th>\n",
       "      <th>Tenure</th>\n",
       "      <th>Balance</th>\n",
       "      <th>NumOfProducts</th>\n",
       "      <th>HasCrCard</th>\n",
       "      <th>IsActiveMember</th>\n",
       "      <th>EstimatedSalary</th>\n",
       "      <th>Exited</th>\n",
       "    </tr>\n",
       "  </thead>\n",
       "  <tbody>\n",
       "    <tr>\n",
       "      <th>0</th>\n",
       "      <td>1</td>\n",
       "      <td>15634602</td>\n",
       "      <td>Hargrave</td>\n",
       "      <td>619</td>\n",
       "      <td>France</td>\n",
       "      <td>Female</td>\n",
       "      <td>42</td>\n",
       "      <td>2.0</td>\n",
       "      <td>0.00</td>\n",
       "      <td>1</td>\n",
       "      <td>1</td>\n",
       "      <td>1</td>\n",
       "      <td>101348.88</td>\n",
       "      <td>1</td>\n",
       "    </tr>\n",
       "    <tr>\n",
       "      <th>1</th>\n",
       "      <td>2</td>\n",
       "      <td>15647311</td>\n",
       "      <td>Hill</td>\n",
       "      <td>608</td>\n",
       "      <td>Spain</td>\n",
       "      <td>Female</td>\n",
       "      <td>41</td>\n",
       "      <td>1.0</td>\n",
       "      <td>83807.86</td>\n",
       "      <td>1</td>\n",
       "      <td>0</td>\n",
       "      <td>1</td>\n",
       "      <td>112542.58</td>\n",
       "      <td>0</td>\n",
       "    </tr>\n",
       "    <tr>\n",
       "      <th>2</th>\n",
       "      <td>3</td>\n",
       "      <td>15619304</td>\n",
       "      <td>Onio</td>\n",
       "      <td>502</td>\n",
       "      <td>France</td>\n",
       "      <td>Female</td>\n",
       "      <td>42</td>\n",
       "      <td>8.0</td>\n",
       "      <td>159660.80</td>\n",
       "      <td>3</td>\n",
       "      <td>1</td>\n",
       "      <td>0</td>\n",
       "      <td>113931.57</td>\n",
       "      <td>1</td>\n",
       "    </tr>\n",
       "    <tr>\n",
       "      <th>3</th>\n",
       "      <td>4</td>\n",
       "      <td>15701354</td>\n",
       "      <td>Boni</td>\n",
       "      <td>699</td>\n",
       "      <td>France</td>\n",
       "      <td>Female</td>\n",
       "      <td>39</td>\n",
       "      <td>1.0</td>\n",
       "      <td>0.00</td>\n",
       "      <td>2</td>\n",
       "      <td>0</td>\n",
       "      <td>0</td>\n",
       "      <td>93826.63</td>\n",
       "      <td>0</td>\n",
       "    </tr>\n",
       "    <tr>\n",
       "      <th>4</th>\n",
       "      <td>5</td>\n",
       "      <td>15737888</td>\n",
       "      <td>Mitchell</td>\n",
       "      <td>850</td>\n",
       "      <td>Spain</td>\n",
       "      <td>Female</td>\n",
       "      <td>43</td>\n",
       "      <td>2.0</td>\n",
       "      <td>125510.82</td>\n",
       "      <td>1</td>\n",
       "      <td>1</td>\n",
       "      <td>1</td>\n",
       "      <td>79084.10</td>\n",
       "      <td>0</td>\n",
       "    </tr>\n",
       "    <tr>\n",
       "      <th>...</th>\n",
       "      <td>...</td>\n",
       "      <td>...</td>\n",
       "      <td>...</td>\n",
       "      <td>...</td>\n",
       "      <td>...</td>\n",
       "      <td>...</td>\n",
       "      <td>...</td>\n",
       "      <td>...</td>\n",
       "      <td>...</td>\n",
       "      <td>...</td>\n",
       "      <td>...</td>\n",
       "      <td>...</td>\n",
       "      <td>...</td>\n",
       "      <td>...</td>\n",
       "    </tr>\n",
       "    <tr>\n",
       "      <th>9995</th>\n",
       "      <td>9996</td>\n",
       "      <td>15606229</td>\n",
       "      <td>Obijiaku</td>\n",
       "      <td>771</td>\n",
       "      <td>France</td>\n",
       "      <td>Male</td>\n",
       "      <td>39</td>\n",
       "      <td>5.0</td>\n",
       "      <td>0.00</td>\n",
       "      <td>2</td>\n",
       "      <td>1</td>\n",
       "      <td>0</td>\n",
       "      <td>96270.64</td>\n",
       "      <td>0</td>\n",
       "    </tr>\n",
       "    <tr>\n",
       "      <th>9996</th>\n",
       "      <td>9997</td>\n",
       "      <td>15569892</td>\n",
       "      <td>Johnstone</td>\n",
       "      <td>516</td>\n",
       "      <td>France</td>\n",
       "      <td>Male</td>\n",
       "      <td>35</td>\n",
       "      <td>10.0</td>\n",
       "      <td>57369.61</td>\n",
       "      <td>1</td>\n",
       "      <td>1</td>\n",
       "      <td>1</td>\n",
       "      <td>101699.77</td>\n",
       "      <td>0</td>\n",
       "    </tr>\n",
       "    <tr>\n",
       "      <th>9997</th>\n",
       "      <td>9998</td>\n",
       "      <td>15584532</td>\n",
       "      <td>Liu</td>\n",
       "      <td>709</td>\n",
       "      <td>France</td>\n",
       "      <td>Female</td>\n",
       "      <td>36</td>\n",
       "      <td>7.0</td>\n",
       "      <td>0.00</td>\n",
       "      <td>1</td>\n",
       "      <td>0</td>\n",
       "      <td>1</td>\n",
       "      <td>42085.58</td>\n",
       "      <td>1</td>\n",
       "    </tr>\n",
       "    <tr>\n",
       "      <th>9998</th>\n",
       "      <td>9999</td>\n",
       "      <td>15682355</td>\n",
       "      <td>Sabbatini</td>\n",
       "      <td>772</td>\n",
       "      <td>Germany</td>\n",
       "      <td>Male</td>\n",
       "      <td>42</td>\n",
       "      <td>3.0</td>\n",
       "      <td>75075.31</td>\n",
       "      <td>2</td>\n",
       "      <td>1</td>\n",
       "      <td>0</td>\n",
       "      <td>92888.52</td>\n",
       "      <td>1</td>\n",
       "    </tr>\n",
       "    <tr>\n",
       "      <th>9999</th>\n",
       "      <td>10000</td>\n",
       "      <td>15628319</td>\n",
       "      <td>Walker</td>\n",
       "      <td>792</td>\n",
       "      <td>France</td>\n",
       "      <td>Female</td>\n",
       "      <td>28</td>\n",
       "      <td>NaN</td>\n",
       "      <td>130142.79</td>\n",
       "      <td>1</td>\n",
       "      <td>1</td>\n",
       "      <td>0</td>\n",
       "      <td>38190.78</td>\n",
       "      <td>0</td>\n",
       "    </tr>\n",
       "  </tbody>\n",
       "</table>\n",
       "<p>10000 rows × 14 columns</p>\n",
       "</div>"
      ],
      "text/plain": [
       "      RowNumber  CustomerId    Surname  CreditScore Geography  Gender  Age  \\\n",
       "0             1    15634602   Hargrave          619    France  Female   42   \n",
       "1             2    15647311       Hill          608     Spain  Female   41   \n",
       "2             3    15619304       Onio          502    France  Female   42   \n",
       "3             4    15701354       Boni          699    France  Female   39   \n",
       "4             5    15737888   Mitchell          850     Spain  Female   43   \n",
       "...         ...         ...        ...          ...       ...     ...  ...   \n",
       "9995       9996    15606229   Obijiaku          771    France    Male   39   \n",
       "9996       9997    15569892  Johnstone          516    France    Male   35   \n",
       "9997       9998    15584532        Liu          709    France  Female   36   \n",
       "9998       9999    15682355  Sabbatini          772   Germany    Male   42   \n",
       "9999      10000    15628319     Walker          792    France  Female   28   \n",
       "\n",
       "      Tenure    Balance  NumOfProducts  HasCrCard  IsActiveMember  \\\n",
       "0        2.0       0.00              1          1               1   \n",
       "1        1.0   83807.86              1          0               1   \n",
       "2        8.0  159660.80              3          1               0   \n",
       "3        1.0       0.00              2          0               0   \n",
       "4        2.0  125510.82              1          1               1   \n",
       "...      ...        ...            ...        ...             ...   \n",
       "9995     5.0       0.00              2          1               0   \n",
       "9996    10.0   57369.61              1          1               1   \n",
       "9997     7.0       0.00              1          0               1   \n",
       "9998     3.0   75075.31              2          1               0   \n",
       "9999     NaN  130142.79              1          1               0   \n",
       "\n",
       "      EstimatedSalary  Exited  \n",
       "0           101348.88       1  \n",
       "1           112542.58       0  \n",
       "2           113931.57       1  \n",
       "3            93826.63       0  \n",
       "4            79084.10       0  \n",
       "...               ...     ...  \n",
       "9995         96270.64       0  \n",
       "9996        101699.77       0  \n",
       "9997         42085.58       1  \n",
       "9998         92888.52       1  \n",
       "9999         38190.78       0  \n",
       "\n",
       "[10000 rows x 14 columns]"
      ]
     },
     "execution_count": 5,
     "metadata": {},
     "output_type": "execute_result"
    }
   ],
   "source": [
    "data"
   ]
  },
  {
   "cell_type": "code",
   "execution_count": 6,
   "metadata": {},
   "outputs": [],
   "source": [
    "# удаляю эти столбцы, тк они не влияют на уход клиента\n",
    "data.drop(['RowNumber', 'Surname', 'CustomerId'], axis=1, inplace=True)"
   ]
  },
  {
   "cell_type": "code",
   "execution_count": 7,
   "metadata": {},
   "outputs": [],
   "source": [
    "# нейминг\n",
    "data.rename(columns={\n",
    "    'CreditScore': 'credit_score',\n",
    "    'NumOfProducts': 'num_of_products',\n",
    "    'HasCrCard': 'has_cr_card',\n",
    "    'IsActiveMember': 'is_active_member',\n",
    "    'EstimatedSalary': 'estimated_salary'\n",
    "}, inplace=True)\n",
    "data.columns = data.columns.str.lower()"
   ]
  },
  {
   "cell_type": "code",
   "execution_count": 8,
   "metadata": {
    "scrolled": false
   },
   "outputs": [
    {
     "data": {
      "text/html": [
       "<div>\n",
       "<style scoped>\n",
       "    .dataframe tbody tr th:only-of-type {\n",
       "        vertical-align: middle;\n",
       "    }\n",
       "\n",
       "    .dataframe tbody tr th {\n",
       "        vertical-align: top;\n",
       "    }\n",
       "\n",
       "    .dataframe thead th {\n",
       "        text-align: right;\n",
       "    }\n",
       "</style>\n",
       "<table border=\"1\" class=\"dataframe\">\n",
       "  <thead>\n",
       "    <tr style=\"text-align: right;\">\n",
       "      <th></th>\n",
       "      <th>credit_score</th>\n",
       "      <th>geography</th>\n",
       "      <th>gender</th>\n",
       "      <th>age</th>\n",
       "      <th>tenure</th>\n",
       "      <th>balance</th>\n",
       "      <th>num_of_products</th>\n",
       "      <th>has_cr_card</th>\n",
       "      <th>is_active_member</th>\n",
       "      <th>estimated_salary</th>\n",
       "      <th>exited</th>\n",
       "    </tr>\n",
       "  </thead>\n",
       "  <tbody>\n",
       "    <tr>\n",
       "      <th>0</th>\n",
       "      <td>619</td>\n",
       "      <td>France</td>\n",
       "      <td>Female</td>\n",
       "      <td>42</td>\n",
       "      <td>2.0</td>\n",
       "      <td>0.00</td>\n",
       "      <td>1</td>\n",
       "      <td>1</td>\n",
       "      <td>1</td>\n",
       "      <td>101348.88</td>\n",
       "      <td>1</td>\n",
       "    </tr>\n",
       "    <tr>\n",
       "      <th>1</th>\n",
       "      <td>608</td>\n",
       "      <td>Spain</td>\n",
       "      <td>Female</td>\n",
       "      <td>41</td>\n",
       "      <td>1.0</td>\n",
       "      <td>83807.86</td>\n",
       "      <td>1</td>\n",
       "      <td>0</td>\n",
       "      <td>1</td>\n",
       "      <td>112542.58</td>\n",
       "      <td>0</td>\n",
       "    </tr>\n",
       "    <tr>\n",
       "      <th>2</th>\n",
       "      <td>502</td>\n",
       "      <td>France</td>\n",
       "      <td>Female</td>\n",
       "      <td>42</td>\n",
       "      <td>8.0</td>\n",
       "      <td>159660.80</td>\n",
       "      <td>3</td>\n",
       "      <td>1</td>\n",
       "      <td>0</td>\n",
       "      <td>113931.57</td>\n",
       "      <td>1</td>\n",
       "    </tr>\n",
       "    <tr>\n",
       "      <th>3</th>\n",
       "      <td>699</td>\n",
       "      <td>France</td>\n",
       "      <td>Female</td>\n",
       "      <td>39</td>\n",
       "      <td>1.0</td>\n",
       "      <td>0.00</td>\n",
       "      <td>2</td>\n",
       "      <td>0</td>\n",
       "      <td>0</td>\n",
       "      <td>93826.63</td>\n",
       "      <td>0</td>\n",
       "    </tr>\n",
       "    <tr>\n",
       "      <th>4</th>\n",
       "      <td>850</td>\n",
       "      <td>Spain</td>\n",
       "      <td>Female</td>\n",
       "      <td>43</td>\n",
       "      <td>2.0</td>\n",
       "      <td>125510.82</td>\n",
       "      <td>1</td>\n",
       "      <td>1</td>\n",
       "      <td>1</td>\n",
       "      <td>79084.10</td>\n",
       "      <td>0</td>\n",
       "    </tr>\n",
       "    <tr>\n",
       "      <th>...</th>\n",
       "      <td>...</td>\n",
       "      <td>...</td>\n",
       "      <td>...</td>\n",
       "      <td>...</td>\n",
       "      <td>...</td>\n",
       "      <td>...</td>\n",
       "      <td>...</td>\n",
       "      <td>...</td>\n",
       "      <td>...</td>\n",
       "      <td>...</td>\n",
       "      <td>...</td>\n",
       "    </tr>\n",
       "    <tr>\n",
       "      <th>9995</th>\n",
       "      <td>771</td>\n",
       "      <td>France</td>\n",
       "      <td>Male</td>\n",
       "      <td>39</td>\n",
       "      <td>5.0</td>\n",
       "      <td>0.00</td>\n",
       "      <td>2</td>\n",
       "      <td>1</td>\n",
       "      <td>0</td>\n",
       "      <td>96270.64</td>\n",
       "      <td>0</td>\n",
       "    </tr>\n",
       "    <tr>\n",
       "      <th>9996</th>\n",
       "      <td>516</td>\n",
       "      <td>France</td>\n",
       "      <td>Male</td>\n",
       "      <td>35</td>\n",
       "      <td>10.0</td>\n",
       "      <td>57369.61</td>\n",
       "      <td>1</td>\n",
       "      <td>1</td>\n",
       "      <td>1</td>\n",
       "      <td>101699.77</td>\n",
       "      <td>0</td>\n",
       "    </tr>\n",
       "    <tr>\n",
       "      <th>9997</th>\n",
       "      <td>709</td>\n",
       "      <td>France</td>\n",
       "      <td>Female</td>\n",
       "      <td>36</td>\n",
       "      <td>7.0</td>\n",
       "      <td>0.00</td>\n",
       "      <td>1</td>\n",
       "      <td>0</td>\n",
       "      <td>1</td>\n",
       "      <td>42085.58</td>\n",
       "      <td>1</td>\n",
       "    </tr>\n",
       "    <tr>\n",
       "      <th>9998</th>\n",
       "      <td>772</td>\n",
       "      <td>Germany</td>\n",
       "      <td>Male</td>\n",
       "      <td>42</td>\n",
       "      <td>3.0</td>\n",
       "      <td>75075.31</td>\n",
       "      <td>2</td>\n",
       "      <td>1</td>\n",
       "      <td>0</td>\n",
       "      <td>92888.52</td>\n",
       "      <td>1</td>\n",
       "    </tr>\n",
       "    <tr>\n",
       "      <th>9999</th>\n",
       "      <td>792</td>\n",
       "      <td>France</td>\n",
       "      <td>Female</td>\n",
       "      <td>28</td>\n",
       "      <td>NaN</td>\n",
       "      <td>130142.79</td>\n",
       "      <td>1</td>\n",
       "      <td>1</td>\n",
       "      <td>0</td>\n",
       "      <td>38190.78</td>\n",
       "      <td>0</td>\n",
       "    </tr>\n",
       "  </tbody>\n",
       "</table>\n",
       "<p>10000 rows × 11 columns</p>\n",
       "</div>"
      ],
      "text/plain": [
       "      credit_score geography  gender  age  tenure    balance  num_of_products  \\\n",
       "0              619    France  Female   42     2.0       0.00                1   \n",
       "1              608     Spain  Female   41     1.0   83807.86                1   \n",
       "2              502    France  Female   42     8.0  159660.80                3   \n",
       "3              699    France  Female   39     1.0       0.00                2   \n",
       "4              850     Spain  Female   43     2.0  125510.82                1   \n",
       "...            ...       ...     ...  ...     ...        ...              ...   \n",
       "9995           771    France    Male   39     5.0       0.00                2   \n",
       "9996           516    France    Male   35    10.0   57369.61                1   \n",
       "9997           709    France  Female   36     7.0       0.00                1   \n",
       "9998           772   Germany    Male   42     3.0   75075.31                2   \n",
       "9999           792    France  Female   28     NaN  130142.79                1   \n",
       "\n",
       "      has_cr_card  is_active_member  estimated_salary  exited  \n",
       "0               1                 1         101348.88       1  \n",
       "1               0                 1         112542.58       0  \n",
       "2               1                 0         113931.57       1  \n",
       "3               0                 0          93826.63       0  \n",
       "4               1                 1          79084.10       0  \n",
       "...           ...               ...               ...     ...  \n",
       "9995            1                 0          96270.64       0  \n",
       "9996            1                 1         101699.77       0  \n",
       "9997            0                 1          42085.58       1  \n",
       "9998            1                 0          92888.52       1  \n",
       "9999            1                 0          38190.78       0  \n",
       "\n",
       "[10000 rows x 11 columns]"
      ]
     },
     "execution_count": 8,
     "metadata": {},
     "output_type": "execute_result"
    }
   ],
   "source": [
    "data"
   ]
  },
  {
   "cell_type": "code",
   "execution_count": 9,
   "metadata": {},
   "outputs": [
    {
     "data": {
      "text/html": [
       "<div>\n",
       "<style scoped>\n",
       "    .dataframe tbody tr th:only-of-type {\n",
       "        vertical-align: middle;\n",
       "    }\n",
       "\n",
       "    .dataframe tbody tr th {\n",
       "        vertical-align: top;\n",
       "    }\n",
       "\n",
       "    .dataframe thead th {\n",
       "        text-align: right;\n",
       "    }\n",
       "</style>\n",
       "<table border=\"1\" class=\"dataframe\">\n",
       "  <thead>\n",
       "    <tr style=\"text-align: right;\">\n",
       "      <th></th>\n",
       "      <th>credit_score</th>\n",
       "      <th>age</th>\n",
       "      <th>tenure</th>\n",
       "      <th>balance</th>\n",
       "      <th>num_of_products</th>\n",
       "      <th>has_cr_card</th>\n",
       "      <th>is_active_member</th>\n",
       "      <th>estimated_salary</th>\n",
       "      <th>exited</th>\n",
       "    </tr>\n",
       "  </thead>\n",
       "  <tbody>\n",
       "    <tr>\n",
       "      <th>count</th>\n",
       "      <td>10000.000000</td>\n",
       "      <td>10000.000000</td>\n",
       "      <td>9091.000000</td>\n",
       "      <td>10000.000000</td>\n",
       "      <td>10000.000000</td>\n",
       "      <td>10000.00000</td>\n",
       "      <td>10000.000000</td>\n",
       "      <td>10000.000000</td>\n",
       "      <td>10000.000000</td>\n",
       "    </tr>\n",
       "    <tr>\n",
       "      <th>mean</th>\n",
       "      <td>650.528800</td>\n",
       "      <td>38.921800</td>\n",
       "      <td>4.997690</td>\n",
       "      <td>76485.889288</td>\n",
       "      <td>1.530200</td>\n",
       "      <td>0.70550</td>\n",
       "      <td>0.515100</td>\n",
       "      <td>100090.239881</td>\n",
       "      <td>0.203700</td>\n",
       "    </tr>\n",
       "    <tr>\n",
       "      <th>std</th>\n",
       "      <td>96.653299</td>\n",
       "      <td>10.487806</td>\n",
       "      <td>2.894723</td>\n",
       "      <td>62397.405202</td>\n",
       "      <td>0.581654</td>\n",
       "      <td>0.45584</td>\n",
       "      <td>0.499797</td>\n",
       "      <td>57510.492818</td>\n",
       "      <td>0.402769</td>\n",
       "    </tr>\n",
       "    <tr>\n",
       "      <th>min</th>\n",
       "      <td>350.000000</td>\n",
       "      <td>18.000000</td>\n",
       "      <td>0.000000</td>\n",
       "      <td>0.000000</td>\n",
       "      <td>1.000000</td>\n",
       "      <td>0.00000</td>\n",
       "      <td>0.000000</td>\n",
       "      <td>11.580000</td>\n",
       "      <td>0.000000</td>\n",
       "    </tr>\n",
       "    <tr>\n",
       "      <th>25%</th>\n",
       "      <td>584.000000</td>\n",
       "      <td>32.000000</td>\n",
       "      <td>2.000000</td>\n",
       "      <td>0.000000</td>\n",
       "      <td>1.000000</td>\n",
       "      <td>0.00000</td>\n",
       "      <td>0.000000</td>\n",
       "      <td>51002.110000</td>\n",
       "      <td>0.000000</td>\n",
       "    </tr>\n",
       "    <tr>\n",
       "      <th>50%</th>\n",
       "      <td>652.000000</td>\n",
       "      <td>37.000000</td>\n",
       "      <td>5.000000</td>\n",
       "      <td>97198.540000</td>\n",
       "      <td>1.000000</td>\n",
       "      <td>1.00000</td>\n",
       "      <td>1.000000</td>\n",
       "      <td>100193.915000</td>\n",
       "      <td>0.000000</td>\n",
       "    </tr>\n",
       "    <tr>\n",
       "      <th>75%</th>\n",
       "      <td>718.000000</td>\n",
       "      <td>44.000000</td>\n",
       "      <td>7.000000</td>\n",
       "      <td>127644.240000</td>\n",
       "      <td>2.000000</td>\n",
       "      <td>1.00000</td>\n",
       "      <td>1.000000</td>\n",
       "      <td>149388.247500</td>\n",
       "      <td>0.000000</td>\n",
       "    </tr>\n",
       "    <tr>\n",
       "      <th>max</th>\n",
       "      <td>850.000000</td>\n",
       "      <td>92.000000</td>\n",
       "      <td>10.000000</td>\n",
       "      <td>250898.090000</td>\n",
       "      <td>4.000000</td>\n",
       "      <td>1.00000</td>\n",
       "      <td>1.000000</td>\n",
       "      <td>199992.480000</td>\n",
       "      <td>1.000000</td>\n",
       "    </tr>\n",
       "  </tbody>\n",
       "</table>\n",
       "</div>"
      ],
      "text/plain": [
       "       credit_score           age       tenure        balance  \\\n",
       "count  10000.000000  10000.000000  9091.000000   10000.000000   \n",
       "mean     650.528800     38.921800     4.997690   76485.889288   \n",
       "std       96.653299     10.487806     2.894723   62397.405202   \n",
       "min      350.000000     18.000000     0.000000       0.000000   \n",
       "25%      584.000000     32.000000     2.000000       0.000000   \n",
       "50%      652.000000     37.000000     5.000000   97198.540000   \n",
       "75%      718.000000     44.000000     7.000000  127644.240000   \n",
       "max      850.000000     92.000000    10.000000  250898.090000   \n",
       "\n",
       "       num_of_products  has_cr_card  is_active_member  estimated_salary  \\\n",
       "count     10000.000000  10000.00000      10000.000000      10000.000000   \n",
       "mean          1.530200      0.70550          0.515100     100090.239881   \n",
       "std           0.581654      0.45584          0.499797      57510.492818   \n",
       "min           1.000000      0.00000          0.000000         11.580000   \n",
       "25%           1.000000      0.00000          0.000000      51002.110000   \n",
       "50%           1.000000      1.00000          1.000000     100193.915000   \n",
       "75%           2.000000      1.00000          1.000000     149388.247500   \n",
       "max           4.000000      1.00000          1.000000     199992.480000   \n",
       "\n",
       "             exited  \n",
       "count  10000.000000  \n",
       "mean       0.203700  \n",
       "std        0.402769  \n",
       "min        0.000000  \n",
       "25%        0.000000  \n",
       "50%        0.000000  \n",
       "75%        0.000000  \n",
       "max        1.000000  "
      ]
     },
     "execution_count": 9,
     "metadata": {},
     "output_type": "execute_result"
    }
   ],
   "source": [
    "data.describe()"
   ]
  },
  {
   "cell_type": "code",
   "execution_count": 10,
   "metadata": {},
   "outputs": [
    {
     "data": {
      "text/html": [
       "<div>\n",
       "<style scoped>\n",
       "    .dataframe tbody tr th:only-of-type {\n",
       "        vertical-align: middle;\n",
       "    }\n",
       "\n",
       "    .dataframe tbody tr th {\n",
       "        vertical-align: top;\n",
       "    }\n",
       "\n",
       "    .dataframe thead th {\n",
       "        text-align: right;\n",
       "    }\n",
       "</style>\n",
       "<table border=\"1\" class=\"dataframe\">\n",
       "  <thead>\n",
       "    <tr style=\"text-align: right;\">\n",
       "      <th></th>\n",
       "      <th>credit_score</th>\n",
       "      <th>geography</th>\n",
       "      <th>gender</th>\n",
       "      <th>age</th>\n",
       "      <th>tenure</th>\n",
       "      <th>balance</th>\n",
       "      <th>num_of_products</th>\n",
       "      <th>has_cr_card</th>\n",
       "      <th>is_active_member</th>\n",
       "      <th>estimated_salary</th>\n",
       "      <th>exited</th>\n",
       "    </tr>\n",
       "  </thead>\n",
       "  <tbody>\n",
       "    <tr>\n",
       "      <th>sum</th>\n",
       "      <td>0.0</td>\n",
       "      <td>0.0</td>\n",
       "      <td>0.0</td>\n",
       "      <td>0.0</td>\n",
       "      <td>909.0000</td>\n",
       "      <td>0.0</td>\n",
       "      <td>0.0</td>\n",
       "      <td>0.0</td>\n",
       "      <td>0.0</td>\n",
       "      <td>0.0</td>\n",
       "      <td>0.0</td>\n",
       "    </tr>\n",
       "    <tr>\n",
       "      <th>mean</th>\n",
       "      <td>0.0</td>\n",
       "      <td>0.0</td>\n",
       "      <td>0.0</td>\n",
       "      <td>0.0</td>\n",
       "      <td>0.0909</td>\n",
       "      <td>0.0</td>\n",
       "      <td>0.0</td>\n",
       "      <td>0.0</td>\n",
       "      <td>0.0</td>\n",
       "      <td>0.0</td>\n",
       "      <td>0.0</td>\n",
       "    </tr>\n",
       "  </tbody>\n",
       "</table>\n",
       "</div>"
      ],
      "text/plain": [
       "      credit_score  geography  gender  age    tenure  balance  \\\n",
       "sum            0.0        0.0     0.0  0.0  909.0000      0.0   \n",
       "mean           0.0        0.0     0.0  0.0    0.0909      0.0   \n",
       "\n",
       "      num_of_products  has_cr_card  is_active_member  estimated_salary  exited  \n",
       "sum               0.0          0.0               0.0               0.0     0.0  \n",
       "mean              0.0          0.0               0.0               0.0     0.0  "
      ]
     },
     "execution_count": 10,
     "metadata": {},
     "output_type": "execute_result"
    }
   ],
   "source": [
    "data.isna().agg(['sum', 'mean'])"
   ]
  },
  {
   "cell_type": "code",
   "execution_count": 11,
   "metadata": {
    "scrolled": true
   },
   "outputs": [
    {
     "name": "stdout",
     "output_type": "stream",
     "text": [
      "Медиана tenure: 5.0\n",
      "Среднее tenure: 4.997690023099769\n"
     ]
    }
   ],
   "source": [
    "print(f'Медиана tenure: {data[\"tenure\"].median()}')\n",
    "print(f'Среднее tenure: {data[\"tenure\"].mean()}')"
   ]
  },
  {
   "cell_type": "code",
   "execution_count": 12,
   "metadata": {},
   "outputs": [
    {
     "data": {
      "text/plain": [
       "0    7963\n",
       "1    2037\n",
       "Name: exited, dtype: int64"
      ]
     },
     "execution_count": 12,
     "metadata": {},
     "output_type": "execute_result"
    }
   ],
   "source": [
    "data['exited'].value_counts()"
   ]
  },
  {
   "cell_type": "code",
   "execution_count": 13,
   "metadata": {},
   "outputs": [
    {
     "data": {
      "image/png": "[encoded data removed]",
      "text/plain": [
       "<Figure size 1000x800 with 2 Axes>"
      ]
     },
     "metadata": {},
     "output_type": "display_data"
    }
   ],
   "source": [
    "plt.figure(figsize=(10, 8))\n",
    "sns.heatmap(data.corr(method='spearman'), annot=True, fmt='.2f')\n",
    "plt.title('Диаграмма корреляции признаков')\n",
    "plt.show()"
   ]
  },
  {
   "cell_type": "markdown",
   "metadata": {},
   "source": [
    "**Вывод:** Признак `RowNumber` копирует индекс, можно удалить.\n",
    "\n",
    "Признаки `Surname` и `CustomerId` уникальны и не дают никакой ценности для модели, тоже можно удалить.\n",
    "\n",
    "Пропуски только в признаке `tenure` (сколько лет человек является клиентом банка), заполнить можно заглушкой, либо средним значение/медианой. Стоит попробовать и то, и то - выберу по качеству модели. Так же стоит поменять тип данных на int в `tenure`.\n",
    "\n",
    "У целевого признака дисбаланс классов - 80 (нынешние клиенты) к 20 (бывшие клиенты). Обучу модели без баланса и с балансом.\n",
    "\n",
    "Видна линейная корреляция у факта ухода клиента (`exited`) с возрастом (`age`) и у баланса на счете (`balance`) с  количество продуктов банка (`num_of_products`)."
   ]
  },
  {
   "cell_type": "code",
   "execution_count": 14,
   "metadata": {},
   "outputs": [],
   "source": [
    "data['tenure'] = data['tenure'].fillna(data['tenure'].median())"
   ]
  },
  {
   "cell_type": "code",
   "execution_count": 15,
   "metadata": {},
   "outputs": [],
   "source": [
    "data['tenure'] = data['tenure'].astype('int')"
   ]
  },
  {
   "cell_type": "markdown",
   "metadata": {},
   "source": [
    "## Исследование задачи"
   ]
  },
  {
   "cell_type": "markdown",
   "metadata": {},
   "source": [
    "### Создание выборок"
   ]
  },
  {
   "cell_type": "code",
   "execution_count": 16,
   "metadata": {},
   "outputs": [],
   "source": [
    "features = data.drop(['exited'], axis=1)\n",
    "target = data['exited']\n",
    "\n",
    "features_train, features, target_train, target = train_test_split(features, target, test_size=0.2, random_state=RANDOM_STATE)\n",
    "features_valid, features_test, target_valid, target_test = train_test_split(features, target, test_size=0.5, random_state=RANDOM_STATE)"
   ]
  },
  {
   "cell_type": "code",
   "execution_count": 17,
   "metadata": {},
   "outputs": [
    {
     "name": "stdout",
     "output_type": "stream",
     "text": [
      "(8000,) (1000,) (1000,)\n"
     ]
    }
   ],
   "source": [
    "print(target_train.shape, target_valid.shape, target_test.shape)"
   ]
  },
  {
   "cell_type": "code",
   "execution_count": 18,
   "metadata": {},
   "outputs": [
    {
     "data": {
      "text/plain": [
       "array(['France', 'Spain', 'Germany'], dtype=object)"
      ]
     },
     "execution_count": 18,
     "metadata": {},
     "output_type": "execute_result"
    }
   ],
   "source": [
    "# проверяю сколько значений, тк для каждого добавяться новые столбцы\n",
    "data['geography'].unique()"
   ]
  },
  {
   "cell_type": "code",
   "execution_count": 19,
   "metadata": {},
   "outputs": [
    {
     "data": {
      "text/plain": [
       "array(['Female', 'Male'], dtype=object)"
      ]
     },
     "execution_count": 19,
     "metadata": {},
     "output_type": "execute_result"
    }
   ],
   "source": [
    "data['gender'].unique()"
   ]
  },
  {
   "cell_type": "code",
   "execution_count": 20,
   "metadata": {},
   "outputs": [],
   "source": [
    "encoder = OneHotEncoder(handle_unknown='ignore', drop='first', sparse=False)\n",
    "encoder.fit(features_train[['geography', 'gender']])\n",
    "features_train[encoder.get_feature_names_out()] = encoder.transform(features_train[['geography', 'gender']])\n",
    "features_train = features_train.drop(['geography', 'gender'], axis=1)\n",
    "\n",
    "features_valid[encoder.get_feature_names_out()] = encoder.transform(features_valid[['geography', 'gender']])\n",
    "features_valid = features_valid.drop(['geography', 'gender'], axis=1)\n",
    "\n",
    "features_test[encoder.get_feature_names_out()] = encoder.transform(features_test[['geography', 'gender']])\n",
    "features_test = features_test.drop(['geography', 'gender'], axis=1)"
   ]
  },
  {
   "cell_type": "code",
   "execution_count": 21,
   "metadata": {},
   "outputs": [
    {
     "data": {
      "text/html": [
       "<div>\n",
       "<style scoped>\n",
       "    .dataframe tbody tr th:only-of-type {\n",
       "        vertical-align: middle;\n",
       "    }\n",
       "\n",
       "    .dataframe tbody tr th {\n",
       "        vertical-align: top;\n",
       "    }\n",
       "\n",
       "    .dataframe thead th {\n",
       "        text-align: right;\n",
       "    }\n",
       "</style>\n",
       "<table border=\"1\" class=\"dataframe\">\n",
       "  <thead>\n",
       "    <tr style=\"text-align: right;\">\n",
       "      <th></th>\n",
       "      <th>credit_score</th>\n",
       "      <th>age</th>\n",
       "      <th>tenure</th>\n",
       "      <th>balance</th>\n",
       "      <th>num_of_products</th>\n",
       "      <th>has_cr_card</th>\n",
       "      <th>is_active_member</th>\n",
       "      <th>estimated_salary</th>\n",
       "      <th>geography_Germany</th>\n",
       "      <th>geography_Spain</th>\n",
       "      <th>gender_Male</th>\n",
       "    </tr>\n",
       "  </thead>\n",
       "  <tbody>\n",
       "    <tr>\n",
       "      <th>454</th>\n",
       "      <td>758</td>\n",
       "      <td>39</td>\n",
       "      <td>6</td>\n",
       "      <td>127357.76</td>\n",
       "      <td>1</td>\n",
       "      <td>0</td>\n",
       "      <td>1</td>\n",
       "      <td>56577.00</td>\n",
       "      <td>0.0</td>\n",
       "      <td>0.0</td>\n",
       "      <td>0.0</td>\n",
       "    </tr>\n",
       "    <tr>\n",
       "      <th>8307</th>\n",
       "      <td>618</td>\n",
       "      <td>30</td>\n",
       "      <td>3</td>\n",
       "      <td>133844.22</td>\n",
       "      <td>1</td>\n",
       "      <td>1</td>\n",
       "      <td>1</td>\n",
       "      <td>31406.93</td>\n",
       "      <td>0.0</td>\n",
       "      <td>0.0</td>\n",
       "      <td>1.0</td>\n",
       "    </tr>\n",
       "    <tr>\n",
       "      <th>4811</th>\n",
       "      <td>575</td>\n",
       "      <td>26</td>\n",
       "      <td>7</td>\n",
       "      <td>0.00</td>\n",
       "      <td>2</td>\n",
       "      <td>1</td>\n",
       "      <td>0</td>\n",
       "      <td>112507.63</td>\n",
       "      <td>0.0</td>\n",
       "      <td>1.0</td>\n",
       "      <td>0.0</td>\n",
       "    </tr>\n",
       "    <tr>\n",
       "      <th>1132</th>\n",
       "      <td>628</td>\n",
       "      <td>37</td>\n",
       "      <td>5</td>\n",
       "      <td>0.00</td>\n",
       "      <td>2</td>\n",
       "      <td>1</td>\n",
       "      <td>1</td>\n",
       "      <td>171707.93</td>\n",
       "      <td>0.0</td>\n",
       "      <td>0.0</td>\n",
       "      <td>1.0</td>\n",
       "    </tr>\n",
       "    <tr>\n",
       "      <th>9640</th>\n",
       "      <td>750</td>\n",
       "      <td>35</td>\n",
       "      <td>3</td>\n",
       "      <td>0.00</td>\n",
       "      <td>1</td>\n",
       "      <td>1</td>\n",
       "      <td>0</td>\n",
       "      <td>191520.50</td>\n",
       "      <td>0.0</td>\n",
       "      <td>0.0</td>\n",
       "      <td>0.0</td>\n",
       "    </tr>\n",
       "    <tr>\n",
       "      <th>...</th>\n",
       "      <td>...</td>\n",
       "      <td>...</td>\n",
       "      <td>...</td>\n",
       "      <td>...</td>\n",
       "      <td>...</td>\n",
       "      <td>...</td>\n",
       "      <td>...</td>\n",
       "      <td>...</td>\n",
       "      <td>...</td>\n",
       "      <td>...</td>\n",
       "      <td>...</td>\n",
       "    </tr>\n",
       "    <tr>\n",
       "      <th>4478</th>\n",
       "      <td>549</td>\n",
       "      <td>31</td>\n",
       "      <td>4</td>\n",
       "      <td>0.00</td>\n",
       "      <td>2</td>\n",
       "      <td>0</td>\n",
       "      <td>1</td>\n",
       "      <td>25684.85</td>\n",
       "      <td>0.0</td>\n",
       "      <td>0.0</td>\n",
       "      <td>1.0</td>\n",
       "    </tr>\n",
       "    <tr>\n",
       "      <th>4094</th>\n",
       "      <td>513</td>\n",
       "      <td>29</td>\n",
       "      <td>10</td>\n",
       "      <td>0.00</td>\n",
       "      <td>2</td>\n",
       "      <td>0</td>\n",
       "      <td>1</td>\n",
       "      <td>25514.77</td>\n",
       "      <td>0.0</td>\n",
       "      <td>0.0</td>\n",
       "      <td>1.0</td>\n",
       "    </tr>\n",
       "    <tr>\n",
       "      <th>3492</th>\n",
       "      <td>655</td>\n",
       "      <td>45</td>\n",
       "      <td>5</td>\n",
       "      <td>57327.04</td>\n",
       "      <td>1</td>\n",
       "      <td>0</td>\n",
       "      <td>1</td>\n",
       "      <td>47349.00</td>\n",
       "      <td>0.0</td>\n",
       "      <td>0.0</td>\n",
       "      <td>0.0</td>\n",
       "    </tr>\n",
       "    <tr>\n",
       "      <th>2177</th>\n",
       "      <td>667</td>\n",
       "      <td>24</td>\n",
       "      <td>4</td>\n",
       "      <td>0.00</td>\n",
       "      <td>2</td>\n",
       "      <td>0</td>\n",
       "      <td>1</td>\n",
       "      <td>34335.55</td>\n",
       "      <td>0.0</td>\n",
       "      <td>0.0</td>\n",
       "      <td>0.0</td>\n",
       "    </tr>\n",
       "    <tr>\n",
       "      <th>4578</th>\n",
       "      <td>691</td>\n",
       "      <td>38</td>\n",
       "      <td>1</td>\n",
       "      <td>0.00</td>\n",
       "      <td>2</td>\n",
       "      <td>0</td>\n",
       "      <td>0</td>\n",
       "      <td>44653.50</td>\n",
       "      <td>0.0</td>\n",
       "      <td>0.0</td>\n",
       "      <td>1.0</td>\n",
       "    </tr>\n",
       "  </tbody>\n",
       "</table>\n",
       "<p>8000 rows × 11 columns</p>\n",
       "</div>"
      ],
      "text/plain": [
       "      credit_score  age  tenure    balance  num_of_products  has_cr_card  \\\n",
       "454            758   39       6  127357.76                1            0   \n",
       "8307           618   30       3  133844.22                1            1   \n",
       "4811           575   26       7       0.00                2            1   \n",
       "1132           628   37       5       0.00                2            1   \n",
       "9640           750   35       3       0.00                1            1   \n",
       "...            ...  ...     ...        ...              ...          ...   \n",
       "4478           549   31       4       0.00                2            0   \n",
       "4094           513   29      10       0.00                2            0   \n",
       "3492           655   45       5   57327.04                1            0   \n",
       "2177           667   24       4       0.00                2            0   \n",
       "4578           691   38       1       0.00                2            0   \n",
       "\n",
       "      is_active_member  estimated_salary  geography_Germany  geography_Spain  \\\n",
       "454                  1          56577.00                0.0              0.0   \n",
       "8307                 1          31406.93                0.0              0.0   \n",
       "4811                 0         112507.63                0.0              1.0   \n",
       "1132                 1         171707.93                0.0              0.0   \n",
       "9640                 0         191520.50                0.0              0.0   \n",
       "...                ...               ...                ...              ...   \n",
       "4478                 1          25684.85                0.0              0.0   \n",
       "4094                 1          25514.77                0.0              0.0   \n",
       "3492                 1          47349.00                0.0              0.0   \n",
       "2177                 1          34335.55                0.0              0.0   \n",
       "4578                 0          44653.50                0.0              0.0   \n",
       "\n",
       "      gender_Male  \n",
       "454           0.0  \n",
       "8307          1.0  \n",
       "4811          0.0  \n",
       "1132          1.0  \n",
       "9640          0.0  \n",
       "...           ...  \n",
       "4478          1.0  \n",
       "4094          1.0  \n",
       "3492          0.0  \n",
       "2177          0.0  \n",
       "4578          1.0  \n",
       "\n",
       "[8000 rows x 11 columns]"
      ]
     },
     "execution_count": 21,
     "metadata": {},
     "output_type": "execute_result"
    }
   ],
   "source": [
    "features_train"
   ]
  },
  {
   "cell_type": "code",
   "execution_count": 22,
   "metadata": {},
   "outputs": [],
   "source": [
    "# скейлю количественные переменные\n",
    "col_sc = ['credit_score', 'age', 'tenure', 'balance', 'num_of_products', 'estimated_salary']\n",
    "scaler = StandardScaler()\n",
    "scaler.fit(features_train[col_sc])\n",
    "features_train[col_sc] = scaler.transform(features_train[col_sc])"
   ]
  },
  {
   "cell_type": "code",
   "execution_count": 23,
   "metadata": {
    "scrolled": false
   },
   "outputs": [
    {
     "data": {
      "text/html": [
       "<div>\n",
       "<style scoped>\n",
       "    .dataframe tbody tr th:only-of-type {\n",
       "        vertical-align: middle;\n",
       "    }\n",
       "\n",
       "    .dataframe tbody tr th {\n",
       "        vertical-align: top;\n",
       "    }\n",
       "\n",
       "    .dataframe thead th {\n",
       "        text-align: right;\n",
       "    }\n",
       "</style>\n",
       "<table border=\"1\" class=\"dataframe\">\n",
       "  <thead>\n",
       "    <tr style=\"text-align: right;\">\n",
       "      <th></th>\n",
       "      <th>credit_score</th>\n",
       "      <th>age</th>\n",
       "      <th>tenure</th>\n",
       "      <th>balance</th>\n",
       "      <th>num_of_products</th>\n",
       "      <th>has_cr_card</th>\n",
       "      <th>is_active_member</th>\n",
       "      <th>estimated_salary</th>\n",
       "      <th>geography_Germany</th>\n",
       "      <th>geography_Spain</th>\n",
       "      <th>gender_Male</th>\n",
       "    </tr>\n",
       "  </thead>\n",
       "  <tbody>\n",
       "    <tr>\n",
       "      <th>454</th>\n",
       "      <td>1.107585</td>\n",
       "      <td>0.011482</td>\n",
       "      <td>0.358552</td>\n",
       "      <td>0.819420</td>\n",
       "      <td>-0.899779</td>\n",
       "      <td>0</td>\n",
       "      <td>1</td>\n",
       "      <td>-0.757878</td>\n",
       "      <td>0.0</td>\n",
       "      <td>0.0</td>\n",
       "      <td>0.0</td>\n",
       "    </tr>\n",
       "    <tr>\n",
       "      <th>8307</th>\n",
       "      <td>-0.338704</td>\n",
       "      <td>-0.844298</td>\n",
       "      <td>-0.730444</td>\n",
       "      <td>0.923294</td>\n",
       "      <td>-0.899779</td>\n",
       "      <td>1</td>\n",
       "      <td>1</td>\n",
       "      <td>-1.194506</td>\n",
       "      <td>0.0</td>\n",
       "      <td>0.0</td>\n",
       "      <td>1.0</td>\n",
       "    </tr>\n",
       "    <tr>\n",
       "      <th>4811</th>\n",
       "      <td>-0.782922</td>\n",
       "      <td>-1.224645</td>\n",
       "      <td>0.721550</td>\n",
       "      <td>-1.220083</td>\n",
       "      <td>0.811234</td>\n",
       "      <td>1</td>\n",
       "      <td>0</td>\n",
       "      <td>0.212357</td>\n",
       "      <td>0.0</td>\n",
       "      <td>1.0</td>\n",
       "      <td>0.0</td>\n",
       "    </tr>\n",
       "    <tr>\n",
       "      <th>1132</th>\n",
       "      <td>-0.235398</td>\n",
       "      <td>-0.178692</td>\n",
       "      <td>-0.004447</td>\n",
       "      <td>-1.220083</td>\n",
       "      <td>0.811234</td>\n",
       "      <td>1</td>\n",
       "      <td>1</td>\n",
       "      <td>1.239310</td>\n",
       "      <td>0.0</td>\n",
       "      <td>0.0</td>\n",
       "      <td>1.0</td>\n",
       "    </tr>\n",
       "    <tr>\n",
       "      <th>9640</th>\n",
       "      <td>1.024940</td>\n",
       "      <td>-0.368865</td>\n",
       "      <td>-0.730444</td>\n",
       "      <td>-1.220083</td>\n",
       "      <td>-0.899779</td>\n",
       "      <td>1</td>\n",
       "      <td>0</td>\n",
       "      <td>1.583001</td>\n",
       "      <td>0.0</td>\n",
       "      <td>0.0</td>\n",
       "      <td>0.0</td>\n",
       "    </tr>\n",
       "  </tbody>\n",
       "</table>\n",
       "</div>"
      ],
      "text/plain": [
       "      credit_score       age    tenure   balance  num_of_products  \\\n",
       "454       1.107585  0.011482  0.358552  0.819420        -0.899779   \n",
       "8307     -0.338704 -0.844298 -0.730444  0.923294        -0.899779   \n",
       "4811     -0.782922 -1.224645  0.721550 -1.220083         0.811234   \n",
       "1132     -0.235398 -0.178692 -0.004447 -1.220083         0.811234   \n",
       "9640      1.024940 -0.368865 -0.730444 -1.220083        -0.899779   \n",
       "\n",
       "      has_cr_card  is_active_member  estimated_salary  geography_Germany  \\\n",
       "454             0                 1         -0.757878                0.0   \n",
       "8307            1                 1         -1.194506                0.0   \n",
       "4811            1                 0          0.212357                0.0   \n",
       "1132            1                 1          1.239310                0.0   \n",
       "9640            1                 0          1.583001                0.0   \n",
       "\n",
       "      geography_Spain  gender_Male  \n",
       "454               0.0          0.0  \n",
       "8307              0.0          1.0  \n",
       "4811              1.0          0.0  \n",
       "1132              0.0          1.0  \n",
       "9640              0.0          0.0  "
      ]
     },
     "execution_count": 23,
     "metadata": {},
     "output_type": "execute_result"
    }
   ],
   "source": [
    "features_train.head()"
   ]
  },
  {
   "cell_type": "code",
   "execution_count": 24,
   "metadata": {},
   "outputs": [],
   "source": [
    "features_valid[col_sc] = scaler.transform(features_valid[col_sc])\n",
    "features_test[col_sc] = scaler.transform(features_test[col_sc])"
   ]
  },
  {
   "cell_type": "code",
   "execution_count": 25,
   "metadata": {},
   "outputs": [
    {
     "data": {
      "text/html": [
       "<div>\n",
       "<style scoped>\n",
       "    .dataframe tbody tr th:only-of-type {\n",
       "        vertical-align: middle;\n",
       "    }\n",
       "\n",
       "    .dataframe tbody tr th {\n",
       "        vertical-align: top;\n",
       "    }\n",
       "\n",
       "    .dataframe thead th {\n",
       "        text-align: right;\n",
       "    }\n",
       "</style>\n",
       "<table border=\"1\" class=\"dataframe\">\n",
       "  <thead>\n",
       "    <tr style=\"text-align: right;\">\n",
       "      <th></th>\n",
       "      <th>credit_score</th>\n",
       "      <th>age</th>\n",
       "      <th>tenure</th>\n",
       "      <th>balance</th>\n",
       "      <th>num_of_products</th>\n",
       "      <th>has_cr_card</th>\n",
       "      <th>is_active_member</th>\n",
       "      <th>estimated_salary</th>\n",
       "      <th>geography_Germany</th>\n",
       "      <th>geography_Spain</th>\n",
       "      <th>gender_Male</th>\n",
       "    </tr>\n",
       "  </thead>\n",
       "  <tbody>\n",
       "    <tr>\n",
       "      <th>2877</th>\n",
       "      <td>0.064191</td>\n",
       "      <td>2.673909</td>\n",
       "      <td>-0.004447</td>\n",
       "      <td>0.698158</td>\n",
       "      <td>0.811234</td>\n",
       "      <td>1</td>\n",
       "      <td>1</td>\n",
       "      <td>0.126084</td>\n",
       "      <td>0.0</td>\n",
       "      <td>1.0</td>\n",
       "      <td>1.0</td>\n",
       "    </tr>\n",
       "    <tr>\n",
       "      <th>8377</th>\n",
       "      <td>1.562133</td>\n",
       "      <td>0.106568</td>\n",
       "      <td>-0.367445</td>\n",
       "      <td>-1.220083</td>\n",
       "      <td>0.811234</td>\n",
       "      <td>1</td>\n",
       "      <td>1</td>\n",
       "      <td>-0.318457</td>\n",
       "      <td>0.0</td>\n",
       "      <td>1.0</td>\n",
       "      <td>1.0</td>\n",
       "    </tr>\n",
       "    <tr>\n",
       "      <th>154</th>\n",
       "      <td>-0.380027</td>\n",
       "      <td>0.391828</td>\n",
       "      <td>0.358552</td>\n",
       "      <td>-1.220083</td>\n",
       "      <td>0.811234</td>\n",
       "      <td>1</td>\n",
       "      <td>1</td>\n",
       "      <td>0.152230</td>\n",
       "      <td>0.0</td>\n",
       "      <td>0.0</td>\n",
       "      <td>0.0</td>\n",
       "    </tr>\n",
       "    <tr>\n",
       "      <th>4937</th>\n",
       "      <td>-0.762260</td>\n",
       "      <td>-0.273778</td>\n",
       "      <td>-0.730444</td>\n",
       "      <td>0.719088</td>\n",
       "      <td>0.811234</td>\n",
       "      <td>0</td>\n",
       "      <td>1</td>\n",
       "      <td>0.754901</td>\n",
       "      <td>0.0</td>\n",
       "      <td>0.0</td>\n",
       "      <td>1.0</td>\n",
       "    </tr>\n",
       "    <tr>\n",
       "      <th>9041</th>\n",
       "      <td>-1.423421</td>\n",
       "      <td>0.962348</td>\n",
       "      <td>-0.004447</td>\n",
       "      <td>1.527934</td>\n",
       "      <td>-0.899779</td>\n",
       "      <td>1</td>\n",
       "      <td>0</td>\n",
       "      <td>0.450293</td>\n",
       "      <td>1.0</td>\n",
       "      <td>0.0</td>\n",
       "      <td>0.0</td>\n",
       "    </tr>\n",
       "  </tbody>\n",
       "</table>\n",
       "</div>"
      ],
      "text/plain": [
       "      credit_score       age    tenure   balance  num_of_products  \\\n",
       "2877      0.064191  2.673909 -0.004447  0.698158         0.811234   \n",
       "8377      1.562133  0.106568 -0.367445 -1.220083         0.811234   \n",
       "154      -0.380027  0.391828  0.358552 -1.220083         0.811234   \n",
       "4937     -0.762260 -0.273778 -0.730444  0.719088         0.811234   \n",
       "9041     -1.423421  0.962348 -0.004447  1.527934        -0.899779   \n",
       "\n",
       "      has_cr_card  is_active_member  estimated_salary  geography_Germany  \\\n",
       "2877            1                 1          0.126084                0.0   \n",
       "8377            1                 1         -0.318457                0.0   \n",
       "154             1                 1          0.152230                0.0   \n",
       "4937            0                 1          0.754901                0.0   \n",
       "9041            1                 0          0.450293                1.0   \n",
       "\n",
       "      geography_Spain  gender_Male  \n",
       "2877              1.0          1.0  \n",
       "8377              1.0          1.0  \n",
       "154               0.0          0.0  \n",
       "4937              0.0          1.0  \n",
       "9041              0.0          0.0  "
      ]
     },
     "execution_count": 25,
     "metadata": {},
     "output_type": "execute_result"
    }
   ],
   "source": [
    "features_test.head()"
   ]
  },
  {
   "cell_type": "markdown",
   "metadata": {},
   "source": [
    "**Вывод:** Разделила три выборки - обучающую (80%), валидационную (10%) и тестовую (10%). Применила OHE к признакам `geography` и `gender`. Заскейлила количественные переменные."
   ]
  },
  {
   "cell_type": "markdown",
   "metadata": {},
   "source": [
    "### Обучение моделей"
   ]
  },
  {
   "cell_type": "code",
   "execution_count": 26,
   "metadata": {},
   "outputs": [],
   "source": [
    "def scoring_model(model):\n",
    "    print(f'Лучшие параметры: {model.best_params_}')\n",
    "    print(f'F1-мера на валидационной выборке: {f1_score(target_valid, model.predict(features_valid))}')\n",
    "    print(f'ROC-AUC на валидационной выборке: {roc_auc_score(target_valid, model.predict_proba(features_valid)[:, 1])}')\n",
    "    return f1_score(target_valid, model.predict(features_valid)), roc_auc_score(target_valid, model.predict_proba(features_valid)[:, 1])"
   ]
  },
  {
   "cell_type": "code",
   "execution_count": 27,
   "metadata": {},
   "outputs": [
    {
     "name": "stdout",
     "output_type": "stream",
     "text": [
      "Лучшие параметры: {'class_weight': 'balanced', 'criterion': 'entropy', 'max_depth': 10, 'n_estimators': 40}\n",
      "F1-мера на валидационной выборке: 0.6534216335540839\n",
      "ROC-AUC на валидационной выборке: 0.8591598566308245\n"
     ]
    }
   ],
   "source": [
    "parametrs = {\n",
    "    'n_estimators': range(20, 51, 5),\n",
    "    'max_depth': range(6, 17, 2),\n",
    "    'class_weight': ['balanced', None],\n",
    "    'criterion': ['gini', 'entropy']\n",
    "}\n",
    "grid_rfc = GridSearchCV(\n",
    "    RandomForestClassifier(random_state=RANDOM_STATE),\n",
    "    parametrs,\n",
    "    cv=5,\n",
    "    scoring='f1',\n",
    "    n_jobs=-1\n",
    ")\n",
    "grid_rfc.fit(features_train, target_train)\n",
    "f1_rfc, roc_auc_rfc = scoring_model(grid_rfc)"
   ]
  },
  {
   "cell_type": "code",
   "execution_count": 28,
   "metadata": {},
   "outputs": [
    {
     "name": "stdout",
     "output_type": "stream",
     "text": [
      "Лучшие параметры: {'class_weight': 'balanced', 'criterion': 'gini', 'max_depth': 6}\n",
      "F1-мера на валидационной выборке: 0.6059544658493871\n",
      "ROC-AUC на валидационной выборке: 0.8408602150537635\n"
     ]
    }
   ],
   "source": [
    "parametrs = {\n",
    "    'max_depth': range(3, 21),\n",
    "    'criterion': ['gini', 'entropy'],\n",
    "    'class_weight': ['balanced', None]\n",
    "}\n",
    "grid_dtc = GridSearchCV(\n",
    "    DecisionTreeClassifier(random_state=RANDOM_STATE),\n",
    "    parametrs, \n",
    "    cv=5, \n",
    "    scoring='f1',\n",
    "    n_jobs=-1)\n",
    "grid_dtc.fit(features_train, target_train)\n",
    "f1_dtc, roc_auc_dtc = scoring_model(grid_dtc)"
   ]
  },
  {
   "cell_type": "code",
   "execution_count": 29,
   "metadata": {},
   "outputs": [
    {
     "name": "stdout",
     "output_type": "stream",
     "text": [
      "Лучшие параметры: {'C': 0.1, 'class_weight': 'balanced', 'penalty': 'l1'}\n",
      "F1-мера на валидационной выборке: 0.5159235668789809\n",
      "ROC-AUC на валидационной выборке: 0.7632114695340502\n"
     ]
    }
   ],
   "source": [
    "parametrs = {\n",
    "    'C': [.1, .5, 1],\n",
    "    'penalty': ['l1', 'l2'],\n",
    "    'class_weight': ['balanced', None]\n",
    "}\n",
    "grid_lr = GridSearchCV(\n",
    "    LogisticRegression(random_state=RANDOM_STATE, solver='liblinear'),\n",
    "    parametrs, \n",
    "    cv=5, \n",
    "    scoring='f1',\n",
    "    n_jobs=-1)\n",
    "grid_lr.fit(features_train, target_train)\n",
    "f1_lr, roc_auc_lr = scoring_model(grid_lr)"
   ]
  },
  {
   "cell_type": "code",
   "execution_count": 30,
   "metadata": {},
   "outputs": [
    {
     "data": {
      "text/html": [
       "<div>\n",
       "<style scoped>\n",
       "    .dataframe tbody tr th:only-of-type {\n",
       "        vertical-align: middle;\n",
       "    }\n",
       "\n",
       "    .dataframe tbody tr th {\n",
       "        vertical-align: top;\n",
       "    }\n",
       "\n",
       "    .dataframe thead th {\n",
       "        text-align: right;\n",
       "    }\n",
       "</style>\n",
       "<table border=\"1\" class=\"dataframe\">\n",
       "  <thead>\n",
       "    <tr style=\"text-align: right;\">\n",
       "      <th></th>\n",
       "      <th>F1-мера</th>\n",
       "      <th>ROC_AUC</th>\n",
       "      <th>Порог</th>\n",
       "    </tr>\n",
       "  </thead>\n",
       "  <tbody>\n",
       "    <tr>\n",
       "      <th>RandomForest</th>\n",
       "      <td>0.653422</td>\n",
       "      <td>0.859160</td>\n",
       "      <td>True</td>\n",
       "    </tr>\n",
       "    <tr>\n",
       "      <th>DecisionTree</th>\n",
       "      <td>0.605954</td>\n",
       "      <td>0.840860</td>\n",
       "      <td>True</td>\n",
       "    </tr>\n",
       "    <tr>\n",
       "      <th>LogisticRegression</th>\n",
       "      <td>0.515924</td>\n",
       "      <td>0.763211</td>\n",
       "      <td>False</td>\n",
       "    </tr>\n",
       "  </tbody>\n",
       "</table>\n",
       "</div>"
      ],
      "text/plain": [
       "                     F1-мера   ROC_AUC  Порог\n",
       "RandomForest        0.653422  0.859160   True\n",
       "DecisionTree        0.605954  0.840860   True\n",
       "LogisticRegression  0.515924  0.763211  False"
      ]
     },
     "execution_count": 30,
     "metadata": {},
     "output_type": "execute_result"
    }
   ],
   "source": [
    "pd.DataFrame(\n",
    "    {\n",
    "        'F1-мера': [f1_rfc, f1_dtc, f1_lr], \n",
    "        'ROC_AUC': [roc_auc_rfc, roc_auc_dtc, roc_auc_lr],\n",
    "        'Порог': [.59 < i for i in [f1_rfc, f1_dtc, f1_lr]]\n",
    "    }, \n",
    "    index=['RandomForest', 'DecisionTree', 'LogisticRegression']\n",
    ")"
   ]
  },
  {
   "cell_type": "markdown",
   "metadata": {},
   "source": [
    "**Вывод:** Только одна из моделей показала допустимое качество. Перестрахуюсь - перехожу к борьбе с дисбалансом."
   ]
  },
  {
   "cell_type": "markdown",
   "metadata": {},
   "source": [
    "## Борьба с дисбалансом"
   ]
  },
  {
   "cell_type": "markdown",
   "metadata": {},
   "source": [
    "Очень сильный дисбаланс - 80 к 20. Уменьшить выборку не самая лучшая идея, учитывая, что придется просто откинуть 60% данных. Но попробую и уменьшить."
   ]
  },
  {
   "cell_type": "markdown",
   "metadata": {},
   "source": [
    "### Уменьшение выборки"
   ]
  },
  {
   "cell_type": "code",
   "execution_count": 31,
   "metadata": {},
   "outputs": [],
   "source": [
    "downsample = RandomUnderSampler(random_state=RANDOM_STATE)\n",
    "features_downsampled, target_downsampled = downsample.fit_resample(features_train, target_train)"
   ]
  },
  {
   "cell_type": "code",
   "execution_count": 32,
   "metadata": {},
   "outputs": [
    {
     "data": {
      "text/plain": [
       "0    1610\n",
       "1    1610\n",
       "Name: exited, dtype: int64"
      ]
     },
     "execution_count": 32,
     "metadata": {},
     "output_type": "execute_result"
    }
   ],
   "source": [
    "target_downsampled.value_counts()"
   ]
  },
  {
   "cell_type": "code",
   "execution_count": 33,
   "metadata": {},
   "outputs": [
    {
     "name": "stdout",
     "output_type": "stream",
     "text": [
      "Лучшие параметры: {'criterion': 'entropy', 'max_depth': 14, 'n_estimators': 50}\n",
      "F1-мера на валидационной выборке: 0.6067019400352733\n",
      "ROC-AUC на валидационной выборке: 0.8508817204301076\n"
     ]
    }
   ],
   "source": [
    "parametrs = {\n",
    "    'n_estimators': range(20, 51, 5),\n",
    "    'max_depth': range(6, 17, 2),\n",
    "    'criterion': ['gini', 'entropy']\n",
    "}\n",
    "grid_rfc = GridSearchCV(\n",
    "    RandomForestClassifier(random_state=RANDOM_STATE),\n",
    "    parametrs,\n",
    "    cv=5,\n",
    "    scoring='f1',\n",
    "    n_jobs=-1\n",
    ")\n",
    "grid_rfc.fit(features_downsampled, target_downsampled)\n",
    "f1_rfc_down, roc_auc_rfc_down = scoring_model(grid_rfc)"
   ]
  },
  {
   "cell_type": "code",
   "execution_count": 34,
   "metadata": {},
   "outputs": [
    {
     "name": "stdout",
     "output_type": "stream",
     "text": [
      "Лучшие параметры: {'criterion': 'entropy', 'max_depth': 7}\n",
      "F1-мера на валидационной выборке: 0.5872193436960277\n",
      "ROC-AUC на валидационной выборке: 0.8263827956989248\n"
     ]
    }
   ],
   "source": [
    "parametrs = {\n",
    "    'max_depth': range(3, 21),\n",
    "    'criterion': ['gini', 'entropy']\n",
    "}\n",
    "grid_dtc = GridSearchCV(\n",
    "    DecisionTreeClassifier(random_state=RANDOM_STATE),\n",
    "    parametrs, \n",
    "    cv=5, \n",
    "    scoring='f1',\n",
    "    n_jobs=-1)\n",
    "grid_dtc.fit(features_downsampled, target_downsampled)\n",
    "f1_dtc_down, roc_auc_dtc_down = scoring_model(grid_dtc)"
   ]
  },
  {
   "cell_type": "code",
   "execution_count": 35,
   "metadata": {},
   "outputs": [
    {
     "name": "stdout",
     "output_type": "stream",
     "text": [
      "Лучшие параметры: {'C': 0.5, 'penalty': 'l1'}\n",
      "F1-мера на валидационной выборке: 0.5110410094637223\n",
      "ROC-AUC на валидационной выборке: 0.7589161290322581\n"
     ]
    }
   ],
   "source": [
    "parametrs = {\n",
    "    'C': [.1, .5, 1],\n",
    "    'penalty': ['l1', 'l2']\n",
    "}\n",
    "grid_lr = GridSearchCV(\n",
    "    LogisticRegression(random_state=RANDOM_STATE, solver='liblinear'),\n",
    "    parametrs, \n",
    "    cv=5, \n",
    "    scoring='f1',\n",
    "    n_jobs=-1)\n",
    "grid_lr.fit(features_downsampled, target_downsampled)\n",
    "f1_lr_down, roc_auc_lr_down = scoring_model(grid_lr)"
   ]
  },
  {
   "cell_type": "code",
   "execution_count": 36,
   "metadata": {},
   "outputs": [
    {
     "data": {
      "text/html": [
       "<div>\n",
       "<style scoped>\n",
       "    .dataframe tbody tr th:only-of-type {\n",
       "        vertical-align: middle;\n",
       "    }\n",
       "\n",
       "    .dataframe tbody tr th {\n",
       "        vertical-align: top;\n",
       "    }\n",
       "\n",
       "    .dataframe thead th {\n",
       "        text-align: right;\n",
       "    }\n",
       "</style>\n",
       "<table border=\"1\" class=\"dataframe\">\n",
       "  <thead>\n",
       "    <tr style=\"text-align: right;\">\n",
       "      <th></th>\n",
       "      <th>F1-мера</th>\n",
       "      <th>ROC_AUC</th>\n",
       "      <th>Порог</th>\n",
       "    </tr>\n",
       "  </thead>\n",
       "  <tbody>\n",
       "    <tr>\n",
       "      <th>RandomForest</th>\n",
       "      <td>0.606702</td>\n",
       "      <td>0.850882</td>\n",
       "      <td>True</td>\n",
       "    </tr>\n",
       "    <tr>\n",
       "      <th>DecisionTree</th>\n",
       "      <td>0.587219</td>\n",
       "      <td>0.826383</td>\n",
       "      <td>False</td>\n",
       "    </tr>\n",
       "    <tr>\n",
       "      <th>LogisticRegression</th>\n",
       "      <td>0.511041</td>\n",
       "      <td>0.758916</td>\n",
       "      <td>False</td>\n",
       "    </tr>\n",
       "  </tbody>\n",
       "</table>\n",
       "</div>"
      ],
      "text/plain": [
       "                     F1-мера   ROC_AUC  Порог\n",
       "RandomForest        0.606702  0.850882   True\n",
       "DecisionTree        0.587219  0.826383  False\n",
       "LogisticRegression  0.511041  0.758916  False"
      ]
     },
     "execution_count": 36,
     "metadata": {},
     "output_type": "execute_result"
    }
   ],
   "source": [
    "pd.DataFrame(\n",
    "    {\n",
    "        'F1-мера': [f1_rfc_down, f1_dtc_down, f1_lr_down], \n",
    "        'ROC_AUC': [roc_auc_rfc_down, roc_auc_dtc_down, roc_auc_lr_down],\n",
    "        'Порог': [.59 < i for i in [f1_rfc_down, f1_dtc_down, f1_lr_down]]\n",
    "    }, \n",
    "    index=['RandomForest', 'DecisionTree', 'LogisticRegression']\n",
    ")"
   ]
  },
  {
   "cell_type": "markdown",
   "metadata": {},
   "source": [
    "**Вывод:** Ожидаемо уменьшение выборки не лучшим образом отразилась на качестве, слишком много данных было убрано. Перейду к увеличению выборки."
   ]
  },
  {
   "cell_type": "markdown",
   "metadata": {},
   "source": [
    "### Увеличение выборки"
   ]
  },
  {
   "cell_type": "code",
   "execution_count": 37,
   "metadata": {},
   "outputs": [],
   "source": [
    "oversample = SMOTE(random_state=RANDOM_STATE)\n",
    "features_upsampled, target_upsampled = oversample.fit_resample(features_train, target_train)"
   ]
  },
  {
   "cell_type": "code",
   "execution_count": 38,
   "metadata": {},
   "outputs": [
    {
     "data": {
      "text/plain": [
       "0    6390\n",
       "1    6390\n",
       "Name: exited, dtype: int64"
      ]
     },
     "execution_count": 38,
     "metadata": {},
     "output_type": "execute_result"
    }
   ],
   "source": [
    "target_upsampled.value_counts()"
   ]
  },
  {
   "cell_type": "markdown",
   "metadata": {},
   "source": [
    "Классы стали 1 к 1"
   ]
  },
  {
   "cell_type": "code",
   "execution_count": 39,
   "metadata": {},
   "outputs": [
    {
     "name": "stdout",
     "output_type": "stream",
     "text": [
      "Лучшие параметры: {'criterion': 'gini', 'max_depth': 16, 'n_estimators': 50}\n",
      "F1-мера на валидационной выборке: 0.6244343891402715\n",
      "ROC-AUC на валидационной выборке: 0.8351799283154122\n"
     ]
    }
   ],
   "source": [
    "parametrs = {\n",
    "    'n_estimators': range(20, 51, 5),\n",
    "    'max_depth': range(6, 17, 2),\n",
    "    'criterion': ['gini', 'entropy']\n",
    "}\n",
    "grid_rfc = GridSearchCV(\n",
    "    RandomForestClassifier(random_state=RANDOM_STATE),\n",
    "    parametrs,\n",
    "    cv=5,\n",
    "    scoring='f1',\n",
    "    n_jobs=-1\n",
    ")\n",
    "grid_rfc.fit(features_upsampled, target_upsampled)\n",
    "f1_rfc_up, roc_auc_rfc_up = scoring_model(grid_rfc)"
   ]
  },
  {
   "cell_type": "code",
   "execution_count": 40,
   "metadata": {},
   "outputs": [
    {
     "name": "stdout",
     "output_type": "stream",
     "text": [
      "Лучшие параметры: {'criterion': 'entropy', 'max_depth': 20}\n",
      "F1-мера на валидационной выборке: 0.5010266940451745\n",
      "ROC-AUC на валидационной выборке: 0.6794064516129031\n"
     ]
    }
   ],
   "source": [
    "parametrs = {\n",
    "    'max_depth': range(3, 21),\n",
    "    'criterion': ['gini', 'entropy']\n",
    "}\n",
    "grid_dtc = GridSearchCV(\n",
    "    DecisionTreeClassifier(random_state=RANDOM_STATE),\n",
    "    parametrs, \n",
    "    cv=5, \n",
    "    scoring='f1',\n",
    "    n_jobs=-1)\n",
    "grid_dtc.fit(features_upsampled, target_upsampled)\n",
    "f1_dtc_up, roc_auc_dtc_up = scoring_model(grid_dtc)"
   ]
  },
  {
   "cell_type": "code",
   "execution_count": 41,
   "metadata": {},
   "outputs": [
    {
     "name": "stdout",
     "output_type": "stream",
     "text": [
      "Лучшие параметры: {'C': 0.1, 'penalty': 'l1'}\n",
      "F1-мера на валидационной выборке: 0.504950495049505\n",
      "ROC-AUC на валидационной выборке: 0.7537146953405018\n"
     ]
    }
   ],
   "source": [
    "parametrs = {\n",
    "    'C': [.1, .5, 1],\n",
    "    'penalty': ['l1', 'l2']\n",
    "}\n",
    "grid_lr = GridSearchCV(\n",
    "    LogisticRegression(random_state=RANDOM_STATE, solver='liblinear'),\n",
    "    parametrs, \n",
    "    cv=5, \n",
    "    scoring='f1',\n",
    "    n_jobs=-1)\n",
    "grid_lr.fit(features_upsampled, target_upsampled)\n",
    "f1_lr_up, roc_auc_lr_up = scoring_model(grid_lr)"
   ]
  },
  {
   "cell_type": "code",
   "execution_count": 42,
   "metadata": {},
   "outputs": [
    {
     "data": {
      "text/html": [
       "<div>\n",
       "<style scoped>\n",
       "    .dataframe tbody tr th:only-of-type {\n",
       "        vertical-align: middle;\n",
       "    }\n",
       "\n",
       "    .dataframe tbody tr th {\n",
       "        vertical-align: top;\n",
       "    }\n",
       "\n",
       "    .dataframe thead th {\n",
       "        text-align: right;\n",
       "    }\n",
       "</style>\n",
       "<table border=\"1\" class=\"dataframe\">\n",
       "  <thead>\n",
       "    <tr style=\"text-align: right;\">\n",
       "      <th></th>\n",
       "      <th>F1-мера</th>\n",
       "      <th>ROC_AUC</th>\n",
       "      <th>Порог</th>\n",
       "    </tr>\n",
       "  </thead>\n",
       "  <tbody>\n",
       "    <tr>\n",
       "      <th>RandomForest</th>\n",
       "      <td>0.653422</td>\n",
       "      <td>0.859160</td>\n",
       "      <td>True</td>\n",
       "    </tr>\n",
       "    <tr>\n",
       "      <th>RandomForest OS</th>\n",
       "      <td>0.624434</td>\n",
       "      <td>0.835180</td>\n",
       "      <td>True</td>\n",
       "    </tr>\n",
       "    <tr>\n",
       "      <th>RandomForest DS</th>\n",
       "      <td>0.606702</td>\n",
       "      <td>0.850882</td>\n",
       "      <td>True</td>\n",
       "    </tr>\n",
       "    <tr>\n",
       "      <th>DecisionTree</th>\n",
       "      <td>0.605954</td>\n",
       "      <td>0.840860</td>\n",
       "      <td>True</td>\n",
       "    </tr>\n",
       "    <tr>\n",
       "      <th>DecisionTree DS</th>\n",
       "      <td>0.587219</td>\n",
       "      <td>0.826383</td>\n",
       "      <td>False</td>\n",
       "    </tr>\n",
       "    <tr>\n",
       "      <th>LogisticRegression</th>\n",
       "      <td>0.515924</td>\n",
       "      <td>0.763211</td>\n",
       "      <td>False</td>\n",
       "    </tr>\n",
       "    <tr>\n",
       "      <th>LogisticRegression DS</th>\n",
       "      <td>0.511041</td>\n",
       "      <td>0.758916</td>\n",
       "      <td>False</td>\n",
       "    </tr>\n",
       "    <tr>\n",
       "      <th>LogisticRegression OS</th>\n",
       "      <td>0.504950</td>\n",
       "      <td>0.753715</td>\n",
       "      <td>False</td>\n",
       "    </tr>\n",
       "    <tr>\n",
       "      <th>DecisionTree OS</th>\n",
       "      <td>0.501027</td>\n",
       "      <td>0.679406</td>\n",
       "      <td>False</td>\n",
       "    </tr>\n",
       "  </tbody>\n",
       "</table>\n",
       "</div>"
      ],
      "text/plain": [
       "                        F1-мера   ROC_AUC  Порог\n",
       "RandomForest           0.653422  0.859160   True\n",
       "RandomForest OS        0.624434  0.835180   True\n",
       "RandomForest DS        0.606702  0.850882   True\n",
       "DecisionTree           0.605954  0.840860   True\n",
       "DecisionTree DS        0.587219  0.826383  False\n",
       "LogisticRegression     0.515924  0.763211  False\n",
       "LogisticRegression DS  0.511041  0.758916  False\n",
       "LogisticRegression OS  0.504950  0.753715  False\n",
       "DecisionTree OS        0.501027  0.679406  False"
      ]
     },
     "execution_count": 42,
     "metadata": {},
     "output_type": "execute_result"
    }
   ],
   "source": [
    "pd.DataFrame(\n",
    "    {\n",
    "        'F1-мера': [\n",
    "            f1_rfc_up, f1_dtc_up, f1_lr_up,\n",
    "            f1_rfc_down, f1_dtc_down, f1_lr_down,\n",
    "            f1_rfc, f1_dtc, f1_lr\n",
    "        ], \n",
    "        'ROC_AUC': [\n",
    "            roc_auc_rfc_up, roc_auc_dtc_up, roc_auc_lr_up,\n",
    "            roc_auc_rfc_down, roc_auc_dtc_down, roc_auc_lr_down,\n",
    "            roc_auc_rfc, roc_auc_dtc, roc_auc_lr\n",
    "        ],\n",
    "        'Порог': [.59 < i for i in [f1_rfc_up, f1_dtc_up, f1_lr_up, f1_rfc_down, f1_dtc_down, f1_lr_down, f1_rfc, f1_dtc, f1_lr]]\n",
    "    }, \n",
    "    index=[\n",
    "        'RandomForest OS', 'DecisionTree OS', 'LogisticRegression OS',\n",
    "        'RandomForest DS', 'DecisionTree DS', 'LogisticRegression DS',\n",
    "        'RandomForest', 'DecisionTree', 'LogisticRegression'\n",
    "    ]\n",
    ").sort_values('F1-мера', ascending=False)"
   ]
  },
  {
   "cell_type": "markdown",
   "metadata": {},
   "source": [
    "**Вывод:** По итогу, из всех 9 моделей порог в 0.59 f1-меры прошли только 4. Самая лучшая модель по качеству - RandomForestClassifier, без баланса классов. У это модели были гиперпараметры:\n",
    "- class_weight: 'balanced';\n",
    "- criterion: 'entropy';\n",
    "- max_depth: 10;\n",
    "- n_estimators: 40.\n",
    "\n",
    "И F1-мера: 0.65, ROC-AUC: 0.85."
   ]
  },
  {
   "cell_type": "markdown",
   "metadata": {},
   "source": [
    "## Тестирование модели"
   ]
  },
  {
   "cell_type": "code",
   "execution_count": 43,
   "metadata": {},
   "outputs": [
    {
     "name": "stdout",
     "output_type": "stream",
     "text": [
      "F1-мера: 0.62\n",
      "ROC-AUC: 0.86\n"
     ]
    }
   ],
   "source": [
    "model = RandomForestClassifier(class_weight='balanced', criterion='entropy', max_depth=10, n_estimators=50, random_state=RANDOM_STATE)\n",
    "model.fit(features_train, target_train)\n",
    "print(f'F1-мера: {round(f1_score(target_test, model.predict(features_test)),2)}')\n",
    "print(f'ROC-AUC: {round(roc_auc_score(target_test, model.predict_proba(features_test)[:, 1]),2)}')"
   ]
  },
  {
   "cell_type": "markdown",
   "metadata": {},
   "source": [
    "**Общий вывод:** Были удалены признаки `RowNumber` (копировал индекс), `Surname` (Фамилия) и `CustomerId` (ID клиента) - они уникальны и не дают никакой ценности для модели.\n",
    "\n",
    "Были пропуски в признаке `tenure` (сколько лет человек является клиентом банка), заполнила медианой. Так же стоит поменять тип данных на int в `tenure`.\n",
    "\n",
    "У целевого признака дисбаланс классов - 80 (нынешние клиенты) к 20 (бывшие клиенты). Видна линейная корреляция у факта ухода клиента (`exited`) с возрастом (`age`) и у баланса на счете (`balance`) с  количество продуктов банка (`num_of_products`).\n",
    "\n",
    "Данные поделены на 3 выборки - обучающую (80%), валидационную (10%) и тестовую (10%).\n",
    "\n",
    "Методом One-Hot Encoder были закодированы признаки пол (`gender`) и страна проживания(`geography`). Масштабирование данных было с помощью StandardScaler.\n",
    "\n",
    "Были обучены 3 модели - RandomForestClassifier, DecisionTreeClassifier и LogisticRegression - без борьбы с дисбалансом данных, с oversampling и downsampling. Гиперпараметры подбирались с помощью GridSearchCV.\n",
    "\n",
    "На валидационной выборке лучшая модель была обучена на данных без борьбы с дисбалансом - RandomForestClassifier, гиперпараметры:\n",
    "- class_weight: 'balanced';\n",
    "- criterion: 'entropy';\n",
    "- max_depth: 10;\n",
    "- n_estimators: 40.\n",
    "\n",
    "На тестовой выборке F1-мера была 0.62, а ROC-AUC - 0.86. Требования по F1-мере были выполнены."
   ]
  }
 ],
 "metadata": {
  "ExecuteTimeLog": [
   {
    "duration": 964,
    "start_time": "2022-12-19T07:47:02.582Z"
   },
   {
    "duration": 84,
    "start_time": "2022-12-19T07:47:40.876Z"
   },
   {
    "duration": 46,
    "start_time": "2022-12-19T07:47:49.597Z"
   },
   {
    "duration": 54,
    "start_time": "2022-12-19T07:48:54.038Z"
   },
   {
    "duration": 48,
    "start_time": "2022-12-19T07:55:32.055Z"
   },
   {
    "duration": 22,
    "start_time": "2022-12-19T07:56:08.472Z"
   },
   {
    "duration": 1057,
    "start_time": "2022-12-26T06:58:55.606Z"
   },
   {
    "duration": 94,
    "start_time": "2022-12-26T06:58:56.665Z"
   },
   {
    "duration": 45,
    "start_time": "2022-12-26T06:59:09.372Z"
   },
   {
    "duration": 5,
    "start_time": "2022-12-26T06:59:17.955Z"
   },
   {
    "duration": 30,
    "start_time": "2022-12-26T06:59:19.016Z"
   },
   {
    "duration": 11,
    "start_time": "2022-12-26T06:59:27.222Z"
   },
   {
    "duration": 20,
    "start_time": "2022-12-26T06:59:32.136Z"
   },
   {
    "duration": 6,
    "start_time": "2022-12-26T07:01:53.895Z"
   },
   {
    "duration": 89,
    "start_time": "2022-12-26T07:06:42.358Z"
   },
   {
    "duration": 8,
    "start_time": "2022-12-26T07:06:46.303Z"
   },
   {
    "duration": 43,
    "start_time": "2022-12-26T07:06:46.646Z"
   },
   {
    "duration": 5,
    "start_time": "2022-12-26T07:06:47.015Z"
   },
   {
    "duration": 2655,
    "start_time": "2022-12-26T07:08:59.949Z"
   },
   {
    "duration": 422,
    "start_time": "2022-12-26T07:09:04.942Z"
   },
   {
    "duration": 53,
    "start_time": "2022-12-26T07:09:05.942Z"
   },
   {
    "duration": 5,
    "start_time": "2022-12-26T07:09:06.387Z"
   },
   {
    "duration": 20,
    "start_time": "2022-12-26T07:09:06.920Z"
   },
   {
    "duration": 1123,
    "start_time": "2022-12-26T07:09:07.362Z"
   },
   {
    "duration": 13,
    "start_time": "2022-12-26T07:09:08.487Z"
   },
   {
    "duration": 668,
    "start_time": "2022-12-26T07:09:24.445Z"
   },
   {
    "duration": 5,
    "start_time": "2022-12-26T07:09:35.321Z"
   },
   {
    "duration": 4,
    "start_time": "2022-12-26T07:13:50.286Z"
   },
   {
    "duration": 6,
    "start_time": "2022-12-26T07:14:07.202Z"
   },
   {
    "duration": 19,
    "start_time": "2022-12-26T07:14:17.262Z"
   },
   {
    "duration": 5,
    "start_time": "2022-12-26T07:14:58.282Z"
   },
   {
    "duration": 20,
    "start_time": "2022-12-26T07:19:20.666Z"
   },
   {
    "duration": 6,
    "start_time": "2022-12-26T07:19:28.095Z"
   },
   {
    "duration": 572,
    "start_time": "2022-12-26T07:19:38.943Z"
   },
   {
    "duration": 4,
    "start_time": "2022-12-26T07:19:52.143Z"
   },
   {
    "duration": 12,
    "start_time": "2022-12-26T07:20:06.132Z"
   },
   {
    "duration": 4,
    "start_time": "2022-12-26T07:22:07.148Z"
   },
   {
    "duration": 12,
    "start_time": "2022-12-26T07:22:12.686Z"
   },
   {
    "duration": 22,
    "start_time": "2022-12-26T07:24:33.934Z"
   },
   {
    "duration": 3,
    "start_time": "2022-12-26T07:24:53.524Z"
   },
   {
    "duration": 43,
    "start_time": "2022-12-26T07:24:53.788Z"
   },
   {
    "duration": 82,
    "start_time": "2022-12-26T07:24:54.162Z"
   },
   {
    "duration": 5,
    "start_time": "2022-12-26T07:24:54.611Z"
   },
   {
    "duration": 5,
    "start_time": "2022-12-26T07:24:55.399Z"
   },
   {
    "duration": 18,
    "start_time": "2022-12-26T07:24:57.087Z"
   },
   {
    "duration": 570,
    "start_time": "2022-12-26T07:24:58.399Z"
   },
   {
    "duration": 4,
    "start_time": "2022-12-26T07:25:02.601Z"
   },
   {
    "duration": 3,
    "start_time": "2022-12-26T07:25:03.144Z"
   },
   {
    "duration": 4,
    "start_time": "2022-12-26T07:25:03.875Z"
   },
   {
    "duration": 4,
    "start_time": "2022-12-26T07:25:26.781Z"
   },
   {
    "duration": 17,
    "start_time": "2022-12-26T07:25:27.081Z"
   },
   {
    "duration": 526,
    "start_time": "2022-12-26T07:25:32.298Z"
   },
   {
    "duration": 5,
    "start_time": "2022-12-26T07:25:33.311Z"
   },
   {
    "duration": 3,
    "start_time": "2022-12-26T07:25:33.983Z"
   },
   {
    "duration": 4,
    "start_time": "2022-12-26T07:25:35.033Z"
   },
   {
    "duration": 2037,
    "start_time": "2022-12-26T07:26:23.050Z"
   },
   {
    "duration": 1296,
    "start_time": "2022-12-26T07:26:25.090Z"
   },
   {
    "duration": 45,
    "start_time": "2022-12-26T07:26:26.388Z"
   },
   {
    "duration": 21,
    "start_time": "2022-12-26T07:26:26.435Z"
   },
   {
    "duration": 4,
    "start_time": "2022-12-26T07:26:26.457Z"
   },
   {
    "duration": 11,
    "start_time": "2022-12-26T07:26:26.462Z"
   },
   {
    "duration": 38,
    "start_time": "2022-12-26T07:26:26.474Z"
   },
   {
    "duration": 590,
    "start_time": "2022-12-26T07:26:26.514Z"
   },
   {
    "duration": 5,
    "start_time": "2022-12-26T07:26:27.106Z"
   },
   {
    "duration": 7,
    "start_time": "2022-12-26T07:26:27.112Z"
   },
   {
    "duration": 6,
    "start_time": "2022-12-26T07:26:27.120Z"
   },
   {
    "duration": 3,
    "start_time": "2022-12-26T07:45:18.992Z"
   },
   {
    "duration": 52,
    "start_time": "2022-12-26T07:45:19.255Z"
   },
   {
    "duration": 19,
    "start_time": "2022-12-26T07:45:19.556Z"
   },
   {
    "duration": 5,
    "start_time": "2022-12-26T07:45:19.931Z"
   },
   {
    "duration": 5,
    "start_time": "2022-12-26T07:45:20.380Z"
   },
   {
    "duration": 19,
    "start_time": "2022-12-26T07:45:21.580Z"
   },
   {
    "duration": 600,
    "start_time": "2022-12-26T07:45:22.722Z"
   },
   {
    "duration": 6,
    "start_time": "2022-12-26T07:45:25.999Z"
   },
   {
    "duration": 4,
    "start_time": "2022-12-26T07:45:26.488Z"
   },
   {
    "duration": 5,
    "start_time": "2022-12-26T07:45:27.088Z"
   },
   {
    "duration": 289,
    "start_time": "2022-12-26T07:45:53.436Z"
   },
   {
    "duration": 9,
    "start_time": "2022-12-26T07:46:50.192Z"
   },
   {
    "duration": 2116,
    "start_time": "2022-12-26T07:50:10.649Z"
   },
   {
    "duration": 1347,
    "start_time": "2022-12-26T07:50:12.768Z"
   },
   {
    "duration": 48,
    "start_time": "2022-12-26T07:50:14.116Z"
   },
   {
    "duration": 21,
    "start_time": "2022-12-26T07:50:14.166Z"
   },
   {
    "duration": 4,
    "start_time": "2022-12-26T07:50:14.188Z"
   },
   {
    "duration": 25,
    "start_time": "2022-12-26T07:50:14.193Z"
   },
   {
    "duration": 16,
    "start_time": "2022-12-26T07:50:14.219Z"
   },
   {
    "duration": 647,
    "start_time": "2022-12-26T07:50:14.236Z"
   },
   {
    "duration": 15,
    "start_time": "2022-12-26T07:50:14.885Z"
   },
   {
    "duration": 7,
    "start_time": "2022-12-26T07:50:14.904Z"
   },
   {
    "duration": 9,
    "start_time": "2022-12-26T07:50:14.912Z"
   },
   {
    "duration": 15,
    "start_time": "2022-12-26T08:12:15.848Z"
   },
   {
    "duration": 5,
    "start_time": "2022-12-26T08:12:38.204Z"
   },
   {
    "duration": 5,
    "start_time": "2022-12-26T08:12:42.294Z"
   },
   {
    "duration": 13,
    "start_time": "2022-12-26T08:13:01.444Z"
   },
   {
    "duration": 19,
    "start_time": "2022-12-26T08:13:06.098Z"
   },
   {
    "duration": 6,
    "start_time": "2022-12-26T08:13:47.551Z"
   },
   {
    "duration": 8,
    "start_time": "2022-12-26T08:13:52.661Z"
   },
   {
    "duration": 11,
    "start_time": "2022-12-26T08:15:58.468Z"
   },
   {
    "duration": 2037,
    "start_time": "2022-12-26T08:16:07.404Z"
   },
   {
    "duration": 1244,
    "start_time": "2022-12-26T08:16:09.444Z"
   },
   {
    "duration": 46,
    "start_time": "2022-12-26T08:16:10.690Z"
   },
   {
    "duration": 22,
    "start_time": "2022-12-26T08:16:10.738Z"
   },
   {
    "duration": 4,
    "start_time": "2022-12-26T08:16:10.762Z"
   },
   {
    "duration": 27,
    "start_time": "2022-12-26T08:16:10.768Z"
   },
   {
    "duration": 18,
    "start_time": "2022-12-26T08:16:10.796Z"
   },
   {
    "duration": 586,
    "start_time": "2022-12-26T08:16:10.815Z"
   },
   {
    "duration": 6,
    "start_time": "2022-12-26T08:16:11.403Z"
   },
   {
    "duration": 11,
    "start_time": "2022-12-26T08:16:11.411Z"
   },
   {
    "duration": 22,
    "start_time": "2022-12-26T08:16:11.424Z"
   },
   {
    "duration": 15,
    "start_time": "2022-12-26T08:16:11.448Z"
   },
   {
    "duration": 30,
    "start_time": "2022-12-26T08:16:11.465Z"
   },
   {
    "duration": 10,
    "start_time": "2022-12-26T08:16:59.020Z"
   },
   {
    "duration": 2199,
    "start_time": "2022-12-26T08:17:04.109Z"
   },
   {
    "duration": 1491,
    "start_time": "2022-12-26T08:17:06.310Z"
   },
   {
    "duration": 46,
    "start_time": "2022-12-26T08:17:07.802Z"
   },
   {
    "duration": 21,
    "start_time": "2022-12-26T08:17:07.850Z"
   },
   {
    "duration": 3,
    "start_time": "2022-12-26T08:17:07.873Z"
   },
   {
    "duration": 5,
    "start_time": "2022-12-26T08:17:07.878Z"
   },
   {
    "duration": 16,
    "start_time": "2022-12-26T08:17:07.885Z"
   },
   {
    "duration": 536,
    "start_time": "2022-12-26T08:17:07.902Z"
   },
   {
    "duration": 6,
    "start_time": "2022-12-26T08:17:08.441Z"
   },
   {
    "duration": 5,
    "start_time": "2022-12-26T08:17:08.450Z"
   },
   {
    "duration": 5,
    "start_time": "2022-12-26T08:17:08.456Z"
   },
   {
    "duration": 7,
    "start_time": "2022-12-26T08:17:08.463Z"
   },
   {
    "duration": 10,
    "start_time": "2022-12-26T08:17:08.498Z"
   },
   {
    "duration": 17,
    "start_time": "2022-12-26T08:22:58.289Z"
   },
   {
    "duration": 2,
    "start_time": "2022-12-26T08:24:26.436Z"
   },
   {
    "duration": 44,
    "start_time": "2022-12-26T08:24:27.640Z"
   },
   {
    "duration": 19,
    "start_time": "2022-12-26T08:24:29.465Z"
   },
   {
    "duration": 5,
    "start_time": "2022-12-26T08:24:53.116Z"
   },
   {
    "duration": 6,
    "start_time": "2022-12-26T08:24:58.001Z"
   },
   {
    "duration": 1986,
    "start_time": "2022-12-26T08:25:04.802Z"
   },
   {
    "duration": 1291,
    "start_time": "2022-12-26T08:25:06.791Z"
   },
   {
    "duration": 46,
    "start_time": "2022-12-26T08:25:08.084Z"
   },
   {
    "duration": 22,
    "start_time": "2022-12-26T08:25:08.132Z"
   },
   {
    "duration": 3,
    "start_time": "2022-12-26T08:25:08.156Z"
   },
   {
    "duration": 8,
    "start_time": "2022-12-26T08:25:08.161Z"
   },
   {
    "duration": 15,
    "start_time": "2022-12-26T08:25:08.171Z"
   },
   {
    "duration": 554,
    "start_time": "2022-12-26T08:25:08.188Z"
   },
   {
    "duration": 6,
    "start_time": "2022-12-26T08:25:08.744Z"
   },
   {
    "duration": 3,
    "start_time": "2022-12-26T08:25:08.753Z"
   },
   {
    "duration": 11,
    "start_time": "2022-12-26T08:25:08.757Z"
   },
   {
    "duration": 6,
    "start_time": "2022-12-26T08:25:08.769Z"
   },
   {
    "duration": 27,
    "start_time": "2022-12-26T08:25:08.777Z"
   },
   {
    "duration": 18,
    "start_time": "2022-12-26T08:25:08.806Z"
   },
   {
    "duration": 5,
    "start_time": "2022-12-26T08:25:52.045Z"
   },
   {
    "duration": 8,
    "start_time": "2022-12-26T08:26:16.493Z"
   },
   {
    "duration": 17,
    "start_time": "2022-12-26T08:29:02.183Z"
   },
   {
    "duration": 1942,
    "start_time": "2022-12-26T08:29:10.547Z"
   },
   {
    "duration": 1296,
    "start_time": "2022-12-26T08:29:12.491Z"
   },
   {
    "duration": 49,
    "start_time": "2022-12-26T08:29:13.789Z"
   },
   {
    "duration": 21,
    "start_time": "2022-12-26T08:29:13.840Z"
   },
   {
    "duration": 3,
    "start_time": "2022-12-26T08:29:13.863Z"
   },
   {
    "duration": 10,
    "start_time": "2022-12-26T08:29:13.867Z"
   },
   {
    "duration": 37,
    "start_time": "2022-12-26T08:29:13.878Z"
   },
   {
    "duration": 552,
    "start_time": "2022-12-26T08:29:13.916Z"
   },
   {
    "duration": 5,
    "start_time": "2022-12-26T08:29:14.469Z"
   },
   {
    "duration": 6,
    "start_time": "2022-12-26T08:29:14.476Z"
   },
   {
    "duration": 14,
    "start_time": "2022-12-26T08:29:14.483Z"
   },
   {
    "duration": 4,
    "start_time": "2022-12-26T08:29:14.498Z"
   },
   {
    "duration": 16,
    "start_time": "2022-12-26T08:29:14.504Z"
   },
   {
    "duration": 36,
    "start_time": "2022-12-26T08:29:14.522Z"
   },
   {
    "duration": 99,
    "start_time": "2022-12-26T08:29:35.918Z"
   },
   {
    "duration": 5,
    "start_time": "2022-12-26T08:29:53.410Z"
   },
   {
    "duration": 8,
    "start_time": "2022-12-26T08:36:46.001Z"
   },
   {
    "duration": 2078,
    "start_time": "2022-12-26T08:37:03.292Z"
   },
   {
    "duration": 1281,
    "start_time": "2022-12-26T08:37:05.372Z"
   },
   {
    "duration": 45,
    "start_time": "2022-12-26T08:37:06.654Z"
   },
   {
    "duration": 20,
    "start_time": "2022-12-26T08:37:06.701Z"
   },
   {
    "duration": 3,
    "start_time": "2022-12-26T08:37:06.723Z"
   },
   {
    "duration": 10,
    "start_time": "2022-12-26T08:37:06.727Z"
   },
   {
    "duration": 16,
    "start_time": "2022-12-26T08:37:06.738Z"
   },
   {
    "duration": 571,
    "start_time": "2022-12-26T08:37:06.755Z"
   },
   {
    "duration": 6,
    "start_time": "2022-12-26T08:37:07.327Z"
   },
   {
    "duration": 2,
    "start_time": "2022-12-26T08:37:07.335Z"
   },
   {
    "duration": 6,
    "start_time": "2022-12-26T08:37:07.339Z"
   },
   {
    "duration": 12,
    "start_time": "2022-12-26T08:37:07.346Z"
   },
   {
    "duration": 10,
    "start_time": "2022-12-26T08:37:07.359Z"
   },
   {
    "duration": 30,
    "start_time": "2022-12-26T08:37:07.370Z"
   },
   {
    "duration": 5,
    "start_time": "2022-12-26T08:37:07.401Z"
   },
   {
    "duration": 1990,
    "start_time": "2022-12-26T08:45:49.189Z"
   },
   {
    "duration": 1290,
    "start_time": "2022-12-26T08:45:51.181Z"
   },
   {
    "duration": 46,
    "start_time": "2022-12-26T08:45:52.473Z"
   },
   {
    "duration": 21,
    "start_time": "2022-12-26T08:45:52.520Z"
   },
   {
    "duration": 4,
    "start_time": "2022-12-26T08:45:52.542Z"
   },
   {
    "duration": 7,
    "start_time": "2022-12-26T08:45:52.547Z"
   },
   {
    "duration": 21,
    "start_time": "2022-12-26T08:45:52.556Z"
   },
   {
    "duration": 584,
    "start_time": "2022-12-26T08:45:52.578Z"
   },
   {
    "duration": 5,
    "start_time": "2022-12-26T08:45:53.164Z"
   },
   {
    "duration": 7,
    "start_time": "2022-12-26T08:45:53.171Z"
   },
   {
    "duration": 17,
    "start_time": "2022-12-26T08:45:53.180Z"
   },
   {
    "duration": 4,
    "start_time": "2022-12-26T08:45:53.199Z"
   },
   {
    "duration": 11,
    "start_time": "2022-12-26T08:45:53.205Z"
   },
   {
    "duration": 19,
    "start_time": "2022-12-26T08:45:53.217Z"
   },
   {
    "duration": 6,
    "start_time": "2022-12-26T08:45:53.238Z"
   },
   {
    "duration": 43,
    "start_time": "2022-12-26T08:45:53.245Z"
   },
   {
    "duration": 7,
    "start_time": "2022-12-26T08:47:36.685Z"
   },
   {
    "duration": 3,
    "start_time": "2022-12-26T08:47:48.864Z"
   },
   {
    "duration": 7,
    "start_time": "2022-12-26T08:48:54.429Z"
   },
   {
    "duration": 22,
    "start_time": "2022-12-26T08:49:04.639Z"
   },
   {
    "duration": 4,
    "start_time": "2022-12-26T08:49:11.645Z"
   },
   {
    "duration": 4,
    "start_time": "2022-12-26T08:49:21.087Z"
   },
   {
    "duration": 4,
    "start_time": "2022-12-26T08:49:28.327Z"
   },
   {
    "duration": 4,
    "start_time": "2022-12-26T08:49:41.164Z"
   },
   {
    "duration": 3,
    "start_time": "2022-12-26T08:50:17.021Z"
   },
   {
    "duration": 2010,
    "start_time": "2022-12-26T08:50:28.391Z"
   },
   {
    "duration": 1265,
    "start_time": "2022-12-26T08:50:30.403Z"
   },
   {
    "duration": 49,
    "start_time": "2022-12-26T08:50:31.669Z"
   },
   {
    "duration": 23,
    "start_time": "2022-12-26T08:50:31.721Z"
   },
   {
    "duration": 25,
    "start_time": "2022-12-26T08:50:31.746Z"
   },
   {
    "duration": 7,
    "start_time": "2022-12-26T08:50:31.773Z"
   },
   {
    "duration": 21,
    "start_time": "2022-12-26T08:50:31.782Z"
   },
   {
    "duration": 546,
    "start_time": "2022-12-26T08:50:31.805Z"
   },
   {
    "duration": 7,
    "start_time": "2022-12-26T08:50:32.352Z"
   },
   {
    "duration": 21,
    "start_time": "2022-12-26T08:50:32.363Z"
   },
   {
    "duration": 8,
    "start_time": "2022-12-26T08:50:32.386Z"
   },
   {
    "duration": 8,
    "start_time": "2022-12-26T08:50:32.395Z"
   },
   {
    "duration": 16,
    "start_time": "2022-12-26T08:50:32.405Z"
   },
   {
    "duration": 16,
    "start_time": "2022-12-26T08:50:32.422Z"
   },
   {
    "duration": 4,
    "start_time": "2022-12-26T08:50:32.440Z"
   },
   {
    "duration": 76,
    "start_time": "2022-12-26T08:50:32.445Z"
   },
   {
    "duration": 68,
    "start_time": "2022-12-26T08:50:32.523Z"
   },
   {
    "duration": 6,
    "start_time": "2022-12-26T08:59:04.752Z"
   },
   {
    "duration": 15,
    "start_time": "2022-12-26T08:59:15.378Z"
   },
   {
    "duration": 5,
    "start_time": "2022-12-26T08:59:33.957Z"
   },
   {
    "duration": 9,
    "start_time": "2022-12-26T09:00:27.137Z"
   },
   {
    "duration": 4,
    "start_time": "2022-12-26T09:00:27.361Z"
   },
   {
    "duration": 114,
    "start_time": "2022-12-26T09:00:27.699Z"
   },
   {
    "duration": 15,
    "start_time": "2022-12-26T09:00:46.450Z"
   },
   {
    "duration": 2188,
    "start_time": "2022-12-26T09:01:01.590Z"
   },
   {
    "duration": 1428,
    "start_time": "2022-12-26T09:01:03.780Z"
   },
   {
    "duration": 51,
    "start_time": "2022-12-26T09:01:05.210Z"
   },
   {
    "duration": 23,
    "start_time": "2022-12-26T09:01:05.264Z"
   },
   {
    "duration": 4,
    "start_time": "2022-12-26T09:01:05.289Z"
   },
   {
    "duration": 9,
    "start_time": "2022-12-26T09:01:05.295Z"
   },
   {
    "duration": 34,
    "start_time": "2022-12-26T09:01:05.306Z"
   },
   {
    "duration": 660,
    "start_time": "2022-12-26T09:01:05.342Z"
   },
   {
    "duration": 6,
    "start_time": "2022-12-26T09:01:06.004Z"
   },
   {
    "duration": 4,
    "start_time": "2022-12-26T09:01:06.013Z"
   },
   {
    "duration": 7,
    "start_time": "2022-12-26T09:01:06.019Z"
   },
   {
    "duration": 7,
    "start_time": "2022-12-26T09:01:06.028Z"
   },
   {
    "duration": 11,
    "start_time": "2022-12-26T09:01:06.037Z"
   },
   {
    "duration": 17,
    "start_time": "2022-12-26T09:01:06.050Z"
   },
   {
    "duration": 33,
    "start_time": "2022-12-26T09:01:06.069Z"
   },
   {
    "duration": 10,
    "start_time": "2022-12-26T09:01:06.104Z"
   },
   {
    "duration": 4,
    "start_time": "2022-12-26T09:01:06.116Z"
   },
   {
    "duration": 24,
    "start_time": "2022-12-26T09:01:06.122Z"
   },
   {
    "duration": 17,
    "start_time": "2022-12-26T09:01:06.148Z"
   },
   {
    "duration": 26,
    "start_time": "2022-12-26T09:06:18.930Z"
   },
   {
    "duration": 13,
    "start_time": "2022-12-26T09:08:44.941Z"
   },
   {
    "duration": 14,
    "start_time": "2022-12-26T09:08:46.516Z"
   },
   {
    "duration": 13,
    "start_time": "2022-12-26T09:08:50.767Z"
   },
   {
    "duration": 8,
    "start_time": "2022-12-26T09:08:53.621Z"
   },
   {
    "duration": 2041,
    "start_time": "2022-12-26T09:09:30.972Z"
   },
   {
    "duration": 1308,
    "start_time": "2022-12-26T09:09:33.015Z"
   },
   {
    "duration": 49,
    "start_time": "2022-12-26T09:09:34.325Z"
   },
   {
    "duration": 20,
    "start_time": "2022-12-26T09:09:34.376Z"
   },
   {
    "duration": 3,
    "start_time": "2022-12-26T09:09:34.398Z"
   },
   {
    "duration": 7,
    "start_time": "2022-12-26T09:09:34.403Z"
   },
   {
    "duration": 25,
    "start_time": "2022-12-26T09:09:34.411Z"
   },
   {
    "duration": 617,
    "start_time": "2022-12-26T09:09:34.438Z"
   },
   {
    "duration": 6,
    "start_time": "2022-12-26T09:09:35.056Z"
   },
   {
    "duration": 4,
    "start_time": "2022-12-26T09:09:35.064Z"
   },
   {
    "duration": 6,
    "start_time": "2022-12-26T09:09:35.069Z"
   },
   {
    "duration": 22,
    "start_time": "2022-12-26T09:09:35.076Z"
   },
   {
    "duration": 9,
    "start_time": "2022-12-26T09:09:35.100Z"
   },
   {
    "duration": 20,
    "start_time": "2022-12-26T09:09:35.110Z"
   },
   {
    "duration": 5,
    "start_time": "2022-12-26T09:09:35.131Z"
   },
   {
    "duration": 9,
    "start_time": "2022-12-26T09:09:35.138Z"
   },
   {
    "duration": 3,
    "start_time": "2022-12-26T09:09:35.148Z"
   },
   {
    "duration": 14,
    "start_time": "2022-12-26T09:09:35.153Z"
   },
   {
    "duration": 16,
    "start_time": "2022-12-26T09:09:35.197Z"
   },
   {
    "duration": 13,
    "start_time": "2022-12-26T09:09:35.215Z"
   },
   {
    "duration": 115,
    "start_time": "2022-12-26T09:10:12.806Z"
   },
   {
    "duration": 10,
    "start_time": "2022-12-26T09:10:19.351Z"
   },
   {
    "duration": 13,
    "start_time": "2022-12-26T09:10:31.396Z"
   },
   {
    "duration": 2077,
    "start_time": "2022-12-26T09:10:43.426Z"
   },
   {
    "duration": 1292,
    "start_time": "2022-12-26T09:10:45.505Z"
   },
   {
    "duration": 49,
    "start_time": "2022-12-26T09:10:46.799Z"
   },
   {
    "duration": 21,
    "start_time": "2022-12-26T09:10:46.850Z"
   },
   {
    "duration": 7,
    "start_time": "2022-12-26T09:10:46.872Z"
   },
   {
    "duration": 7,
    "start_time": "2022-12-26T09:10:46.881Z"
   },
   {
    "duration": 37,
    "start_time": "2022-12-26T09:10:46.889Z"
   },
   {
    "duration": 582,
    "start_time": "2022-12-26T09:10:46.927Z"
   },
   {
    "duration": 5,
    "start_time": "2022-12-26T09:10:47.511Z"
   },
   {
    "duration": 12,
    "start_time": "2022-12-26T09:10:47.518Z"
   },
   {
    "duration": 10,
    "start_time": "2022-12-26T09:10:47.532Z"
   },
   {
    "duration": 6,
    "start_time": "2022-12-26T09:10:47.544Z"
   },
   {
    "duration": 20,
    "start_time": "2022-12-26T09:10:47.551Z"
   },
   {
    "duration": 25,
    "start_time": "2022-12-26T09:10:47.574Z"
   },
   {
    "duration": 8,
    "start_time": "2022-12-26T09:10:47.600Z"
   },
   {
    "duration": 21,
    "start_time": "2022-12-26T09:10:47.609Z"
   },
   {
    "duration": 4,
    "start_time": "2022-12-26T09:10:47.631Z"
   },
   {
    "duration": 20,
    "start_time": "2022-12-26T09:10:47.637Z"
   },
   {
    "duration": 15,
    "start_time": "2022-12-26T09:10:47.659Z"
   },
   {
    "duration": 16,
    "start_time": "2022-12-26T09:10:47.698Z"
   },
   {
    "duration": 10,
    "start_time": "2022-12-26T09:10:59.333Z"
   },
   {
    "duration": 15,
    "start_time": "2022-12-26T09:11:07.071Z"
   },
   {
    "duration": 9,
    "start_time": "2022-12-26T09:11:49.234Z"
   },
   {
    "duration": 16,
    "start_time": "2022-12-26T09:11:57.239Z"
   },
   {
    "duration": 114,
    "start_time": "2022-12-26T09:12:42.702Z"
   },
   {
    "duration": 2078,
    "start_time": "2022-12-26T09:12:59.989Z"
   },
   {
    "duration": 1391,
    "start_time": "2022-12-26T09:13:02.069Z"
   },
   {
    "duration": 52,
    "start_time": "2022-12-26T09:13:03.462Z"
   },
   {
    "duration": 22,
    "start_time": "2022-12-26T09:13:03.516Z"
   },
   {
    "duration": 3,
    "start_time": "2022-12-26T09:13:03.540Z"
   },
   {
    "duration": 9,
    "start_time": "2022-12-26T09:13:03.545Z"
   },
   {
    "duration": 42,
    "start_time": "2022-12-26T09:13:03.556Z"
   },
   {
    "duration": 649,
    "start_time": "2022-12-26T09:13:03.599Z"
   },
   {
    "duration": 5,
    "start_time": "2022-12-26T09:13:04.249Z"
   },
   {
    "duration": 4,
    "start_time": "2022-12-26T09:13:04.257Z"
   },
   {
    "duration": 5,
    "start_time": "2022-12-26T09:13:04.263Z"
   },
   {
    "duration": 8,
    "start_time": "2022-12-26T09:13:04.270Z"
   },
   {
    "duration": 11,
    "start_time": "2022-12-26T09:13:04.298Z"
   },
   {
    "duration": 17,
    "start_time": "2022-12-26T09:13:04.310Z"
   },
   {
    "duration": 10,
    "start_time": "2022-12-26T09:13:04.328Z"
   },
   {
    "duration": 12,
    "start_time": "2022-12-26T09:13:04.339Z"
   },
   {
    "duration": 6,
    "start_time": "2022-12-26T09:13:04.353Z"
   },
   {
    "duration": 42,
    "start_time": "2022-12-26T09:13:04.360Z"
   },
   {
    "duration": 16,
    "start_time": "2022-12-26T09:13:04.403Z"
   },
   {
    "duration": 14,
    "start_time": "2022-12-26T09:14:09.952Z"
   },
   {
    "duration": 12,
    "start_time": "2022-12-26T09:17:03.282Z"
   },
   {
    "duration": 9,
    "start_time": "2022-12-26T09:17:26.835Z"
   },
   {
    "duration": 2030,
    "start_time": "2022-12-26T09:17:38.535Z"
   },
   {
    "duration": 1245,
    "start_time": "2022-12-26T09:17:40.568Z"
   },
   {
    "duration": 50,
    "start_time": "2022-12-26T09:17:41.815Z"
   },
   {
    "duration": 24,
    "start_time": "2022-12-26T09:17:41.867Z"
   },
   {
    "duration": 4,
    "start_time": "2022-12-26T09:17:41.893Z"
   },
   {
    "duration": 15,
    "start_time": "2022-12-26T09:17:41.898Z"
   },
   {
    "duration": 20,
    "start_time": "2022-12-26T09:17:41.914Z"
   },
   {
    "duration": 576,
    "start_time": "2022-12-26T09:17:41.935Z"
   },
   {
    "duration": 5,
    "start_time": "2022-12-26T09:17:42.513Z"
   },
   {
    "duration": 4,
    "start_time": "2022-12-26T09:17:42.520Z"
   },
   {
    "duration": 7,
    "start_time": "2022-12-26T09:17:42.525Z"
   },
   {
    "duration": 7,
    "start_time": "2022-12-26T09:17:42.533Z"
   },
   {
    "duration": 14,
    "start_time": "2022-12-26T09:17:42.542Z"
   },
   {
    "duration": 17,
    "start_time": "2022-12-26T09:17:42.558Z"
   },
   {
    "duration": 22,
    "start_time": "2022-12-26T09:17:42.576Z"
   },
   {
    "duration": 13,
    "start_time": "2022-12-26T09:17:42.599Z"
   },
   {
    "duration": 10,
    "start_time": "2022-12-26T09:17:42.613Z"
   },
   {
    "duration": 15,
    "start_time": "2022-12-26T09:17:42.624Z"
   },
   {
    "duration": 14,
    "start_time": "2022-12-26T09:17:42.640Z"
   },
   {
    "duration": 2065,
    "start_time": "2022-12-26T09:18:01.839Z"
   },
   {
    "duration": 1368,
    "start_time": "2022-12-26T09:18:03.906Z"
   },
   {
    "duration": 54,
    "start_time": "2022-12-26T09:18:05.275Z"
   },
   {
    "duration": 22,
    "start_time": "2022-12-26T09:18:05.331Z"
   },
   {
    "duration": 50,
    "start_time": "2022-12-26T09:18:05.354Z"
   },
   {
    "duration": 48,
    "start_time": "2022-12-26T09:18:05.406Z"
   },
   {
    "duration": 71,
    "start_time": "2022-12-26T09:18:05.456Z"
   },
   {
    "duration": 645,
    "start_time": "2022-12-26T09:18:05.529Z"
   },
   {
    "duration": 6,
    "start_time": "2022-12-26T09:18:06.175Z"
   },
   {
    "duration": 56,
    "start_time": "2022-12-26T09:18:06.183Z"
   },
   {
    "duration": 22,
    "start_time": "2022-12-26T09:18:06.241Z"
   },
   {
    "duration": 59,
    "start_time": "2022-12-26T09:18:06.265Z"
   },
   {
    "duration": 69,
    "start_time": "2022-12-26T09:18:06.326Z"
   },
   {
    "duration": 63,
    "start_time": "2022-12-26T09:18:06.397Z"
   },
   {
    "duration": 47,
    "start_time": "2022-12-26T09:18:06.462Z"
   },
   {
    "duration": 60,
    "start_time": "2022-12-26T09:18:06.510Z"
   },
   {
    "duration": 29,
    "start_time": "2022-12-26T09:18:06.571Z"
   },
   {
    "duration": 59,
    "start_time": "2022-12-26T09:18:06.602Z"
   },
   {
    "duration": 78,
    "start_time": "2022-12-26T09:18:06.663Z"
   },
   {
    "duration": 16,
    "start_time": "2022-12-26T09:18:21.423Z"
   },
   {
    "duration": 16,
    "start_time": "2022-12-26T09:18:23.395Z"
   },
   {
    "duration": 13,
    "start_time": "2022-12-26T09:18:52.057Z"
   },
   {
    "duration": 2173,
    "start_time": "2022-12-26T09:18:57.823Z"
   },
   {
    "duration": 1348,
    "start_time": "2022-12-26T09:18:59.999Z"
   },
   {
    "duration": 52,
    "start_time": "2022-12-26T09:19:01.349Z"
   },
   {
    "duration": 33,
    "start_time": "2022-12-26T09:19:01.402Z"
   },
   {
    "duration": 27,
    "start_time": "2022-12-26T09:19:01.437Z"
   },
   {
    "duration": 11,
    "start_time": "2022-12-26T09:19:01.465Z"
   },
   {
    "duration": 71,
    "start_time": "2022-12-26T09:19:01.477Z"
   },
   {
    "duration": 690,
    "start_time": "2022-12-26T09:19:01.550Z"
   },
   {
    "duration": 5,
    "start_time": "2022-12-26T09:19:02.241Z"
   },
   {
    "duration": 9,
    "start_time": "2022-12-26T09:19:02.248Z"
   },
   {
    "duration": 21,
    "start_time": "2022-12-26T09:19:02.258Z"
   },
   {
    "duration": 6,
    "start_time": "2022-12-26T09:19:02.280Z"
   },
   {
    "duration": 42,
    "start_time": "2022-12-26T09:19:02.287Z"
   },
   {
    "duration": 15,
    "start_time": "2022-12-26T09:19:02.331Z"
   },
   {
    "duration": 8,
    "start_time": "2022-12-26T09:19:02.347Z"
   },
   {
    "duration": 15,
    "start_time": "2022-12-26T09:19:02.356Z"
   },
   {
    "duration": 11,
    "start_time": "2022-12-26T09:19:02.372Z"
   },
   {
    "duration": 28,
    "start_time": "2022-12-26T09:19:02.384Z"
   },
   {
    "duration": 32,
    "start_time": "2022-12-26T09:19:02.419Z"
   },
   {
    "duration": 23,
    "start_time": "2022-12-26T09:19:02.453Z"
   },
   {
    "duration": 15,
    "start_time": "2022-12-26T09:21:20.388Z"
   },
   {
    "duration": 10,
    "start_time": "2022-12-26T09:21:36.445Z"
   },
   {
    "duration": 115,
    "start_time": "2022-12-26T09:22:13.137Z"
   },
   {
    "duration": 16,
    "start_time": "2022-12-26T09:22:13.438Z"
   },
   {
    "duration": 7,
    "start_time": "2022-12-26T09:22:20.323Z"
   },
   {
    "duration": 2352,
    "start_time": "2022-12-26T09:22:31.525Z"
   },
   {
    "duration": 1431,
    "start_time": "2022-12-26T09:22:33.879Z"
   },
   {
    "duration": 52,
    "start_time": "2022-12-26T09:22:35.312Z"
   },
   {
    "duration": 24,
    "start_time": "2022-12-26T09:22:35.366Z"
   },
   {
    "duration": 32,
    "start_time": "2022-12-26T09:22:35.392Z"
   },
   {
    "duration": 14,
    "start_time": "2022-12-26T09:22:35.425Z"
   },
   {
    "duration": 42,
    "start_time": "2022-12-26T09:22:35.441Z"
   },
   {
    "duration": 607,
    "start_time": "2022-12-26T09:22:35.485Z"
   },
   {
    "duration": 5,
    "start_time": "2022-12-26T09:22:36.106Z"
   },
   {
    "duration": 27,
    "start_time": "2022-12-26T09:22:36.115Z"
   },
   {
    "duration": 27,
    "start_time": "2022-12-26T09:22:36.143Z"
   },
   {
    "duration": 19,
    "start_time": "2022-12-26T09:22:36.171Z"
   },
   {
    "duration": 40,
    "start_time": "2022-12-26T09:22:36.191Z"
   },
   {
    "duration": 25,
    "start_time": "2022-12-26T09:22:36.232Z"
   },
   {
    "duration": 15,
    "start_time": "2022-12-26T09:22:36.258Z"
   },
   {
    "duration": 12,
    "start_time": "2022-12-26T09:22:36.275Z"
   },
   {
    "duration": 21,
    "start_time": "2022-12-26T09:22:36.288Z"
   },
   {
    "duration": 33,
    "start_time": "2022-12-26T09:22:36.310Z"
   },
   {
    "duration": 19,
    "start_time": "2022-12-26T09:22:36.345Z"
   },
   {
    "duration": 20,
    "start_time": "2022-12-26T09:22:36.366Z"
   },
   {
    "duration": 24,
    "start_time": "2022-12-26T09:22:36.387Z"
   },
   {
    "duration": 10,
    "start_time": "2022-12-26T09:24:47.271Z"
   },
   {
    "duration": 2177,
    "start_time": "2022-12-26T09:24:51.153Z"
   },
   {
    "duration": 1353,
    "start_time": "2022-12-26T09:24:53.333Z"
   },
   {
    "duration": 66,
    "start_time": "2022-12-26T09:24:54.688Z"
   },
   {
    "duration": 28,
    "start_time": "2022-12-26T09:24:54.757Z"
   },
   {
    "duration": 4,
    "start_time": "2022-12-26T09:24:54.788Z"
   },
   {
    "duration": 27,
    "start_time": "2022-12-26T09:24:54.794Z"
   },
   {
    "duration": 23,
    "start_time": "2022-12-26T09:24:54.822Z"
   },
   {
    "duration": 636,
    "start_time": "2022-12-26T09:24:54.846Z"
   },
   {
    "duration": 18,
    "start_time": "2022-12-26T09:24:55.483Z"
   },
   {
    "duration": 6,
    "start_time": "2022-12-26T09:24:55.503Z"
   },
   {
    "duration": 8,
    "start_time": "2022-12-26T09:24:55.511Z"
   },
   {
    "duration": 6,
    "start_time": "2022-12-26T09:24:55.520Z"
   },
   {
    "duration": 11,
    "start_time": "2022-12-26T09:24:55.527Z"
   },
   {
    "duration": 17,
    "start_time": "2022-12-26T09:24:55.539Z"
   },
   {
    "duration": 5,
    "start_time": "2022-12-26T09:24:55.557Z"
   },
   {
    "duration": 13,
    "start_time": "2022-12-26T09:24:55.563Z"
   },
   {
    "duration": 4,
    "start_time": "2022-12-26T09:24:55.578Z"
   },
   {
    "duration": 19,
    "start_time": "2022-12-26T09:24:55.597Z"
   },
   {
    "duration": 14,
    "start_time": "2022-12-26T09:24:55.618Z"
   },
   {
    "duration": 15,
    "start_time": "2022-12-26T09:24:55.636Z"
   },
   {
    "duration": 10,
    "start_time": "2022-12-26T09:24:55.652Z"
   },
   {
    "duration": 5853,
    "start_time": "2022-12-26T09:32:41.479Z"
   },
   {
    "duration": 5849,
    "start_time": "2022-12-26T09:33:04.045Z"
   },
   {
    "duration": 3103,
    "start_time": "2022-12-26T09:33:31.869Z"
   },
   {
    "duration": 6367,
    "start_time": "2022-12-26T09:33:45.639Z"
   },
   {
    "duration": 16632,
    "start_time": "2022-12-26T09:34:10.048Z"
   },
   {
    "duration": 46,
    "start_time": "2022-12-26T09:37:08.164Z"
   },
   {
    "duration": 16239,
    "start_time": "2022-12-26T09:37:10.948Z"
   },
   {
    "duration": 16098,
    "start_time": "2022-12-26T09:37:34.466Z"
   },
   {
    "duration": 3176,
    "start_time": "2022-12-26T09:38:06.135Z"
   },
   {
    "duration": 8029,
    "start_time": "2022-12-26T09:38:14.369Z"
   },
   {
    "duration": 15623,
    "start_time": "2022-12-26T09:38:29.127Z"
   },
   {
    "duration": 9654,
    "start_time": "2022-12-26T09:39:11.035Z"
   },
   {
    "duration": 10653,
    "start_time": "2022-12-26T09:39:25.626Z"
   },
   {
    "duration": 11656,
    "start_time": "2022-12-26T09:39:57.753Z"
   },
   {
    "duration": 11091,
    "start_time": "2022-12-26T09:40:13.399Z"
   },
   {
    "duration": 10461,
    "start_time": "2022-12-26T09:40:26.933Z"
   },
   {
    "duration": 9824,
    "start_time": "2022-12-26T09:40:41.032Z"
   },
   {
    "duration": 903,
    "start_time": "2022-12-26T09:40:55.772Z"
   },
   {
    "duration": 10480,
    "start_time": "2022-12-26T09:41:03.885Z"
   },
   {
    "duration": 63,
    "start_time": "2022-12-26T09:42:24.017Z"
   },
   {
    "duration": 10679,
    "start_time": "2022-12-26T09:42:26.464Z"
   },
   {
    "duration": 10792,
    "start_time": "2022-12-26T09:43:18.678Z"
   },
   {
    "duration": 681,
    "start_time": "2022-12-26T09:44:22.846Z"
   },
   {
    "duration": 16,
    "start_time": "2022-12-26T09:51:02.000Z"
   },
   {
    "duration": 16,
    "start_time": "2022-12-26T09:51:36.364Z"
   },
   {
    "duration": 373,
    "start_time": "2022-12-26T09:55:57.939Z"
   },
   {
    "duration": 3,
    "start_time": "2022-12-26T09:57:41.578Z"
   },
   {
    "duration": 2205,
    "start_time": "2022-12-26T09:57:45.358Z"
   },
   {
    "duration": 1456,
    "start_time": "2022-12-26T09:57:47.565Z"
   },
   {
    "duration": 56,
    "start_time": "2022-12-26T09:57:49.023Z"
   },
   {
    "duration": 35,
    "start_time": "2022-12-26T09:57:49.082Z"
   },
   {
    "duration": 13,
    "start_time": "2022-12-26T09:57:49.120Z"
   },
   {
    "duration": 28,
    "start_time": "2022-12-26T09:57:49.135Z"
   },
   {
    "duration": 24,
    "start_time": "2022-12-26T09:57:49.165Z"
   },
   {
    "duration": 609,
    "start_time": "2022-12-26T09:57:49.191Z"
   },
   {
    "duration": 8,
    "start_time": "2022-12-26T09:57:49.803Z"
   },
   {
    "duration": 5,
    "start_time": "2022-12-26T09:57:49.814Z"
   },
   {
    "duration": 7,
    "start_time": "2022-12-26T09:57:49.820Z"
   },
   {
    "duration": 6,
    "start_time": "2022-12-26T09:57:49.828Z"
   },
   {
    "duration": 15,
    "start_time": "2022-12-26T09:57:49.836Z"
   },
   {
    "duration": 16,
    "start_time": "2022-12-26T09:57:49.853Z"
   },
   {
    "duration": 27,
    "start_time": "2022-12-26T09:57:49.870Z"
   },
   {
    "duration": 14,
    "start_time": "2022-12-26T09:57:49.899Z"
   },
   {
    "duration": 3,
    "start_time": "2022-12-26T09:57:49.915Z"
   },
   {
    "duration": 21,
    "start_time": "2022-12-26T09:57:49.919Z"
   },
   {
    "duration": 13,
    "start_time": "2022-12-26T09:57:49.947Z"
   },
   {
    "duration": 19,
    "start_time": "2022-12-26T09:57:49.962Z"
   },
   {
    "duration": 32,
    "start_time": "2022-12-26T09:57:49.982Z"
   },
   {
    "duration": 11085,
    "start_time": "2022-12-26T09:57:50.016Z"
   },
   {
    "duration": 702,
    "start_time": "2022-12-26T09:58:01.103Z"
   },
   {
    "duration": 20,
    "start_time": "2022-12-26T09:58:01.806Z"
   },
   {
    "duration": 538,
    "start_time": "2022-12-26T09:58:01.828Z"
   },
   {
    "duration": 376,
    "start_time": "2022-12-26T09:59:09.314Z"
   },
   {
    "duration": 380,
    "start_time": "2022-12-26T10:02:48.351Z"
   },
   {
    "duration": 9,
    "start_time": "2022-12-26T10:02:55.653Z"
   },
   {
    "duration": 4,
    "start_time": "2022-12-26T10:13:20.166Z"
   },
   {
    "duration": 112,
    "start_time": "2022-12-26T10:14:10.216Z"
   },
   {
    "duration": 2018,
    "start_time": "2022-12-26T10:14:42.181Z"
   },
   {
    "duration": 1307,
    "start_time": "2022-12-26T10:14:44.201Z"
   },
   {
    "duration": 50,
    "start_time": "2022-12-26T10:14:45.510Z"
   },
   {
    "duration": 22,
    "start_time": "2022-12-26T10:14:45.562Z"
   },
   {
    "duration": 4,
    "start_time": "2022-12-26T10:14:45.585Z"
   },
   {
    "duration": 7,
    "start_time": "2022-12-26T10:14:45.590Z"
   },
   {
    "duration": 21,
    "start_time": "2022-12-26T10:14:45.598Z"
   },
   {
    "duration": 542,
    "start_time": "2022-12-26T10:14:45.621Z"
   },
   {
    "duration": 5,
    "start_time": "2022-12-26T10:14:46.165Z"
   },
   {
    "duration": 4,
    "start_time": "2022-12-26T10:14:46.172Z"
   },
   {
    "duration": 15,
    "start_time": "2022-12-26T10:14:46.177Z"
   },
   {
    "duration": 7,
    "start_time": "2022-12-26T10:14:46.194Z"
   },
   {
    "duration": 25,
    "start_time": "2022-12-26T10:14:46.203Z"
   },
   {
    "duration": 16,
    "start_time": "2022-12-26T10:14:46.230Z"
   },
   {
    "duration": 5,
    "start_time": "2022-12-26T10:14:46.248Z"
   },
   {
    "duration": 10,
    "start_time": "2022-12-26T10:14:46.254Z"
   },
   {
    "duration": 4,
    "start_time": "2022-12-26T10:14:46.266Z"
   },
   {
    "duration": 16,
    "start_time": "2022-12-26T10:14:46.271Z"
   },
   {
    "duration": 17,
    "start_time": "2022-12-26T10:14:46.288Z"
   },
   {
    "duration": 55,
    "start_time": "2022-12-26T10:14:46.307Z"
   },
   {
    "duration": 40,
    "start_time": "2022-12-26T10:14:46.364Z"
   },
   {
    "duration": 10538,
    "start_time": "2022-12-26T10:14:46.406Z"
   },
   {
    "duration": 682,
    "start_time": "2022-12-26T10:14:56.946Z"
   },
   {
    "duration": 16,
    "start_time": "2022-12-26T10:14:57.630Z"
   },
   {
    "duration": 500,
    "start_time": "2022-12-26T10:14:57.647Z"
   },
   {
    "duration": 7,
    "start_time": "2022-12-26T10:14:58.149Z"
   },
   {
    "duration": 4,
    "start_time": "2022-12-26T10:14:58.157Z"
   },
   {
    "duration": 10,
    "start_time": "2022-12-26T10:14:58.163Z"
   },
   {
    "duration": 10506,
    "start_time": "2022-12-26T10:14:58.174Z"
   },
   {
    "duration": 5,
    "start_time": "2022-12-26T10:15:31.146Z"
   },
   {
    "duration": 11,
    "start_time": "2022-12-26T10:16:04.218Z"
   },
   {
    "duration": 6,
    "start_time": "2022-12-26T10:16:04.893Z"
   },
   {
    "duration": 10,
    "start_time": "2022-12-26T10:16:10.190Z"
   },
   {
    "duration": 5,
    "start_time": "2022-12-26T10:16:12.896Z"
   },
   {
    "duration": 11,
    "start_time": "2022-12-26T10:16:16.992Z"
   },
   {
    "duration": 6,
    "start_time": "2022-12-26T10:16:17.366Z"
   },
   {
    "duration": 11,
    "start_time": "2022-12-26T10:16:25.751Z"
   },
   {
    "duration": 5,
    "start_time": "2022-12-26T10:16:26.201Z"
   },
   {
    "duration": 2154,
    "start_time": "2022-12-26T10:19:15.211Z"
   },
   {
    "duration": 1341,
    "start_time": "2022-12-26T10:19:17.367Z"
   },
   {
    "duration": 50,
    "start_time": "2022-12-26T10:19:18.709Z"
   },
   {
    "duration": 23,
    "start_time": "2022-12-26T10:19:18.761Z"
   },
   {
    "duration": 3,
    "start_time": "2022-12-26T10:19:18.786Z"
   },
   {
    "duration": 8,
    "start_time": "2022-12-26T10:19:18.790Z"
   },
   {
    "duration": 18,
    "start_time": "2022-12-26T10:19:18.799Z"
   },
   {
    "duration": 591,
    "start_time": "2022-12-26T10:19:18.818Z"
   },
   {
    "duration": 5,
    "start_time": "2022-12-26T10:19:19.411Z"
   },
   {
    "duration": 14,
    "start_time": "2022-12-26T10:19:19.418Z"
   },
   {
    "duration": 6,
    "start_time": "2022-12-26T10:19:19.434Z"
   },
   {
    "duration": 9,
    "start_time": "2022-12-26T10:19:19.442Z"
   },
   {
    "duration": 39,
    "start_time": "2022-12-26T10:19:19.452Z"
   },
   {
    "duration": 15,
    "start_time": "2022-12-26T10:19:19.493Z"
   },
   {
    "duration": 4,
    "start_time": "2022-12-26T10:19:19.509Z"
   },
   {
    "duration": 10,
    "start_time": "2022-12-26T10:19:19.515Z"
   },
   {
    "duration": 15,
    "start_time": "2022-12-26T10:19:19.526Z"
   },
   {
    "duration": 27,
    "start_time": "2022-12-26T10:19:19.542Z"
   },
   {
    "duration": 11,
    "start_time": "2022-12-26T10:19:19.571Z"
   },
   {
    "duration": 20,
    "start_time": "2022-12-26T10:19:19.584Z"
   },
   {
    "duration": 10,
    "start_time": "2022-12-26T10:19:19.605Z"
   },
   {
    "duration": 10285,
    "start_time": "2022-12-26T10:19:19.617Z"
   },
   {
    "duration": 702,
    "start_time": "2022-12-26T10:19:29.904Z"
   },
   {
    "duration": 90,
    "start_time": "2022-12-26T10:19:30.608Z"
   },
   {
    "duration": 470,
    "start_time": "2022-12-26T10:19:30.700Z"
   },
   {
    "duration": 9,
    "start_time": "2022-12-26T10:19:31.171Z"
   },
   {
    "duration": 15,
    "start_time": "2022-12-26T10:19:31.181Z"
   },
   {
    "duration": 40,
    "start_time": "2022-12-26T10:19:31.198Z"
   },
   {
    "duration": 14155,
    "start_time": "2022-12-26T10:19:31.239Z"
   },
   {
    "duration": 10891,
    "start_time": "2022-12-26T10:21:48.644Z"
   },
   {
    "duration": 22029,
    "start_time": "2022-12-26T10:22:13.313Z"
   },
   {
    "duration": 5,
    "start_time": "2022-12-26T10:23:46.872Z"
   },
   {
    "duration": 121,
    "start_time": "2022-12-26T10:24:17.760Z"
   },
   {
    "duration": 6,
    "start_time": "2022-12-26T10:24:31.085Z"
   },
   {
    "duration": 659,
    "start_time": "2022-12-26T10:24:56.274Z"
   },
   {
    "duration": 856,
    "start_time": "2022-12-26T10:25:07.713Z"
   },
   {
    "duration": 22,
    "start_time": "2022-12-26T10:25:20.623Z"
   },
   {
    "duration": 24,
    "start_time": "2022-12-26T10:25:33.271Z"
   },
   {
    "duration": 15691,
    "start_time": "2022-12-26T10:26:10.823Z"
   },
   {
    "duration": 22728,
    "start_time": "2022-12-26T10:27:02.559Z"
   },
   {
    "duration": 15738,
    "start_time": "2022-12-26T10:27:37.159Z"
   },
   {
    "duration": 451,
    "start_time": "2022-12-26T10:27:57.107Z"
   },
   {
    "duration": 685,
    "start_time": "2022-12-26T10:28:13.422Z"
   },
   {
    "duration": 9,
    "start_time": "2022-12-26T10:28:32.329Z"
   },
   {
    "duration": 39,
    "start_time": "2022-12-26T10:29:19.253Z"
   },
   {
    "duration": 7,
    "start_time": "2022-12-26T10:29:21.786Z"
   },
   {
    "duration": 95,
    "start_time": "2022-12-26T10:29:43.702Z"
   },
   {
    "duration": 9,
    "start_time": "2022-12-26T10:29:44.043Z"
   },
   {
    "duration": 624,
    "start_time": "2022-12-26T10:29:49.017Z"
   },
   {
    "duration": 9,
    "start_time": "2022-12-26T10:29:51.596Z"
   },
   {
    "duration": 9,
    "start_time": "2022-12-26T10:36:40.855Z"
   },
   {
    "duration": 8,
    "start_time": "2022-12-26T10:36:45.652Z"
   },
   {
    "duration": 1975,
    "start_time": "2022-12-26T10:37:22.224Z"
   },
   {
    "duration": 1300,
    "start_time": "2022-12-26T10:37:24.201Z"
   },
   {
    "duration": 50,
    "start_time": "2022-12-26T10:37:25.502Z"
   },
   {
    "duration": 22,
    "start_time": "2022-12-26T10:37:25.553Z"
   },
   {
    "duration": 3,
    "start_time": "2022-12-26T10:37:25.576Z"
   },
   {
    "duration": 8,
    "start_time": "2022-12-26T10:37:25.581Z"
   },
   {
    "duration": 15,
    "start_time": "2022-12-26T10:37:25.591Z"
   },
   {
    "duration": 571,
    "start_time": "2022-12-26T10:37:25.608Z"
   },
   {
    "duration": 17,
    "start_time": "2022-12-26T10:37:26.180Z"
   },
   {
    "duration": 3,
    "start_time": "2022-12-26T10:37:26.200Z"
   },
   {
    "duration": 7,
    "start_time": "2022-12-26T10:37:26.204Z"
   },
   {
    "duration": 7,
    "start_time": "2022-12-26T10:37:26.212Z"
   },
   {
    "duration": 15,
    "start_time": "2022-12-26T10:37:26.220Z"
   },
   {
    "duration": 13,
    "start_time": "2022-12-26T10:37:26.236Z"
   },
   {
    "duration": 4,
    "start_time": "2022-12-26T10:37:26.250Z"
   },
   {
    "duration": 10,
    "start_time": "2022-12-26T10:37:26.256Z"
   },
   {
    "duration": 3,
    "start_time": "2022-12-26T10:37:26.268Z"
   },
   {
    "duration": 37,
    "start_time": "2022-12-26T10:37:26.272Z"
   },
   {
    "duration": 10,
    "start_time": "2022-12-26T10:37:26.310Z"
   },
   {
    "duration": 14,
    "start_time": "2022-12-26T10:37:26.322Z"
   },
   {
    "duration": 10,
    "start_time": "2022-12-26T10:37:26.338Z"
   },
   {
    "duration": 10215,
    "start_time": "2022-12-26T10:37:26.349Z"
   },
   {
    "duration": 651,
    "start_time": "2022-12-26T10:37:36.566Z"
   },
   {
    "duration": 16,
    "start_time": "2022-12-26T10:37:37.218Z"
   },
   {
    "duration": 510,
    "start_time": "2022-12-26T10:37:37.236Z"
   },
   {
    "duration": 8,
    "start_time": "2022-12-26T10:37:37.747Z"
   },
   {
    "duration": 26,
    "start_time": "2022-12-26T10:37:37.756Z"
   },
   {
    "duration": 13,
    "start_time": "2022-12-26T10:37:37.784Z"
   },
   {
    "duration": 15567,
    "start_time": "2022-12-26T10:37:37.798Z"
   },
   {
    "duration": 836,
    "start_time": "2022-12-26T10:37:53.366Z"
   },
   {
    "duration": 22,
    "start_time": "2022-12-26T10:37:54.203Z"
   },
   {
    "duration": 830,
    "start_time": "2022-12-26T10:37:54.227Z"
   },
   {
    "duration": 8,
    "start_time": "2022-12-26T10:37:55.059Z"
   },
   {
    "duration": 18,
    "start_time": "2022-12-26T10:39:02.920Z"
   },
   {
    "duration": 1954,
    "start_time": "2022-12-26T10:44:31.701Z"
   },
   {
    "duration": 1280,
    "start_time": "2022-12-26T10:44:33.657Z"
   },
   {
    "duration": 50,
    "start_time": "2022-12-26T10:44:34.938Z"
   },
   {
    "duration": 31,
    "start_time": "2022-12-26T10:44:34.990Z"
   },
   {
    "duration": 3,
    "start_time": "2022-12-26T10:44:35.023Z"
   },
   {
    "duration": 10,
    "start_time": "2022-12-26T10:44:35.028Z"
   },
   {
    "duration": 19,
    "start_time": "2022-12-26T10:44:35.039Z"
   },
   {
    "duration": 568,
    "start_time": "2022-12-26T10:44:35.059Z"
   },
   {
    "duration": 5,
    "start_time": "2022-12-26T10:44:35.629Z"
   },
   {
    "duration": 7,
    "start_time": "2022-12-26T10:44:35.636Z"
   },
   {
    "duration": 4,
    "start_time": "2022-12-26T10:44:35.645Z"
   },
   {
    "duration": 7,
    "start_time": "2022-12-26T10:44:35.650Z"
   },
   {
    "duration": 13,
    "start_time": "2022-12-26T10:44:35.658Z"
   },
   {
    "duration": 35,
    "start_time": "2022-12-26T10:44:35.673Z"
   },
   {
    "duration": 5,
    "start_time": "2022-12-26T10:44:35.710Z"
   },
   {
    "duration": 60,
    "start_time": "2022-12-26T10:44:35.716Z"
   },
   {
    "duration": 17,
    "start_time": "2022-12-26T10:44:35.777Z"
   },
   {
    "duration": 34,
    "start_time": "2022-12-26T10:44:35.795Z"
   },
   {
    "duration": 33,
    "start_time": "2022-12-26T10:44:35.831Z"
   },
   {
    "duration": 21,
    "start_time": "2022-12-26T10:44:35.865Z"
   },
   {
    "duration": 12,
    "start_time": "2022-12-26T10:44:35.888Z"
   },
   {
    "duration": 10341,
    "start_time": "2022-12-26T10:44:35.902Z"
   },
   {
    "duration": 654,
    "start_time": "2022-12-26T10:44:46.245Z"
   },
   {
    "duration": 15,
    "start_time": "2022-12-26T10:44:46.900Z"
   },
   {
    "duration": 526,
    "start_time": "2022-12-26T10:44:46.917Z"
   },
   {
    "duration": 7,
    "start_time": "2022-12-26T10:44:47.444Z"
   },
   {
    "duration": 4,
    "start_time": "2022-12-26T10:44:47.453Z"
   },
   {
    "duration": 14,
    "start_time": "2022-12-26T10:44:47.460Z"
   },
   {
    "duration": 15365,
    "start_time": "2022-12-26T10:44:47.475Z"
   },
   {
    "duration": 887,
    "start_time": "2022-12-26T10:45:02.842Z"
   },
   {
    "duration": 67,
    "start_time": "2022-12-26T10:45:03.730Z"
   },
   {
    "duration": 104,
    "start_time": "2022-12-26T10:45:03.799Z"
   },
   {
    "duration": 815,
    "start_time": "2022-12-26T10:45:03.905Z"
   },
   {
    "duration": 8,
    "start_time": "2022-12-26T10:45:04.722Z"
   },
   {
    "duration": 50,
    "start_time": "2022-12-26T10:48:48.193Z"
   },
   {
    "duration": 154,
    "start_time": "2022-12-26T10:48:52.961Z"
   },
   {
    "duration": 8,
    "start_time": "2022-12-26T10:49:10.241Z"
   },
   {
    "duration": 50,
    "start_time": "2022-12-26T10:49:14.344Z"
   },
   {
    "duration": 40,
    "start_time": "2022-12-26T10:50:20.326Z"
   },
   {
    "duration": 38,
    "start_time": "2022-12-26T10:50:25.229Z"
   },
   {
    "duration": 38,
    "start_time": "2022-12-26T10:50:28.758Z"
   },
   {
    "duration": 5,
    "start_time": "2022-12-26T10:52:00.093Z"
   },
   {
    "duration": 39,
    "start_time": "2022-12-26T10:52:02.489Z"
   },
   {
    "duration": 2115,
    "start_time": "2022-12-26T10:53:14.797Z"
   },
   {
    "duration": 1332,
    "start_time": "2022-12-26T10:53:16.914Z"
   },
   {
    "duration": 52,
    "start_time": "2022-12-26T10:53:18.248Z"
   },
   {
    "duration": 22,
    "start_time": "2022-12-26T10:53:18.302Z"
   },
   {
    "duration": 3,
    "start_time": "2022-12-26T10:53:18.326Z"
   },
   {
    "duration": 9,
    "start_time": "2022-12-26T10:53:18.331Z"
   },
   {
    "duration": 18,
    "start_time": "2022-12-26T10:53:18.342Z"
   },
   {
    "duration": 581,
    "start_time": "2022-12-26T10:53:18.361Z"
   },
   {
    "duration": 5,
    "start_time": "2022-12-26T10:53:18.944Z"
   },
   {
    "duration": 13,
    "start_time": "2022-12-26T10:53:18.951Z"
   },
   {
    "duration": 10,
    "start_time": "2022-12-26T10:53:18.966Z"
   },
   {
    "duration": 10,
    "start_time": "2022-12-26T10:53:18.978Z"
   },
   {
    "duration": 13,
    "start_time": "2022-12-26T10:53:18.990Z"
   },
   {
    "duration": 18,
    "start_time": "2022-12-26T10:53:19.005Z"
   },
   {
    "duration": 5,
    "start_time": "2022-12-26T10:53:19.025Z"
   },
   {
    "duration": 24,
    "start_time": "2022-12-26T10:53:19.031Z"
   },
   {
    "duration": 3,
    "start_time": "2022-12-26T10:53:19.057Z"
   },
   {
    "duration": 24,
    "start_time": "2022-12-26T10:53:19.062Z"
   },
   {
    "duration": 18,
    "start_time": "2022-12-26T10:53:19.088Z"
   },
   {
    "duration": 27,
    "start_time": "2022-12-26T10:53:19.108Z"
   },
   {
    "duration": 13,
    "start_time": "2022-12-26T10:53:19.137Z"
   },
   {
    "duration": 10445,
    "start_time": "2022-12-26T10:53:19.152Z"
   },
   {
    "duration": 686,
    "start_time": "2022-12-26T10:53:29.599Z"
   },
   {
    "duration": 20,
    "start_time": "2022-12-26T10:53:30.287Z"
   },
   {
    "duration": 572,
    "start_time": "2022-12-26T10:53:30.311Z"
   },
   {
    "duration": 16,
    "start_time": "2022-12-26T10:53:30.885Z"
   },
   {
    "duration": 22,
    "start_time": "2022-12-26T10:53:30.902Z"
   },
   {
    "duration": 59,
    "start_time": "2022-12-26T10:53:30.927Z"
   },
   {
    "duration": 16002,
    "start_time": "2022-12-26T10:53:30.987Z"
   },
   {
    "duration": 868,
    "start_time": "2022-12-26T10:53:46.990Z"
   },
   {
    "duration": 38,
    "start_time": "2022-12-26T10:53:47.860Z"
   },
   {
    "duration": 200,
    "start_time": "2022-12-26T10:53:47.900Z"
   },
   {
    "duration": 756,
    "start_time": "2022-12-26T10:53:48.102Z"
   },
   {
    "duration": 45,
    "start_time": "2022-12-26T10:53:48.860Z"
   },
   {
    "duration": 163,
    "start_time": "2022-12-26T10:53:48.906Z"
   },
   {
    "duration": 215,
    "start_time": "2022-12-26T10:54:15.766Z"
   },
   {
    "duration": 145,
    "start_time": "2022-12-26T10:54:22.995Z"
   },
   {
    "duration": 683,
    "start_time": "2022-12-26T10:58:01.621Z"
   },
   {
    "duration": 372,
    "start_time": "2022-12-26T10:58:40.351Z"
   },
   {
    "duration": 33,
    "start_time": "2022-12-26T10:58:40.914Z"
   },
   {
    "duration": 920,
    "start_time": "2022-12-26T10:58:49.654Z"
   },
   {
    "duration": 62,
    "start_time": "2022-12-26T10:58:50.576Z"
   },
   {
    "duration": 613,
    "start_time": "2022-12-26T10:58:56.155Z"
   },
   {
    "duration": 47,
    "start_time": "2022-12-26T10:58:57.818Z"
   },
   {
    "duration": 942,
    "start_time": "2022-12-26T10:59:03.640Z"
   },
   {
    "duration": 990,
    "start_time": "2022-12-26T10:59:09.753Z"
   },
   {
    "duration": 983,
    "start_time": "2022-12-26T10:59:15.898Z"
   },
   {
    "duration": 973,
    "start_time": "2022-12-26T10:59:24.678Z"
   },
   {
    "duration": 930,
    "start_time": "2022-12-26T10:59:28.379Z"
   },
   {
    "duration": 996,
    "start_time": "2022-12-26T10:59:51.662Z"
   },
   {
    "duration": 958,
    "start_time": "2022-12-26T11:00:04.266Z"
   },
   {
    "duration": 927,
    "start_time": "2022-12-26T11:00:14.990Z"
   },
   {
    "duration": 63,
    "start_time": "2022-12-26T11:00:17.087Z"
   },
   {
    "duration": 23144,
    "start_time": "2022-12-26T11:00:29.085Z"
   },
   {
    "duration": 1013,
    "start_time": "2022-12-26T11:01:01.659Z"
   },
   {
    "duration": 9286,
    "start_time": "2022-12-26T11:01:12.214Z"
   },
   {
    "duration": 9819,
    "start_time": "2022-12-26T11:01:34.813Z"
   },
   {
    "duration": 6676,
    "start_time": "2022-12-26T11:01:51.411Z"
   },
   {
    "duration": 8739,
    "start_time": "2022-12-26T11:02:03.351Z"
   },
   {
    "duration": 387,
    "start_time": "2022-12-26T11:02:20.996Z"
   },
   {
    "duration": 22481,
    "start_time": "2022-12-26T11:02:32.819Z"
   },
   {
    "duration": 2104,
    "start_time": "2022-12-26T11:03:10.718Z"
   },
   {
    "duration": 1349,
    "start_time": "2022-12-26T11:03:12.824Z"
   },
   {
    "duration": 52,
    "start_time": "2022-12-26T11:03:14.175Z"
   },
   {
    "duration": 25,
    "start_time": "2022-12-26T11:03:14.229Z"
   },
   {
    "duration": 4,
    "start_time": "2022-12-26T11:03:14.257Z"
   },
   {
    "duration": 10,
    "start_time": "2022-12-26T11:03:14.262Z"
   },
   {
    "duration": 34,
    "start_time": "2022-12-26T11:03:14.274Z"
   },
   {
    "duration": 649,
    "start_time": "2022-12-26T11:03:14.310Z"
   },
   {
    "duration": 5,
    "start_time": "2022-12-26T11:03:14.961Z"
   },
   {
    "duration": 6,
    "start_time": "2022-12-26T11:03:14.968Z"
   },
   {
    "duration": 8,
    "start_time": "2022-12-26T11:03:14.975Z"
   },
   {
    "duration": 17,
    "start_time": "2022-12-26T11:03:14.985Z"
   },
   {
    "duration": 27,
    "start_time": "2022-12-26T11:03:15.004Z"
   },
   {
    "duration": 23,
    "start_time": "2022-12-26T11:03:15.033Z"
   },
   {
    "duration": 5,
    "start_time": "2022-12-26T11:03:15.058Z"
   },
   {
    "duration": 25,
    "start_time": "2022-12-26T11:03:15.065Z"
   },
   {
    "duration": 7,
    "start_time": "2022-12-26T11:03:15.092Z"
   },
   {
    "duration": 23,
    "start_time": "2022-12-26T11:03:15.101Z"
   },
   {
    "duration": 14,
    "start_time": "2022-12-26T11:03:15.126Z"
   },
   {
    "duration": 25,
    "start_time": "2022-12-26T11:03:15.142Z"
   },
   {
    "duration": 32,
    "start_time": "2022-12-26T11:03:15.169Z"
   },
   {
    "duration": 16803,
    "start_time": "2022-12-26T11:03:15.204Z"
   },
   {
    "duration": 733,
    "start_time": "2022-12-26T11:03:32.009Z"
   },
   {
    "duration": 153,
    "start_time": "2022-12-26T11:03:32.744Z"
   },
   {
    "duration": 464,
    "start_time": "2022-12-26T11:03:32.900Z"
   },
   {
    "duration": 9,
    "start_time": "2022-12-26T11:03:33.366Z"
   },
   {
    "duration": 18,
    "start_time": "2022-12-26T11:03:33.379Z"
   },
   {
    "duration": 12,
    "start_time": "2022-12-26T11:03:33.400Z"
   },
   {
    "duration": 22885,
    "start_time": "2022-12-26T11:03:33.414Z"
   },
   {
    "duration": 880,
    "start_time": "2022-12-26T11:03:56.301Z"
   },
   {
    "duration": 35,
    "start_time": "2022-12-26T11:03:57.183Z"
   },
   {
    "duration": 185,
    "start_time": "2022-12-26T11:03:57.220Z"
   },
   {
    "duration": 1080,
    "start_time": "2022-12-26T11:03:57.407Z"
   },
   {
    "duration": 64,
    "start_time": "2022-12-26T11:03:58.489Z"
   },
   {
    "duration": 173,
    "start_time": "2022-12-26T11:03:58.554Z"
   },
   {
    "duration": 933,
    "start_time": "2022-12-26T11:03:58.729Z"
   },
   {
    "duration": 976,
    "start_time": "2022-12-26T11:06:40.659Z"
   },
   {
    "duration": 15208,
    "start_time": "2022-12-26T11:07:01.914Z"
   },
   {
    "duration": 681,
    "start_time": "2022-12-26T11:07:27.451Z"
   },
   {
    "duration": 984,
    "start_time": "2022-12-26T11:07:37.159Z"
   },
   {
    "duration": 2061,
    "start_time": "2022-12-26T11:07:56.443Z"
   },
   {
    "duration": 1325,
    "start_time": "2022-12-26T11:07:58.507Z"
   },
   {
    "duration": 50,
    "start_time": "2022-12-26T11:07:59.833Z"
   },
   {
    "duration": 22,
    "start_time": "2022-12-26T11:07:59.884Z"
   },
   {
    "duration": 6,
    "start_time": "2022-12-26T11:07:59.908Z"
   },
   {
    "duration": 29,
    "start_time": "2022-12-26T11:07:59.916Z"
   },
   {
    "duration": 25,
    "start_time": "2022-12-26T11:07:59.947Z"
   },
   {
    "duration": 625,
    "start_time": "2022-12-26T11:07:59.974Z"
   },
   {
    "duration": 5,
    "start_time": "2022-12-26T11:08:00.601Z"
   },
   {
    "duration": 100,
    "start_time": "2022-12-26T11:08:00.607Z"
   },
   {
    "duration": 80,
    "start_time": "2022-12-26T11:08:00.709Z"
   },
   {
    "duration": 99,
    "start_time": "2022-12-26T11:08:00.790Z"
   },
   {
    "duration": 41,
    "start_time": "2022-12-26T11:08:00.891Z"
   },
   {
    "duration": 48,
    "start_time": "2022-12-26T11:08:00.935Z"
   },
   {
    "duration": 47,
    "start_time": "2022-12-26T11:08:00.985Z"
   },
   {
    "duration": 26,
    "start_time": "2022-12-26T11:08:01.034Z"
   },
   {
    "duration": 21,
    "start_time": "2022-12-26T11:08:01.061Z"
   },
   {
    "duration": 44,
    "start_time": "2022-12-26T11:08:01.084Z"
   },
   {
    "duration": 42,
    "start_time": "2022-12-26T11:08:01.130Z"
   },
   {
    "duration": 36,
    "start_time": "2022-12-26T11:08:01.174Z"
   },
   {
    "duration": 25,
    "start_time": "2022-12-26T11:08:01.212Z"
   },
   {
    "duration": 16439,
    "start_time": "2022-12-26T11:08:01.238Z"
   },
   {
    "duration": 728,
    "start_time": "2022-12-26T11:08:17.679Z"
   },
   {
    "duration": 88,
    "start_time": "2022-12-26T11:08:18.409Z"
   },
   {
    "duration": 476,
    "start_time": "2022-12-26T11:08:18.499Z"
   },
   {
    "duration": 8,
    "start_time": "2022-12-26T11:08:18.977Z"
   },
   {
    "duration": 13,
    "start_time": "2022-12-26T11:08:18.986Z"
   },
   {
    "duration": 22,
    "start_time": "2022-12-26T11:08:19.001Z"
   },
   {
    "duration": 22766,
    "start_time": "2022-12-26T11:08:19.024Z"
   },
   {
    "duration": 875,
    "start_time": "2022-12-26T11:08:41.796Z"
   },
   {
    "duration": 35,
    "start_time": "2022-12-26T11:08:42.673Z"
   },
   {
    "duration": 191,
    "start_time": "2022-12-26T11:08:42.709Z"
   },
   {
    "duration": 1109,
    "start_time": "2022-12-26T11:08:42.902Z"
   },
   {
    "duration": 59,
    "start_time": "2022-12-26T11:08:44.012Z"
   },
   {
    "duration": 160,
    "start_time": "2022-12-26T11:08:44.097Z"
   },
   {
    "duration": 1031,
    "start_time": "2022-12-26T11:08:44.258Z"
   },
   {
    "duration": 228,
    "start_time": "2022-12-26T11:09:45.484Z"
   },
   {
    "duration": 994,
    "start_time": "2022-12-26T11:09:54.817Z"
   },
   {
    "duration": 996,
    "start_time": "2022-12-26T11:10:01.670Z"
   },
   {
    "duration": 976,
    "start_time": "2022-12-26T11:10:07.758Z"
   },
   {
    "duration": 975,
    "start_time": "2022-12-26T11:10:10.059Z"
   },
   {
    "duration": 966,
    "start_time": "2022-12-26T11:10:12.193Z"
   },
   {
    "duration": 1073,
    "start_time": "2022-12-26T11:10:14.559Z"
   },
   {
    "duration": 1036,
    "start_time": "2022-12-26T11:10:17.761Z"
   },
   {
    "duration": 974,
    "start_time": "2022-12-26T11:10:21.950Z"
   },
   {
    "duration": 5,
    "start_time": "2022-12-26T11:15:35.863Z"
   },
   {
    "duration": 106,
    "start_time": "2022-12-26T11:15:52.524Z"
   },
   {
    "duration": 10,
    "start_time": "2022-12-26T11:17:47.007Z"
   },
   {
    "duration": 1963,
    "start_time": "2022-12-26T11:17:52.230Z"
   },
   {
    "duration": 1333,
    "start_time": "2022-12-26T11:17:54.195Z"
   },
   {
    "duration": 49,
    "start_time": "2022-12-26T11:17:55.529Z"
   },
   {
    "duration": 23,
    "start_time": "2022-12-26T11:17:55.580Z"
   },
   {
    "duration": 3,
    "start_time": "2022-12-26T11:17:55.604Z"
   },
   {
    "duration": 7,
    "start_time": "2022-12-26T11:17:55.609Z"
   },
   {
    "duration": 20,
    "start_time": "2022-12-26T11:17:55.617Z"
   },
   {
    "duration": 586,
    "start_time": "2022-12-26T11:17:55.639Z"
   },
   {
    "duration": 4,
    "start_time": "2022-12-26T11:17:56.227Z"
   },
   {
    "duration": 3,
    "start_time": "2022-12-26T11:17:56.235Z"
   },
   {
    "duration": 8,
    "start_time": "2022-12-26T11:17:56.239Z"
   },
   {
    "duration": 9,
    "start_time": "2022-12-26T11:17:56.248Z"
   },
   {
    "duration": 10,
    "start_time": "2022-12-26T11:17:56.258Z"
   },
   {
    "duration": 34,
    "start_time": "2022-12-26T11:17:56.270Z"
   },
   {
    "duration": 4,
    "start_time": "2022-12-26T11:17:56.305Z"
   },
   {
    "duration": 12,
    "start_time": "2022-12-26T11:17:56.310Z"
   },
   {
    "duration": 2,
    "start_time": "2022-12-26T11:17:56.324Z"
   },
   {
    "duration": 16,
    "start_time": "2022-12-26T11:17:56.328Z"
   },
   {
    "duration": 10,
    "start_time": "2022-12-26T11:17:56.345Z"
   },
   {
    "duration": 31,
    "start_time": "2022-12-26T11:17:56.356Z"
   },
   {
    "duration": 14,
    "start_time": "2022-12-26T11:17:56.388Z"
   },
   {
    "duration": 15829,
    "start_time": "2022-12-26T11:17:56.403Z"
   },
   {
    "duration": 679,
    "start_time": "2022-12-26T11:18:12.234Z"
   },
   {
    "duration": 16,
    "start_time": "2022-12-26T11:18:12.915Z"
   },
   {
    "duration": 534,
    "start_time": "2022-12-26T11:18:12.934Z"
   },
   {
    "duration": 8,
    "start_time": "2022-12-26T11:18:13.469Z"
   },
   {
    "duration": 3,
    "start_time": "2022-12-26T11:18:13.478Z"
   },
   {
    "duration": 9,
    "start_time": "2022-12-26T11:18:13.497Z"
   },
   {
    "duration": 21919,
    "start_time": "2022-12-26T11:18:13.507Z"
   },
   {
    "duration": 860,
    "start_time": "2022-12-26T11:18:35.428Z"
   },
   {
    "duration": 28,
    "start_time": "2022-12-26T11:18:36.289Z"
   },
   {
    "duration": 187,
    "start_time": "2022-12-26T11:18:36.320Z"
   },
   {
    "duration": 1043,
    "start_time": "2022-12-26T11:18:36.509Z"
   },
   {
    "duration": 62,
    "start_time": "2022-12-26T11:18:37.554Z"
   },
   {
    "duration": 153,
    "start_time": "2022-12-26T11:18:37.618Z"
   },
   {
    "duration": 918,
    "start_time": "2022-12-26T11:18:37.773Z"
   },
   {
    "duration": 213,
    "start_time": "2022-12-26T11:18:38.692Z"
   },
   {
    "duration": 4,
    "start_time": "2022-12-26T11:18:38.906Z"
   },
   {
    "duration": 59,
    "start_time": "2022-12-26T11:19:20.953Z"
   },
   {
    "duration": 117,
    "start_time": "2022-12-26T11:21:05.780Z"
   },
   {
    "duration": 119,
    "start_time": "2022-12-26T11:21:16.297Z"
   },
   {
    "duration": 110,
    "start_time": "2022-12-26T11:22:34.673Z"
   },
   {
    "duration": 114,
    "start_time": "2022-12-26T11:23:23.972Z"
   },
   {
    "duration": 959,
    "start_time": "2022-12-26T11:24:06.385Z"
   },
   {
    "duration": 154,
    "start_time": "2022-12-26T11:24:20.101Z"
   },
   {
    "duration": 2023,
    "start_time": "2022-12-26T11:39:16.713Z"
   },
   {
    "duration": 1309,
    "start_time": "2022-12-26T11:39:18.738Z"
   },
   {
    "duration": 60,
    "start_time": "2022-12-26T11:39:20.049Z"
   },
   {
    "duration": 24,
    "start_time": "2022-12-26T11:39:20.111Z"
   },
   {
    "duration": 17,
    "start_time": "2022-12-26T11:39:20.137Z"
   },
   {
    "duration": 21,
    "start_time": "2022-12-26T11:39:20.155Z"
   },
   {
    "duration": 46,
    "start_time": "2022-12-26T11:39:20.178Z"
   },
   {
    "duration": 638,
    "start_time": "2022-12-26T11:39:20.225Z"
   },
   {
    "duration": 7,
    "start_time": "2022-12-26T11:39:20.865Z"
   },
   {
    "duration": 7,
    "start_time": "2022-12-26T11:39:20.874Z"
   },
   {
    "duration": 16,
    "start_time": "2022-12-26T11:39:20.882Z"
   },
   {
    "duration": 7,
    "start_time": "2022-12-26T11:39:20.900Z"
   },
   {
    "duration": 24,
    "start_time": "2022-12-26T11:39:20.908Z"
   },
   {
    "duration": 26,
    "start_time": "2022-12-26T11:39:20.934Z"
   },
   {
    "duration": 10,
    "start_time": "2022-12-26T11:39:20.962Z"
   },
   {
    "duration": 17,
    "start_time": "2022-12-26T11:39:20.974Z"
   },
   {
    "duration": 4,
    "start_time": "2022-12-26T11:39:20.992Z"
   },
   {
    "duration": 17,
    "start_time": "2022-12-26T11:39:20.997Z"
   },
   {
    "duration": 14,
    "start_time": "2022-12-26T11:39:21.015Z"
   },
   {
    "duration": 15,
    "start_time": "2022-12-26T11:39:21.030Z"
   },
   {
    "duration": 18,
    "start_time": "2022-12-26T11:39:21.046Z"
   },
   {
    "duration": 15992,
    "start_time": "2022-12-26T11:39:21.065Z"
   },
   {
    "duration": 696,
    "start_time": "2022-12-26T11:39:37.059Z"
   },
   {
    "duration": 42,
    "start_time": "2022-12-26T11:39:37.756Z"
   },
   {
    "duration": 465,
    "start_time": "2022-12-26T11:39:37.800Z"
   },
   {
    "duration": 7,
    "start_time": "2022-12-26T11:39:38.266Z"
   },
   {
    "duration": 3,
    "start_time": "2022-12-26T11:39:38.275Z"
   },
   {
    "duration": 25,
    "start_time": "2022-12-26T11:39:38.280Z"
   },
   {
    "duration": 22581,
    "start_time": "2022-12-26T11:39:38.306Z"
   },
   {
    "duration": 901,
    "start_time": "2022-12-26T11:40:00.889Z"
   },
   {
    "duration": 27,
    "start_time": "2022-12-26T11:40:01.792Z"
   },
   {
    "duration": 202,
    "start_time": "2022-12-26T11:40:01.896Z"
   },
   {
    "duration": 1009,
    "start_time": "2022-12-26T11:40:02.100Z"
   },
   {
    "duration": 63,
    "start_time": "2022-12-26T11:40:03.110Z"
   },
   {
    "duration": 178,
    "start_time": "2022-12-26T11:40:03.175Z"
   },
   {
    "duration": 1125,
    "start_time": "2022-12-26T11:40:03.354Z"
   },
   {
    "duration": 207,
    "start_time": "2022-12-26T11:40:04.481Z"
   },
   {
    "duration": 72,
    "start_time": "2022-12-26T11:40:04.691Z"
   },
   {
    "duration": 1042,
    "start_time": "2022-12-26T11:41:41.272Z"
   },
   {
    "duration": 2111,
    "start_time": "2022-12-26T11:41:49.970Z"
   },
   {
    "duration": 1367,
    "start_time": "2022-12-26T11:41:52.083Z"
   },
   {
    "duration": 51,
    "start_time": "2022-12-26T11:41:53.451Z"
   },
   {
    "duration": 23,
    "start_time": "2022-12-26T11:41:53.504Z"
   },
   {
    "duration": 3,
    "start_time": "2022-12-26T11:41:53.530Z"
   },
   {
    "duration": 8,
    "start_time": "2022-12-26T11:41:53.535Z"
   },
   {
    "duration": 17,
    "start_time": "2022-12-26T11:41:53.545Z"
   },
   {
    "duration": 637,
    "start_time": "2022-12-26T11:41:53.564Z"
   },
   {
    "duration": 5,
    "start_time": "2022-12-26T11:41:54.203Z"
   },
   {
    "duration": 11,
    "start_time": "2022-12-26T11:41:54.210Z"
   },
   {
    "duration": 8,
    "start_time": "2022-12-26T11:41:54.222Z"
   },
   {
    "duration": 7,
    "start_time": "2022-12-26T11:41:54.232Z"
   },
   {
    "duration": 14,
    "start_time": "2022-12-26T11:41:54.241Z"
   },
   {
    "duration": 42,
    "start_time": "2022-12-26T11:41:54.258Z"
   },
   {
    "duration": 6,
    "start_time": "2022-12-26T11:41:54.302Z"
   },
   {
    "duration": 15,
    "start_time": "2022-12-26T11:41:54.309Z"
   },
   {
    "duration": 10,
    "start_time": "2022-12-26T11:41:54.326Z"
   },
   {
    "duration": 21,
    "start_time": "2022-12-26T11:41:54.338Z"
   },
   {
    "duration": 13,
    "start_time": "2022-12-26T11:41:54.361Z"
   },
   {
    "duration": 37,
    "start_time": "2022-12-26T11:41:54.375Z"
   },
   {
    "duration": 11,
    "start_time": "2022-12-26T11:41:54.414Z"
   },
   {
    "duration": 16285,
    "start_time": "2022-12-26T11:41:54.426Z"
   },
   {
    "duration": 689,
    "start_time": "2022-12-26T11:42:10.713Z"
   },
   {
    "duration": 93,
    "start_time": "2022-12-26T11:42:11.404Z"
   },
   {
    "duration": 500,
    "start_time": "2022-12-26T11:42:11.500Z"
   },
   {
    "duration": 10,
    "start_time": "2022-12-26T11:42:12.001Z"
   },
   {
    "duration": 4,
    "start_time": "2022-12-26T11:42:12.012Z"
   },
   {
    "duration": 16,
    "start_time": "2022-12-26T11:42:12.018Z"
   },
   {
    "duration": 22553,
    "start_time": "2022-12-26T11:42:12.036Z"
   },
   {
    "duration": 890,
    "start_time": "2022-12-26T11:42:34.591Z"
   },
   {
    "duration": 40,
    "start_time": "2022-12-26T11:42:35.482Z"
   },
   {
    "duration": 107,
    "start_time": "2022-12-26T11:42:35.598Z"
   },
   {
    "duration": 1035,
    "start_time": "2022-12-26T11:42:35.708Z"
   },
   {
    "duration": 58,
    "start_time": "2022-12-26T11:42:36.745Z"
   },
   {
    "duration": 166,
    "start_time": "2022-12-26T11:42:36.805Z"
   },
   {
    "duration": 1046,
    "start_time": "2022-12-26T11:42:36.973Z"
   },
   {
    "duration": 158,
    "start_time": "2022-12-26T11:42:38.021Z"
   },
   {
    "duration": 1990,
    "start_time": "2022-12-26T11:43:02.114Z"
   },
   {
    "duration": 1327,
    "start_time": "2022-12-26T11:43:04.107Z"
   },
   {
    "duration": 51,
    "start_time": "2022-12-26T11:43:05.435Z"
   },
   {
    "duration": 24,
    "start_time": "2022-12-26T11:43:05.488Z"
   },
   {
    "duration": 4,
    "start_time": "2022-12-26T11:43:05.513Z"
   },
   {
    "duration": 8,
    "start_time": "2022-12-26T11:43:05.518Z"
   },
   {
    "duration": 24,
    "start_time": "2022-12-26T11:43:05.527Z"
   },
   {
    "duration": 605,
    "start_time": "2022-12-26T11:43:05.553Z"
   },
   {
    "duration": 6,
    "start_time": "2022-12-26T11:43:06.159Z"
   },
   {
    "duration": 6,
    "start_time": "2022-12-26T11:43:06.167Z"
   },
   {
    "duration": 124,
    "start_time": "2022-12-26T11:43:06.174Z"
   },
   {
    "duration": 0,
    "start_time": "2022-12-26T11:43:06.300Z"
   },
   {
    "duration": 0,
    "start_time": "2022-12-26T11:43:06.302Z"
   },
   {
    "duration": 1,
    "start_time": "2022-12-26T11:43:06.303Z"
   },
   {
    "duration": 0,
    "start_time": "2022-12-26T11:43:06.304Z"
   },
   {
    "duration": 0,
    "start_time": "2022-12-26T11:43:06.305Z"
   },
   {
    "duration": 0,
    "start_time": "2022-12-26T11:43:06.306Z"
   },
   {
    "duration": 0,
    "start_time": "2022-12-26T11:43:06.307Z"
   },
   {
    "duration": 0,
    "start_time": "2022-12-26T11:43:06.308Z"
   },
   {
    "duration": 0,
    "start_time": "2022-12-26T11:43:06.309Z"
   },
   {
    "duration": 0,
    "start_time": "2022-12-26T11:43:06.310Z"
   },
   {
    "duration": 0,
    "start_time": "2022-12-26T11:43:06.311Z"
   },
   {
    "duration": 0,
    "start_time": "2022-12-26T11:43:06.313Z"
   },
   {
    "duration": 0,
    "start_time": "2022-12-26T11:43:06.314Z"
   },
   {
    "duration": 0,
    "start_time": "2022-12-26T11:43:06.315Z"
   },
   {
    "duration": 0,
    "start_time": "2022-12-26T11:43:06.316Z"
   },
   {
    "duration": 0,
    "start_time": "2022-12-26T11:43:06.317Z"
   },
   {
    "duration": 0,
    "start_time": "2022-12-26T11:43:06.318Z"
   },
   {
    "duration": 0,
    "start_time": "2022-12-26T11:43:06.319Z"
   },
   {
    "duration": 0,
    "start_time": "2022-12-26T11:43:06.320Z"
   },
   {
    "duration": 0,
    "start_time": "2022-12-26T11:43:06.321Z"
   },
   {
    "duration": 0,
    "start_time": "2022-12-26T11:43:06.322Z"
   },
   {
    "duration": 0,
    "start_time": "2022-12-26T11:43:06.324Z"
   },
   {
    "duration": 0,
    "start_time": "2022-12-26T11:43:06.325Z"
   },
   {
    "duration": 0,
    "start_time": "2022-12-26T11:43:06.327Z"
   },
   {
    "duration": 0,
    "start_time": "2022-12-26T11:43:06.329Z"
   },
   {
    "duration": 0,
    "start_time": "2022-12-26T11:43:06.330Z"
   },
   {
    "duration": 5,
    "start_time": "2022-12-26T11:43:35.981Z"
   },
   {
    "duration": 5,
    "start_time": "2022-12-26T11:43:45.273Z"
   },
   {
    "duration": 2049,
    "start_time": "2022-12-26T11:43:54.665Z"
   },
   {
    "duration": 1293,
    "start_time": "2022-12-26T11:43:56.716Z"
   },
   {
    "duration": 55,
    "start_time": "2022-12-26T11:43:58.011Z"
   },
   {
    "duration": 24,
    "start_time": "2022-12-26T11:43:58.068Z"
   },
   {
    "duration": 4,
    "start_time": "2022-12-26T11:43:58.094Z"
   },
   {
    "duration": 8,
    "start_time": "2022-12-26T11:43:58.100Z"
   },
   {
    "duration": 29,
    "start_time": "2022-12-26T11:43:58.109Z"
   },
   {
    "duration": 582,
    "start_time": "2022-12-26T11:43:58.139Z"
   },
   {
    "duration": 5,
    "start_time": "2022-12-26T11:43:58.723Z"
   },
   {
    "duration": 63,
    "start_time": "2022-12-26T11:43:58.730Z"
   },
   {
    "duration": 0,
    "start_time": "2022-12-26T11:43:58.795Z"
   },
   {
    "duration": 0,
    "start_time": "2022-12-26T11:43:58.796Z"
   },
   {
    "duration": 0,
    "start_time": "2022-12-26T11:43:58.797Z"
   },
   {
    "duration": 0,
    "start_time": "2022-12-26T11:43:58.799Z"
   },
   {
    "duration": 0,
    "start_time": "2022-12-26T11:43:58.800Z"
   },
   {
    "duration": 0,
    "start_time": "2022-12-26T11:43:58.801Z"
   },
   {
    "duration": 0,
    "start_time": "2022-12-26T11:43:58.802Z"
   },
   {
    "duration": 0,
    "start_time": "2022-12-26T11:43:58.804Z"
   },
   {
    "duration": 0,
    "start_time": "2022-12-26T11:43:58.805Z"
   },
   {
    "duration": 0,
    "start_time": "2022-12-26T11:43:58.806Z"
   },
   {
    "duration": 0,
    "start_time": "2022-12-26T11:43:58.807Z"
   },
   {
    "duration": 0,
    "start_time": "2022-12-26T11:43:58.809Z"
   },
   {
    "duration": 0,
    "start_time": "2022-12-26T11:43:58.810Z"
   },
   {
    "duration": 0,
    "start_time": "2022-12-26T11:43:58.812Z"
   },
   {
    "duration": 0,
    "start_time": "2022-12-26T11:43:58.813Z"
   },
   {
    "duration": 0,
    "start_time": "2022-12-26T11:43:58.815Z"
   },
   {
    "duration": 0,
    "start_time": "2022-12-26T11:43:58.816Z"
   },
   {
    "duration": 0,
    "start_time": "2022-12-26T11:43:58.818Z"
   },
   {
    "duration": 0,
    "start_time": "2022-12-26T11:43:58.819Z"
   },
   {
    "duration": 0,
    "start_time": "2022-12-26T11:43:58.821Z"
   },
   {
    "duration": 0,
    "start_time": "2022-12-26T11:43:58.822Z"
   },
   {
    "duration": 0,
    "start_time": "2022-12-26T11:43:58.823Z"
   },
   {
    "duration": 0,
    "start_time": "2022-12-26T11:43:58.824Z"
   },
   {
    "duration": 0,
    "start_time": "2022-12-26T11:43:58.826Z"
   },
   {
    "duration": 0,
    "start_time": "2022-12-26T11:43:58.827Z"
   },
   {
    "duration": 0,
    "start_time": "2022-12-26T11:43:58.829Z"
   },
   {
    "duration": 0,
    "start_time": "2022-12-26T11:43:58.830Z"
   },
   {
    "duration": 2063,
    "start_time": "2022-12-26T11:44:09.011Z"
   },
   {
    "duration": 1361,
    "start_time": "2022-12-26T11:44:11.077Z"
   },
   {
    "duration": 49,
    "start_time": "2022-12-26T11:44:12.440Z"
   },
   {
    "duration": 24,
    "start_time": "2022-12-26T11:44:12.491Z"
   },
   {
    "duration": 3,
    "start_time": "2022-12-26T11:44:12.517Z"
   },
   {
    "duration": 7,
    "start_time": "2022-12-26T11:44:12.522Z"
   },
   {
    "duration": 17,
    "start_time": "2022-12-26T11:44:12.530Z"
   },
   {
    "duration": 596,
    "start_time": "2022-12-26T11:44:12.549Z"
   },
   {
    "duration": 5,
    "start_time": "2022-12-26T11:44:13.147Z"
   },
   {
    "duration": 6,
    "start_time": "2022-12-26T11:44:13.155Z"
   },
   {
    "duration": 7,
    "start_time": "2022-12-26T11:44:13.162Z"
   },
   {
    "duration": 28,
    "start_time": "2022-12-26T11:44:13.171Z"
   },
   {
    "duration": 22,
    "start_time": "2022-12-26T11:44:13.200Z"
   },
   {
    "duration": 22,
    "start_time": "2022-12-26T11:44:13.224Z"
   },
   {
    "duration": 19,
    "start_time": "2022-12-26T11:44:13.248Z"
   },
   {
    "duration": 13,
    "start_time": "2022-12-26T11:44:13.269Z"
   },
   {
    "duration": 3,
    "start_time": "2022-12-26T11:44:13.284Z"
   },
   {
    "duration": 35,
    "start_time": "2022-12-26T11:44:13.289Z"
   },
   {
    "duration": 15,
    "start_time": "2022-12-26T11:44:13.326Z"
   },
   {
    "duration": 30,
    "start_time": "2022-12-26T11:44:13.343Z"
   },
   {
    "duration": 11,
    "start_time": "2022-12-26T11:44:13.375Z"
   },
   {
    "duration": 16472,
    "start_time": "2022-12-26T11:44:13.388Z"
   },
   {
    "duration": 732,
    "start_time": "2022-12-26T11:44:29.862Z"
   },
   {
    "duration": 17,
    "start_time": "2022-12-26T11:44:30.597Z"
   },
   {
    "duration": 556,
    "start_time": "2022-12-26T11:44:30.617Z"
   },
   {
    "duration": 8,
    "start_time": "2022-12-26T11:44:31.175Z"
   },
   {
    "duration": 13,
    "start_time": "2022-12-26T11:44:31.185Z"
   },
   {
    "duration": 33,
    "start_time": "2022-12-26T11:44:31.201Z"
   },
   {
    "duration": 22557,
    "start_time": "2022-12-26T11:44:31.235Z"
   },
   {
    "duration": 847,
    "start_time": "2022-12-26T11:44:53.797Z"
   },
   {
    "duration": 55,
    "start_time": "2022-12-26T11:44:54.645Z"
   },
   {
    "duration": 111,
    "start_time": "2022-12-26T11:44:54.702Z"
   },
   {
    "duration": 1048,
    "start_time": "2022-12-26T11:44:54.818Z"
   },
   {
    "duration": 68,
    "start_time": "2022-12-26T11:44:55.868Z"
   },
   {
    "duration": 162,
    "start_time": "2022-12-26T11:44:55.937Z"
   },
   {
    "duration": 1031,
    "start_time": "2022-12-26T11:44:56.101Z"
   },
   {
    "duration": 159,
    "start_time": "2022-12-26T11:44:57.133Z"
   },
   {
    "duration": 1971,
    "start_time": "2022-12-26T11:45:20.514Z"
   },
   {
    "duration": 1308,
    "start_time": "2022-12-26T11:45:22.487Z"
   },
   {
    "duration": 68,
    "start_time": "2022-12-26T11:45:23.797Z"
   },
   {
    "duration": 23,
    "start_time": "2022-12-26T11:45:23.867Z"
   },
   {
    "duration": 3,
    "start_time": "2022-12-26T11:45:23.891Z"
   },
   {
    "duration": 7,
    "start_time": "2022-12-26T11:45:23.896Z"
   },
   {
    "duration": 17,
    "start_time": "2022-12-26T11:45:23.904Z"
   },
   {
    "duration": 522,
    "start_time": "2022-12-26T11:45:23.922Z"
   },
   {
    "duration": 5,
    "start_time": "2022-12-26T11:45:24.446Z"
   },
   {
    "duration": 5,
    "start_time": "2022-12-26T11:45:24.453Z"
   },
   {
    "duration": 15,
    "start_time": "2022-12-26T11:45:24.459Z"
   },
   {
    "duration": 6,
    "start_time": "2022-12-26T11:45:24.475Z"
   },
   {
    "duration": 19,
    "start_time": "2022-12-26T11:45:24.483Z"
   },
   {
    "duration": 16,
    "start_time": "2022-12-26T11:45:24.503Z"
   },
   {
    "duration": 4,
    "start_time": "2022-12-26T11:45:24.520Z"
   },
   {
    "duration": 24,
    "start_time": "2022-12-26T11:45:24.526Z"
   },
   {
    "duration": 4,
    "start_time": "2022-12-26T11:45:24.551Z"
   },
   {
    "duration": 31,
    "start_time": "2022-12-26T11:45:24.557Z"
   },
   {
    "duration": 14,
    "start_time": "2022-12-26T11:45:24.590Z"
   },
   {
    "duration": 20,
    "start_time": "2022-12-26T11:45:24.605Z"
   },
   {
    "duration": 12,
    "start_time": "2022-12-26T11:45:24.627Z"
   },
   {
    "duration": 15672,
    "start_time": "2022-12-26T11:45:24.641Z"
   },
   {
    "duration": 675,
    "start_time": "2022-12-26T11:45:40.315Z"
   },
   {
    "duration": 21,
    "start_time": "2022-12-26T11:45:40.992Z"
   },
   {
    "duration": 546,
    "start_time": "2022-12-26T11:45:41.016Z"
   },
   {
    "duration": 7,
    "start_time": "2022-12-26T11:45:41.564Z"
   },
   {
    "duration": 4,
    "start_time": "2022-12-26T11:45:41.572Z"
   },
   {
    "duration": 23,
    "start_time": "2022-12-26T11:45:41.578Z"
   },
   {
    "duration": 21766,
    "start_time": "2022-12-26T11:45:41.603Z"
   },
   {
    "duration": 845,
    "start_time": "2022-12-26T11:46:03.371Z"
   },
   {
    "duration": 22,
    "start_time": "2022-12-26T11:46:04.217Z"
   },
   {
    "duration": 162,
    "start_time": "2022-12-26T11:46:04.242Z"
   },
   {
    "duration": 1061,
    "start_time": "2022-12-26T11:46:04.406Z"
   },
   {
    "duration": 65,
    "start_time": "2022-12-26T11:46:05.469Z"
   },
   {
    "duration": 172,
    "start_time": "2022-12-26T11:46:05.535Z"
   },
   {
    "duration": 1022,
    "start_time": "2022-12-26T11:46:05.709Z"
   },
   {
    "duration": 153,
    "start_time": "2022-12-26T11:46:06.733Z"
   },
   {
    "duration": 112,
    "start_time": "2022-12-26T12:00:25.951Z"
   },
   {
    "duration": 4,
    "start_time": "2022-12-26T12:00:42.474Z"
   },
   {
    "duration": 14,
    "start_time": "2022-12-26T12:00:45.860Z"
   },
   {
    "duration": 6,
    "start_time": "2022-12-26T12:01:00.272Z"
   },
   {
    "duration": 5,
    "start_time": "2022-12-26T12:01:31.156Z"
   },
   {
    "duration": 2192,
    "start_time": "2022-12-26T12:02:03.459Z"
   },
   {
    "duration": 1353,
    "start_time": "2022-12-26T12:02:05.653Z"
   },
   {
    "duration": 50,
    "start_time": "2022-12-26T12:02:07.007Z"
   },
   {
    "duration": 25,
    "start_time": "2022-12-26T12:02:07.059Z"
   },
   {
    "duration": 4,
    "start_time": "2022-12-26T12:02:07.085Z"
   },
   {
    "duration": 9,
    "start_time": "2022-12-26T12:02:07.090Z"
   },
   {
    "duration": 25,
    "start_time": "2022-12-26T12:02:07.100Z"
   },
   {
    "duration": 588,
    "start_time": "2022-12-26T12:02:07.129Z"
   },
   {
    "duration": 5,
    "start_time": "2022-12-26T12:02:07.718Z"
   },
   {
    "duration": 6,
    "start_time": "2022-12-26T12:02:07.725Z"
   },
   {
    "duration": 19,
    "start_time": "2022-12-26T12:02:07.732Z"
   },
   {
    "duration": 8,
    "start_time": "2022-12-26T12:02:07.753Z"
   },
   {
    "duration": 17,
    "start_time": "2022-12-26T12:02:07.763Z"
   },
   {
    "duration": 33,
    "start_time": "2022-12-26T12:02:07.781Z"
   },
   {
    "duration": 4,
    "start_time": "2022-12-26T12:02:07.816Z"
   },
   {
    "duration": 32,
    "start_time": "2022-12-26T12:02:07.821Z"
   },
   {
    "duration": 16,
    "start_time": "2022-12-26T12:02:07.854Z"
   },
   {
    "duration": 22,
    "start_time": "2022-12-26T12:02:07.871Z"
   },
   {
    "duration": 11,
    "start_time": "2022-12-26T12:02:07.894Z"
   },
   {
    "duration": 21,
    "start_time": "2022-12-26T12:02:07.907Z"
   },
   {
    "duration": 11,
    "start_time": "2022-12-26T12:02:07.929Z"
   },
   {
    "duration": 16033,
    "start_time": "2022-12-26T12:02:07.941Z"
   },
   {
    "duration": 670,
    "start_time": "2022-12-26T12:02:23.975Z"
   },
   {
    "duration": 53,
    "start_time": "2022-12-26T12:02:24.646Z"
   },
   {
    "duration": 512,
    "start_time": "2022-12-26T12:02:24.700Z"
   },
   {
    "duration": 7,
    "start_time": "2022-12-26T12:02:25.214Z"
   },
   {
    "duration": 10,
    "start_time": "2022-12-26T12:02:25.222Z"
   },
   {
    "duration": 16,
    "start_time": "2022-12-26T12:02:25.235Z"
   },
   {
    "duration": 28,
    "start_time": "2022-12-26T12:02:25.253Z"
   },
   {
    "duration": 21941,
    "start_time": "2022-12-26T12:02:25.282Z"
   },
   {
    "duration": 832,
    "start_time": "2022-12-26T12:02:47.225Z"
   },
   {
    "duration": 40,
    "start_time": "2022-12-26T12:02:48.058Z"
   },
   {
    "duration": 103,
    "start_time": "2022-12-26T12:02:48.100Z"
   },
   {
    "duration": 1062,
    "start_time": "2022-12-26T12:02:48.205Z"
   },
   {
    "duration": 60,
    "start_time": "2022-12-26T12:02:49.268Z"
   },
   {
    "duration": 163,
    "start_time": "2022-12-26T12:02:49.329Z"
   },
   {
    "duration": 9,
    "start_time": "2022-12-26T12:02:49.494Z"
   },
   {
    "duration": 1970,
    "start_time": "2022-12-26T12:03:10.311Z"
   },
   {
    "duration": 1364,
    "start_time": "2022-12-26T12:03:12.283Z"
   },
   {
    "duration": 51,
    "start_time": "2022-12-26T12:03:13.649Z"
   },
   {
    "duration": 24,
    "start_time": "2022-12-26T12:03:13.701Z"
   },
   {
    "duration": 4,
    "start_time": "2022-12-26T12:03:13.727Z"
   },
   {
    "duration": 10,
    "start_time": "2022-12-26T12:03:13.732Z"
   },
   {
    "duration": 18,
    "start_time": "2022-12-26T12:03:13.743Z"
   },
   {
    "duration": 585,
    "start_time": "2022-12-26T12:03:13.762Z"
   },
   {
    "duration": 5,
    "start_time": "2022-12-26T12:03:14.349Z"
   },
   {
    "duration": 11,
    "start_time": "2022-12-26T12:03:14.356Z"
   },
   {
    "duration": 21,
    "start_time": "2022-12-26T12:03:14.368Z"
   },
   {
    "duration": 26,
    "start_time": "2022-12-26T12:03:14.390Z"
   },
   {
    "duration": 11,
    "start_time": "2022-12-26T12:03:14.418Z"
   },
   {
    "duration": 17,
    "start_time": "2022-12-26T12:03:14.432Z"
   },
   {
    "duration": 5,
    "start_time": "2022-12-26T12:03:14.450Z"
   },
   {
    "duration": 22,
    "start_time": "2022-12-26T12:03:14.456Z"
   },
   {
    "duration": 4,
    "start_time": "2022-12-26T12:03:14.480Z"
   },
   {
    "duration": 23,
    "start_time": "2022-12-26T12:03:14.486Z"
   },
   {
    "duration": 11,
    "start_time": "2022-12-26T12:03:14.510Z"
   },
   {
    "duration": 16,
    "start_time": "2022-12-26T12:03:14.522Z"
   },
   {
    "duration": 11,
    "start_time": "2022-12-26T12:03:14.539Z"
   },
   {
    "duration": 16372,
    "start_time": "2022-12-26T12:03:14.552Z"
   },
   {
    "duration": 684,
    "start_time": "2022-12-26T12:03:30.926Z"
   },
   {
    "duration": 86,
    "start_time": "2022-12-26T12:03:31.612Z"
   },
   {
    "duration": 634,
    "start_time": "2022-12-26T12:03:31.702Z"
   },
   {
    "duration": 10,
    "start_time": "2022-12-26T12:03:32.337Z"
   },
   {
    "duration": 14,
    "start_time": "2022-12-26T12:03:32.348Z"
   },
   {
    "duration": 15,
    "start_time": "2022-12-26T12:03:32.366Z"
   },
   {
    "duration": 15,
    "start_time": "2022-12-26T12:03:32.382Z"
   },
   {
    "duration": 22423,
    "start_time": "2022-12-26T12:03:32.398Z"
   },
   {
    "duration": 903,
    "start_time": "2022-12-26T12:03:54.823Z"
   },
   {
    "duration": 77,
    "start_time": "2022-12-26T12:03:55.728Z"
   },
   {
    "duration": 110,
    "start_time": "2022-12-26T12:03:55.807Z"
   },
   {
    "duration": 1061,
    "start_time": "2022-12-26T12:03:55.919Z"
   },
   {
    "duration": 67,
    "start_time": "2022-12-26T12:03:56.982Z"
   },
   {
    "duration": 157,
    "start_time": "2022-12-26T12:03:57.051Z"
   },
   {
    "duration": 9,
    "start_time": "2022-12-26T12:03:57.210Z"
   },
   {
    "duration": 22597,
    "start_time": "2022-12-26T12:03:57.221Z"
   },
   {
    "duration": 941,
    "start_time": "2022-12-26T12:04:19.820Z"
   },
   {
    "duration": 44,
    "start_time": "2022-12-26T12:04:20.763Z"
   },
   {
    "duration": 109,
    "start_time": "2022-12-26T12:04:20.898Z"
   },
   {
    "duration": 1100,
    "start_time": "2022-12-26T12:04:21.009Z"
   },
   {
    "duration": 60,
    "start_time": "2022-12-26T12:04:22.111Z"
   },
   {
    "duration": 1082,
    "start_time": "2022-12-26T12:04:22.173Z"
   },
   {
    "duration": 170,
    "start_time": "2022-12-26T12:04:23.257Z"
   },
   {
    "duration": 2065,
    "start_time": "2022-12-26T12:05:39.103Z"
   },
   {
    "duration": 1359,
    "start_time": "2022-12-26T12:05:41.170Z"
   },
   {
    "duration": 55,
    "start_time": "2022-12-26T12:05:42.531Z"
   },
   {
    "duration": 26,
    "start_time": "2022-12-26T12:05:42.589Z"
   },
   {
    "duration": 4,
    "start_time": "2022-12-26T12:05:42.616Z"
   },
   {
    "duration": 12,
    "start_time": "2022-12-26T12:05:42.621Z"
   },
   {
    "duration": 18,
    "start_time": "2022-12-26T12:05:42.635Z"
   },
   {
    "duration": 632,
    "start_time": "2022-12-26T12:05:42.654Z"
   },
   {
    "duration": 12,
    "start_time": "2022-12-26T12:05:43.288Z"
   },
   {
    "duration": 3,
    "start_time": "2022-12-26T12:05:43.304Z"
   },
   {
    "duration": 5,
    "start_time": "2022-12-26T12:05:43.309Z"
   },
   {
    "duration": 11,
    "start_time": "2022-12-26T12:05:43.315Z"
   },
   {
    "duration": 15,
    "start_time": "2022-12-26T12:05:43.328Z"
   },
   {
    "duration": 16,
    "start_time": "2022-12-26T12:05:43.345Z"
   },
   {
    "duration": 5,
    "start_time": "2022-12-26T12:05:43.363Z"
   },
   {
    "duration": 36,
    "start_time": "2022-12-26T12:05:43.369Z"
   },
   {
    "duration": 4,
    "start_time": "2022-12-26T12:05:43.406Z"
   },
   {
    "duration": 16,
    "start_time": "2022-12-26T12:05:43.411Z"
   },
   {
    "duration": 11,
    "start_time": "2022-12-26T12:05:43.429Z"
   },
   {
    "duration": 26,
    "start_time": "2022-12-26T12:05:43.441Z"
   },
   {
    "duration": 10,
    "start_time": "2022-12-26T12:05:43.468Z"
   },
   {
    "duration": 16734,
    "start_time": "2022-12-26T12:05:43.480Z"
   },
   {
    "duration": 747,
    "start_time": "2022-12-26T12:06:00.215Z"
   },
   {
    "duration": 41,
    "start_time": "2022-12-26T12:06:00.963Z"
   },
   {
    "duration": 726,
    "start_time": "2022-12-26T12:06:01.007Z"
   },
   {
    "duration": 7,
    "start_time": "2022-12-26T12:06:01.735Z"
   },
   {
    "duration": 73,
    "start_time": "2022-12-26T12:06:01.744Z"
   },
   {
    "duration": 78,
    "start_time": "2022-12-26T12:06:01.822Z"
   },
   {
    "duration": 115,
    "start_time": "2022-12-26T12:06:01.903Z"
   },
   {
    "duration": 25,
    "start_time": "2022-12-26T12:06:02.020Z"
   },
   {
    "duration": 24483,
    "start_time": "2022-12-26T12:06:02.047Z"
   },
   {
    "duration": 901,
    "start_time": "2022-12-26T12:06:26.532Z"
   },
   {
    "duration": 26,
    "start_time": "2022-12-26T12:06:27.435Z"
   },
   {
    "duration": 1011,
    "start_time": "2022-12-26T12:06:27.499Z"
   },
   {
    "duration": 67,
    "start_time": "2022-12-26T12:06:28.512Z"
   },
   {
    "duration": 187,
    "start_time": "2022-12-26T12:06:28.581Z"
   },
   {
    "duration": 9,
    "start_time": "2022-12-26T12:06:28.770Z"
   },
   {
    "duration": 24006,
    "start_time": "2022-12-26T12:06:28.781Z"
   },
   {
    "duration": 912,
    "start_time": "2022-12-26T12:06:52.788Z"
   },
   {
    "duration": 28,
    "start_time": "2022-12-26T12:06:53.701Z"
   },
   {
    "duration": 1138,
    "start_time": "2022-12-26T12:06:53.733Z"
   },
   {
    "duration": 65,
    "start_time": "2022-12-26T12:06:54.873Z"
   },
   {
    "duration": 1036,
    "start_time": "2022-12-26T12:06:54.940Z"
   },
   {
    "duration": 174,
    "start_time": "2022-12-26T12:06:55.978Z"
   },
   {
    "duration": 2062,
    "start_time": "2022-12-26T12:33:43.558Z"
   },
   {
    "duration": 1288,
    "start_time": "2022-12-26T12:33:45.622Z"
   },
   {
    "duration": 50,
    "start_time": "2022-12-26T12:33:46.912Z"
   },
   {
    "duration": 21,
    "start_time": "2022-12-26T12:33:46.963Z"
   },
   {
    "duration": 3,
    "start_time": "2022-12-26T12:33:46.986Z"
   },
   {
    "duration": 10,
    "start_time": "2022-12-26T12:33:46.991Z"
   },
   {
    "duration": 18,
    "start_time": "2022-12-26T12:33:47.003Z"
   },
   {
    "duration": 533,
    "start_time": "2022-12-26T12:33:47.023Z"
   },
   {
    "duration": 5,
    "start_time": "2022-12-26T12:33:47.557Z"
   },
   {
    "duration": 15,
    "start_time": "2022-12-26T12:33:47.564Z"
   },
   {
    "duration": 22,
    "start_time": "2022-12-26T12:33:47.580Z"
   },
   {
    "duration": 21,
    "start_time": "2022-12-26T12:33:47.604Z"
   },
   {
    "duration": 16,
    "start_time": "2022-12-26T12:33:47.627Z"
   },
   {
    "duration": 38,
    "start_time": "2022-12-26T12:33:47.646Z"
   },
   {
    "duration": 6,
    "start_time": "2022-12-26T12:33:47.685Z"
   },
   {
    "duration": 29,
    "start_time": "2022-12-26T12:33:47.692Z"
   },
   {
    "duration": 36,
    "start_time": "2022-12-26T12:33:47.722Z"
   },
   {
    "duration": 39,
    "start_time": "2022-12-26T12:33:47.759Z"
   },
   {
    "duration": 17,
    "start_time": "2022-12-26T12:33:47.799Z"
   },
   {
    "duration": 28,
    "start_time": "2022-12-26T12:33:47.817Z"
   },
   {
    "duration": 23,
    "start_time": "2022-12-26T12:33:47.847Z"
   },
   {
    "duration": 15848,
    "start_time": "2022-12-26T12:33:47.871Z"
   },
   {
    "duration": 695,
    "start_time": "2022-12-26T12:34:03.720Z"
   },
   {
    "duration": 16,
    "start_time": "2022-12-26T12:34:04.416Z"
   },
   {
    "duration": 713,
    "start_time": "2022-12-26T12:34:04.434Z"
   },
   {
    "duration": 7,
    "start_time": "2022-12-26T12:34:05.148Z"
   },
   {
    "duration": 41,
    "start_time": "2022-12-26T12:34:05.157Z"
   },
   {
    "duration": 5,
    "start_time": "2022-12-26T12:34:05.201Z"
   },
   {
    "duration": 119,
    "start_time": "2022-12-26T12:34:05.207Z"
   },
   {
    "duration": 27,
    "start_time": "2022-12-26T12:34:05.328Z"
   },
   {
    "duration": 22113,
    "start_time": "2022-12-26T12:34:05.357Z"
   },
   {
    "duration": 833,
    "start_time": "2022-12-26T12:34:27.471Z"
   },
   {
    "duration": 22,
    "start_time": "2022-12-26T12:34:28.306Z"
   },
   {
    "duration": 1021,
    "start_time": "2022-12-26T12:34:28.331Z"
   },
   {
    "duration": 62,
    "start_time": "2022-12-26T12:34:29.353Z"
   },
   {
    "duration": 8,
    "start_time": "2022-12-26T12:34:29.417Z"
   },
   {
    "duration": 21641,
    "start_time": "2022-12-26T12:34:29.426Z"
   },
   {
    "duration": 842,
    "start_time": "2022-12-26T12:34:51.068Z"
   },
   {
    "duration": 26,
    "start_time": "2022-12-26T12:34:51.911Z"
   },
   {
    "duration": 936,
    "start_time": "2022-12-26T12:34:51.999Z"
   },
   {
    "duration": 64,
    "start_time": "2022-12-26T12:34:52.938Z"
   },
   {
    "duration": 1019,
    "start_time": "2022-12-26T12:34:53.003Z"
   },
   {
    "duration": 163,
    "start_time": "2022-12-26T12:34:54.024Z"
   },
   {
    "duration": 1985,
    "start_time": "2022-12-26T12:34:56.853Z"
   },
   {
    "duration": 1288,
    "start_time": "2022-12-26T12:34:58.840Z"
   },
   {
    "duration": 49,
    "start_time": "2022-12-26T12:35:00.129Z"
   },
   {
    "duration": 23,
    "start_time": "2022-12-26T12:35:00.180Z"
   },
   {
    "duration": 4,
    "start_time": "2022-12-26T12:35:00.206Z"
   },
   {
    "duration": 26,
    "start_time": "2022-12-26T12:35:00.211Z"
   },
   {
    "duration": 41,
    "start_time": "2022-12-26T12:35:00.238Z"
   },
   {
    "duration": 581,
    "start_time": "2022-12-26T12:35:00.281Z"
   },
   {
    "duration": 5,
    "start_time": "2022-12-26T12:35:00.864Z"
   },
   {
    "duration": 18,
    "start_time": "2022-12-26T12:35:00.871Z"
   },
   {
    "duration": 31,
    "start_time": "2022-12-26T12:35:00.890Z"
   },
   {
    "duration": 29,
    "start_time": "2022-12-26T12:35:00.922Z"
   },
   {
    "duration": 24,
    "start_time": "2022-12-26T12:35:00.953Z"
   },
   {
    "duration": 30,
    "start_time": "2022-12-26T12:35:00.980Z"
   },
   {
    "duration": 16,
    "start_time": "2022-12-26T12:35:01.012Z"
   },
   {
    "duration": 24,
    "start_time": "2022-12-26T12:35:01.030Z"
   },
   {
    "duration": 22,
    "start_time": "2022-12-26T12:35:01.056Z"
   },
   {
    "duration": 35,
    "start_time": "2022-12-26T12:35:01.080Z"
   },
   {
    "duration": 17,
    "start_time": "2022-12-26T12:35:01.116Z"
   },
   {
    "duration": 21,
    "start_time": "2022-12-26T12:35:01.134Z"
   },
   {
    "duration": 24,
    "start_time": "2022-12-26T12:35:01.157Z"
   },
   {
    "duration": 19961,
    "start_time": "2022-12-26T12:35:01.182Z"
   },
   {
    "duration": 872,
    "start_time": "2022-12-26T12:35:21.145Z"
   },
   {
    "duration": 19,
    "start_time": "2022-12-26T12:35:22.019Z"
   },
   {
    "duration": 769,
    "start_time": "2022-12-26T12:35:22.040Z"
   },
   {
    "duration": 7,
    "start_time": "2022-12-26T12:35:22.810Z"
   },
   {
    "duration": 25,
    "start_time": "2022-12-26T12:35:22.818Z"
   },
   {
    "duration": 60,
    "start_time": "2022-12-26T12:35:22.844Z"
   },
   {
    "duration": 115,
    "start_time": "2022-12-26T12:35:22.906Z"
   },
   {
    "duration": 35,
    "start_time": "2022-12-26T12:35:23.022Z"
   },
   {
    "duration": 27384,
    "start_time": "2022-12-26T12:35:23.059Z"
   },
   {
    "duration": 1114,
    "start_time": "2022-12-26T12:35:50.444Z"
   },
   {
    "duration": 39,
    "start_time": "2022-12-26T12:35:51.559Z"
   },
   {
    "duration": 1273,
    "start_time": "2022-12-26T12:35:51.600Z"
   },
   {
    "duration": 45,
    "start_time": "2022-12-26T12:35:52.875Z"
   },
   {
    "duration": 8,
    "start_time": "2022-12-26T12:35:52.921Z"
   },
   {
    "duration": 27697,
    "start_time": "2022-12-26T12:35:52.930Z"
   },
   {
    "duration": 1093,
    "start_time": "2022-12-26T12:36:20.628Z"
   },
   {
    "duration": 76,
    "start_time": "2022-12-26T12:36:21.722Z"
   },
   {
    "duration": 1177,
    "start_time": "2022-12-26T12:36:21.800Z"
   },
   {
    "duration": 47,
    "start_time": "2022-12-26T12:36:22.981Z"
   },
   {
    "duration": 1295,
    "start_time": "2022-12-26T12:36:23.030Z"
   },
   {
    "duration": 147,
    "start_time": "2022-12-26T12:36:24.327Z"
   },
   {
    "duration": 2046,
    "start_time": "2022-12-26T12:36:48.788Z"
   },
   {
    "duration": 1283,
    "start_time": "2022-12-26T12:36:50.836Z"
   },
   {
    "duration": 49,
    "start_time": "2022-12-26T12:36:52.121Z"
   },
   {
    "duration": 22,
    "start_time": "2022-12-26T12:36:52.172Z"
   },
   {
    "duration": 4,
    "start_time": "2022-12-26T12:36:52.195Z"
   },
   {
    "duration": 17,
    "start_time": "2022-12-26T12:36:52.200Z"
   },
   {
    "duration": 27,
    "start_time": "2022-12-26T12:36:52.218Z"
   },
   {
    "duration": 653,
    "start_time": "2022-12-26T12:36:52.246Z"
   },
   {
    "duration": 5,
    "start_time": "2022-12-26T12:36:52.901Z"
   },
   {
    "duration": 3,
    "start_time": "2022-12-26T12:36:52.909Z"
   },
   {
    "duration": 14,
    "start_time": "2022-12-26T12:36:52.913Z"
   },
   {
    "duration": 10,
    "start_time": "2022-12-26T12:36:52.928Z"
   },
   {
    "duration": 12,
    "start_time": "2022-12-26T12:36:52.940Z"
   },
   {
    "duration": 14,
    "start_time": "2022-12-26T12:36:52.953Z"
   },
   {
    "duration": 3,
    "start_time": "2022-12-26T12:36:52.969Z"
   },
   {
    "duration": 8,
    "start_time": "2022-12-26T12:36:52.997Z"
   },
   {
    "duration": 3,
    "start_time": "2022-12-26T12:36:53.006Z"
   },
   {
    "duration": 16,
    "start_time": "2022-12-26T12:36:53.010Z"
   },
   {
    "duration": 10,
    "start_time": "2022-12-26T12:36:53.027Z"
   },
   {
    "duration": 15,
    "start_time": "2022-12-26T12:36:53.039Z"
   },
   {
    "duration": 10,
    "start_time": "2022-12-26T12:36:53.056Z"
   },
   {
    "duration": 16302,
    "start_time": "2022-12-26T12:36:53.068Z"
   },
   {
    "duration": 685,
    "start_time": "2022-12-26T12:37:09.371Z"
   },
   {
    "duration": 49,
    "start_time": "2022-12-26T12:37:10.058Z"
   },
   {
    "duration": 651,
    "start_time": "2022-12-26T12:37:10.109Z"
   },
   {
    "duration": 9,
    "start_time": "2022-12-26T12:37:10.761Z"
   },
   {
    "duration": 31,
    "start_time": "2022-12-26T12:37:10.771Z"
   },
   {
    "duration": 91,
    "start_time": "2022-12-26T12:37:10.807Z"
   },
   {
    "duration": 101,
    "start_time": "2022-12-26T12:37:10.903Z"
   },
   {
    "duration": 13,
    "start_time": "2022-12-26T12:37:11.005Z"
   },
   {
    "duration": 22016,
    "start_time": "2022-12-26T12:37:11.019Z"
   },
   {
    "duration": 841,
    "start_time": "2022-12-26T12:37:33.037Z"
   },
   {
    "duration": 29,
    "start_time": "2022-12-26T12:37:33.880Z"
   },
   {
    "duration": 1087,
    "start_time": "2022-12-26T12:37:33.911Z"
   },
   {
    "duration": 63,
    "start_time": "2022-12-26T12:37:34.999Z"
   },
   {
    "duration": 10,
    "start_time": "2022-12-26T12:37:35.064Z"
   },
   {
    "duration": 21681,
    "start_time": "2022-12-26T12:37:35.075Z"
   },
   {
    "duration": 828,
    "start_time": "2022-12-26T12:37:56.757Z"
   },
   {
    "duration": 28,
    "start_time": "2022-12-26T12:37:57.587Z"
   },
   {
    "duration": 1024,
    "start_time": "2022-12-26T12:37:57.617Z"
   },
   {
    "duration": 57,
    "start_time": "2022-12-26T12:37:58.643Z"
   },
   {
    "duration": 1015,
    "start_time": "2022-12-26T12:37:58.701Z"
   },
   {
    "duration": 157,
    "start_time": "2022-12-26T12:37:59.718Z"
   },
   {
    "duration": 2617,
    "start_time": "2022-12-28T16:41:08.559Z"
   },
   {
    "duration": 1444,
    "start_time": "2022-12-28T16:41:11.178Z"
   },
   {
    "duration": 88,
    "start_time": "2022-12-28T16:41:12.624Z"
   },
   {
    "duration": 23,
    "start_time": "2022-12-28T16:41:12.714Z"
   },
   {
    "duration": 3,
    "start_time": "2022-12-28T16:41:12.739Z"
   },
   {
    "duration": 10,
    "start_time": "2022-12-28T16:41:12.743Z"
   },
   {
    "duration": 17,
    "start_time": "2022-12-28T16:41:12.923Z"
   },
   {
    "duration": 678,
    "start_time": "2022-12-28T16:41:13.747Z"
   },
   {
    "duration": 6,
    "start_time": "2022-12-28T16:41:17.297Z"
   },
   {
    "duration": 5,
    "start_time": "2022-12-28T16:41:43.514Z"
   },
   {
    "duration": 4,
    "start_time": "2022-12-28T16:41:56.447Z"
   },
   {
    "duration": 4,
    "start_time": "2022-12-28T16:42:00.846Z"
   },
   {
    "duration": 883,
    "start_time": "2022-12-28T16:43:54.583Z"
   },
   {
    "duration": 0,
    "start_time": "2022-12-28T16:43:55.467Z"
   },
   {
    "duration": 6,
    "start_time": "2022-12-28T16:44:02.069Z"
   },
   {
    "duration": 4,
    "start_time": "2022-12-28T16:44:04.724Z"
   },
   {
    "duration": 5,
    "start_time": "2022-12-28T16:44:16.689Z"
   },
   {
    "duration": 11,
    "start_time": "2022-12-28T16:45:22.587Z"
   },
   {
    "duration": 1996,
    "start_time": "2022-12-28T16:50:50.370Z"
   },
   {
    "duration": 4,
    "start_time": "2022-12-28T16:50:52.369Z"
   },
   {
    "duration": 47,
    "start_time": "2022-12-28T16:50:52.534Z"
   },
   {
    "duration": 20,
    "start_time": "2022-12-28T16:50:53.282Z"
   },
   {
    "duration": 4,
    "start_time": "2022-12-28T16:50:53.918Z"
   },
   {
    "duration": 4,
    "start_time": "2022-12-28T16:50:55.490Z"
   },
   {
    "duration": 17,
    "start_time": "2022-12-28T16:50:56.462Z"
   },
   {
    "duration": 591,
    "start_time": "2022-12-28T16:50:56.721Z"
   },
   {
    "duration": 5,
    "start_time": "2022-12-28T16:50:57.314Z"
   },
   {
    "duration": 4,
    "start_time": "2022-12-28T16:50:57.322Z"
   },
   {
    "duration": 4,
    "start_time": "2022-12-28T16:51:00.725Z"
   },
   {
    "duration": 5,
    "start_time": "2022-12-28T16:51:03.048Z"
   },
   {
    "duration": 2,
    "start_time": "2022-12-28T16:51:05.549Z"
   },
   {
    "duration": 66,
    "start_time": "2022-12-29T17:01:30.218Z"
   },
   {
    "duration": 51,
    "start_time": "2022-12-29T17:01:35.771Z"
   },
   {
    "duration": 2580,
    "start_time": "2022-12-29T17:01:48.534Z"
   },
   {
    "duration": 5627,
    "start_time": "2022-12-29T17:01:54.631Z"
   },
   {
    "duration": 1212,
    "start_time": "2022-12-29T17:02:11.150Z"
   },
   {
    "duration": 89,
    "start_time": "2022-12-29T17:02:13.035Z"
   },
   {
    "duration": 22,
    "start_time": "2022-12-29T17:02:13.639Z"
   },
   {
    "duration": 4,
    "start_time": "2022-12-29T17:02:14.057Z"
   },
   {
    "duration": 6,
    "start_time": "2022-12-29T17:02:14.707Z"
   },
   {
    "duration": 17,
    "start_time": "2022-12-29T17:02:14.961Z"
   },
   {
    "duration": 627,
    "start_time": "2022-12-29T17:02:15.185Z"
   },
   {
    "duration": 6,
    "start_time": "2022-12-29T17:02:15.813Z"
   },
   {
    "duration": 6,
    "start_time": "2022-12-29T17:02:15.820Z"
   },
   {
    "duration": 4,
    "start_time": "2022-12-29T17:02:17.337Z"
   },
   {
    "duration": 5,
    "start_time": "2022-12-29T17:02:19.260Z"
   },
   {
    "duration": 3,
    "start_time": "2022-12-29T17:02:21.977Z"
   },
   {
    "duration": 4,
    "start_time": "2022-12-29T17:04:01.188Z"
   },
   {
    "duration": 47,
    "start_time": "2022-12-29T17:04:02.429Z"
   },
   {
    "duration": 19,
    "start_time": "2022-12-29T17:04:02.693Z"
   },
   {
    "duration": 3,
    "start_time": "2022-12-29T17:04:02.993Z"
   },
   {
    "duration": 5,
    "start_time": "2022-12-29T17:04:03.444Z"
   },
   {
    "duration": 17,
    "start_time": "2022-12-29T17:04:03.671Z"
   },
   {
    "duration": 574,
    "start_time": "2022-12-29T17:04:03.897Z"
   },
   {
    "duration": 6,
    "start_time": "2022-12-29T17:04:04.473Z"
   },
   {
    "duration": 17,
    "start_time": "2022-12-29T17:04:04.480Z"
   },
   {
    "duration": 4,
    "start_time": "2022-12-29T17:04:05.254Z"
   },
   {
    "duration": 5,
    "start_time": "2022-12-29T17:04:06.494Z"
   },
   {
    "duration": 9,
    "start_time": "2022-12-29T17:04:06.721Z"
   },
   {
    "duration": 3,
    "start_time": "2022-12-29T17:04:08.116Z"
   },
   {
    "duration": 5,
    "start_time": "2022-12-29T17:04:10.263Z"
   },
   {
    "duration": 43,
    "start_time": "2022-12-29T17:40:56.375Z"
   },
   {
    "duration": 115,
    "start_time": "2022-12-29T17:41:37.340Z"
   },
   {
    "duration": 8,
    "start_time": "2022-12-29T17:41:50.420Z"
   },
   {
    "duration": 19,
    "start_time": "2022-12-29T17:41:59.955Z"
   },
   {
    "duration": 18,
    "start_time": "2022-12-29T17:42:11.741Z"
   },
   {
    "duration": 10,
    "start_time": "2022-12-29T17:42:27.004Z"
   },
   {
    "duration": 9,
    "start_time": "2022-12-29T17:42:44.093Z"
   },
   {
    "duration": 20,
    "start_time": "2022-12-29T17:42:56.468Z"
   },
   {
    "duration": 4,
    "start_time": "2022-12-29T17:43:31.935Z"
   },
   {
    "duration": 17,
    "start_time": "2022-12-29T17:44:16.053Z"
   },
   {
    "duration": 9,
    "start_time": "2022-12-29T17:44:21.631Z"
   },
   {
    "duration": 4,
    "start_time": "2022-12-29T17:44:47.313Z"
   },
   {
    "duration": 5,
    "start_time": "2022-12-29T17:44:58.039Z"
   },
   {
    "duration": 18,
    "start_time": "2022-12-29T17:45:08.038Z"
   },
   {
    "duration": 9,
    "start_time": "2022-12-29T17:45:16.062Z"
   },
   {
    "duration": 17,
    "start_time": "2022-12-29T17:45:23.154Z"
   },
   {
    "duration": 7,
    "start_time": "2022-12-29T17:47:13.024Z"
   },
   {
    "duration": 17,
    "start_time": "2022-12-29T17:47:14.368Z"
   },
   {
    "duration": 12,
    "start_time": "2022-12-29T17:47:25.516Z"
   },
   {
    "duration": 16,
    "start_time": "2022-12-29T17:47:32.606Z"
   },
   {
    "duration": 3,
    "start_time": "2022-12-29T17:49:15.588Z"
   },
   {
    "duration": 50,
    "start_time": "2022-12-29T17:49:16.301Z"
   },
   {
    "duration": 20,
    "start_time": "2022-12-29T17:49:16.492Z"
   },
   {
    "duration": 6,
    "start_time": "2022-12-29T17:49:16.643Z"
   },
   {
    "duration": 5,
    "start_time": "2022-12-29T17:49:16.985Z"
   },
   {
    "duration": 18,
    "start_time": "2022-12-29T17:49:17.128Z"
   },
   {
    "duration": 658,
    "start_time": "2022-12-29T17:49:17.277Z"
   },
   {
    "duration": 7,
    "start_time": "2022-12-29T17:49:17.937Z"
   },
   {
    "duration": 13,
    "start_time": "2022-12-29T17:49:17.945Z"
   },
   {
    "duration": 14,
    "start_time": "2022-12-29T17:49:17.961Z"
   },
   {
    "duration": 6,
    "start_time": "2022-12-29T17:49:18.701Z"
   },
   {
    "duration": 8,
    "start_time": "2022-12-29T17:49:18.851Z"
   },
   {
    "duration": 4,
    "start_time": "2022-12-29T17:49:19.037Z"
   },
   {
    "duration": 4,
    "start_time": "2022-12-29T17:49:19.376Z"
   },
   {
    "duration": 19,
    "start_time": "2022-12-29T17:49:19.938Z"
   },
   {
    "duration": 17,
    "start_time": "2022-12-29T17:49:20.126Z"
   },
   {
    "duration": 16,
    "start_time": "2022-12-29T17:49:37.503Z"
   },
   {
    "duration": 13,
    "start_time": "2022-12-29T17:49:39.669Z"
   },
   {
    "duration": 15,
    "start_time": "2022-12-29T17:49:55.766Z"
   },
   {
    "duration": 11,
    "start_time": "2022-12-29T17:49:57.697Z"
   },
   {
    "duration": 2036,
    "start_time": "2022-12-29T17:55:05.741Z"
   },
   {
    "duration": 1936,
    "start_time": "2022-12-29T17:55:07.780Z"
   },
   {
    "duration": 1145,
    "start_time": "2022-12-29T17:55:09.718Z"
   },
   {
    "duration": 50,
    "start_time": "2022-12-29T17:55:10.865Z"
   },
   {
    "duration": 27,
    "start_time": "2022-12-29T17:55:10.917Z"
   },
   {
    "duration": 4,
    "start_time": "2022-12-29T17:55:10.946Z"
   },
   {
    "duration": 12,
    "start_time": "2022-12-29T17:55:10.951Z"
   },
   {
    "duration": 18,
    "start_time": "2022-12-29T17:55:10.964Z"
   },
   {
    "duration": 599,
    "start_time": "2022-12-29T17:55:10.984Z"
   },
   {
    "duration": 13,
    "start_time": "2022-12-29T17:55:11.585Z"
   },
   {
    "duration": 4,
    "start_time": "2022-12-29T17:55:11.599Z"
   },
   {
    "duration": 12,
    "start_time": "2022-12-29T17:55:11.604Z"
   },
   {
    "duration": 10,
    "start_time": "2022-12-29T17:55:11.617Z"
   },
   {
    "duration": 11,
    "start_time": "2022-12-29T17:55:11.629Z"
   },
   {
    "duration": 6,
    "start_time": "2022-12-29T17:55:11.642Z"
   },
   {
    "duration": 6,
    "start_time": "2022-12-29T17:55:11.649Z"
   },
   {
    "duration": 136,
    "start_time": "2022-12-29T17:55:11.657Z"
   },
   {
    "duration": 0,
    "start_time": "2022-12-29T17:55:11.797Z"
   },
   {
    "duration": 0,
    "start_time": "2022-12-29T17:55:11.798Z"
   },
   {
    "duration": 0,
    "start_time": "2022-12-29T17:55:11.799Z"
   },
   {
    "duration": 0,
    "start_time": "2022-12-29T17:55:11.800Z"
   },
   {
    "duration": 0,
    "start_time": "2022-12-29T17:55:11.801Z"
   },
   {
    "duration": 0,
    "start_time": "2022-12-29T17:55:11.802Z"
   },
   {
    "duration": 0,
    "start_time": "2022-12-29T17:55:11.803Z"
   },
   {
    "duration": 0,
    "start_time": "2022-12-29T17:55:11.804Z"
   },
   {
    "duration": 0,
    "start_time": "2022-12-29T17:55:11.805Z"
   },
   {
    "duration": 0,
    "start_time": "2022-12-29T17:55:11.807Z"
   },
   {
    "duration": 0,
    "start_time": "2022-12-29T17:55:11.808Z"
   },
   {
    "duration": 0,
    "start_time": "2022-12-29T17:55:11.809Z"
   },
   {
    "duration": 0,
    "start_time": "2022-12-29T17:55:11.809Z"
   },
   {
    "duration": 0,
    "start_time": "2022-12-29T17:55:11.810Z"
   },
   {
    "duration": 0,
    "start_time": "2022-12-29T17:55:11.811Z"
   },
   {
    "duration": 0,
    "start_time": "2022-12-29T17:55:11.812Z"
   },
   {
    "duration": 0,
    "start_time": "2022-12-29T17:55:11.814Z"
   },
   {
    "duration": 0,
    "start_time": "2022-12-29T17:55:11.814Z"
   },
   {
    "duration": 0,
    "start_time": "2022-12-29T17:55:11.815Z"
   },
   {
    "duration": 0,
    "start_time": "2022-12-29T17:55:11.816Z"
   },
   {
    "duration": 0,
    "start_time": "2022-12-29T17:55:11.817Z"
   },
   {
    "duration": 0,
    "start_time": "2022-12-29T17:55:11.818Z"
   },
   {
    "duration": 0,
    "start_time": "2022-12-29T17:55:11.819Z"
   },
   {
    "duration": 0,
    "start_time": "2022-12-29T17:55:11.820Z"
   },
   {
    "duration": 0,
    "start_time": "2022-12-29T17:55:11.821Z"
   },
   {
    "duration": 0,
    "start_time": "2022-12-29T17:55:11.822Z"
   },
   {
    "duration": 0,
    "start_time": "2022-12-29T17:55:11.823Z"
   },
   {
    "duration": 14,
    "start_time": "2022-12-29T17:56:11.792Z"
   },
   {
    "duration": 17,
    "start_time": "2022-12-29T17:56:24.759Z"
   },
   {
    "duration": 15,
    "start_time": "2022-12-29T17:57:11.694Z"
   },
   {
    "duration": 12,
    "start_time": "2022-12-29T17:57:16.322Z"
   },
   {
    "duration": 17,
    "start_time": "2022-12-29T17:57:18.968Z"
   },
   {
    "duration": 12,
    "start_time": "2022-12-29T17:57:19.453Z"
   },
   {
    "duration": 4,
    "start_time": "2022-12-29T17:58:41.549Z"
   },
   {
    "duration": 46,
    "start_time": "2022-12-29T17:58:44.806Z"
   },
   {
    "duration": 17,
    "start_time": "2022-12-29T17:58:44.854Z"
   },
   {
    "duration": 4,
    "start_time": "2022-12-29T17:58:44.873Z"
   },
   {
    "duration": 8,
    "start_time": "2022-12-29T17:58:44.878Z"
   },
   {
    "duration": 14,
    "start_time": "2022-12-29T17:58:44.888Z"
   },
   {
    "duration": 540,
    "start_time": "2022-12-29T17:58:44.903Z"
   },
   {
    "duration": 5,
    "start_time": "2022-12-29T17:58:45.444Z"
   },
   {
    "duration": 10,
    "start_time": "2022-12-29T17:58:45.451Z"
   },
   {
    "duration": 5,
    "start_time": "2022-12-29T17:58:45.463Z"
   },
   {
    "duration": 11,
    "start_time": "2022-12-29T17:58:45.470Z"
   },
   {
    "duration": 10,
    "start_time": "2022-12-29T17:58:45.947Z"
   },
   {
    "duration": 3,
    "start_time": "2022-12-29T17:58:47.123Z"
   },
   {
    "duration": 4,
    "start_time": "2022-12-29T17:58:48.323Z"
   },
   {
    "duration": 25,
    "start_time": "2022-12-29T17:58:49.148Z"
   },
   {
    "duration": 16,
    "start_time": "2022-12-29T17:58:51.399Z"
   },
   {
    "duration": 15,
    "start_time": "2022-12-29T17:59:03.682Z"
   },
   {
    "duration": 13,
    "start_time": "2022-12-29T17:59:03.918Z"
   },
   {
    "duration": 14,
    "start_time": "2022-12-29T17:59:06.764Z"
   },
   {
    "duration": 14,
    "start_time": "2022-12-29T17:59:07.513Z"
   },
   {
    "duration": 3780,
    "start_time": "2023-01-03T16:30:26.240Z"
   },
   {
    "duration": 7513,
    "start_time": "2023-01-03T16:30:30.022Z"
   },
   {
    "duration": 1481,
    "start_time": "2023-01-03T16:30:37.537Z"
   },
   {
    "duration": 391,
    "start_time": "2023-01-03T16:30:39.020Z"
   },
   {
    "duration": 26,
    "start_time": "2023-01-03T16:30:39.413Z"
   },
   {
    "duration": 4,
    "start_time": "2023-01-03T16:30:39.441Z"
   },
   {
    "duration": 8,
    "start_time": "2023-01-03T16:30:39.447Z"
   },
   {
    "duration": 19,
    "start_time": "2023-01-03T16:30:39.457Z"
   },
   {
    "duration": 742,
    "start_time": "2023-01-03T16:30:39.478Z"
   },
   {
    "duration": 6,
    "start_time": "2023-01-03T16:30:40.222Z"
   },
   {
    "duration": 6,
    "start_time": "2023-01-03T16:30:40.230Z"
   },
   {
    "duration": 16,
    "start_time": "2023-01-03T16:30:40.238Z"
   },
   {
    "duration": 9,
    "start_time": "2023-01-03T16:30:40.256Z"
   },
   {
    "duration": 12,
    "start_time": "2023-01-03T16:30:40.267Z"
   },
   {
    "duration": 6,
    "start_time": "2023-01-03T16:30:40.281Z"
   },
   {
    "duration": 5,
    "start_time": "2023-01-03T16:32:15.475Z"
   },
   {
    "duration": 30,
    "start_time": "2023-01-03T16:32:24.289Z"
   },
   {
    "duration": 18,
    "start_time": "2023-01-03T16:32:38.703Z"
   },
   {
    "duration": 19,
    "start_time": "2023-01-03T16:32:53.716Z"
   },
   {
    "duration": 14,
    "start_time": "2023-01-03T16:32:54.781Z"
   },
   {
    "duration": 15,
    "start_time": "2023-01-03T16:32:57.261Z"
   },
   {
    "duration": 14,
    "start_time": "2023-01-03T16:32:57.561Z"
   },
   {
    "duration": 12,
    "start_time": "2023-01-03T16:43:06.694Z"
   },
   {
    "duration": 4,
    "start_time": "2023-01-03T16:43:17.862Z"
   },
   {
    "duration": 55,
    "start_time": "2023-01-03T16:43:19.873Z"
   },
   {
    "duration": 24,
    "start_time": "2023-01-03T16:43:25.079Z"
   },
   {
    "duration": 5,
    "start_time": "2023-01-03T16:43:34.545Z"
   },
   {
    "duration": 5,
    "start_time": "2023-01-03T16:43:35.146Z"
   },
   {
    "duration": 21,
    "start_time": "2023-01-03T16:43:35.523Z"
   },
   {
    "duration": 13,
    "start_time": "2023-01-03T16:43:37.015Z"
   },
   {
    "duration": 6,
    "start_time": "2023-01-03T16:43:51.663Z"
   },
   {
    "duration": 4,
    "start_time": "2023-01-03T16:43:53.086Z"
   },
   {
    "duration": 4,
    "start_time": "2023-01-03T16:43:53.724Z"
   },
   {
    "duration": 5,
    "start_time": "2023-01-03T16:43:56.645Z"
   },
   {
    "duration": 11,
    "start_time": "2023-01-03T16:43:59.731Z"
   },
   {
    "duration": 4,
    "start_time": "2023-01-03T16:44:00.032Z"
   },
   {
    "duration": 5,
    "start_time": "2023-01-03T16:44:01.890Z"
   },
   {
    "duration": 38,
    "start_time": "2023-01-03T16:44:03.945Z"
   },
   {
    "duration": 19,
    "start_time": "2023-01-03T16:44:05.031Z"
   },
   {
    "duration": 20,
    "start_time": "2023-01-03T16:44:07.185Z"
   },
   {
    "duration": 15,
    "start_time": "2023-01-03T16:44:07.598Z"
   },
   {
    "duration": 19,
    "start_time": "2023-01-03T16:44:10.077Z"
   },
   {
    "duration": 19,
    "start_time": "2023-01-03T16:44:10.340Z"
   },
   {
    "duration": 132,
    "start_time": "2023-01-03T16:53:40.587Z"
   },
   {
    "duration": 6,
    "start_time": "2023-01-03T16:54:28.684Z"
   },
   {
    "duration": 50,
    "start_time": "2023-01-03T16:54:34.051Z"
   },
   {
    "duration": 21,
    "start_time": "2023-01-03T16:54:34.244Z"
   },
   {
    "duration": 4,
    "start_time": "2023-01-03T16:54:34.389Z"
   },
   {
    "duration": 6,
    "start_time": "2023-01-03T16:54:34.726Z"
   },
   {
    "duration": 22,
    "start_time": "2023-01-03T16:54:34.914Z"
   },
   {
    "duration": 6,
    "start_time": "2023-01-03T16:54:35.063Z"
   },
   {
    "duration": 5,
    "start_time": "2023-01-03T16:54:35.252Z"
   },
   {
    "duration": 5,
    "start_time": "2023-01-03T16:54:35.590Z"
   },
   {
    "duration": 6,
    "start_time": "2023-01-03T16:54:36.642Z"
   },
   {
    "duration": 9,
    "start_time": "2023-01-03T16:54:36.828Z"
   },
   {
    "duration": 4,
    "start_time": "2023-01-03T16:54:36.977Z"
   },
   {
    "duration": 5,
    "start_time": "2023-01-03T16:54:37.315Z"
   },
   {
    "duration": 29,
    "start_time": "2023-01-03T16:54:38.627Z"
   },
   {
    "duration": 19,
    "start_time": "2023-01-03T16:54:38.816Z"
   },
   {
    "duration": 18,
    "start_time": "2023-01-03T16:54:41.479Z"
   },
   {
    "duration": 14,
    "start_time": "2023-01-03T16:54:41.708Z"
   },
   {
    "duration": 15,
    "start_time": "2023-01-03T16:54:41.891Z"
   },
   {
    "duration": 14,
    "start_time": "2023-01-03T16:54:42.079Z"
   },
   {
    "duration": 6,
    "start_time": "2023-01-03T16:54:43.921Z"
   },
   {
    "duration": 4,
    "start_time": "2023-01-03T16:56:17.150Z"
   },
   {
    "duration": 14,
    "start_time": "2023-01-03T16:56:23.922Z"
   },
   {
    "duration": 12,
    "start_time": "2023-01-03T16:57:09.306Z"
   },
   {
    "duration": 9,
    "start_time": "2023-01-03T16:57:17.333Z"
   },
   {
    "duration": 8,
    "start_time": "2023-01-03T16:58:30.923Z"
   },
   {
    "duration": 11,
    "start_time": "2023-01-03T17:02:59.112Z"
   },
   {
    "duration": 12,
    "start_time": "2023-01-03T17:03:06.477Z"
   },
   {
    "duration": 313230,
    "start_time": "2023-01-03T17:03:13.737Z"
   },
   {
    "duration": 0,
    "start_time": "2023-01-03T17:10:56.199Z"
   },
   {
    "duration": 22,
    "start_time": "2023-01-03T17:11:09.349Z"
   },
   {
    "duration": 20,
    "start_time": "2023-01-03T17:11:17.095Z"
   },
   {
    "duration": 8898,
    "start_time": "2023-01-03T17:11:21.253Z"
   },
   {
    "duration": 61368,
    "start_time": "2023-01-03T17:11:36.551Z"
   },
   {
    "duration": 7668,
    "start_time": "2023-01-03T17:13:08.556Z"
   },
   {
    "duration": 52295,
    "start_time": "2023-01-03T17:14:04.344Z"
   },
   {
    "duration": 49855,
    "start_time": "2023-01-03T17:15:00.701Z"
   },
   {
    "duration": 21316,
    "start_time": "2023-01-03T17:16:26.888Z"
   },
   {
    "duration": 3,
    "start_time": "2023-01-03T17:20:35.321Z"
   },
   {
    "duration": 164,
    "start_time": "2023-01-03T17:23:08.256Z"
   },
   {
    "duration": 157,
    "start_time": "2023-01-03T17:23:17.126Z"
   },
   {
    "duration": 39883,
    "start_time": "2023-01-03T17:23:51.703Z"
   },
   {
    "duration": 12782,
    "start_time": "2023-01-03T17:24:36.506Z"
   },
   {
    "duration": 343,
    "start_time": "2023-01-03T17:25:02.935Z"
   },
   {
    "duration": 7042,
    "start_time": "2023-01-03T17:25:11.506Z"
   },
   {
    "duration": 14314,
    "start_time": "2023-01-03T17:25:26.067Z"
   },
   {
    "duration": 45202,
    "start_time": "2023-01-03T17:25:46.534Z"
   },
   {
    "duration": 394,
    "start_time": "2023-01-03T17:26:39.198Z"
   },
   {
    "duration": 22095,
    "start_time": "2023-01-03T17:26:45.839Z"
   },
   {
    "duration": 154,
    "start_time": "2023-01-03T17:27:19.911Z"
   },
   {
    "duration": 173,
    "start_time": "2023-01-03T17:31:15.566Z"
   },
   {
    "duration": 9,
    "start_time": "2023-01-03T17:32:49.423Z"
   },
   {
    "duration": 9,
    "start_time": "2023-01-03T17:32:56.745Z"
   },
   {
    "duration": 1291,
    "start_time": "2023-01-03T17:34:10.690Z"
   },
   {
    "duration": 35,
    "start_time": "2023-01-03T17:34:38.026Z"
   },
   {
    "duration": 25,
    "start_time": "2023-01-03T17:35:48.944Z"
   },
   {
    "duration": 89,
    "start_time": "2023-01-03T17:36:12.266Z"
   },
   {
    "duration": 146,
    "start_time": "2023-01-03T17:36:37.805Z"
   },
   {
    "duration": 4,
    "start_time": "2023-01-03T17:55:49.949Z"
   },
   {
    "duration": 4,
    "start_time": "2023-01-03T17:55:50.287Z"
   },
   {
    "duration": 11,
    "start_time": "2023-01-03T17:55:55.137Z"
   },
   {
    "duration": 19,
    "start_time": "2023-01-03T17:56:30.361Z"
   },
   {
    "duration": 5,
    "start_time": "2023-01-03T17:56:39.803Z"
   },
   {
    "duration": 5,
    "start_time": "2023-01-03T17:56:54.439Z"
   },
   {
    "duration": 6,
    "start_time": "2023-01-03T17:56:59.131Z"
   },
   {
    "duration": 34,
    "start_time": "2023-01-03T17:58:22.405Z"
   },
   {
    "duration": 39,
    "start_time": "2023-01-03T17:58:38.765Z"
   },
   {
    "duration": 47,
    "start_time": "2023-01-03T17:58:49.190Z"
   },
   {
    "duration": 223,
    "start_time": "2023-01-03T18:00:05.159Z"
   },
   {
    "duration": 12,
    "start_time": "2023-01-03T18:03:22.136Z"
   },
   {
    "duration": 7,
    "start_time": "2023-01-03T18:03:22.473Z"
   },
   {
    "duration": 37,
    "start_time": "2023-01-03T18:03:24.393Z"
   },
   {
    "duration": 12,
    "start_time": "2023-01-03T18:03:33.505Z"
   },
   {
    "duration": 5,
    "start_time": "2023-01-03T18:03:34.294Z"
   },
   {
    "duration": 39,
    "start_time": "2023-01-03T18:03:36.447Z"
   },
   {
    "duration": 227,
    "start_time": "2023-01-03T18:03:41.009Z"
   },
   {
    "duration": 12,
    "start_time": "2023-01-03T18:03:53.717Z"
   },
   {
    "duration": 33820,
    "start_time": "2023-01-03T18:03:54.093Z"
   },
   {
    "duration": 1391,
    "start_time": "2023-01-03T18:04:27.916Z"
   },
   {
    "duration": 43,
    "start_time": "2023-01-03T18:04:29.309Z"
   },
   {
    "duration": 1558,
    "start_time": "2023-01-03T18:04:29.357Z"
   },
   {
    "duration": 57,
    "start_time": "2023-01-03T18:04:30.918Z"
   },
   {
    "duration": 41,
    "start_time": "2023-01-03T18:04:30.976Z"
   },
   {
    "duration": 217,
    "start_time": "2023-01-03T18:04:34.976Z"
   },
   {
    "duration": 29,
    "start_time": "2023-01-03T18:04:46.393Z"
   },
   {
    "duration": 13,
    "start_time": "2023-01-03T18:04:55.698Z"
   },
   {
    "duration": 28,
    "start_time": "2023-01-03T18:04:56.037Z"
   },
   {
    "duration": 10,
    "start_time": "2023-01-03T18:05:02.227Z"
   },
   {
    "duration": 26,
    "start_time": "2023-01-03T18:05:02.791Z"
   },
   {
    "duration": 11,
    "start_time": "2023-01-03T18:05:07.175Z"
   },
   {
    "duration": 35,
    "start_time": "2023-01-03T18:05:07.551Z"
   },
   {
    "duration": 11,
    "start_time": "2023-01-03T18:05:10.693Z"
   },
   {
    "duration": 29,
    "start_time": "2023-01-03T18:05:10.994Z"
   },
   {
    "duration": 12,
    "start_time": "2023-01-03T18:05:16.316Z"
   },
   {
    "duration": 30,
    "start_time": "2023-01-03T18:05:16.731Z"
   },
   {
    "duration": 13,
    "start_time": "2023-01-03T18:05:20.618Z"
   },
   {
    "duration": 30,
    "start_time": "2023-01-03T18:05:20.918Z"
   },
   {
    "duration": 96,
    "start_time": "2023-01-03T18:05:28.743Z"
   },
   {
    "duration": 11,
    "start_time": "2023-01-03T18:05:34.445Z"
   },
   {
    "duration": 6,
    "start_time": "2023-01-03T18:05:34.744Z"
   },
   {
    "duration": 41,
    "start_time": "2023-01-03T18:05:35.800Z"
   },
   {
    "duration": 217,
    "start_time": "2023-01-03T18:05:36.321Z"
   },
   {
    "duration": 10,
    "start_time": "2023-01-03T18:05:37.072Z"
   },
   {
    "duration": 24,
    "start_time": "2023-01-03T18:05:37.261Z"
   },
   {
    "duration": 94,
    "start_time": "2023-01-03T18:05:37.711Z"
   },
   {
    "duration": 6,
    "start_time": "2023-01-03T18:05:56.386Z"
   },
   {
    "duration": 28,
    "start_time": "2023-01-03T18:05:59.704Z"
   },
   {
    "duration": 115,
    "start_time": "2023-01-03T18:06:00.974Z"
   },
   {
    "duration": 160,
    "start_time": "2023-01-03T18:20:27.923Z"
   },
   {
    "duration": 170,
    "start_time": "2023-01-03T18:20:35.685Z"
   },
   {
    "duration": 36,
    "start_time": "2023-01-03T18:20:53.678Z"
   },
   {
    "duration": 57,
    "start_time": "2023-01-03T18:21:00.004Z"
   },
   {
    "duration": 219,
    "start_time": "2023-01-03T18:24:27.925Z"
   },
   {
    "duration": 132,
    "start_time": "2023-01-03T18:24:29.390Z"
   },
   {
    "duration": 227,
    "start_time": "2023-01-03T18:25:11.249Z"
   },
   {
    "duration": 100,
    "start_time": "2023-01-03T18:25:20.177Z"
   },
   {
    "duration": 28,
    "start_time": "2023-01-03T18:25:27.040Z"
   },
   {
    "duration": 2275,
    "start_time": "2023-01-03T18:26:36.328Z"
   },
   {
    "duration": 2369,
    "start_time": "2023-01-03T18:26:38.605Z"
   },
   {
    "duration": 1283,
    "start_time": "2023-01-03T18:26:40.976Z"
   },
   {
    "duration": 55,
    "start_time": "2023-01-03T18:26:42.261Z"
   },
   {
    "duration": 26,
    "start_time": "2023-01-03T18:26:42.318Z"
   },
   {
    "duration": 5,
    "start_time": "2023-01-03T18:26:42.346Z"
   },
   {
    "duration": 15,
    "start_time": "2023-01-03T18:26:42.353Z"
   },
   {
    "duration": 26,
    "start_time": "2023-01-03T18:26:42.370Z"
   },
   {
    "duration": 9,
    "start_time": "2023-01-03T18:26:42.398Z"
   },
   {
    "duration": 31,
    "start_time": "2023-01-03T18:26:42.410Z"
   },
   {
    "duration": 36,
    "start_time": "2023-01-03T18:26:42.443Z"
   },
   {
    "duration": 34,
    "start_time": "2023-01-03T18:26:42.480Z"
   },
   {
    "duration": 41,
    "start_time": "2023-01-03T18:26:42.516Z"
   },
   {
    "duration": 14,
    "start_time": "2023-01-03T18:26:42.558Z"
   },
   {
    "duration": 9,
    "start_time": "2023-01-03T18:26:42.574Z"
   },
   {
    "duration": 42,
    "start_time": "2023-01-03T18:26:42.585Z"
   },
   {
    "duration": 27,
    "start_time": "2023-01-03T18:26:42.629Z"
   },
   {
    "duration": 32,
    "start_time": "2023-01-03T18:26:42.658Z"
   },
   {
    "duration": 20,
    "start_time": "2023-01-03T18:26:42.692Z"
   },
   {
    "duration": 27,
    "start_time": "2023-01-03T18:26:42.714Z"
   },
   {
    "duration": 29,
    "start_time": "2023-01-03T18:26:42.743Z"
   },
   {
    "duration": 45,
    "start_time": "2023-01-03T18:26:42.773Z"
   },
   {
    "duration": 846,
    "start_time": "2023-01-03T18:26:42.820Z"
   },
   {
    "duration": 0,
    "start_time": "2023-01-03T18:26:43.668Z"
   },
   {
    "duration": 0,
    "start_time": "2023-01-03T18:26:43.669Z"
   },
   {
    "duration": 0,
    "start_time": "2023-01-03T18:26:43.670Z"
   },
   {
    "duration": 0,
    "start_time": "2023-01-03T18:26:43.672Z"
   },
   {
    "duration": 0,
    "start_time": "2023-01-03T18:26:43.673Z"
   },
   {
    "duration": 0,
    "start_time": "2023-01-03T18:26:43.674Z"
   },
   {
    "duration": 0,
    "start_time": "2023-01-03T18:26:43.675Z"
   },
   {
    "duration": 0,
    "start_time": "2023-01-03T18:26:43.677Z"
   },
   {
    "duration": 0,
    "start_time": "2023-01-03T18:26:43.678Z"
   },
   {
    "duration": 0,
    "start_time": "2023-01-03T18:26:43.679Z"
   },
   {
    "duration": 0,
    "start_time": "2023-01-03T18:26:43.680Z"
   },
   {
    "duration": 0,
    "start_time": "2023-01-03T18:26:43.682Z"
   },
   {
    "duration": 0,
    "start_time": "2023-01-03T18:26:43.683Z"
   },
   {
    "duration": 0,
    "start_time": "2023-01-03T18:26:43.684Z"
   },
   {
    "duration": 0,
    "start_time": "2023-01-03T18:26:43.685Z"
   },
   {
    "duration": 0,
    "start_time": "2023-01-03T18:26:43.687Z"
   },
   {
    "duration": 2375,
    "start_time": "2023-01-03T18:27:26.841Z"
   },
   {
    "duration": 2355,
    "start_time": "2023-01-03T18:27:29.219Z"
   },
   {
    "duration": 1252,
    "start_time": "2023-01-03T18:27:31.576Z"
   },
   {
    "duration": 56,
    "start_time": "2023-01-03T18:27:32.829Z"
   },
   {
    "duration": 26,
    "start_time": "2023-01-03T18:27:32.887Z"
   },
   {
    "duration": 15,
    "start_time": "2023-01-03T18:27:32.915Z"
   },
   {
    "duration": 21,
    "start_time": "2023-01-03T18:27:32.932Z"
   },
   {
    "duration": 60,
    "start_time": "2023-01-03T18:27:32.955Z"
   },
   {
    "duration": 48,
    "start_time": "2023-01-03T18:27:33.016Z"
   },
   {
    "duration": 25,
    "start_time": "2023-01-03T18:27:33.066Z"
   },
   {
    "duration": 31,
    "start_time": "2023-01-03T18:27:33.093Z"
   },
   {
    "duration": 27,
    "start_time": "2023-01-03T18:27:33.126Z"
   },
   {
    "duration": 40,
    "start_time": "2023-01-03T18:27:33.155Z"
   },
   {
    "duration": 33,
    "start_time": "2023-01-03T18:27:33.199Z"
   },
   {
    "duration": 17,
    "start_time": "2023-01-03T18:27:33.234Z"
   },
   {
    "duration": 69,
    "start_time": "2023-01-03T18:27:33.253Z"
   },
   {
    "duration": 21,
    "start_time": "2023-01-03T18:27:33.324Z"
   },
   {
    "duration": 37,
    "start_time": "2023-01-03T18:27:33.347Z"
   },
   {
    "duration": 48,
    "start_time": "2023-01-03T18:27:33.386Z"
   },
   {
    "duration": 30,
    "start_time": "2023-01-03T18:27:33.436Z"
   },
   {
    "duration": 34,
    "start_time": "2023-01-03T18:27:33.468Z"
   },
   {
    "duration": 32,
    "start_time": "2023-01-03T18:27:33.504Z"
   },
   {
    "duration": 844,
    "start_time": "2023-01-03T18:27:33.538Z"
   },
   {
    "duration": 0,
    "start_time": "2023-01-03T18:27:34.383Z"
   },
   {
    "duration": 0,
    "start_time": "2023-01-03T18:27:34.385Z"
   },
   {
    "duration": 0,
    "start_time": "2023-01-03T18:27:34.386Z"
   },
   {
    "duration": 0,
    "start_time": "2023-01-03T18:27:34.387Z"
   },
   {
    "duration": 0,
    "start_time": "2023-01-03T18:27:34.388Z"
   },
   {
    "duration": 0,
    "start_time": "2023-01-03T18:27:34.389Z"
   },
   {
    "duration": 0,
    "start_time": "2023-01-03T18:27:34.389Z"
   },
   {
    "duration": 0,
    "start_time": "2023-01-03T18:27:34.390Z"
   },
   {
    "duration": 0,
    "start_time": "2023-01-03T18:27:34.391Z"
   },
   {
    "duration": 0,
    "start_time": "2023-01-03T18:27:34.392Z"
   },
   {
    "duration": 0,
    "start_time": "2023-01-03T18:27:34.395Z"
   },
   {
    "duration": 0,
    "start_time": "2023-01-03T18:27:34.395Z"
   },
   {
    "duration": 0,
    "start_time": "2023-01-03T18:27:34.397Z"
   },
   {
    "duration": 0,
    "start_time": "2023-01-03T18:27:34.397Z"
   },
   {
    "duration": 0,
    "start_time": "2023-01-03T18:27:34.398Z"
   },
   {
    "duration": 0,
    "start_time": "2023-01-03T18:27:34.399Z"
   },
   {
    "duration": 2297,
    "start_time": "2023-01-03T18:29:06.273Z"
   },
   {
    "duration": 2386,
    "start_time": "2023-01-03T18:29:08.572Z"
   },
   {
    "duration": 1281,
    "start_time": "2023-01-03T18:29:10.960Z"
   },
   {
    "duration": 56,
    "start_time": "2023-01-03T18:29:12.242Z"
   },
   {
    "duration": 29,
    "start_time": "2023-01-03T18:29:12.300Z"
   },
   {
    "duration": 5,
    "start_time": "2023-01-03T18:29:12.332Z"
   },
   {
    "duration": 11,
    "start_time": "2023-01-03T18:29:12.339Z"
   },
   {
    "duration": 21,
    "start_time": "2023-01-03T18:29:12.352Z"
   },
   {
    "duration": 10,
    "start_time": "2023-01-03T18:29:12.375Z"
   },
   {
    "duration": 10,
    "start_time": "2023-01-03T18:29:12.387Z"
   },
   {
    "duration": 16,
    "start_time": "2023-01-03T18:29:12.398Z"
   },
   {
    "duration": 9,
    "start_time": "2023-01-03T18:29:12.416Z"
   },
   {
    "duration": 24,
    "start_time": "2023-01-03T18:29:12.427Z"
   },
   {
    "duration": 3,
    "start_time": "2023-01-03T18:29:12.454Z"
   },
   {
    "duration": 9,
    "start_time": "2023-01-03T18:29:12.459Z"
   },
   {
    "duration": 31,
    "start_time": "2023-01-03T18:29:12.469Z"
   },
   {
    "duration": 19,
    "start_time": "2023-01-03T18:29:12.502Z"
   },
   {
    "duration": 21,
    "start_time": "2023-01-03T18:29:12.551Z"
   },
   {
    "duration": 14,
    "start_time": "2023-01-03T18:29:12.573Z"
   },
   {
    "duration": 18,
    "start_time": "2023-01-03T18:29:12.588Z"
   },
   {
    "duration": 43,
    "start_time": "2023-01-03T18:29:12.608Z"
   },
   {
    "duration": 9,
    "start_time": "2023-01-03T18:29:12.653Z"
   },
   {
    "duration": 22161,
    "start_time": "2023-01-03T18:29:12.664Z"
   },
   {
    "duration": 198,
    "start_time": "2023-01-03T18:29:34.828Z"
   },
   {
    "duration": 1393,
    "start_time": "2023-01-03T18:29:35.028Z"
   },
   {
    "duration": 47,
    "start_time": "2023-01-03T18:29:36.422Z"
   },
   {
    "duration": 194,
    "start_time": "2023-01-03T18:29:36.471Z"
   },
   {
    "duration": 90,
    "start_time": "2023-01-03T18:29:36.669Z"
   },
   {
    "duration": 114,
    "start_time": "2023-01-03T18:29:36.763Z"
   },
   {
    "duration": 30,
    "start_time": "2023-01-03T18:29:36.879Z"
   },
   {
    "duration": 6,
    "start_time": "2023-01-03T18:29:36.911Z"
   },
   {
    "duration": 70,
    "start_time": "2023-01-03T18:29:36.919Z"
   },
   {
    "duration": 256,
    "start_time": "2023-01-03T18:29:36.991Z"
   },
   {
    "duration": 12,
    "start_time": "2023-01-03T18:29:37.250Z"
   },
   {
    "duration": 21,
    "start_time": "2023-01-03T18:29:37.266Z"
   },
   {
    "duration": 37,
    "start_time": "2023-01-03T18:29:37.289Z"
   },
   {
    "duration": 106,
    "start_time": "2023-01-03T18:29:37.328Z"
   },
   {
    "duration": 250,
    "start_time": "2023-01-03T18:29:37.435Z"
   },
   {
    "duration": 163,
    "start_time": "2023-01-03T18:29:37.687Z"
   },
   {
    "duration": 2468,
    "start_time": "2023-01-03T18:31:28.150Z"
   },
   {
    "duration": 2338,
    "start_time": "2023-01-03T18:31:30.621Z"
   },
   {
    "duration": 1312,
    "start_time": "2023-01-03T18:31:32.961Z"
   },
   {
    "duration": 56,
    "start_time": "2023-01-03T18:31:34.275Z"
   },
   {
    "duration": 25,
    "start_time": "2023-01-03T18:31:34.333Z"
   },
   {
    "duration": 24,
    "start_time": "2023-01-03T18:31:34.360Z"
   },
   {
    "duration": 33,
    "start_time": "2023-01-03T18:31:34.386Z"
   },
   {
    "duration": 56,
    "start_time": "2023-01-03T18:31:34.420Z"
   },
   {
    "duration": 31,
    "start_time": "2023-01-03T18:31:34.478Z"
   },
   {
    "duration": 14,
    "start_time": "2023-01-03T18:31:34.511Z"
   },
   {
    "duration": 29,
    "start_time": "2023-01-03T18:31:34.527Z"
   },
   {
    "duration": 32,
    "start_time": "2023-01-03T18:31:34.559Z"
   },
   {
    "duration": 47,
    "start_time": "2023-01-03T18:31:34.592Z"
   },
   {
    "duration": 27,
    "start_time": "2023-01-03T18:31:34.643Z"
   },
   {
    "duration": 22,
    "start_time": "2023-01-03T18:31:34.671Z"
   },
   {
    "duration": 55,
    "start_time": "2023-01-03T18:31:34.695Z"
   },
   {
    "duration": 19,
    "start_time": "2023-01-03T18:31:34.752Z"
   },
   {
    "duration": 38,
    "start_time": "2023-01-03T18:31:34.772Z"
   },
   {
    "duration": 15,
    "start_time": "2023-01-03T18:31:34.813Z"
   },
   {
    "duration": 33,
    "start_time": "2023-01-03T18:31:34.829Z"
   },
   {
    "duration": 15,
    "start_time": "2023-01-03T18:31:34.863Z"
   },
   {
    "duration": 17,
    "start_time": "2023-01-03T18:31:34.879Z"
   },
   {
    "duration": 22623,
    "start_time": "2023-01-03T18:31:34.898Z"
   },
   {
    "duration": 182,
    "start_time": "2023-01-03T18:31:57.523Z"
   },
   {
    "duration": 1324,
    "start_time": "2023-01-03T18:31:57.707Z"
   },
   {
    "duration": 57,
    "start_time": "2023-01-03T18:31:59.033Z"
   },
   {
    "duration": 76,
    "start_time": "2023-01-03T18:31:59.092Z"
   },
   {
    "duration": 12,
    "start_time": "2023-01-03T18:31:59.251Z"
   },
   {
    "duration": 92,
    "start_time": "2023-01-03T18:31:59.266Z"
   },
   {
    "duration": 15,
    "start_time": "2023-01-03T18:31:59.361Z"
   },
   {
    "duration": 6,
    "start_time": "2023-01-03T18:31:59.378Z"
   },
   {
    "duration": 66,
    "start_time": "2023-01-03T18:31:59.386Z"
   },
   {
    "duration": 288,
    "start_time": "2023-01-03T18:31:59.454Z"
   },
   {
    "duration": 16,
    "start_time": "2023-01-03T18:31:59.744Z"
   },
   {
    "duration": 13,
    "start_time": "2023-01-03T18:31:59.762Z"
   },
   {
    "duration": 35,
    "start_time": "2023-01-03T18:31:59.777Z"
   },
   {
    "duration": 145,
    "start_time": "2023-01-03T18:31:59.814Z"
   },
   {
    "duration": 248,
    "start_time": "2023-01-03T18:31:59.960Z"
   },
   {
    "duration": 164,
    "start_time": "2023-01-03T18:32:00.210Z"
   },
   {
    "duration": 591,
    "start_time": "2023-01-03T18:32:22.688Z"
   },
   {
    "duration": 2340,
    "start_time": "2023-01-03T18:32:56.525Z"
   },
   {
    "duration": 2478,
    "start_time": "2023-01-03T18:32:58.868Z"
   },
   {
    "duration": 1295,
    "start_time": "2023-01-03T18:33:01.349Z"
   },
   {
    "duration": 58,
    "start_time": "2023-01-03T18:33:02.646Z"
   },
   {
    "duration": 28,
    "start_time": "2023-01-03T18:33:02.707Z"
   },
   {
    "duration": 5,
    "start_time": "2023-01-03T18:33:02.737Z"
   },
   {
    "duration": 18,
    "start_time": "2023-01-03T18:33:02.745Z"
   },
   {
    "duration": 31,
    "start_time": "2023-01-03T18:33:02.765Z"
   },
   {
    "duration": 12,
    "start_time": "2023-01-03T18:33:02.799Z"
   },
   {
    "duration": 10,
    "start_time": "2023-01-03T18:33:02.812Z"
   },
   {
    "duration": 127,
    "start_time": "2023-01-03T18:33:02.824Z"
   },
   {
    "duration": 0,
    "start_time": "2023-01-03T18:33:02.954Z"
   },
   {
    "duration": 0,
    "start_time": "2023-01-03T18:33:02.956Z"
   },
   {
    "duration": 0,
    "start_time": "2023-01-03T18:33:02.957Z"
   },
   {
    "duration": 0,
    "start_time": "2023-01-03T18:33:02.958Z"
   },
   {
    "duration": 0,
    "start_time": "2023-01-03T18:33:02.959Z"
   },
   {
    "duration": 0,
    "start_time": "2023-01-03T18:33:02.960Z"
   },
   {
    "duration": 0,
    "start_time": "2023-01-03T18:33:02.961Z"
   },
   {
    "duration": 0,
    "start_time": "2023-01-03T18:33:02.962Z"
   },
   {
    "duration": 0,
    "start_time": "2023-01-03T18:33:02.964Z"
   },
   {
    "duration": 0,
    "start_time": "2023-01-03T18:33:02.965Z"
   },
   {
    "duration": 0,
    "start_time": "2023-01-03T18:33:02.966Z"
   },
   {
    "duration": 0,
    "start_time": "2023-01-03T18:33:02.968Z"
   },
   {
    "duration": 0,
    "start_time": "2023-01-03T18:33:02.969Z"
   },
   {
    "duration": 0,
    "start_time": "2023-01-03T18:33:02.970Z"
   },
   {
    "duration": 0,
    "start_time": "2023-01-03T18:33:02.971Z"
   },
   {
    "duration": 0,
    "start_time": "2023-01-03T18:33:02.972Z"
   },
   {
    "duration": 0,
    "start_time": "2023-01-03T18:33:02.974Z"
   },
   {
    "duration": 0,
    "start_time": "2023-01-03T18:33:02.975Z"
   },
   {
    "duration": 0,
    "start_time": "2023-01-03T18:33:02.976Z"
   },
   {
    "duration": 0,
    "start_time": "2023-01-03T18:33:02.977Z"
   },
   {
    "duration": 0,
    "start_time": "2023-01-03T18:33:02.978Z"
   },
   {
    "duration": 0,
    "start_time": "2023-01-03T18:33:02.979Z"
   },
   {
    "duration": 0,
    "start_time": "2023-01-03T18:33:02.980Z"
   },
   {
    "duration": 0,
    "start_time": "2023-01-03T18:33:02.981Z"
   },
   {
    "duration": 0,
    "start_time": "2023-01-03T18:33:02.982Z"
   },
   {
    "duration": 0,
    "start_time": "2023-01-03T18:33:02.983Z"
   },
   {
    "duration": 0,
    "start_time": "2023-01-03T18:33:02.984Z"
   },
   {
    "duration": 0,
    "start_time": "2023-01-03T18:33:02.985Z"
   },
   {
    "duration": 2454,
    "start_time": "2023-01-03T18:33:23.974Z"
   },
   {
    "duration": 2364,
    "start_time": "2023-01-03T18:33:26.431Z"
   },
   {
    "duration": 1315,
    "start_time": "2023-01-03T18:33:28.799Z"
   },
   {
    "duration": 57,
    "start_time": "2023-01-03T18:33:30.117Z"
   },
   {
    "duration": 41,
    "start_time": "2023-01-03T18:33:30.176Z"
   },
   {
    "duration": 6,
    "start_time": "2023-01-03T18:33:30.219Z"
   },
   {
    "duration": 25,
    "start_time": "2023-01-03T18:33:30.233Z"
   },
   {
    "duration": 64,
    "start_time": "2023-01-03T18:33:30.262Z"
   },
   {
    "duration": 20,
    "start_time": "2023-01-03T18:33:30.328Z"
   },
   {
    "duration": 21,
    "start_time": "2023-01-03T18:33:30.351Z"
   },
   {
    "duration": 26,
    "start_time": "2023-01-03T18:33:30.374Z"
   },
   {
    "duration": 32,
    "start_time": "2023-01-03T18:33:30.402Z"
   },
   {
    "duration": 31,
    "start_time": "2023-01-03T18:33:30.435Z"
   },
   {
    "duration": 30,
    "start_time": "2023-01-03T18:33:30.468Z"
   },
   {
    "duration": 57,
    "start_time": "2023-01-03T18:33:30.500Z"
   },
   {
    "duration": 129,
    "start_time": "2023-01-03T18:33:30.559Z"
   },
   {
    "duration": 55,
    "start_time": "2023-01-03T18:33:30.690Z"
   },
   {
    "duration": 50,
    "start_time": "2023-01-03T18:33:30.747Z"
   },
   {
    "duration": 34,
    "start_time": "2023-01-03T18:33:30.799Z"
   },
   {
    "duration": 47,
    "start_time": "2023-01-03T18:33:30.835Z"
   },
   {
    "duration": 33,
    "start_time": "2023-01-03T18:33:30.884Z"
   },
   {
    "duration": 35,
    "start_time": "2023-01-03T18:33:30.919Z"
   },
   {
    "duration": 22406,
    "start_time": "2023-01-03T18:33:30.956Z"
   },
   {
    "duration": 192,
    "start_time": "2023-01-03T18:33:53.364Z"
   },
   {
    "duration": 1321,
    "start_time": "2023-01-03T18:33:53.558Z"
   },
   {
    "duration": 38,
    "start_time": "2023-01-03T18:33:54.881Z"
   },
   {
    "duration": 133,
    "start_time": "2023-01-03T18:33:54.920Z"
   },
   {
    "duration": 12,
    "start_time": "2023-01-03T18:33:55.056Z"
   },
   {
    "duration": 5,
    "start_time": "2023-01-03T18:33:55.152Z"
   },
   {
    "duration": 24,
    "start_time": "2023-01-03T18:33:55.159Z"
   },
   {
    "duration": 7,
    "start_time": "2023-01-03T18:33:55.186Z"
   },
   {
    "duration": 65,
    "start_time": "2023-01-03T18:33:55.196Z"
   },
   {
    "duration": 257,
    "start_time": "2023-01-03T18:33:55.263Z"
   },
   {
    "duration": 10,
    "start_time": "2023-01-03T18:33:55.522Z"
   },
   {
    "duration": 21,
    "start_time": "2023-01-03T18:33:55.534Z"
   },
   {
    "duration": 39,
    "start_time": "2023-01-03T18:33:55.557Z"
   },
   {
    "duration": 119,
    "start_time": "2023-01-03T18:33:55.599Z"
   },
   {
    "duration": 235,
    "start_time": "2023-01-03T18:33:55.720Z"
   },
   {
    "duration": 205,
    "start_time": "2023-01-03T18:33:55.956Z"
   },
   {
    "duration": 542,
    "start_time": "2023-01-03T18:34:37.323Z"
   },
   {
    "duration": 51,
    "start_time": "2023-01-03T18:35:48.070Z"
   },
   {
    "duration": 21,
    "start_time": "2023-01-03T18:35:48.364Z"
   },
   {
    "duration": 5,
    "start_time": "2023-01-03T18:35:48.706Z"
   },
   {
    "duration": 6,
    "start_time": "2023-01-03T18:35:49.307Z"
   },
   {
    "duration": 20,
    "start_time": "2023-01-03T18:35:49.493Z"
   },
   {
    "duration": 7,
    "start_time": "2023-01-03T18:35:49.679Z"
   },
   {
    "duration": 6,
    "start_time": "2023-01-03T18:35:49.867Z"
   },
   {
    "duration": 7,
    "start_time": "2023-01-03T18:35:50.287Z"
   },
   {
    "duration": 7,
    "start_time": "2023-01-03T18:35:51.368Z"
   },
   {
    "duration": 14,
    "start_time": "2023-01-03T18:35:51.554Z"
   },
   {
    "duration": 4,
    "start_time": "2023-01-03T18:35:51.742Z"
   },
   {
    "duration": 5,
    "start_time": "2023-01-03T18:35:52.273Z"
   },
   {
    "duration": 41,
    "start_time": "2023-01-03T18:35:53.283Z"
   },
   {
    "duration": 20,
    "start_time": "2023-01-03T18:35:53.995Z"
   },
   {
    "duration": 20,
    "start_time": "2023-01-03T18:35:55.084Z"
   },
   {
    "duration": 17,
    "start_time": "2023-01-03T18:35:55.581Z"
   },
   {
    "duration": 15,
    "start_time": "2023-01-03T18:35:55.878Z"
   },
   {
    "duration": 17,
    "start_time": "2023-01-03T18:35:56.287Z"
   },
   {
    "duration": 9,
    "start_time": "2023-01-03T18:35:59.214Z"
   },
   {
    "duration": 87,
    "start_time": "2023-01-03T18:37:36.034Z"
   },
   {
    "duration": 10152,
    "start_time": "2023-01-03T18:37:45.522Z"
   },
   {
    "duration": 6,
    "start_time": "2023-01-03T18:38:03.692Z"
   },
   {
    "duration": 5,
    "start_time": "2023-01-03T18:38:08.342Z"
   },
   {
    "duration": 176235,
    "start_time": "2023-01-03T18:38:32.084Z"
   },
   {
    "duration": 5,
    "start_time": "2023-01-03T18:42:26.745Z"
   },
   {
    "duration": 580,
    "start_time": "2023-01-03T18:42:32.006Z"
   },
   {
    "duration": 224,
    "start_time": "2023-01-03T18:42:56.495Z"
   },
   {
    "duration": 224,
    "start_time": "2023-01-03T18:43:02.993Z"
   },
   {
    "duration": 136,
    "start_time": "2023-01-03T18:43:04.230Z"
   },
   {
    "duration": 241,
    "start_time": "2023-01-03T18:43:05.942Z"
   },
   {
    "duration": 145,
    "start_time": "2023-01-03T18:43:06.186Z"
   },
   {
    "duration": 245,
    "start_time": "2023-01-03T18:43:09.376Z"
   },
   {
    "duration": 257,
    "start_time": "2023-01-03T18:43:11.914Z"
   },
   {
    "duration": 228,
    "start_time": "2023-01-03T18:43:14.403Z"
   },
   {
    "duration": 148,
    "start_time": "2023-01-03T18:43:15.890Z"
   },
   {
    "duration": 539,
    "start_time": "2023-01-03T18:44:12.805Z"
   },
   {
    "duration": 576,
    "start_time": "2023-01-03T18:44:17.681Z"
   },
   {
    "duration": 533,
    "start_time": "2023-01-03T18:44:22.618Z"
   },
   {
    "duration": 260,
    "start_time": "2023-01-03T18:44:39.478Z"
   },
   {
    "duration": 231,
    "start_time": "2023-01-03T18:44:43.050Z"
   },
   {
    "duration": 292,
    "start_time": "2023-01-03T18:44:47.623Z"
   },
   {
    "duration": 22269,
    "start_time": "2023-01-03T18:45:17.197Z"
   },
   {
    "duration": 31899,
    "start_time": "2023-01-03T18:46:24.870Z"
   },
   {
    "duration": 482,
    "start_time": "2023-01-03T18:47:11.312Z"
   },
   {
    "duration": 541,
    "start_time": "2023-01-03T18:47:19.605Z"
   },
   {
    "duration": 498,
    "start_time": "2023-01-03T18:48:55.781Z"
   },
   {
    "duration": 1721,
    "start_time": "2023-01-03T18:49:34.927Z"
   },
   {
    "duration": 63,
    "start_time": "2023-01-03T18:49:40.797Z"
   },
   {
    "duration": 40,
    "start_time": "2023-01-03T18:49:47.125Z"
   },
   {
    "duration": 74,
    "start_time": "2023-01-03T18:49:55.022Z"
   },
   {
    "duration": 70,
    "start_time": "2023-01-03T18:49:59.116Z"
   },
   {
    "duration": 61,
    "start_time": "2023-01-03T18:50:05.200Z"
   },
   {
    "duration": 61,
    "start_time": "2023-01-03T18:50:13.904Z"
   },
   {
    "duration": 126616,
    "start_time": "2023-01-03T18:50:56.711Z"
   },
   {
    "duration": 10,
    "start_time": "2023-01-03T18:53:35.219Z"
   },
   {
    "duration": 6,
    "start_time": "2023-01-03T18:53:42.268Z"
   },
   {
    "duration": 32257,
    "start_time": "2023-01-03T18:54:52.001Z"
   },
   {
    "duration": 128968,
    "start_time": "2023-01-03T18:55:25.616Z"
   },
   {
    "duration": 2395,
    "start_time": "2023-01-03T19:00:57.833Z"
   },
   {
    "duration": 2352,
    "start_time": "2023-01-03T19:01:00.230Z"
   },
   {
    "duration": 1266,
    "start_time": "2023-01-03T19:01:02.585Z"
   },
   {
    "duration": 54,
    "start_time": "2023-01-03T19:01:03.853Z"
   },
   {
    "duration": 26,
    "start_time": "2023-01-03T19:01:03.910Z"
   },
   {
    "duration": 4,
    "start_time": "2023-01-03T19:01:03.938Z"
   },
   {
    "duration": 24,
    "start_time": "2023-01-03T19:01:03.944Z"
   },
   {
    "duration": 45,
    "start_time": "2023-01-03T19:01:03.971Z"
   },
   {
    "duration": 19,
    "start_time": "2023-01-03T19:01:04.018Z"
   },
   {
    "duration": 38,
    "start_time": "2023-01-03T19:01:04.039Z"
   },
   {
    "duration": 13,
    "start_time": "2023-01-03T19:01:04.078Z"
   },
   {
    "duration": 29,
    "start_time": "2023-01-03T19:01:04.093Z"
   },
   {
    "duration": 18,
    "start_time": "2023-01-03T19:01:04.124Z"
   },
   {
    "duration": 16,
    "start_time": "2023-01-03T19:01:04.146Z"
   },
   {
    "duration": 32,
    "start_time": "2023-01-03T19:01:04.164Z"
   },
   {
    "duration": 49,
    "start_time": "2023-01-03T19:01:04.197Z"
   },
   {
    "duration": 34,
    "start_time": "2023-01-03T19:01:04.248Z"
   },
   {
    "duration": 39,
    "start_time": "2023-01-03T19:01:04.283Z"
   },
   {
    "duration": 43,
    "start_time": "2023-01-03T19:01:04.324Z"
   },
   {
    "duration": 27,
    "start_time": "2023-01-03T19:01:04.369Z"
   },
   {
    "duration": 38,
    "start_time": "2023-01-03T19:01:04.398Z"
   },
   {
    "duration": 25,
    "start_time": "2023-01-03T19:01:04.438Z"
   },
   {
    "duration": 226,
    "start_time": "2023-01-03T19:01:04.465Z"
   },
   {
    "duration": 17,
    "start_time": "2023-01-03T19:01:04.694Z"
   },
   {
    "duration": 0,
    "start_time": "2023-01-03T19:01:04.713Z"
   },
   {
    "duration": 0,
    "start_time": "2023-01-03T19:01:04.715Z"
   },
   {
    "duration": 0,
    "start_time": "2023-01-03T19:01:04.717Z"
   },
   {
    "duration": 0,
    "start_time": "2023-01-03T19:01:04.718Z"
   },
   {
    "duration": 0,
    "start_time": "2023-01-03T19:01:04.719Z"
   },
   {
    "duration": 0,
    "start_time": "2023-01-03T19:01:04.720Z"
   },
   {
    "duration": 0,
    "start_time": "2023-01-03T19:01:04.721Z"
   },
   {
    "duration": 1,
    "start_time": "2023-01-03T19:01:04.722Z"
   },
   {
    "duration": 0,
    "start_time": "2023-01-03T19:01:04.724Z"
   },
   {
    "duration": 0,
    "start_time": "2023-01-03T19:01:04.725Z"
   },
   {
    "duration": 0,
    "start_time": "2023-01-03T19:01:04.726Z"
   },
   {
    "duration": 0,
    "start_time": "2023-01-03T19:01:04.727Z"
   },
   {
    "duration": 0,
    "start_time": "2023-01-03T19:01:04.729Z"
   },
   {
    "duration": 0,
    "start_time": "2023-01-03T19:01:04.730Z"
   },
   {
    "duration": 0,
    "start_time": "2023-01-03T19:01:04.731Z"
   },
   {
    "duration": 0,
    "start_time": "2023-01-03T19:01:04.733Z"
   },
   {
    "duration": 0,
    "start_time": "2023-01-03T19:01:04.734Z"
   },
   {
    "duration": 81,
    "start_time": "2023-01-03T19:02:43.668Z"
   },
   {
    "duration": 74,
    "start_time": "2023-01-03T19:02:58.504Z"
   },
   {
    "duration": 101,
    "start_time": "2023-01-03T19:03:29.524Z"
   },
   {
    "duration": 2434,
    "start_time": "2023-01-03T19:04:34.725Z"
   },
   {
    "duration": 2380,
    "start_time": "2023-01-03T19:04:37.162Z"
   },
   {
    "duration": 1407,
    "start_time": "2023-01-03T19:04:39.544Z"
   },
   {
    "duration": 55,
    "start_time": "2023-01-03T19:04:40.953Z"
   },
   {
    "duration": 29,
    "start_time": "2023-01-03T19:04:41.012Z"
   },
   {
    "duration": 5,
    "start_time": "2023-01-03T19:04:41.043Z"
   },
   {
    "duration": 39,
    "start_time": "2023-01-03T19:04:41.050Z"
   },
   {
    "duration": 30,
    "start_time": "2023-01-03T19:04:41.091Z"
   },
   {
    "duration": 7,
    "start_time": "2023-01-03T19:04:41.124Z"
   },
   {
    "duration": 7,
    "start_time": "2023-01-03T19:04:41.133Z"
   },
   {
    "duration": 4,
    "start_time": "2023-01-03T19:04:41.142Z"
   },
   {
    "duration": 14,
    "start_time": "2023-01-03T19:04:41.148Z"
   },
   {
    "duration": 11,
    "start_time": "2023-01-03T19:04:41.164Z"
   },
   {
    "duration": 4,
    "start_time": "2023-01-03T19:04:41.178Z"
   },
   {
    "duration": 11,
    "start_time": "2023-01-03T19:04:41.184Z"
   },
   {
    "duration": 69,
    "start_time": "2023-01-03T19:04:41.198Z"
   },
   {
    "duration": 20,
    "start_time": "2023-01-03T19:04:41.269Z"
   },
   {
    "duration": 19,
    "start_time": "2023-01-03T19:04:41.291Z"
   },
   {
    "duration": 15,
    "start_time": "2023-01-03T19:04:41.311Z"
   },
   {
    "duration": 16,
    "start_time": "2023-01-03T19:04:41.351Z"
   },
   {
    "duration": 14,
    "start_time": "2023-01-03T19:04:41.369Z"
   },
   {
    "duration": 21,
    "start_time": "2023-01-03T19:04:41.385Z"
   },
   {
    "duration": 23180,
    "start_time": "2023-01-03T19:04:41.408Z"
   },
   {
    "duration": 463,
    "start_time": "2023-01-03T19:05:04.589Z"
   },
   {
    "duration": 1355,
    "start_time": "2023-01-03T19:05:05.054Z"
   },
   {
    "duration": 51,
    "start_time": "2023-01-03T19:05:06.411Z"
   },
   {
    "duration": 193,
    "start_time": "2023-01-03T19:05:06.464Z"
   },
   {
    "duration": 7,
    "start_time": "2023-01-03T19:05:06.750Z"
   },
   {
    "duration": 91,
    "start_time": "2023-01-03T19:05:06.760Z"
   },
   {
    "duration": 18,
    "start_time": "2023-01-03T19:05:06.853Z"
   },
   {
    "duration": 7,
    "start_time": "2023-01-03T19:05:06.872Z"
   },
   {
    "duration": 1779,
    "start_time": "2023-01-03T19:05:06.881Z"
   },
   {
    "duration": 59,
    "start_time": "2023-01-03T19:05:08.661Z"
   },
   {
    "duration": 366842,
    "start_time": "2023-01-03T19:05:08.722Z"
   },
   {
    "duration": 626,
    "start_time": "2023-01-03T19:11:15.566Z"
   },
   {
    "duration": 10,
    "start_time": "2023-01-03T19:11:16.195Z"
   },
   {
    "duration": 26,
    "start_time": "2023-01-03T19:11:16.208Z"
   },
   {
    "duration": 28,
    "start_time": "2023-01-03T19:11:16.236Z"
   },
   {
    "duration": 107,
    "start_time": "2023-01-03T19:11:16.265Z"
   },
   {
    "duration": 496,
    "start_time": "2023-01-03T19:11:16.373Z"
   },
   {
    "duration": 168,
    "start_time": "2023-01-03T19:11:16.873Z"
   },
   {
    "duration": 32672,
    "start_time": "2023-01-03T19:12:54.780Z"
   },
   {
    "duration": 32733,
    "start_time": "2023-01-03T19:14:23.291Z"
   },
   {
    "duration": 2510,
    "start_time": "2023-01-03T19:14:59.218Z"
   },
   {
    "duration": 2376,
    "start_time": "2023-01-03T19:15:01.731Z"
   },
   {
    "duration": 1245,
    "start_time": "2023-01-03T19:15:04.110Z"
   },
   {
    "duration": 57,
    "start_time": "2023-01-03T19:15:05.357Z"
   },
   {
    "duration": 27,
    "start_time": "2023-01-03T19:15:05.416Z"
   },
   {
    "duration": 5,
    "start_time": "2023-01-03T19:15:05.445Z"
   },
   {
    "duration": 10,
    "start_time": "2023-01-03T19:15:05.451Z"
   },
   {
    "duration": 21,
    "start_time": "2023-01-03T19:15:05.462Z"
   },
   {
    "duration": 10,
    "start_time": "2023-01-03T19:15:05.485Z"
   },
   {
    "duration": 5,
    "start_time": "2023-01-03T19:15:05.498Z"
   },
   {
    "duration": 5,
    "start_time": "2023-01-03T19:15:05.505Z"
   },
   {
    "duration": 40,
    "start_time": "2023-01-03T19:15:05.512Z"
   },
   {
    "duration": 10,
    "start_time": "2023-01-03T19:15:05.555Z"
   },
   {
    "duration": 7,
    "start_time": "2023-01-03T19:15:05.568Z"
   },
   {
    "duration": 6,
    "start_time": "2023-01-03T19:15:05.577Z"
   },
   {
    "duration": 68,
    "start_time": "2023-01-03T19:15:05.585Z"
   },
   {
    "duration": 21,
    "start_time": "2023-01-03T19:15:05.655Z"
   },
   {
    "duration": 22,
    "start_time": "2023-01-03T19:15:05.678Z"
   },
   {
    "duration": 15,
    "start_time": "2023-01-03T19:15:05.702Z"
   },
   {
    "duration": 47,
    "start_time": "2023-01-03T19:15:05.719Z"
   },
   {
    "duration": 28,
    "start_time": "2023-01-03T19:15:05.768Z"
   },
   {
    "duration": 19,
    "start_time": "2023-01-03T19:15:05.798Z"
   },
   {
    "duration": 22652,
    "start_time": "2023-01-03T19:15:05.819Z"
   },
   {
    "duration": 469,
    "start_time": "2023-01-03T19:15:28.473Z"
   },
   {
    "duration": 1481,
    "start_time": "2023-01-03T19:15:28.951Z"
   },
   {
    "duration": 56,
    "start_time": "2023-01-03T19:15:30.434Z"
   },
   {
    "duration": 159,
    "start_time": "2023-01-03T19:15:30.492Z"
   },
   {
    "duration": 107,
    "start_time": "2023-01-03T19:15:30.656Z"
   },
   {
    "duration": 36,
    "start_time": "2023-01-03T19:15:30.764Z"
   },
   {
    "duration": 33,
    "start_time": "2023-01-03T19:15:30.802Z"
   },
   {
    "duration": 27,
    "start_time": "2023-01-03T19:15:30.837Z"
   },
   {
    "duration": 1906,
    "start_time": "2023-01-03T19:15:30.866Z"
   },
   {
    "duration": 97,
    "start_time": "2023-01-03T19:15:32.774Z"
   },
   {
    "duration": 32268,
    "start_time": "2023-01-03T19:15:32.873Z"
   },
   {
    "duration": 610,
    "start_time": "2023-01-03T19:16:05.142Z"
   },
   {
    "duration": 11,
    "start_time": "2023-01-03T19:16:05.753Z"
   },
   {
    "duration": 6,
    "start_time": "2023-01-03T19:16:05.766Z"
   },
   {
    "duration": 34,
    "start_time": "2023-01-03T19:16:05.773Z"
   },
   {
    "duration": 124,
    "start_time": "2023-01-03T19:16:05.809Z"
   },
   {
    "duration": 138,
    "start_time": "2023-01-03T19:16:05.935Z"
   },
   {
    "duration": 0,
    "start_time": "2023-01-03T19:16:06.075Z"
   },
   {
    "duration": 582,
    "start_time": "2023-01-03T19:17:07.079Z"
   },
   {
    "duration": 154,
    "start_time": "2023-01-03T19:17:28.560Z"
   },
   {
    "duration": 143,
    "start_time": "2023-01-03T19:18:07.198Z"
   },
   {
    "duration": 3061,
    "start_time": "2023-01-04T16:43:09.598Z"
   },
   {
    "duration": 6228,
    "start_time": "2023-01-04T16:43:12.662Z"
   },
   {
    "duration": 1296,
    "start_time": "2023-01-04T16:43:18.892Z"
   },
   {
    "duration": 172,
    "start_time": "2023-01-04T16:43:20.190Z"
   },
   {
    "duration": 24,
    "start_time": "2023-01-04T16:43:20.363Z"
   },
   {
    "duration": 5,
    "start_time": "2023-01-04T16:43:20.389Z"
   },
   {
    "duration": 10,
    "start_time": "2023-01-04T16:43:20.396Z"
   },
   {
    "duration": 20,
    "start_time": "2023-01-04T16:43:20.408Z"
   },
   {
    "duration": 7,
    "start_time": "2023-01-04T16:43:20.430Z"
   },
   {
    "duration": 5,
    "start_time": "2023-01-04T16:43:20.440Z"
   },
   {
    "duration": 8,
    "start_time": "2023-01-04T16:43:20.446Z"
   },
   {
    "duration": 25,
    "start_time": "2023-01-04T16:43:20.455Z"
   },
   {
    "duration": 9,
    "start_time": "2023-01-04T16:43:20.482Z"
   },
   {
    "duration": 6,
    "start_time": "2023-01-04T16:43:20.492Z"
   },
   {
    "duration": 8,
    "start_time": "2023-01-04T16:43:20.499Z"
   },
   {
    "duration": 30,
    "start_time": "2023-01-04T16:43:20.509Z"
   },
   {
    "duration": 16,
    "start_time": "2023-01-04T16:43:20.541Z"
   },
   {
    "duration": 17,
    "start_time": "2023-01-04T16:43:20.577Z"
   },
   {
    "duration": 14,
    "start_time": "2023-01-04T16:43:20.596Z"
   },
   {
    "duration": 18,
    "start_time": "2023-01-04T16:43:20.611Z"
   },
   {
    "duration": 13,
    "start_time": "2023-01-04T16:43:20.631Z"
   },
   {
    "duration": 34,
    "start_time": "2023-01-04T16:43:20.646Z"
   },
   {
    "duration": 19123,
    "start_time": "2023-01-04T16:43:20.681Z"
   },
   {
    "duration": 390,
    "start_time": "2023-01-04T16:43:39.805Z"
   },
   {
    "duration": 1174,
    "start_time": "2023-01-04T16:43:40.197Z"
   },
   {
    "duration": 43,
    "start_time": "2023-01-04T16:43:41.372Z"
   },
   {
    "duration": 166,
    "start_time": "2023-01-04T16:43:41.416Z"
   },
   {
    "duration": 93,
    "start_time": "2023-01-04T16:43:41.585Z"
   },
   {
    "duration": 97,
    "start_time": "2023-01-04T16:43:41.681Z"
   },
   {
    "duration": 17,
    "start_time": "2023-01-04T16:43:41.779Z"
   },
   {
    "duration": 20,
    "start_time": "2023-01-04T16:43:41.797Z"
   },
   {
    "duration": 1621,
    "start_time": "2023-01-04T16:43:41.818Z"
   },
   {
    "duration": 56,
    "start_time": "2023-01-04T16:43:43.440Z"
   },
   {
    "duration": 26399,
    "start_time": "2023-01-04T16:43:43.498Z"
   },
   {
    "duration": 562,
    "start_time": "2023-01-04T16:44:09.898Z"
   },
   {
    "duration": 17,
    "start_time": "2023-01-04T16:44:10.462Z"
   },
   {
    "duration": 6,
    "start_time": "2023-01-04T16:44:10.481Z"
   },
   {
    "duration": 29,
    "start_time": "2023-01-04T16:44:10.488Z"
   },
   {
    "duration": 111,
    "start_time": "2023-01-04T16:44:10.519Z"
   },
   {
    "duration": 576,
    "start_time": "2023-01-04T16:44:10.632Z"
   },
   {
    "duration": 158,
    "start_time": "2023-01-04T16:44:11.210Z"
   },
   {
    "duration": 5254,
    "start_time": "2023-01-04T16:54:39.939Z"
   },
   {
    "duration": 1216,
    "start_time": "2023-01-04T16:54:45.196Z"
   },
   {
    "duration": 50,
    "start_time": "2023-01-04T16:54:46.414Z"
   },
   {
    "duration": 24,
    "start_time": "2023-01-04T16:54:46.466Z"
   },
   {
    "duration": 4,
    "start_time": "2023-01-04T16:54:46.492Z"
   },
   {
    "duration": 10,
    "start_time": "2023-01-04T16:54:46.497Z"
   },
   {
    "duration": 18,
    "start_time": "2023-01-04T16:54:46.509Z"
   },
   {
    "duration": 9,
    "start_time": "2023-01-04T16:54:46.528Z"
   },
   {
    "duration": 5,
    "start_time": "2023-01-04T16:54:46.539Z"
   },
   {
    "duration": 6,
    "start_time": "2023-01-04T16:54:46.546Z"
   },
   {
    "duration": 26,
    "start_time": "2023-01-04T16:54:46.553Z"
   },
   {
    "duration": 10,
    "start_time": "2023-01-04T16:54:46.580Z"
   },
   {
    "duration": 3,
    "start_time": "2023-01-04T16:54:46.591Z"
   },
   {
    "duration": 7,
    "start_time": "2023-01-04T16:54:46.596Z"
   },
   {
    "duration": 32,
    "start_time": "2023-01-04T16:54:46.605Z"
   },
   {
    "duration": 17,
    "start_time": "2023-01-04T16:54:46.638Z"
   },
   {
    "duration": 17,
    "start_time": "2023-01-04T16:54:46.678Z"
   },
   {
    "duration": 13,
    "start_time": "2023-01-04T16:54:46.696Z"
   },
   {
    "duration": 15,
    "start_time": "2023-01-04T16:54:46.711Z"
   },
   {
    "duration": 13,
    "start_time": "2023-01-04T16:54:46.727Z"
   },
   {
    "duration": 9,
    "start_time": "2023-01-04T16:54:46.742Z"
   },
   {
    "duration": 19666,
    "start_time": "2023-01-04T16:54:46.753Z"
   },
   {
    "duration": 401,
    "start_time": "2023-01-04T16:55:06.420Z"
   },
   {
    "duration": 1179,
    "start_time": "2023-01-04T16:55:06.823Z"
   },
   {
    "duration": 44,
    "start_time": "2023-01-04T16:55:08.004Z"
   },
   {
    "duration": 228,
    "start_time": "2023-01-04T16:55:08.050Z"
   },
   {
    "duration": 5,
    "start_time": "2023-01-04T16:55:08.280Z"
   },
   {
    "duration": 95,
    "start_time": "2023-01-04T16:55:08.289Z"
   },
   {
    "duration": 50,
    "start_time": "2023-01-04T16:55:08.386Z"
   },
   {
    "duration": 5,
    "start_time": "2023-01-04T16:55:08.438Z"
   },
   {
    "duration": 2156,
    "start_time": "2023-01-04T16:55:08.444Z"
   },
   {
    "duration": 86,
    "start_time": "2023-01-04T16:55:10.601Z"
   },
   {
    "duration": 31140,
    "start_time": "2023-01-04T16:55:10.688Z"
   },
   {
    "duration": 656,
    "start_time": "2023-01-04T16:55:41.829Z"
   },
   {
    "duration": 10,
    "start_time": "2023-01-04T16:55:42.486Z"
   },
   {
    "duration": 5,
    "start_time": "2023-01-04T16:55:42.498Z"
   },
   {
    "duration": 24,
    "start_time": "2023-01-04T16:55:42.504Z"
   },
   {
    "duration": 102,
    "start_time": "2023-01-04T16:55:42.530Z"
   },
   {
    "duration": 604,
    "start_time": "2023-01-04T16:55:42.633Z"
   },
   {
    "duration": 144,
    "start_time": "2023-01-04T16:55:43.239Z"
   },
   {
    "duration": 130,
    "start_time": "2023-01-04T16:59:03.988Z"
   },
   {
    "duration": 4093,
    "start_time": "2023-01-04T16:59:11.238Z"
   },
   {
    "duration": 1218,
    "start_time": "2023-01-04T16:59:15.333Z"
   },
   {
    "duration": 50,
    "start_time": "2023-01-04T16:59:16.552Z"
   },
   {
    "duration": 23,
    "start_time": "2023-01-04T16:59:16.604Z"
   },
   {
    "duration": 6,
    "start_time": "2023-01-04T16:59:16.628Z"
   },
   {
    "duration": 26,
    "start_time": "2023-01-04T16:59:16.636Z"
   },
   {
    "duration": 54,
    "start_time": "2023-01-04T16:59:16.663Z"
   },
   {
    "duration": 22,
    "start_time": "2023-01-04T16:59:16.719Z"
   },
   {
    "duration": 21,
    "start_time": "2023-01-04T16:59:16.743Z"
   },
   {
    "duration": 18,
    "start_time": "2023-01-04T16:59:16.766Z"
   },
   {
    "duration": 39,
    "start_time": "2023-01-04T16:59:16.786Z"
   },
   {
    "duration": 145,
    "start_time": "2023-01-04T16:59:16.826Z"
   },
   {
    "duration": 24,
    "start_time": "2023-01-04T16:59:16.972Z"
   },
   {
    "duration": 26,
    "start_time": "2023-01-04T16:59:16.998Z"
   },
   {
    "duration": 50,
    "start_time": "2023-01-04T16:59:17.026Z"
   },
   {
    "duration": 23,
    "start_time": "2023-01-04T16:59:17.077Z"
   },
   {
    "duration": 47,
    "start_time": "2023-01-04T16:59:17.102Z"
   },
   {
    "duration": 25,
    "start_time": "2023-01-04T16:59:17.150Z"
   },
   {
    "duration": 23,
    "start_time": "2023-01-04T16:59:17.176Z"
   },
   {
    "duration": 26,
    "start_time": "2023-01-04T16:59:17.201Z"
   },
   {
    "duration": 31,
    "start_time": "2023-01-04T16:59:17.229Z"
   },
   {
    "duration": 19104,
    "start_time": "2023-01-04T16:59:17.262Z"
   },
   {
    "duration": 431,
    "start_time": "2023-01-04T16:59:36.368Z"
   },
   {
    "duration": 1273,
    "start_time": "2023-01-04T16:59:36.801Z"
   },
   {
    "duration": 42,
    "start_time": "2023-01-04T16:59:38.078Z"
   },
   {
    "duration": 157,
    "start_time": "2023-01-04T16:59:38.122Z"
   },
   {
    "duration": 4,
    "start_time": "2023-01-04T16:59:38.282Z"
   },
   {
    "duration": 92,
    "start_time": "2023-01-04T16:59:38.292Z"
   },
   {
    "duration": 46,
    "start_time": "2023-01-04T16:59:38.386Z"
   },
   {
    "duration": 6,
    "start_time": "2023-01-04T16:59:38.433Z"
   },
   {
    "duration": 2036,
    "start_time": "2023-01-04T16:59:38.440Z"
   },
   {
    "duration": 68,
    "start_time": "2023-01-04T16:59:40.478Z"
   },
   {
    "duration": 30702,
    "start_time": "2023-01-04T16:59:40.548Z"
   },
   {
    "duration": 679,
    "start_time": "2023-01-04T17:00:11.252Z"
   },
   {
    "duration": 10,
    "start_time": "2023-01-04T17:00:11.933Z"
   },
   {
    "duration": 6,
    "start_time": "2023-01-04T17:00:11.944Z"
   },
   {
    "duration": 40,
    "start_time": "2023-01-04T17:00:11.952Z"
   },
   {
    "duration": 108,
    "start_time": "2023-01-04T17:00:11.994Z"
   },
   {
    "duration": 675,
    "start_time": "2023-01-04T17:00:12.103Z"
   },
   {
    "duration": 176,
    "start_time": "2023-01-04T17:00:12.780Z"
   },
   {
    "duration": 3843,
    "start_time": "2023-01-04T17:01:55.852Z"
   },
   {
    "duration": 1206,
    "start_time": "2023-01-04T17:01:59.697Z"
   },
   {
    "duration": 55,
    "start_time": "2023-01-04T17:02:00.905Z"
   },
   {
    "duration": 27,
    "start_time": "2023-01-04T17:02:00.962Z"
   },
   {
    "duration": 4,
    "start_time": "2023-01-04T17:02:00.991Z"
   },
   {
    "duration": 10,
    "start_time": "2023-01-04T17:02:00.997Z"
   },
   {
    "duration": 27,
    "start_time": "2023-01-04T17:02:01.009Z"
   },
   {
    "duration": 18,
    "start_time": "2023-01-04T17:02:01.037Z"
   },
   {
    "duration": 13,
    "start_time": "2023-01-04T17:02:01.057Z"
   },
   {
    "duration": 12,
    "start_time": "2023-01-04T17:02:01.073Z"
   },
   {
    "duration": 13,
    "start_time": "2023-01-04T17:02:01.086Z"
   },
   {
    "duration": 18,
    "start_time": "2023-01-04T17:02:01.101Z"
   },
   {
    "duration": 17,
    "start_time": "2023-01-04T17:02:01.121Z"
   },
   {
    "duration": 7,
    "start_time": "2023-01-04T17:02:01.140Z"
   },
   {
    "duration": 43,
    "start_time": "2023-01-04T17:02:01.149Z"
   },
   {
    "duration": 18,
    "start_time": "2023-01-04T17:02:01.194Z"
   },
   {
    "duration": 41,
    "start_time": "2023-01-04T17:02:01.213Z"
   },
   {
    "duration": 23,
    "start_time": "2023-01-04T17:02:01.256Z"
   },
   {
    "duration": 39,
    "start_time": "2023-01-04T17:02:01.281Z"
   },
   {
    "duration": 39,
    "start_time": "2023-01-04T17:02:01.321Z"
   },
   {
    "duration": 32,
    "start_time": "2023-01-04T17:02:01.362Z"
   },
   {
    "duration": 19618,
    "start_time": "2023-01-04T17:02:01.396Z"
   },
   {
    "duration": 398,
    "start_time": "2023-01-04T17:02:21.016Z"
   },
   {
    "duration": 1135,
    "start_time": "2023-01-04T17:02:21.415Z"
   },
   {
    "duration": 45,
    "start_time": "2023-01-04T17:02:22.551Z"
   },
   {
    "duration": 84,
    "start_time": "2023-01-04T17:02:22.598Z"
   },
   {
    "duration": 97,
    "start_time": "2023-01-04T17:02:22.683Z"
   },
   {
    "duration": 94,
    "start_time": "2023-01-04T17:02:22.784Z"
   },
   {
    "duration": 70,
    "start_time": "2023-01-04T17:02:22.880Z"
   },
   {
    "duration": 6,
    "start_time": "2023-01-04T17:02:22.952Z"
   },
   {
    "duration": 2093,
    "start_time": "2023-01-04T17:02:22.960Z"
   },
   {
    "duration": 75,
    "start_time": "2023-01-04T17:02:25.054Z"
   },
   {
    "duration": 30778,
    "start_time": "2023-01-04T17:02:25.130Z"
   },
   {
    "duration": 612,
    "start_time": "2023-01-04T17:02:55.910Z"
   },
   {
    "duration": 10,
    "start_time": "2023-01-04T17:02:56.524Z"
   },
   {
    "duration": 8,
    "start_time": "2023-01-04T17:02:56.536Z"
   },
   {
    "duration": 37,
    "start_time": "2023-01-04T17:02:56.546Z"
   },
   {
    "duration": 94,
    "start_time": "2023-01-04T17:02:56.584Z"
   },
   {
    "duration": 611,
    "start_time": "2023-01-04T17:02:56.679Z"
   },
   {
    "duration": 140,
    "start_time": "2023-01-04T17:02:57.292Z"
   },
   {
    "duration": 656,
    "start_time": "2023-01-04T17:03:35.823Z"
   },
   {
    "duration": 20163,
    "start_time": "2023-01-04T17:04:08.340Z"
   },
   {
    "duration": 353,
    "start_time": "2023-01-04T17:04:35.895Z"
   },
   {
    "duration": 137650,
    "start_time": "2023-01-04T17:04:42.022Z"
   },
   {
    "duration": 348,
    "start_time": "2023-01-04T17:06:59.674Z"
   },
   {
    "duration": 9308,
    "start_time": "2023-01-04T17:07:23.810Z"
   },
   {
    "duration": 327,
    "start_time": "2023-01-04T17:07:33.119Z"
   },
   {
    "duration": 9641,
    "start_time": "2023-01-04T17:07:44.880Z"
   },
   {
    "duration": 331,
    "start_time": "2023-01-04T17:07:54.523Z"
   },
   {
    "duration": 309,
    "start_time": "2023-01-04T17:08:20.994Z"
   },
   {
    "duration": 110,
    "start_time": "2023-01-04T17:08:23.457Z"
   },
   {
    "duration": 308,
    "start_time": "2023-01-04T17:08:26.006Z"
   },
   {
    "duration": 312,
    "start_time": "2023-01-04T17:08:27.990Z"
   },
   {
    "duration": 12,
    "start_time": "2023-01-04T17:08:50.808Z"
   },
   {
    "duration": 5,
    "start_time": "2023-01-04T17:08:51.373Z"
   },
   {
    "duration": 3853,
    "start_time": "2023-01-04T17:08:58.962Z"
   },
   {
    "duration": 1132,
    "start_time": "2023-01-04T17:09:02.817Z"
   },
   {
    "duration": 56,
    "start_time": "2023-01-04T17:09:03.951Z"
   },
   {
    "duration": 27,
    "start_time": "2023-01-04T17:09:04.011Z"
   },
   {
    "duration": 5,
    "start_time": "2023-01-04T17:09:04.040Z"
   },
   {
    "duration": 19,
    "start_time": "2023-01-04T17:09:04.047Z"
   },
   {
    "duration": 33,
    "start_time": "2023-01-04T17:09:04.068Z"
   },
   {
    "duration": 8,
    "start_time": "2023-01-04T17:09:04.103Z"
   },
   {
    "duration": 9,
    "start_time": "2023-01-04T17:09:04.113Z"
   },
   {
    "duration": 9,
    "start_time": "2023-01-04T17:09:04.124Z"
   },
   {
    "duration": 16,
    "start_time": "2023-01-04T17:09:04.135Z"
   },
   {
    "duration": 11,
    "start_time": "2023-01-04T17:09:04.152Z"
   },
   {
    "duration": 13,
    "start_time": "2023-01-04T17:09:04.165Z"
   },
   {
    "duration": 5,
    "start_time": "2023-01-04T17:09:04.181Z"
   },
   {
    "duration": 28,
    "start_time": "2023-01-04T17:09:04.187Z"
   },
   {
    "duration": 16,
    "start_time": "2023-01-04T17:09:04.217Z"
   },
   {
    "duration": 18,
    "start_time": "2023-01-04T17:09:04.235Z"
   },
   {
    "duration": 33,
    "start_time": "2023-01-04T17:09:04.255Z"
   },
   {
    "duration": 15,
    "start_time": "2023-01-04T17:09:04.290Z"
   },
   {
    "duration": 12,
    "start_time": "2023-01-04T17:09:04.307Z"
   },
   {
    "duration": 10,
    "start_time": "2023-01-04T17:09:04.321Z"
   },
   {
    "duration": 19075,
    "start_time": "2023-01-04T17:09:04.332Z"
   },
   {
    "duration": 378,
    "start_time": "2023-01-04T17:09:23.408Z"
   },
   {
    "duration": 1159,
    "start_time": "2023-01-04T17:09:23.787Z"
   },
   {
    "duration": 48,
    "start_time": "2023-01-04T17:09:24.948Z"
   },
   {
    "duration": 89,
    "start_time": "2023-01-04T17:09:24.998Z"
   },
   {
    "duration": 96,
    "start_time": "2023-01-04T17:09:25.088Z"
   },
   {
    "duration": 97,
    "start_time": "2023-01-04T17:09:25.185Z"
   },
   {
    "duration": 19,
    "start_time": "2023-01-04T17:09:25.284Z"
   },
   {
    "duration": 5,
    "start_time": "2023-01-04T17:09:25.305Z"
   },
   {
    "duration": 1538,
    "start_time": "2023-01-04T17:09:25.311Z"
   },
   {
    "duration": 57,
    "start_time": "2023-01-04T17:09:26.851Z"
   },
   {
    "duration": 8188,
    "start_time": "2023-01-04T17:09:26.910Z"
   },
   {
    "duration": 271,
    "start_time": "2023-01-04T17:09:35.100Z"
   },
   {
    "duration": 12,
    "start_time": "2023-01-04T17:09:35.373Z"
   },
   {
    "duration": 4,
    "start_time": "2023-01-04T17:09:35.387Z"
   },
   {
    "duration": 27,
    "start_time": "2023-01-04T17:09:35.393Z"
   },
   {
    "duration": 93,
    "start_time": "2023-01-04T17:09:35.421Z"
   },
   {
    "duration": 303,
    "start_time": "2023-01-04T17:09:35.516Z"
   },
   {
    "duration": 144,
    "start_time": "2023-01-04T17:09:35.820Z"
   },
   {
    "duration": 43,
    "start_time": "2023-01-04T17:10:08.031Z"
   },
   {
    "duration": 6,
    "start_time": "2023-01-04T17:10:09.228Z"
   },
   {
    "duration": 3906,
    "start_time": "2023-01-04T17:11:53.336Z"
   },
   {
    "duration": 1203,
    "start_time": "2023-01-04T17:11:57.244Z"
   },
   {
    "duration": 49,
    "start_time": "2023-01-04T17:11:58.449Z"
   },
   {
    "duration": 24,
    "start_time": "2023-01-04T17:11:58.500Z"
   },
   {
    "duration": 4,
    "start_time": "2023-01-04T17:11:58.525Z"
   },
   {
    "duration": 13,
    "start_time": "2023-01-04T17:11:58.530Z"
   },
   {
    "duration": 17,
    "start_time": "2023-01-04T17:11:58.544Z"
   },
   {
    "duration": 6,
    "start_time": "2023-01-04T17:11:58.578Z"
   },
   {
    "duration": 6,
    "start_time": "2023-01-04T17:11:58.586Z"
   },
   {
    "duration": 4,
    "start_time": "2023-01-04T17:11:58.594Z"
   },
   {
    "duration": 8,
    "start_time": "2023-01-04T17:11:58.600Z"
   },
   {
    "duration": 11,
    "start_time": "2023-01-04T17:11:58.609Z"
   },
   {
    "duration": 3,
    "start_time": "2023-01-04T17:11:58.622Z"
   },
   {
    "duration": 8,
    "start_time": "2023-01-04T17:11:58.626Z"
   },
   {
    "duration": 53,
    "start_time": "2023-01-04T17:11:58.636Z"
   },
   {
    "duration": 15,
    "start_time": "2023-01-04T17:11:58.691Z"
   },
   {
    "duration": 16,
    "start_time": "2023-01-04T17:11:58.708Z"
   },
   {
    "duration": 12,
    "start_time": "2023-01-04T17:11:58.726Z"
   },
   {
    "duration": 15,
    "start_time": "2023-01-04T17:11:58.740Z"
   },
   {
    "duration": 31,
    "start_time": "2023-01-04T17:11:58.756Z"
   },
   {
    "duration": 11,
    "start_time": "2023-01-04T17:11:58.789Z"
   },
   {
    "duration": 19543,
    "start_time": "2023-01-04T17:11:58.802Z"
   },
   {
    "duration": 373,
    "start_time": "2023-01-04T17:12:18.346Z"
   },
   {
    "duration": 1163,
    "start_time": "2023-01-04T17:12:18.721Z"
   },
   {
    "duration": 37,
    "start_time": "2023-01-04T17:12:19.885Z"
   },
   {
    "duration": 165,
    "start_time": "2023-01-04T17:12:19.924Z"
   },
   {
    "duration": 10,
    "start_time": "2023-01-04T17:12:20.180Z"
   },
   {
    "duration": 4,
    "start_time": "2023-01-04T17:12:20.280Z"
   },
   {
    "duration": 50,
    "start_time": "2023-01-04T17:12:20.285Z"
   },
   {
    "duration": 5,
    "start_time": "2023-01-04T17:12:20.337Z"
   },
   {
    "duration": 1982,
    "start_time": "2023-01-04T17:12:20.344Z"
   },
   {
    "duration": 70,
    "start_time": "2023-01-04T17:12:22.328Z"
   },
   {
    "duration": 9437,
    "start_time": "2023-01-04T17:12:22.399Z"
   },
   {
    "duration": 322,
    "start_time": "2023-01-04T17:12:31.838Z"
   },
   {
    "duration": 17,
    "start_time": "2023-01-04T17:12:32.161Z"
   },
   {
    "duration": 16,
    "start_time": "2023-01-04T17:12:32.179Z"
   },
   {
    "duration": 31,
    "start_time": "2023-01-04T17:12:32.197Z"
   },
   {
    "duration": 94,
    "start_time": "2023-01-04T17:12:32.230Z"
   },
   {
    "duration": 317,
    "start_time": "2023-01-04T17:12:32.326Z"
   },
   {
    "duration": 124,
    "start_time": "2023-01-04T17:12:32.644Z"
   },
   {
    "duration": 9826,
    "start_time": "2023-01-04T17:13:56.706Z"
   },
   {
    "duration": 323,
    "start_time": "2023-01-04T17:14:31.231Z"
   },
   {
    "duration": 122,
    "start_time": "2023-01-04T17:14:32.720Z"
   },
   {
    "duration": 12790,
    "start_time": "2023-01-04T17:15:29.036Z"
   },
   {
    "duration": 418,
    "start_time": "2023-01-04T17:15:41.828Z"
   },
   {
    "duration": 387,
    "start_time": "2023-01-04T17:15:50.234Z"
   },
   {
    "duration": 121,
    "start_time": "2023-01-04T17:15:51.882Z"
   },
   {
    "duration": 4258,
    "start_time": "2023-01-04T17:16:07.811Z"
   },
   {
    "duration": 1267,
    "start_time": "2023-01-04T17:16:12.071Z"
   },
   {
    "duration": 49,
    "start_time": "2023-01-04T17:16:13.340Z"
   },
   {
    "duration": 23,
    "start_time": "2023-01-04T17:16:13.391Z"
   },
   {
    "duration": 4,
    "start_time": "2023-01-04T17:16:13.416Z"
   },
   {
    "duration": 11,
    "start_time": "2023-01-04T17:16:13.421Z"
   },
   {
    "duration": 21,
    "start_time": "2023-01-04T17:16:13.434Z"
   },
   {
    "duration": 6,
    "start_time": "2023-01-04T17:16:13.457Z"
   },
   {
    "duration": 7,
    "start_time": "2023-01-04T17:16:13.478Z"
   },
   {
    "duration": 4,
    "start_time": "2023-01-04T17:16:13.487Z"
   },
   {
    "duration": 7,
    "start_time": "2023-01-04T17:16:13.493Z"
   },
   {
    "duration": 13,
    "start_time": "2023-01-04T17:16:13.502Z"
   },
   {
    "duration": 3,
    "start_time": "2023-01-04T17:16:13.517Z"
   },
   {
    "duration": 8,
    "start_time": "2023-01-04T17:16:13.521Z"
   },
   {
    "duration": 47,
    "start_time": "2023-01-04T17:16:13.531Z"
   },
   {
    "duration": 16,
    "start_time": "2023-01-04T17:16:13.580Z"
   },
   {
    "duration": 21,
    "start_time": "2023-01-04T17:16:13.597Z"
   },
   {
    "duration": 12,
    "start_time": "2023-01-04T17:16:13.620Z"
   },
   {
    "duration": 19,
    "start_time": "2023-01-04T17:16:13.633Z"
   },
   {
    "duration": 26,
    "start_time": "2023-01-04T17:16:13.653Z"
   },
   {
    "duration": 9,
    "start_time": "2023-01-04T17:16:13.680Z"
   },
   {
    "duration": 19060,
    "start_time": "2023-01-04T17:16:13.691Z"
   },
   {
    "duration": 375,
    "start_time": "2023-01-04T17:16:32.752Z"
   },
   {
    "duration": 1168,
    "start_time": "2023-01-04T17:16:33.128Z"
   },
   {
    "duration": 38,
    "start_time": "2023-01-04T17:16:34.298Z"
   },
   {
    "duration": 50,
    "start_time": "2023-01-04T17:16:34.338Z"
   },
   {
    "duration": 5,
    "start_time": "2023-01-04T17:16:34.479Z"
   },
   {
    "duration": 97,
    "start_time": "2023-01-04T17:16:34.487Z"
   },
   {
    "duration": 45,
    "start_time": "2023-01-04T17:16:34.586Z"
   },
   {
    "duration": 4,
    "start_time": "2023-01-04T17:16:34.633Z"
   },
   {
    "duration": 2079,
    "start_time": "2023-01-04T17:16:34.639Z"
   },
   {
    "duration": 90,
    "start_time": "2023-01-04T17:16:36.720Z"
   },
   {
    "duration": 12768,
    "start_time": "2023-01-04T17:16:36.812Z"
   },
   {
    "duration": 384,
    "start_time": "2023-01-04T17:16:49.582Z"
   },
   {
    "duration": 12,
    "start_time": "2023-01-04T17:16:49.968Z"
   },
   {
    "duration": 114,
    "start_time": "2023-01-04T17:16:49.981Z"
   },
   {
    "duration": 27,
    "start_time": "2023-01-04T17:16:50.097Z"
   },
   {
    "duration": 84,
    "start_time": "2023-01-04T17:16:50.125Z"
   },
   {
    "duration": 370,
    "start_time": "2023-01-04T17:16:50.210Z"
   },
   {
    "duration": 132,
    "start_time": "2023-01-04T17:16:50.581Z"
   },
   {
    "duration": 12522,
    "start_time": "2023-01-04T17:17:45.465Z"
   },
   {
    "duration": 30268,
    "start_time": "2023-01-04T17:19:21.703Z"
   },
   {
    "duration": 582,
    "start_time": "2023-01-04T17:19:51.978Z"
   },
   {
    "duration": 64394,
    "start_time": "2023-01-04T17:19:59.955Z"
   },
   {
    "duration": 743,
    "start_time": "2023-01-04T17:21:04.351Z"
   },
   {
    "duration": 3795,
    "start_time": "2023-01-04T17:22:21.361Z"
   },
   {
    "duration": 1187,
    "start_time": "2023-01-04T17:22:25.159Z"
   },
   {
    "duration": 49,
    "start_time": "2023-01-04T17:22:26.348Z"
   },
   {
    "duration": 22,
    "start_time": "2023-01-04T17:22:26.399Z"
   },
   {
    "duration": 3,
    "start_time": "2023-01-04T17:22:26.422Z"
   },
   {
    "duration": 6,
    "start_time": "2023-01-04T17:22:26.427Z"
   },
   {
    "duration": 16,
    "start_time": "2023-01-04T17:22:26.435Z"
   },
   {
    "duration": 26,
    "start_time": "2023-01-04T17:22:26.453Z"
   },
   {
    "duration": 4,
    "start_time": "2023-01-04T17:22:26.480Z"
   },
   {
    "duration": 7,
    "start_time": "2023-01-04T17:22:26.487Z"
   },
   {
    "duration": 9,
    "start_time": "2023-01-04T17:22:26.495Z"
   },
   {
    "duration": 10,
    "start_time": "2023-01-04T17:22:26.506Z"
   },
   {
    "duration": 3,
    "start_time": "2023-01-04T17:22:26.518Z"
   },
   {
    "duration": 7,
    "start_time": "2023-01-04T17:22:26.523Z"
   },
   {
    "duration": 46,
    "start_time": "2023-01-04T17:22:26.532Z"
   },
   {
    "duration": 17,
    "start_time": "2023-01-04T17:22:26.580Z"
   },
   {
    "duration": 19,
    "start_time": "2023-01-04T17:22:26.598Z"
   },
   {
    "duration": 13,
    "start_time": "2023-01-04T17:22:26.619Z"
   },
   {
    "duration": 14,
    "start_time": "2023-01-04T17:22:26.634Z"
   },
   {
    "duration": 33,
    "start_time": "2023-01-04T17:22:26.650Z"
   },
   {
    "duration": 7,
    "start_time": "2023-01-04T17:22:26.684Z"
   },
   {
    "duration": 7787,
    "start_time": "2023-01-04T17:22:26.693Z"
   },
   {
    "duration": 241,
    "start_time": "2023-01-04T17:22:34.482Z"
   },
   {
    "duration": 1171,
    "start_time": "2023-01-04T17:22:34.725Z"
   },
   {
    "duration": 37,
    "start_time": "2023-01-04T17:22:35.897Z"
   },
   {
    "duration": 52,
    "start_time": "2023-01-04T17:22:35.935Z"
   },
   {
    "duration": 7,
    "start_time": "2023-01-04T17:22:36.079Z"
   },
   {
    "duration": 90,
    "start_time": "2023-01-04T17:22:36.090Z"
   },
   {
    "duration": 51,
    "start_time": "2023-01-04T17:22:36.182Z"
   },
   {
    "duration": 6,
    "start_time": "2023-01-04T17:22:36.235Z"
   },
   {
    "duration": 2295,
    "start_time": "2023-01-04T17:22:36.243Z"
   },
   {
    "duration": 89,
    "start_time": "2023-01-04T17:22:38.539Z"
   },
   {
    "duration": 26400,
    "start_time": "2023-01-04T17:22:38.630Z"
   },
   {
    "duration": 497,
    "start_time": "2023-01-04T17:23:05.032Z"
   },
   {
    "duration": 10,
    "start_time": "2023-01-04T17:23:05.531Z"
   },
   {
    "duration": 5,
    "start_time": "2023-01-04T17:23:05.543Z"
   },
   {
    "duration": 43,
    "start_time": "2023-01-04T17:23:05.550Z"
   },
   {
    "duration": 100,
    "start_time": "2023-01-04T17:23:05.595Z"
   },
   {
    "duration": 481,
    "start_time": "2023-01-04T17:23:05.697Z"
   },
   {
    "duration": 146,
    "start_time": "2023-01-04T17:23:06.179Z"
   },
   {
    "duration": 3988,
    "start_time": "2023-01-04T17:23:53.000Z"
   },
   {
    "duration": 1142,
    "start_time": "2023-01-04T17:23:56.990Z"
   },
   {
    "duration": 49,
    "start_time": "2023-01-04T17:23:58.133Z"
   },
   {
    "duration": 24,
    "start_time": "2023-01-04T17:23:58.184Z"
   },
   {
    "duration": 5,
    "start_time": "2023-01-04T17:23:58.211Z"
   },
   {
    "duration": 14,
    "start_time": "2023-01-04T17:23:58.218Z"
   },
   {
    "duration": 39,
    "start_time": "2023-01-04T17:23:58.234Z"
   },
   {
    "duration": 55,
    "start_time": "2023-01-04T17:23:58.275Z"
   },
   {
    "duration": 35,
    "start_time": "2023-01-04T17:23:58.332Z"
   },
   {
    "duration": 17,
    "start_time": "2023-01-04T17:23:58.369Z"
   },
   {
    "duration": 44,
    "start_time": "2023-01-04T17:23:58.388Z"
   },
   {
    "duration": 19,
    "start_time": "2023-01-04T17:23:58.434Z"
   },
   {
    "duration": 26,
    "start_time": "2023-01-04T17:23:58.454Z"
   },
   {
    "duration": 41,
    "start_time": "2023-01-04T17:23:58.485Z"
   },
   {
    "duration": 35,
    "start_time": "2023-01-04T17:23:58.528Z"
   },
   {
    "duration": 26,
    "start_time": "2023-01-04T17:23:58.564Z"
   },
   {
    "duration": 25,
    "start_time": "2023-01-04T17:23:58.592Z"
   },
   {
    "duration": 39,
    "start_time": "2023-01-04T17:23:58.619Z"
   },
   {
    "duration": 29,
    "start_time": "2023-01-04T17:23:58.660Z"
   },
   {
    "duration": 21,
    "start_time": "2023-01-04T17:23:58.690Z"
   },
   {
    "duration": 19,
    "start_time": "2023-01-04T17:23:58.713Z"
   },
   {
    "duration": 7985,
    "start_time": "2023-01-04T17:23:58.733Z"
   },
   {
    "duration": 248,
    "start_time": "2023-01-04T17:24:06.719Z"
   },
   {
    "duration": 1133,
    "start_time": "2023-01-04T17:24:06.968Z"
   },
   {
    "duration": 38,
    "start_time": "2023-01-04T17:24:08.102Z"
   },
   {
    "duration": 141,
    "start_time": "2023-01-04T17:24:08.141Z"
   },
   {
    "duration": 95,
    "start_time": "2023-01-04T17:24:08.283Z"
   },
   {
    "duration": 6,
    "start_time": "2023-01-04T17:24:08.380Z"
   },
   {
    "duration": 109,
    "start_time": "2023-01-04T17:24:08.388Z"
   },
   {
    "duration": 7,
    "start_time": "2023-01-04T17:24:08.499Z"
   },
   {
    "duration": 2110,
    "start_time": "2023-01-04T17:24:08.507Z"
   },
   {
    "duration": 81,
    "start_time": "2023-01-04T17:24:10.619Z"
   },
   {
    "duration": 26088,
    "start_time": "2023-01-04T17:24:10.702Z"
   },
   {
    "duration": 493,
    "start_time": "2023-01-04T17:24:36.791Z"
   },
   {
    "duration": 11,
    "start_time": "2023-01-04T17:24:37.286Z"
   },
   {
    "duration": 15,
    "start_time": "2023-01-04T17:24:37.299Z"
   },
   {
    "duration": 30,
    "start_time": "2023-01-04T17:24:37.315Z"
   },
   {
    "duration": 111,
    "start_time": "2023-01-04T17:24:37.347Z"
   },
   {
    "duration": 496,
    "start_time": "2023-01-04T17:24:37.460Z"
   },
   {
    "duration": 155,
    "start_time": "2023-01-04T17:24:37.958Z"
   },
   {
    "duration": 3962,
    "start_time": "2023-01-04T17:25:01.624Z"
   },
   {
    "duration": 1180,
    "start_time": "2023-01-04T17:25:05.589Z"
   },
   {
    "duration": 49,
    "start_time": "2023-01-04T17:25:06.770Z"
   },
   {
    "duration": 23,
    "start_time": "2023-01-04T17:25:06.821Z"
   },
   {
    "duration": 4,
    "start_time": "2023-01-04T17:25:06.846Z"
   },
   {
    "duration": 10,
    "start_time": "2023-01-04T17:25:06.851Z"
   },
   {
    "duration": 25,
    "start_time": "2023-01-04T17:25:06.862Z"
   },
   {
    "duration": 18,
    "start_time": "2023-01-04T17:25:06.888Z"
   },
   {
    "duration": 10,
    "start_time": "2023-01-04T17:25:06.909Z"
   },
   {
    "duration": 7,
    "start_time": "2023-01-04T17:25:06.922Z"
   },
   {
    "duration": 21,
    "start_time": "2023-01-04T17:25:06.931Z"
   },
   {
    "duration": 13,
    "start_time": "2023-01-04T17:25:06.954Z"
   },
   {
    "duration": 9,
    "start_time": "2023-01-04T17:25:06.969Z"
   },
   {
    "duration": 9,
    "start_time": "2023-01-04T17:25:06.980Z"
   },
   {
    "duration": 28,
    "start_time": "2023-01-04T17:25:06.991Z"
   },
   {
    "duration": 17,
    "start_time": "2023-01-04T17:25:07.020Z"
   },
   {
    "duration": 16,
    "start_time": "2023-01-04T17:25:07.039Z"
   },
   {
    "duration": 32,
    "start_time": "2023-01-04T17:25:07.057Z"
   },
   {
    "duration": 17,
    "start_time": "2023-01-04T17:25:07.090Z"
   },
   {
    "duration": 12,
    "start_time": "2023-01-04T17:25:07.109Z"
   },
   {
    "duration": 11,
    "start_time": "2023-01-04T17:25:07.123Z"
   },
   {
    "duration": 8439,
    "start_time": "2023-01-04T17:25:07.136Z"
   },
   {
    "duration": 263,
    "start_time": "2023-01-04T17:25:15.578Z"
   },
   {
    "duration": 1201,
    "start_time": "2023-01-04T17:25:15.843Z"
   },
   {
    "duration": 50,
    "start_time": "2023-01-04T17:25:17.046Z"
   },
   {
    "duration": 90,
    "start_time": "2023-01-04T17:25:17.097Z"
   },
   {
    "duration": 5,
    "start_time": "2023-01-04T17:25:17.279Z"
   },
   {
    "duration": 100,
    "start_time": "2023-01-04T17:25:17.287Z"
   },
   {
    "duration": 48,
    "start_time": "2023-01-04T17:25:17.389Z"
   },
   {
    "duration": 5,
    "start_time": "2023-01-04T17:25:17.439Z"
   },
   {
    "duration": 1966,
    "start_time": "2023-01-04T17:25:17.445Z"
   },
   {
    "duration": 72,
    "start_time": "2023-01-04T17:25:19.413Z"
   },
   {
    "duration": 12134,
    "start_time": "2023-01-04T17:25:19.487Z"
   },
   {
    "duration": 366,
    "start_time": "2023-01-04T17:25:31.623Z"
   },
   {
    "duration": 11,
    "start_time": "2023-01-04T17:25:31.990Z"
   },
   {
    "duration": 17,
    "start_time": "2023-01-04T17:25:32.003Z"
   },
   {
    "duration": 28,
    "start_time": "2023-01-04T17:25:32.022Z"
   },
   {
    "duration": 86,
    "start_time": "2023-01-04T17:25:32.052Z"
   },
   {
    "duration": 389,
    "start_time": "2023-01-04T17:25:32.140Z"
   },
   {
    "duration": 128,
    "start_time": "2023-01-04T17:25:32.531Z"
   },
   {
    "duration": 4426,
    "start_time": "2023-01-04T17:26:10.190Z"
   },
   {
    "duration": 1211,
    "start_time": "2023-01-04T17:26:14.618Z"
   },
   {
    "duration": 49,
    "start_time": "2023-01-04T17:26:15.830Z"
   },
   {
    "duration": 26,
    "start_time": "2023-01-04T17:26:15.881Z"
   },
   {
    "duration": 4,
    "start_time": "2023-01-04T17:26:15.909Z"
   },
   {
    "duration": 6,
    "start_time": "2023-01-04T17:26:15.915Z"
   },
   {
    "duration": 18,
    "start_time": "2023-01-04T17:26:15.923Z"
   },
   {
    "duration": 8,
    "start_time": "2023-01-04T17:26:15.943Z"
   },
   {
    "duration": 29,
    "start_time": "2023-01-04T17:26:15.953Z"
   },
   {
    "duration": 11,
    "start_time": "2023-01-04T17:26:15.984Z"
   },
   {
    "duration": 6,
    "start_time": "2023-01-04T17:26:15.997Z"
   },
   {
    "duration": 9,
    "start_time": "2023-01-04T17:26:16.005Z"
   },
   {
    "duration": 4,
    "start_time": "2023-01-04T17:26:16.015Z"
   },
   {
    "duration": 5,
    "start_time": "2023-01-04T17:26:16.022Z"
   },
   {
    "duration": 49,
    "start_time": "2023-01-04T17:26:16.029Z"
   },
   {
    "duration": 26,
    "start_time": "2023-01-04T17:26:16.080Z"
   },
   {
    "duration": 18,
    "start_time": "2023-01-04T17:26:16.107Z"
   },
   {
    "duration": 15,
    "start_time": "2023-01-04T17:26:16.126Z"
   },
   {
    "duration": 51,
    "start_time": "2023-01-04T17:26:16.143Z"
   },
   {
    "duration": 13,
    "start_time": "2023-01-04T17:26:16.196Z"
   },
   {
    "duration": 11,
    "start_time": "2023-01-04T17:26:16.211Z"
   },
   {
    "duration": 8318,
    "start_time": "2023-01-04T17:26:16.224Z"
   },
   {
    "duration": 260,
    "start_time": "2023-01-04T17:26:24.543Z"
   },
   {
    "duration": 1239,
    "start_time": "2023-01-04T17:26:24.804Z"
   },
   {
    "duration": 52,
    "start_time": "2023-01-04T17:26:26.045Z"
   },
   {
    "duration": 89,
    "start_time": "2023-01-04T17:26:26.099Z"
   },
   {
    "duration": 5,
    "start_time": "2023-01-04T17:26:26.192Z"
   },
   {
    "duration": 184,
    "start_time": "2023-01-04T17:26:26.199Z"
   },
   {
    "duration": 55,
    "start_time": "2023-01-04T17:26:26.385Z"
   },
   {
    "duration": 5,
    "start_time": "2023-01-04T17:26:26.441Z"
   },
   {
    "duration": 2061,
    "start_time": "2023-01-04T17:26:26.448Z"
   },
   {
    "duration": 89,
    "start_time": "2023-01-04T17:26:28.510Z"
   },
   {
    "duration": 5058,
    "start_time": "2023-01-04T17:26:28.601Z"
   },
   {
    "duration": 238,
    "start_time": "2023-01-04T17:26:33.661Z"
   },
   {
    "duration": 12,
    "start_time": "2023-01-04T17:26:33.901Z"
   },
   {
    "duration": 6,
    "start_time": "2023-01-04T17:26:33.916Z"
   },
   {
    "duration": 28,
    "start_time": "2023-01-04T17:26:33.925Z"
   },
   {
    "duration": 133,
    "start_time": "2023-01-04T17:26:33.955Z"
   },
   {
    "duration": 260,
    "start_time": "2023-01-04T17:26:34.090Z"
   },
   {
    "duration": 148,
    "start_time": "2023-01-04T17:26:34.352Z"
   },
   {
    "duration": 4059,
    "start_time": "2023-01-04T17:27:58.204Z"
   },
   {
    "duration": 964,
    "start_time": "2023-01-04T17:28:02.265Z"
   },
   {
    "duration": 51,
    "start_time": "2023-01-04T17:28:03.230Z"
   },
   {
    "duration": 28,
    "start_time": "2023-01-04T17:28:03.283Z"
   },
   {
    "duration": 4,
    "start_time": "2023-01-04T17:28:03.313Z"
   },
   {
    "duration": 8,
    "start_time": "2023-01-04T17:28:03.318Z"
   },
   {
    "duration": 21,
    "start_time": "2023-01-04T17:28:03.327Z"
   },
   {
    "duration": 8,
    "start_time": "2023-01-04T17:28:03.349Z"
   },
   {
    "duration": 21,
    "start_time": "2023-01-04T17:28:03.359Z"
   },
   {
    "duration": 5,
    "start_time": "2023-01-04T17:28:03.382Z"
   },
   {
    "duration": 6,
    "start_time": "2023-01-04T17:28:03.389Z"
   },
   {
    "duration": 10,
    "start_time": "2023-01-04T17:28:03.397Z"
   },
   {
    "duration": 3,
    "start_time": "2023-01-04T17:28:03.409Z"
   },
   {
    "duration": 7,
    "start_time": "2023-01-04T17:28:03.416Z"
   },
   {
    "duration": 58,
    "start_time": "2023-01-04T17:28:03.424Z"
   },
   {
    "duration": 22,
    "start_time": "2023-01-04T17:28:03.484Z"
   },
   {
    "duration": 21,
    "start_time": "2023-01-04T17:28:03.509Z"
   },
   {
    "duration": 12,
    "start_time": "2023-01-04T17:28:03.532Z"
   },
   {
    "duration": 39,
    "start_time": "2023-01-04T17:28:03.546Z"
   },
   {
    "duration": 16,
    "start_time": "2023-01-04T17:28:03.587Z"
   },
   {
    "duration": 13,
    "start_time": "2023-01-04T17:28:03.605Z"
   },
   {
    "duration": 8596,
    "start_time": "2023-01-04T17:28:03.620Z"
   },
   {
    "duration": 284,
    "start_time": "2023-01-04T17:28:12.218Z"
   },
   {
    "duration": 1272,
    "start_time": "2023-01-04T17:28:12.503Z"
   },
   {
    "duration": 42,
    "start_time": "2023-01-04T17:28:13.777Z"
   },
   {
    "duration": 163,
    "start_time": "2023-01-04T17:28:13.821Z"
   },
   {
    "duration": 5,
    "start_time": "2023-01-04T17:28:13.994Z"
   },
   {
    "duration": 79,
    "start_time": "2023-01-04T17:28:14.001Z"
   },
   {
    "duration": 72,
    "start_time": "2023-01-04T17:28:14.082Z"
   },
   {
    "duration": 6,
    "start_time": "2023-01-04T17:28:14.156Z"
   },
   {
    "duration": 2067,
    "start_time": "2023-01-04T17:28:14.164Z"
   },
   {
    "duration": 79,
    "start_time": "2023-01-04T17:28:16.232Z"
   },
   {
    "duration": 13308,
    "start_time": "2023-01-04T17:28:16.313Z"
   },
   {
    "duration": 402,
    "start_time": "2023-01-04T17:28:29.623Z"
   },
   {
    "duration": 10,
    "start_time": "2023-01-04T17:28:30.027Z"
   },
   {
    "duration": 8,
    "start_time": "2023-01-04T17:28:30.038Z"
   },
   {
    "duration": 39,
    "start_time": "2023-01-04T17:28:30.048Z"
   },
   {
    "duration": 105,
    "start_time": "2023-01-04T17:28:30.088Z"
   },
   {
    "duration": 394,
    "start_time": "2023-01-04T17:28:30.195Z"
   },
   {
    "duration": 122,
    "start_time": "2023-01-04T17:28:30.592Z"
   },
   {
    "duration": 4156,
    "start_time": "2023-01-04T17:29:47.253Z"
   },
   {
    "duration": 1205,
    "start_time": "2023-01-04T17:29:51.412Z"
   },
   {
    "duration": 48,
    "start_time": "2023-01-04T17:29:52.619Z"
   },
   {
    "duration": 36,
    "start_time": "2023-01-04T17:29:52.669Z"
   },
   {
    "duration": 4,
    "start_time": "2023-01-04T17:29:52.707Z"
   },
   {
    "duration": 8,
    "start_time": "2023-01-04T17:29:52.712Z"
   },
   {
    "duration": 22,
    "start_time": "2023-01-04T17:29:52.722Z"
   },
   {
    "duration": 9,
    "start_time": "2023-01-04T17:29:52.746Z"
   },
   {
    "duration": 6,
    "start_time": "2023-01-04T17:29:52.757Z"
   },
   {
    "duration": 24,
    "start_time": "2023-01-04T17:29:52.766Z"
   },
   {
    "duration": 10,
    "start_time": "2023-01-04T17:29:52.794Z"
   },
   {
    "duration": 11,
    "start_time": "2023-01-04T17:29:52.806Z"
   },
   {
    "duration": 5,
    "start_time": "2023-01-04T17:29:52.819Z"
   },
   {
    "duration": 10,
    "start_time": "2023-01-04T17:29:52.826Z"
   },
   {
    "duration": 55,
    "start_time": "2023-01-04T17:29:52.838Z"
   },
   {
    "duration": 18,
    "start_time": "2023-01-04T17:29:52.896Z"
   },
   {
    "duration": 19,
    "start_time": "2023-01-04T17:29:52.916Z"
   },
   {
    "duration": 12,
    "start_time": "2023-01-04T17:29:52.936Z"
   },
   {
    "duration": 29,
    "start_time": "2023-01-04T17:29:52.950Z"
   },
   {
    "duration": 26,
    "start_time": "2023-01-04T17:29:52.981Z"
   },
   {
    "duration": 11,
    "start_time": "2023-01-04T17:29:53.009Z"
   },
   {
    "duration": 8521,
    "start_time": "2023-01-04T17:29:53.022Z"
   },
   {
    "duration": 270,
    "start_time": "2023-01-04T17:30:01.545Z"
   },
   {
    "duration": 1265,
    "start_time": "2023-01-04T17:30:01.817Z"
   },
   {
    "duration": 43,
    "start_time": "2023-01-04T17:30:03.085Z"
   },
   {
    "duration": 60,
    "start_time": "2023-01-04T17:30:03.130Z"
   },
   {
    "duration": 88,
    "start_time": "2023-01-04T17:30:03.192Z"
   },
   {
    "duration": 114,
    "start_time": "2023-01-04T17:30:03.285Z"
   },
   {
    "duration": 45,
    "start_time": "2023-01-04T17:30:03.400Z"
   },
   {
    "duration": 5,
    "start_time": "2023-01-04T17:30:03.446Z"
   },
   {
    "duration": 2106,
    "start_time": "2023-01-04T17:30:03.453Z"
   },
   {
    "duration": 77,
    "start_time": "2023-01-04T17:30:05.560Z"
   },
   {
    "duration": 13737,
    "start_time": "2023-01-04T17:30:05.638Z"
   },
   {
    "duration": 417,
    "start_time": "2023-01-04T17:30:19.379Z"
   },
   {
    "duration": 10,
    "start_time": "2023-01-04T17:30:19.798Z"
   },
   {
    "duration": 7,
    "start_time": "2023-01-04T17:30:19.810Z"
   },
   {
    "duration": 23,
    "start_time": "2023-01-04T17:30:19.819Z"
   },
   {
    "duration": 113,
    "start_time": "2023-01-04T17:30:19.844Z"
   },
   {
    "duration": 407,
    "start_time": "2023-01-04T17:30:19.959Z"
   },
   {
    "duration": 164,
    "start_time": "2023-01-04T17:30:20.367Z"
   },
   {
    "duration": 11087,
    "start_time": "2023-01-05T18:20:23.276Z"
   },
   {
    "duration": 1379,
    "start_time": "2023-01-05T18:20:34.365Z"
   },
   {
    "duration": 88,
    "start_time": "2023-01-05T18:20:35.746Z"
   },
   {
    "duration": 23,
    "start_time": "2023-01-05T18:20:35.836Z"
   },
   {
    "duration": 4,
    "start_time": "2023-01-05T18:20:35.861Z"
   },
   {
    "duration": 9,
    "start_time": "2023-01-05T18:20:35.866Z"
   },
   {
    "duration": 18,
    "start_time": "2023-01-05T18:20:35.876Z"
   },
   {
    "duration": 19,
    "start_time": "2023-01-05T18:20:35.896Z"
   },
   {
    "duration": 8,
    "start_time": "2023-01-05T18:20:35.917Z"
   },
   {
    "duration": 7,
    "start_time": "2023-01-05T18:20:35.928Z"
   },
   {
    "duration": 8,
    "start_time": "2023-01-05T18:20:35.937Z"
   },
   {
    "duration": 13,
    "start_time": "2023-01-05T18:20:35.947Z"
   },
   {
    "duration": 3,
    "start_time": "2023-01-05T18:20:35.962Z"
   },
   {
    "duration": 7,
    "start_time": "2023-01-05T18:20:35.967Z"
   },
   {
    "duration": 71,
    "start_time": "2023-01-05T18:20:35.975Z"
   },
   {
    "duration": 23,
    "start_time": "2023-01-05T18:20:36.048Z"
   },
   {
    "duration": 1528,
    "start_time": "2023-01-05T18:20:36.073Z"
   },
   {
    "duration": 432,
    "start_time": "2023-01-05T18:20:37.603Z"
   },
   {
    "duration": 135,
    "start_time": "2023-01-05T18:20:38.036Z"
   },
   {
    "duration": 21,
    "start_time": "2023-01-05T18:20:38.174Z"
   },
   {
    "duration": 25,
    "start_time": "2023-01-05T18:20:38.197Z"
   },
   {
    "duration": 8319,
    "start_time": "2023-01-05T18:20:38.224Z"
   },
   {
    "duration": 281,
    "start_time": "2023-01-05T18:20:46.545Z"
   },
   {
    "duration": 1134,
    "start_time": "2023-01-05T18:20:46.828Z"
   },
   {
    "duration": 48,
    "start_time": "2023-01-05T18:20:47.964Z"
   },
   {
    "duration": 198,
    "start_time": "2023-01-05T18:20:48.014Z"
   },
   {
    "duration": 7,
    "start_time": "2023-01-05T18:20:48.215Z"
   },
   {
    "duration": 106,
    "start_time": "2023-01-05T18:20:48.227Z"
   },
   {
    "duration": 57,
    "start_time": "2023-01-05T18:20:48.335Z"
   },
   {
    "duration": 5,
    "start_time": "2023-01-05T18:20:48.393Z"
   },
   {
    "duration": 2051,
    "start_time": "2023-01-05T18:20:48.400Z"
   },
   {
    "duration": 80,
    "start_time": "2023-01-05T18:20:50.453Z"
   },
   {
    "duration": 12716,
    "start_time": "2023-01-05T18:20:50.535Z"
   },
   {
    "duration": 379,
    "start_time": "2023-01-05T18:21:03.253Z"
   },
   {
    "duration": 13,
    "start_time": "2023-01-05T18:21:03.634Z"
   },
   {
    "duration": 6,
    "start_time": "2023-01-05T18:21:03.649Z"
   },
   {
    "duration": 26,
    "start_time": "2023-01-05T18:21:03.657Z"
   },
   {
    "duration": 108,
    "start_time": "2023-01-05T18:21:03.684Z"
   },
   {
    "duration": 381,
    "start_time": "2023-01-05T18:21:03.793Z"
   },
   {
    "duration": 160,
    "start_time": "2023-01-05T18:21:04.176Z"
   },
   {
    "duration": 4012,
    "start_time": "2023-01-05T18:22:52.237Z"
   },
   {
    "duration": 1232,
    "start_time": "2023-01-05T18:22:56.252Z"
   },
   {
    "duration": 53,
    "start_time": "2023-01-05T18:22:57.486Z"
   },
   {
    "duration": 27,
    "start_time": "2023-01-05T18:22:57.541Z"
   },
   {
    "duration": 4,
    "start_time": "2023-01-05T18:22:57.570Z"
   },
   {
    "duration": 8,
    "start_time": "2023-01-05T18:22:57.576Z"
   },
   {
    "duration": 39,
    "start_time": "2023-01-05T18:22:57.587Z"
   },
   {
    "duration": 7,
    "start_time": "2023-01-05T18:22:57.628Z"
   },
   {
    "duration": 5,
    "start_time": "2023-01-05T18:22:57.636Z"
   },
   {
    "duration": 4,
    "start_time": "2023-01-05T18:22:57.643Z"
   },
   {
    "duration": 7,
    "start_time": "2023-01-05T18:22:57.648Z"
   },
   {
    "duration": 9,
    "start_time": "2023-01-05T18:22:57.657Z"
   },
   {
    "duration": 4,
    "start_time": "2023-01-05T18:22:57.668Z"
   },
   {
    "duration": 42,
    "start_time": "2023-01-05T18:22:57.674Z"
   },
   {
    "duration": 28,
    "start_time": "2023-01-05T18:22:57.719Z"
   },
   {
    "duration": 18,
    "start_time": "2023-01-05T18:22:57.749Z"
   },
   {
    "duration": 43,
    "start_time": "2023-01-05T18:22:57.769Z"
   },
   {
    "duration": 14,
    "start_time": "2023-01-05T18:22:57.814Z"
   },
   {
    "duration": 15,
    "start_time": "2023-01-05T18:22:57.829Z"
   },
   {
    "duration": 15,
    "start_time": "2023-01-05T18:22:57.846Z"
   },
   {
    "duration": 9,
    "start_time": "2023-01-05T18:22:57.863Z"
   },
   {
    "duration": 85507,
    "start_time": "2023-01-05T18:22:57.874Z"
   },
   {
    "duration": 647,
    "start_time": "2023-01-05T18:24:23.383Z"
   },
   {
    "duration": 1254,
    "start_time": "2023-01-05T18:24:24.032Z"
   },
   {
    "duration": 51,
    "start_time": "2023-01-05T18:24:25.288Z"
   },
   {
    "duration": 76,
    "start_time": "2023-01-05T18:24:25.340Z"
   },
   {
    "duration": 5,
    "start_time": "2023-01-05T18:24:25.417Z"
   },
   {
    "duration": 93,
    "start_time": "2023-01-05T18:24:25.426Z"
   },
   {
    "duration": 118,
    "start_time": "2023-01-05T18:24:25.522Z"
   },
   {
    "duration": 6,
    "start_time": "2023-01-05T18:24:25.642Z"
   },
   {
    "duration": 2160,
    "start_time": "2023-01-05T18:24:25.650Z"
   },
   {
    "duration": 72,
    "start_time": "2023-01-05T18:24:27.812Z"
   },
   {
    "duration": 143140,
    "start_time": "2023-01-05T18:24:27.886Z"
   },
   {
    "duration": 1279,
    "start_time": "2023-01-05T18:26:51.028Z"
   },
   {
    "duration": 11,
    "start_time": "2023-01-05T18:26:52.312Z"
   },
   {
    "duration": 6,
    "start_time": "2023-01-05T18:26:52.325Z"
   },
   {
    "duration": 24,
    "start_time": "2023-01-05T18:26:52.333Z"
   },
   {
    "duration": 121,
    "start_time": "2023-01-05T18:26:52.360Z"
   },
   {
    "duration": 1290,
    "start_time": "2023-01-05T18:26:52.483Z"
   },
   {
    "duration": 162,
    "start_time": "2023-01-05T18:26:53.775Z"
   },
   {
    "duration": 8040,
    "start_time": "2023-01-05T18:28:00.879Z"
   },
   {
    "duration": 140,
    "start_time": "2023-01-05T18:28:17.099Z"
   },
   {
    "duration": 32031,
    "start_time": "2023-01-05T18:28:32.206Z"
   },
   {
    "duration": 294,
    "start_time": "2023-01-05T18:29:47.232Z"
   },
   {
    "duration": 156193,
    "start_time": "2023-01-05T18:30:18.213Z"
   },
   {
    "duration": 260,
    "start_time": "2023-01-05T18:33:06.206Z"
   },
   {
    "duration": 118,
    "start_time": "2023-01-05T18:37:13.951Z"
   },
   {
    "duration": 32713,
    "start_time": "2023-01-05T18:37:29.291Z"
   },
   {
    "duration": 5289,
    "start_time": "2023-01-05T18:38:30.998Z"
   },
   {
    "duration": 17237,
    "start_time": "2023-01-05T18:39:03.240Z"
   },
   {
    "duration": 62236,
    "start_time": "2023-01-05T18:39:23.958Z"
   },
   {
    "duration": 37173,
    "start_time": "2023-01-05T18:41:35.440Z"
   },
   {
    "duration": 16256,
    "start_time": "2023-01-05T18:42:22.201Z"
   },
   {
    "duration": 16117,
    "start_time": "2023-01-05T18:42:53.189Z"
   },
   {
    "duration": 13213,
    "start_time": "2023-01-05T18:43:16.626Z"
   },
   {
    "duration": 0,
    "start_time": "2023-01-05T18:44:03.670Z"
   },
   {
    "duration": 13237,
    "start_time": "2023-01-05T18:44:05.257Z"
   },
   {
    "duration": 9255,
    "start_time": "2023-01-05T18:44:32.745Z"
   },
   {
    "duration": 7816,
    "start_time": "2023-01-05T18:44:42.860Z"
   },
   {
    "duration": 14107,
    "start_time": "2023-01-05T18:45:02.977Z"
   },
   {
    "duration": 6857,
    "start_time": "2023-01-05T18:46:23.992Z"
   },
   {
    "duration": 6957,
    "start_time": "2023-01-05T18:46:45.789Z"
   },
   {
    "duration": 30168,
    "start_time": "2023-01-05T18:47:04.809Z"
   },
   {
    "duration": 1358,
    "start_time": "2023-01-05T18:48:56.549Z"
   },
   {
    "duration": 55,
    "start_time": "2023-01-05T18:48:57.910Z"
   },
   {
    "duration": 1323,
    "start_time": "2023-01-05T18:49:05.433Z"
   },
   {
    "duration": 47,
    "start_time": "2023-01-05T18:49:06.839Z"
   },
   {
    "duration": 9168,
    "start_time": "2023-01-05T18:49:37.663Z"
   },
   {
    "duration": 20,
    "start_time": "2023-01-05T18:49:46.834Z"
   },
   {
    "duration": 7527,
    "start_time": "2023-01-05T18:50:16.312Z"
   },
   {
    "duration": 11898,
    "start_time": "2023-01-05T18:50:25.003Z"
   },
   {
    "duration": 395,
    "start_time": "2023-01-05T18:50:36.903Z"
   },
   {
    "duration": 381,
    "start_time": "2023-01-05T18:50:49.408Z"
   },
   {
    "duration": 4165,
    "start_time": "2023-01-05T18:51:28.122Z"
   },
   {
    "duration": 1231,
    "start_time": "2023-01-05T18:51:32.289Z"
   },
   {
    "duration": 56,
    "start_time": "2023-01-05T18:51:33.525Z"
   },
   {
    "duration": 24,
    "start_time": "2023-01-05T18:51:33.583Z"
   },
   {
    "duration": 17,
    "start_time": "2023-01-05T18:51:33.609Z"
   },
   {
    "duration": 38,
    "start_time": "2023-01-05T18:51:33.630Z"
   },
   {
    "duration": 31,
    "start_time": "2023-01-05T18:51:33.670Z"
   },
   {
    "duration": 48,
    "start_time": "2023-01-05T18:51:33.703Z"
   },
   {
    "duration": 25,
    "start_time": "2023-01-05T18:51:33.753Z"
   },
   {
    "duration": 26,
    "start_time": "2023-01-05T18:51:33.780Z"
   },
   {
    "duration": 51,
    "start_time": "2023-01-05T18:51:33.808Z"
   },
   {
    "duration": 12,
    "start_time": "2023-01-05T18:51:33.861Z"
   },
   {
    "duration": 10,
    "start_time": "2023-01-05T18:51:33.875Z"
   },
   {
    "duration": 6,
    "start_time": "2023-01-05T18:51:33.886Z"
   },
   {
    "duration": 82,
    "start_time": "2023-01-05T18:51:33.894Z"
   },
   {
    "duration": 16,
    "start_time": "2023-01-05T18:51:33.978Z"
   },
   {
    "duration": 62,
    "start_time": "2023-01-05T18:51:33.996Z"
   },
   {
    "duration": 21,
    "start_time": "2023-01-05T18:51:34.060Z"
   },
   {
    "duration": 34,
    "start_time": "2023-01-05T18:51:34.082Z"
   },
   {
    "duration": 29,
    "start_time": "2023-01-05T18:51:34.117Z"
   },
   {
    "duration": 32,
    "start_time": "2023-01-05T18:51:34.147Z"
   },
   {
    "duration": 90091,
    "start_time": "2023-01-05T18:51:34.181Z"
   },
   {
    "duration": 664,
    "start_time": "2023-01-05T18:53:04.275Z"
   },
   {
    "duration": 1294,
    "start_time": "2023-01-05T18:53:04.944Z"
   },
   {
    "duration": 39,
    "start_time": "2023-01-05T18:53:06.244Z"
   },
   {
    "duration": 249,
    "start_time": "2023-01-05T18:53:06.285Z"
   },
   {
    "duration": 78,
    "start_time": "2023-01-05T18:53:06.536Z"
   },
   {
    "duration": 43,
    "start_time": "2023-01-05T18:53:06.625Z"
   },
   {
    "duration": 50,
    "start_time": "2023-01-05T18:53:06.671Z"
   },
   {
    "duration": 32,
    "start_time": "2023-01-05T18:53:06.722Z"
   },
   {
    "duration": 1733,
    "start_time": "2023-01-05T18:53:06.755Z"
   },
   {
    "duration": 68,
    "start_time": "2023-01-05T18:53:08.489Z"
   },
   {
    "duration": 10333,
    "start_time": "2023-01-05T18:53:08.559Z"
   },
   {
    "duration": 317,
    "start_time": "2023-01-05T18:53:18.894Z"
   },
   {
    "duration": 15,
    "start_time": "2023-01-05T18:53:19.213Z"
   },
   {
    "duration": 66,
    "start_time": "2023-01-05T18:53:19.229Z"
   },
   {
    "duration": 29,
    "start_time": "2023-01-05T18:53:19.296Z"
   },
   {
    "duration": 114,
    "start_time": "2023-01-05T18:53:19.326Z"
   },
   {
    "duration": 320,
    "start_time": "2023-01-05T18:53:19.445Z"
   },
   {
    "duration": 162,
    "start_time": "2023-01-05T18:53:19.767Z"
   },
   {
    "duration": 11126,
    "start_time": "2023-01-06T15:31:27.782Z"
   },
   {
    "duration": 1370,
    "start_time": "2023-01-06T15:31:38.911Z"
   },
   {
    "duration": 173,
    "start_time": "2023-01-06T15:31:40.283Z"
   },
   {
    "duration": 23,
    "start_time": "2023-01-06T15:31:40.458Z"
   },
   {
    "duration": 3,
    "start_time": "2023-01-06T15:31:40.483Z"
   },
   {
    "duration": 9,
    "start_time": "2023-01-06T15:31:40.487Z"
   },
   {
    "duration": 18,
    "start_time": "2023-01-06T15:31:40.498Z"
   },
   {
    "duration": 9,
    "start_time": "2023-01-06T15:31:40.517Z"
   },
   {
    "duration": 5,
    "start_time": "2023-01-06T15:31:40.528Z"
   },
   {
    "duration": 4,
    "start_time": "2023-01-06T15:31:40.536Z"
   },
   {
    "duration": 8,
    "start_time": "2023-01-06T15:31:40.541Z"
   },
   {
    "duration": 36,
    "start_time": "2023-01-06T15:31:40.550Z"
   },
   {
    "duration": 4,
    "start_time": "2023-01-06T15:31:40.588Z"
   },
   {
    "duration": 11,
    "start_time": "2023-01-06T15:31:40.593Z"
   },
   {
    "duration": 34,
    "start_time": "2023-01-06T15:31:40.606Z"
   },
   {
    "duration": 18,
    "start_time": "2023-01-06T15:31:41.050Z"
   },
   {
    "duration": 15,
    "start_time": "2023-01-06T15:31:42.055Z"
   },
   {
    "duration": 13,
    "start_time": "2023-01-06T15:31:43.807Z"
   },
   {
    "duration": 13,
    "start_time": "2023-01-06T15:31:44.367Z"
   },
   {
    "duration": 13,
    "start_time": "2023-01-06T15:31:44.814Z"
   },
   {
    "duration": 6,
    "start_time": "2023-01-06T15:31:46.864Z"
   },
   {
    "duration": 82754,
    "start_time": "2023-01-06T15:31:48.654Z"
   },
   {
    "duration": 597,
    "start_time": "2023-01-06T15:33:11.410Z"
   },
   {
    "duration": 1254,
    "start_time": "2023-01-06T15:33:12.009Z"
   },
   {
    "duration": 47,
    "start_time": "2023-01-06T15:33:13.265Z"
   },
   {
    "duration": 168,
    "start_time": "2023-01-06T15:33:13.314Z"
   },
   {
    "duration": 94,
    "start_time": "2023-01-06T15:33:13.484Z"
   },
   {
    "duration": 7,
    "start_time": "2023-01-06T15:33:13.580Z"
   },
   {
    "duration": 17,
    "start_time": "2023-01-06T15:33:13.589Z"
   },
   {
    "duration": 5,
    "start_time": "2023-01-06T15:33:13.608Z"
   },
   {
    "duration": 1846,
    "start_time": "2023-01-06T15:33:13.615Z"
   },
   {
    "duration": 67,
    "start_time": "2023-01-06T15:33:15.463Z"
   },
   {
    "duration": 9541,
    "start_time": "2023-01-06T15:33:15.532Z"
   },
   {
    "duration": 309,
    "start_time": "2023-01-06T15:33:25.075Z"
   },
   {
    "duration": 10,
    "start_time": "2023-01-06T15:33:25.385Z"
   },
   {
    "duration": 5,
    "start_time": "2023-01-06T15:33:25.397Z"
   },
   {
    "duration": 22,
    "start_time": "2023-01-06T15:33:25.404Z"
   },
   {
    "duration": 109,
    "start_time": "2023-01-06T15:33:25.428Z"
   },
   {
    "duration": 295,
    "start_time": "2023-01-06T15:33:25.539Z"
   },
   {
    "duration": 127,
    "start_time": "2023-01-06T15:33:25.836Z"
   },
   {
    "duration": 7,
    "start_time": "2023-01-06T15:38:46.504Z"
   },
   {
    "duration": 4026,
    "start_time": "2023-01-06T16:01:37.921Z"
   },
   {
    "duration": 1200,
    "start_time": "2023-01-06T16:01:41.949Z"
   },
   {
    "duration": 50,
    "start_time": "2023-01-06T16:01:43.151Z"
   },
   {
    "duration": 22,
    "start_time": "2023-01-06T16:01:43.203Z"
   },
   {
    "duration": 4,
    "start_time": "2023-01-06T16:01:43.226Z"
   },
   {
    "duration": 7,
    "start_time": "2023-01-06T16:01:43.232Z"
   },
   {
    "duration": 38,
    "start_time": "2023-01-06T16:01:43.241Z"
   },
   {
    "duration": 8,
    "start_time": "2023-01-06T16:01:43.281Z"
   },
   {
    "duration": 7,
    "start_time": "2023-01-06T16:01:43.291Z"
   },
   {
    "duration": 10,
    "start_time": "2023-01-06T16:01:43.301Z"
   },
   {
    "duration": 17,
    "start_time": "2023-01-06T16:01:43.313Z"
   },
   {
    "duration": 14,
    "start_time": "2023-01-06T16:01:43.332Z"
   },
   {
    "duration": 5,
    "start_time": "2023-01-06T16:01:43.347Z"
   },
   {
    "duration": 11,
    "start_time": "2023-01-06T16:01:43.354Z"
   },
   {
    "duration": 32,
    "start_time": "2023-01-06T16:01:43.367Z"
   },
   {
    "duration": 18,
    "start_time": "2023-01-06T16:01:43.401Z"
   },
   {
    "duration": 18,
    "start_time": "2023-01-06T16:01:43.420Z"
   },
   {
    "duration": 14,
    "start_time": "2023-01-06T16:01:43.439Z"
   },
   {
    "duration": 36,
    "start_time": "2023-01-06T16:01:43.454Z"
   },
   {
    "duration": 13,
    "start_time": "2023-01-06T16:01:43.492Z"
   },
   {
    "duration": 12,
    "start_time": "2023-01-06T16:01:43.506Z"
   },
   {
    "duration": 85192,
    "start_time": "2023-01-06T16:01:43.520Z"
   },
   {
    "duration": 653,
    "start_time": "2023-01-06T16:03:08.713Z"
   },
   {
    "duration": 0,
    "start_time": "2023-01-06T16:03:09.368Z"
   },
   {
    "duration": 0,
    "start_time": "2023-01-06T16:03:09.369Z"
   },
   {
    "duration": 0,
    "start_time": "2023-01-06T16:03:09.370Z"
   },
   {
    "duration": 0,
    "start_time": "2023-01-06T16:03:09.378Z"
   },
   {
    "duration": 0,
    "start_time": "2023-01-06T16:03:09.380Z"
   },
   {
    "duration": 0,
    "start_time": "2023-01-06T16:03:09.381Z"
   },
   {
    "duration": 0,
    "start_time": "2023-01-06T16:03:09.382Z"
   },
   {
    "duration": 0,
    "start_time": "2023-01-06T16:03:09.383Z"
   },
   {
    "duration": 0,
    "start_time": "2023-01-06T16:03:09.384Z"
   },
   {
    "duration": 0,
    "start_time": "2023-01-06T16:03:09.385Z"
   },
   {
    "duration": 0,
    "start_time": "2023-01-06T16:03:09.387Z"
   },
   {
    "duration": 1,
    "start_time": "2023-01-06T16:03:09.388Z"
   },
   {
    "duration": 0,
    "start_time": "2023-01-06T16:03:09.390Z"
   },
   {
    "duration": 0,
    "start_time": "2023-01-06T16:03:09.391Z"
   },
   {
    "duration": 0,
    "start_time": "2023-01-06T16:03:09.393Z"
   },
   {
    "duration": 0,
    "start_time": "2023-01-06T16:03:09.395Z"
   },
   {
    "duration": 0,
    "start_time": "2023-01-06T16:03:09.396Z"
   },
   {
    "duration": 583,
    "start_time": "2023-01-06T16:04:32.524Z"
   },
   {
    "duration": 1143,
    "start_time": "2023-01-06T16:04:34.457Z"
   },
   {
    "duration": 33,
    "start_time": "2023-01-06T16:04:35.602Z"
   },
   {
    "duration": 0,
    "start_time": "2023-01-06T16:04:35.636Z"
   },
   {
    "duration": 7,
    "start_time": "2023-01-06T16:04:35.731Z"
   },
   {
    "duration": 4,
    "start_time": "2023-01-06T16:04:35.877Z"
   },
   {
    "duration": 13,
    "start_time": "2023-01-06T16:04:36.365Z"
   },
   {
    "duration": 5,
    "start_time": "2023-01-06T16:04:36.514Z"
   },
   {
    "duration": 1571,
    "start_time": "2023-01-06T16:04:37.002Z"
   },
   {
    "duration": 44,
    "start_time": "2023-01-06T16:04:38.578Z"
   },
   {
    "duration": 25737,
    "start_time": "2023-01-06T16:04:38.624Z"
   },
   {
    "duration": 300,
    "start_time": "2023-01-06T16:05:04.364Z"
   },
   {
    "duration": 17,
    "start_time": "2023-01-06T16:05:04.666Z"
   },
   {
    "duration": 24,
    "start_time": "2023-01-06T16:05:04.685Z"
   },
   {
    "duration": 753,
    "start_time": "2023-01-06T16:05:04.710Z"
   },
   {
    "duration": 29,
    "start_time": "2023-01-06T16:05:05.465Z"
   },
   {
    "duration": 0,
    "start_time": "2023-01-06T16:05:05.496Z"
   },
   {
    "duration": 0,
    "start_time": "2023-01-06T16:05:05.498Z"
   },
   {
    "duration": 23,
    "start_time": "2023-01-06T16:05:58.007Z"
   },
   {
    "duration": 10635,
    "start_time": "2023-01-06T16:06:20.529Z"
   },
   {
    "duration": 290,
    "start_time": "2023-01-06T16:06:31.166Z"
   },
   {
    "duration": 140,
    "start_time": "2023-01-06T16:06:31.457Z"
   },
   {
    "duration": 34911,
    "start_time": "2023-01-06T16:07:12.594Z"
   },
   {
    "duration": 337,
    "start_time": "2023-01-06T16:07:47.507Z"
   },
   {
    "duration": 408,
    "start_time": "2023-01-06T16:07:52.409Z"
   },
   {
    "duration": 162,
    "start_time": "2023-01-06T16:07:52.819Z"
   },
   {
    "duration": 23392,
    "start_time": "2023-01-06T16:08:12.383Z"
   },
   {
    "duration": 309,
    "start_time": "2023-01-06T16:08:35.779Z"
   },
   {
    "duration": 14397,
    "start_time": "2023-01-06T16:08:41.741Z"
   },
   {
    "duration": 261,
    "start_time": "2023-01-06T16:08:56.140Z"
   },
   {
    "duration": 264,
    "start_time": "2023-01-06T16:08:56.402Z"
   },
   {
    "duration": 132,
    "start_time": "2023-01-06T16:08:56.668Z"
   },
   {
    "duration": 11405,
    "start_time": "2023-01-06T16:09:32.867Z"
   },
   {
    "duration": 263,
    "start_time": "2023-01-06T16:09:44.278Z"
   },
   {
    "duration": 16288,
    "start_time": "2023-01-06T16:10:13.128Z"
   },
   {
    "duration": 139,
    "start_time": "2023-01-06T16:10:29.419Z"
   },
   {
    "duration": 120,
    "start_time": "2023-01-06T16:10:49.732Z"
   },
   {
    "duration": 237173,
    "start_time": "2023-01-06T16:11:48.269Z"
   },
   {
    "duration": 339,
    "start_time": "2023-01-06T16:15:45.444Z"
   },
   {
    "duration": 304,
    "start_time": "2023-01-06T16:17:26.742Z"
   },
   {
    "duration": 135,
    "start_time": "2023-01-06T16:17:27.048Z"
   },
   {
    "duration": 81047,
    "start_time": "2023-01-06T16:19:00.411Z"
   },
   {
    "duration": 11,
    "start_time": "2023-01-06T16:20:21.460Z"
   },
   {
    "duration": 145282,
    "start_time": "2023-01-06T16:20:28.970Z"
   },
   {
    "duration": 578,
    "start_time": "2023-01-06T16:22:54.254Z"
   },
   {
    "duration": 20475,
    "start_time": "2023-01-06T16:23:39.479Z"
   },
   {
    "duration": 261,
    "start_time": "2023-01-06T16:23:59.956Z"
   },
   {
    "duration": 224,
    "start_time": "2023-01-06T16:24:07.639Z"
   },
   {
    "duration": 19971,
    "start_time": "2023-01-06T16:24:27.840Z"
   },
   {
    "duration": 304,
    "start_time": "2023-01-06T16:24:47.813Z"
   },
   {
    "duration": 309,
    "start_time": "2023-01-06T16:24:48.119Z"
   },
   {
    "duration": 121,
    "start_time": "2023-01-06T16:24:48.430Z"
   },
   {
    "duration": 21282,
    "start_time": "2023-01-06T16:24:57.720Z"
   },
   {
    "duration": 322,
    "start_time": "2023-01-06T16:25:19.004Z"
   },
   {
    "duration": 307,
    "start_time": "2023-01-06T16:25:19.327Z"
   },
   {
    "duration": 130,
    "start_time": "2023-01-06T16:25:19.636Z"
   },
   {
    "duration": 20328,
    "start_time": "2023-01-06T16:25:35.021Z"
   },
   {
    "duration": 311,
    "start_time": "2023-01-06T16:25:55.351Z"
   },
   {
    "duration": 20723,
    "start_time": "2023-01-06T16:28:43.795Z"
   },
   {
    "duration": 274,
    "start_time": "2023-01-06T16:29:04.521Z"
   },
   {
    "duration": 123,
    "start_time": "2023-01-06T16:29:11.224Z"
   },
   {
    "duration": 327,
    "start_time": "2023-01-06T16:29:12.883Z"
   },
   {
    "duration": 19937,
    "start_time": "2023-01-06T16:29:22.591Z"
   },
   {
    "duration": 241,
    "start_time": "2023-01-06T16:29:42.530Z"
   },
   {
    "duration": 217,
    "start_time": "2023-01-06T16:29:49.298Z"
   },
   {
    "duration": 20969,
    "start_time": "2023-01-06T16:30:04.590Z"
   },
   {
    "duration": 330,
    "start_time": "2023-01-06T16:30:25.562Z"
   },
   {
    "duration": 9,
    "start_time": "2023-01-06T16:30:31.825Z"
   },
   {
    "duration": 11,
    "start_time": "2023-01-06T16:30:31.836Z"
   },
   {
    "duration": 708,
    "start_time": "2023-01-06T16:30:31.848Z"
   },
   {
    "duration": 10343,
    "start_time": "2023-01-06T16:30:32.558Z"
   },
   {
    "duration": 287,
    "start_time": "2023-01-06T16:30:42.903Z"
   },
   {
    "duration": 142,
    "start_time": "2023-01-06T16:30:43.192Z"
   },
   {
    "duration": 288,
    "start_time": "2023-01-06T16:30:44.815Z"
   },
   {
    "duration": 121,
    "start_time": "2023-01-06T16:30:46.279Z"
   },
   {
    "duration": 20558,
    "start_time": "2023-01-06T16:30:55.232Z"
   },
   {
    "duration": 323,
    "start_time": "2023-01-06T16:31:15.792Z"
   },
   {
    "duration": 283,
    "start_time": "2023-01-06T16:31:23.247Z"
   },
   {
    "duration": 272,
    "start_time": "2023-01-06T16:31:26.454Z"
   },
   {
    "duration": 276,
    "start_time": "2023-01-06T16:31:29.141Z"
   },
   {
    "duration": 285,
    "start_time": "2023-01-06T16:31:30.879Z"
   },
   {
    "duration": 132,
    "start_time": "2023-01-06T16:31:32.116Z"
   },
   {
    "duration": 20668,
    "start_time": "2023-01-06T16:31:40.597Z"
   },
   {
    "duration": 11,
    "start_time": "2023-01-06T16:32:01.267Z"
   },
   {
    "duration": 21089,
    "start_time": "2023-01-06T16:32:02.244Z"
   },
   {
    "duration": 281,
    "start_time": "2023-01-06T16:32:23.335Z"
   },
   {
    "duration": 278,
    "start_time": "2023-01-06T16:33:00.715Z"
   },
   {
    "duration": 271,
    "start_time": "2023-01-06T16:33:05.350Z"
   },
   {
    "duration": 20936,
    "start_time": "2023-01-06T16:33:36.537Z"
   },
   {
    "duration": 318,
    "start_time": "2023-01-06T16:33:57.477Z"
   },
   {
    "duration": 16928,
    "start_time": "2023-01-06T16:34:37.459Z"
   },
   {
    "duration": 253,
    "start_time": "2023-01-06T16:34:54.389Z"
   },
   {
    "duration": 974,
    "start_time": "2023-01-06T16:36:55.045Z"
   },
   {
    "duration": 205,
    "start_time": "2023-01-06T16:37:15.822Z"
   },
   {
    "duration": 1015,
    "start_time": "2023-01-06T16:37:23.840Z"
   },
   {
    "duration": 14969,
    "start_time": "2023-01-06T16:38:07.892Z"
   },
   {
    "duration": 186,
    "start_time": "2023-01-06T16:38:26.582Z"
   },
   {
    "duration": 187,
    "start_time": "2023-01-06T16:38:35.856Z"
   },
   {
    "duration": 6121,
    "start_time": "2023-01-06T16:39:18.427Z"
   },
   {
    "duration": 205,
    "start_time": "2023-01-06T16:39:24.550Z"
   },
   {
    "duration": 998,
    "start_time": "2023-01-06T16:39:37.768Z"
   },
   {
    "duration": 20482,
    "start_time": "2023-01-06T16:40:07.000Z"
   },
   {
    "duration": 225,
    "start_time": "2023-01-06T16:40:53.006Z"
   },
   {
    "duration": 206,
    "start_time": "2023-01-06T16:40:55.119Z"
   },
   {
    "duration": 14662,
    "start_time": "2023-01-06T16:41:08.985Z"
   },
   {
    "duration": 303,
    "start_time": "2023-01-06T16:41:32.175Z"
   },
   {
    "duration": 43,
    "start_time": "2023-01-06T16:42:55.888Z"
   },
   {
    "duration": 6,
    "start_time": "2023-01-06T16:42:57.433Z"
   },
   {
    "duration": 44,
    "start_time": "2023-01-06T16:43:06.691Z"
   },
   {
    "duration": 16366,
    "start_time": "2023-01-06T16:43:15.749Z"
   },
   {
    "duration": 358,
    "start_time": "2023-01-06T16:43:32.117Z"
   },
   {
    "duration": 18220,
    "start_time": "2023-01-06T16:43:46.291Z"
   },
   {
    "duration": 248,
    "start_time": "2023-01-06T16:44:09.475Z"
   },
   {
    "duration": 91465,
    "start_time": "2023-01-06T16:44:26.193Z"
   },
   {
    "duration": 418,
    "start_time": "2023-01-06T16:45:57.660Z"
   },
   {
    "duration": 542,
    "start_time": "2023-01-06T16:53:24.195Z"
   },
   {
    "duration": 1994,
    "start_time": "2023-01-06T16:54:31.250Z"
   },
   {
    "duration": 53,
    "start_time": "2023-01-06T16:54:34.717Z"
   },
   {
    "duration": 497,
    "start_time": "2023-01-06T16:54:58.091Z"
   },
   {
    "duration": 55,
    "start_time": "2023-01-06T16:55:07.266Z"
   },
   {
    "duration": 40,
    "start_time": "2023-01-06T16:55:40.287Z"
   },
   {
    "duration": 6,
    "start_time": "2023-01-06T16:55:40.663Z"
   },
   {
    "duration": 525,
    "start_time": "2023-01-06T16:55:42.472Z"
   },
   {
    "duration": 40,
    "start_time": "2023-01-06T16:56:01.669Z"
   },
   {
    "duration": 52,
    "start_time": "2023-01-06T16:58:25.312Z"
   },
   {
    "duration": 13102,
    "start_time": "2023-01-06T17:02:35.815Z"
   },
   {
    "duration": 12857,
    "start_time": "2023-01-06T17:06:21.275Z"
   },
   {
    "duration": 13227,
    "start_time": "2023-01-06T17:06:56.013Z"
   },
   {
    "duration": 493,
    "start_time": "2023-01-06T17:07:39.329Z"
   },
   {
    "duration": 498,
    "start_time": "2023-01-06T17:07:45.010Z"
   },
   {
    "duration": 496,
    "start_time": "2023-01-06T17:08:45.121Z"
   },
   {
    "duration": 536,
    "start_time": "2023-01-06T17:09:12.867Z"
   },
   {
    "duration": 505,
    "start_time": "2023-01-06T17:09:56.164Z"
   },
   {
    "duration": 52,
    "start_time": "2023-01-06T17:10:03.273Z"
   },
   {
    "duration": 66,
    "start_time": "2023-01-06T17:10:14.037Z"
   },
   {
    "duration": 12755,
    "start_time": "2023-01-06T17:10:20.921Z"
   },
   {
    "duration": 228,
    "start_time": "2023-01-06T17:11:22.337Z"
   },
   {
    "duration": 408,
    "start_time": "2023-01-06T17:11:30.576Z"
   },
   {
    "duration": 119,
    "start_time": "2023-01-06T17:11:31.923Z"
   },
   {
    "duration": 43,
    "start_time": "2023-01-06T17:12:21.341Z"
   },
   {
    "duration": 39,
    "start_time": "2023-01-06T17:12:45.739Z"
   },
   {
    "duration": 5410,
    "start_time": "2023-01-06T17:15:02.407Z"
   },
   {
    "duration": 35,
    "start_time": "2023-01-06T17:15:15.385Z"
   },
   {
    "duration": 16669,
    "start_time": "2023-01-06T17:15:36.400Z"
   },
   {
    "duration": 32,
    "start_time": "2023-01-06T17:15:59.284Z"
   },
   {
    "duration": 122,
    "start_time": "2023-01-06T17:16:00.375Z"
   },
   {
    "duration": 17554,
    "start_time": "2023-01-06T17:17:13.551Z"
   },
   {
    "duration": 175,
    "start_time": "2023-01-06T17:17:32.705Z"
   },
   {
    "duration": 204,
    "start_time": "2023-01-06T17:17:53.758Z"
   },
   {
    "duration": 29,
    "start_time": "2023-01-06T17:17:58.069Z"
   },
   {
    "duration": 4139,
    "start_time": "2023-01-06T17:18:34.094Z"
   },
   {
    "duration": 4720,
    "start_time": "2023-01-06T17:18:44.141Z"
   },
   {
    "duration": 3705,
    "start_time": "2023-01-06T17:19:54.100Z"
   },
   {
    "duration": 1139,
    "start_time": "2023-01-06T17:19:57.807Z"
   },
   {
    "duration": 49,
    "start_time": "2023-01-06T17:19:58.951Z"
   },
   {
    "duration": 22,
    "start_time": "2023-01-06T17:19:59.002Z"
   },
   {
    "duration": 4,
    "start_time": "2023-01-06T17:19:59.025Z"
   },
   {
    "duration": 9,
    "start_time": "2023-01-06T17:19:59.031Z"
   },
   {
    "duration": 22,
    "start_time": "2023-01-06T17:19:59.042Z"
   },
   {
    "duration": 7,
    "start_time": "2023-01-06T17:19:59.078Z"
   },
   {
    "duration": 5,
    "start_time": "2023-01-06T17:19:59.088Z"
   },
   {
    "duration": 7,
    "start_time": "2023-01-06T17:19:59.094Z"
   },
   {
    "duration": 7,
    "start_time": "2023-01-06T17:19:59.103Z"
   },
   {
    "duration": 12,
    "start_time": "2023-01-06T17:19:59.112Z"
   },
   {
    "duration": 4,
    "start_time": "2023-01-06T17:19:59.125Z"
   },
   {
    "duration": 9,
    "start_time": "2023-01-06T17:19:59.130Z"
   },
   {
    "duration": 57,
    "start_time": "2023-01-06T17:19:59.140Z"
   },
   {
    "duration": 18,
    "start_time": "2023-01-06T17:19:59.199Z"
   },
   {
    "duration": 19,
    "start_time": "2023-01-06T17:19:59.218Z"
   },
   {
    "duration": 12,
    "start_time": "2023-01-06T17:19:59.239Z"
   },
   {
    "duration": 36,
    "start_time": "2023-01-06T17:19:59.253Z"
   },
   {
    "duration": 14,
    "start_time": "2023-01-06T17:19:59.290Z"
   },
   {
    "duration": 17,
    "start_time": "2023-01-06T17:19:59.306Z"
   },
   {
    "duration": 12562,
    "start_time": "2023-01-06T17:19:59.325Z"
   },
   {
    "duration": 234,
    "start_time": "2023-01-06T17:20:11.888Z"
   },
   {
    "duration": 1340,
    "start_time": "2023-01-06T17:20:12.124Z"
   },
   {
    "duration": 48,
    "start_time": "2023-01-06T17:20:13.466Z"
   },
   {
    "duration": 164,
    "start_time": "2023-01-06T17:20:13.515Z"
   },
   {
    "duration": 4,
    "start_time": "2023-01-06T17:20:13.684Z"
   },
   {
    "duration": 6,
    "start_time": "2023-01-06T17:20:13.779Z"
   },
   {
    "duration": 61,
    "start_time": "2023-01-06T17:20:13.787Z"
   },
   {
    "duration": 5,
    "start_time": "2023-01-06T17:20:13.850Z"
   },
   {
    "duration": 659,
    "start_time": "2023-01-06T17:20:13.857Z"
   },
   {
    "duration": 73,
    "start_time": "2023-01-06T17:20:14.518Z"
   },
   {
    "duration": 4964,
    "start_time": "2023-01-06T17:20:14.593Z"
   },
   {
    "duration": 326,
    "start_time": "2023-01-06T17:20:19.558Z"
   },
   {
    "duration": 8,
    "start_time": "2023-01-06T17:20:19.886Z"
   },
   {
    "duration": 5,
    "start_time": "2023-01-06T17:20:19.896Z"
   },
   {
    "duration": 8,
    "start_time": "2023-01-06T17:20:19.902Z"
   },
   {
    "duration": 6,
    "start_time": "2023-01-06T17:20:19.911Z"
   },
   {
    "duration": 137,
    "start_time": "2023-01-06T17:20:19.918Z"
   },
   {
    "duration": 0,
    "start_time": "2023-01-06T17:20:20.056Z"
   },
   {
    "duration": 32,
    "start_time": "2023-01-06T17:20:49.980Z"
   },
   {
    "duration": 3760,
    "start_time": "2023-01-06T17:21:23.383Z"
   },
   {
    "duration": 1090,
    "start_time": "2023-01-06T17:21:27.145Z"
   },
   {
    "duration": 48,
    "start_time": "2023-01-06T17:21:28.237Z"
   },
   {
    "duration": 22,
    "start_time": "2023-01-06T17:21:28.287Z"
   },
   {
    "duration": 4,
    "start_time": "2023-01-06T17:21:28.310Z"
   },
   {
    "duration": 11,
    "start_time": "2023-01-06T17:21:28.315Z"
   },
   {
    "duration": 16,
    "start_time": "2023-01-06T17:21:28.327Z"
   },
   {
    "duration": 5,
    "start_time": "2023-01-06T17:21:28.345Z"
   },
   {
    "duration": 28,
    "start_time": "2023-01-06T17:21:28.351Z"
   },
   {
    "duration": 3,
    "start_time": "2023-01-06T17:21:28.382Z"
   },
   {
    "duration": 11,
    "start_time": "2023-01-06T17:21:28.386Z"
   },
   {
    "duration": 15,
    "start_time": "2023-01-06T17:21:28.398Z"
   },
   {
    "duration": 4,
    "start_time": "2023-01-06T17:21:28.414Z"
   },
   {
    "duration": 10,
    "start_time": "2023-01-06T17:21:28.419Z"
   },
   {
    "duration": 30,
    "start_time": "2023-01-06T17:21:28.431Z"
   },
   {
    "duration": 31,
    "start_time": "2023-01-06T17:21:28.462Z"
   },
   {
    "duration": 21,
    "start_time": "2023-01-06T17:21:28.494Z"
   },
   {
    "duration": 13,
    "start_time": "2023-01-06T17:21:28.516Z"
   },
   {
    "duration": 14,
    "start_time": "2023-01-06T17:21:28.531Z"
   },
   {
    "duration": 32,
    "start_time": "2023-01-06T17:21:28.547Z"
   },
   {
    "duration": 9,
    "start_time": "2023-01-06T17:21:28.580Z"
   },
   {
    "duration": 12330,
    "start_time": "2023-01-06T17:21:28.591Z"
   },
   {
    "duration": 275,
    "start_time": "2023-01-06T17:21:40.923Z"
   },
   {
    "duration": 1309,
    "start_time": "2023-01-06T17:21:41.200Z"
   },
   {
    "duration": 39,
    "start_time": "2023-01-06T17:21:42.510Z"
   },
   {
    "duration": 130,
    "start_time": "2023-01-06T17:21:42.551Z"
   },
   {
    "duration": 5,
    "start_time": "2023-01-06T17:21:42.682Z"
   },
   {
    "duration": 96,
    "start_time": "2023-01-06T17:21:42.693Z"
   },
   {
    "duration": 52,
    "start_time": "2023-01-06T17:21:42.879Z"
   },
   {
    "duration": 6,
    "start_time": "2023-01-06T17:21:42.933Z"
   },
   {
    "duration": 513,
    "start_time": "2023-01-06T17:21:42.940Z"
   },
   {
    "duration": 59,
    "start_time": "2023-01-06T17:21:43.454Z"
   },
   {
    "duration": 4840,
    "start_time": "2023-01-06T17:21:43.514Z"
   },
   {
    "duration": 292,
    "start_time": "2023-01-06T17:21:48.356Z"
   },
   {
    "duration": 10,
    "start_time": "2023-01-06T17:21:48.650Z"
   },
   {
    "duration": 16,
    "start_time": "2023-01-06T17:21:48.662Z"
   },
   {
    "duration": 4,
    "start_time": "2023-01-06T17:21:48.680Z"
   },
   {
    "duration": 20,
    "start_time": "2023-01-06T17:21:48.686Z"
   },
   {
    "duration": 29,
    "start_time": "2023-01-06T17:21:48.708Z"
   },
   {
    "duration": 101,
    "start_time": "2023-01-06T17:21:48.739Z"
   },
   {
    "duration": 126,
    "start_time": "2023-01-06T17:22:33.174Z"
   },
   {
    "duration": 4,
    "start_time": "2023-01-06T17:22:57.660Z"
   },
   {
    "duration": 3790,
    "start_time": "2023-01-06T17:23:04.001Z"
   },
   {
    "duration": 1140,
    "start_time": "2023-01-06T17:23:07.793Z"
   },
   {
    "duration": 53,
    "start_time": "2023-01-06T17:23:08.934Z"
   },
   {
    "duration": 22,
    "start_time": "2023-01-06T17:23:08.988Z"
   },
   {
    "duration": 4,
    "start_time": "2023-01-06T17:23:09.013Z"
   },
   {
    "duration": 40,
    "start_time": "2023-01-06T17:23:09.018Z"
   },
   {
    "duration": 64,
    "start_time": "2023-01-06T17:23:09.060Z"
   },
   {
    "duration": 41,
    "start_time": "2023-01-06T17:23:09.126Z"
   },
   {
    "duration": 34,
    "start_time": "2023-01-06T17:23:09.168Z"
   },
   {
    "duration": 23,
    "start_time": "2023-01-06T17:23:09.203Z"
   },
   {
    "duration": 32,
    "start_time": "2023-01-06T17:23:09.227Z"
   },
   {
    "duration": 22,
    "start_time": "2023-01-06T17:23:09.261Z"
   },
   {
    "duration": 30,
    "start_time": "2023-01-06T17:23:09.285Z"
   },
   {
    "duration": 32,
    "start_time": "2023-01-06T17:23:09.319Z"
   },
   {
    "duration": 59,
    "start_time": "2023-01-06T17:23:09.352Z"
   },
   {
    "duration": 19,
    "start_time": "2023-01-06T17:23:09.413Z"
   },
   {
    "duration": 39,
    "start_time": "2023-01-06T17:23:09.434Z"
   },
   {
    "duration": 44,
    "start_time": "2023-01-06T17:23:09.475Z"
   },
   {
    "duration": 37,
    "start_time": "2023-01-06T17:23:09.521Z"
   },
   {
    "duration": 33,
    "start_time": "2023-01-06T17:23:09.560Z"
   },
   {
    "duration": 14,
    "start_time": "2023-01-06T17:23:09.595Z"
   },
   {
    "duration": 12751,
    "start_time": "2023-01-06T17:23:09.611Z"
   },
   {
    "duration": 209,
    "start_time": "2023-01-06T17:23:22.363Z"
   },
   {
    "duration": 1181,
    "start_time": "2023-01-06T17:23:22.578Z"
   },
   {
    "duration": 51,
    "start_time": "2023-01-06T17:23:23.760Z"
   },
   {
    "duration": 83,
    "start_time": "2023-01-06T17:23:23.812Z"
   },
   {
    "duration": 5,
    "start_time": "2023-01-06T17:23:23.978Z"
   },
   {
    "duration": 95,
    "start_time": "2023-01-06T17:23:23.985Z"
   },
   {
    "duration": 47,
    "start_time": "2023-01-06T17:23:24.081Z"
   },
   {
    "duration": 6,
    "start_time": "2023-01-06T17:23:24.130Z"
   },
   {
    "duration": 508,
    "start_time": "2023-01-06T17:23:24.137Z"
   },
   {
    "duration": 61,
    "start_time": "2023-01-06T17:23:24.646Z"
   },
   {
    "duration": 4682,
    "start_time": "2023-01-06T17:23:24.709Z"
   },
   {
    "duration": 265,
    "start_time": "2023-01-06T17:23:29.392Z"
   },
   {
    "duration": 19,
    "start_time": "2023-01-06T17:23:29.659Z"
   },
   {
    "duration": 4,
    "start_time": "2023-01-06T17:23:29.680Z"
   },
   {
    "duration": 7,
    "start_time": "2023-01-06T17:23:29.685Z"
   },
   {
    "duration": 10,
    "start_time": "2023-01-06T17:23:29.693Z"
   },
   {
    "duration": 28,
    "start_time": "2023-01-06T17:23:29.704Z"
   },
   {
    "duration": 132,
    "start_time": "2023-01-06T17:23:29.734Z"
   },
   {
    "duration": 3791,
    "start_time": "2023-01-06T17:24:01.776Z"
   },
   {
    "duration": 1179,
    "start_time": "2023-01-06T17:24:05.569Z"
   },
   {
    "duration": 52,
    "start_time": "2023-01-06T17:24:06.750Z"
   },
   {
    "duration": 23,
    "start_time": "2023-01-06T17:24:06.803Z"
   },
   {
    "duration": 4,
    "start_time": "2023-01-06T17:24:06.828Z"
   },
   {
    "duration": 8,
    "start_time": "2023-01-06T17:24:06.834Z"
   },
   {
    "duration": 35,
    "start_time": "2023-01-06T17:24:06.844Z"
   },
   {
    "duration": 6,
    "start_time": "2023-01-06T17:24:06.880Z"
   },
   {
    "duration": 6,
    "start_time": "2023-01-06T17:24:06.887Z"
   },
   {
    "duration": 9,
    "start_time": "2023-01-06T17:24:06.894Z"
   },
   {
    "duration": 9,
    "start_time": "2023-01-06T17:24:06.904Z"
   },
   {
    "duration": 12,
    "start_time": "2023-01-06T17:24:06.914Z"
   },
   {
    "duration": 3,
    "start_time": "2023-01-06T17:24:06.928Z"
   },
   {
    "duration": 14,
    "start_time": "2023-01-06T17:24:06.934Z"
   },
   {
    "duration": 50,
    "start_time": "2023-01-06T17:24:06.950Z"
   },
   {
    "duration": 18,
    "start_time": "2023-01-06T17:24:07.001Z"
   },
   {
    "duration": 19,
    "start_time": "2023-01-06T17:24:07.021Z"
   },
   {
    "duration": 13,
    "start_time": "2023-01-06T17:24:07.041Z"
   },
   {
    "duration": 38,
    "start_time": "2023-01-06T17:24:07.055Z"
   },
   {
    "duration": 12,
    "start_time": "2023-01-06T17:24:07.095Z"
   },
   {
    "duration": 12,
    "start_time": "2023-01-06T17:24:07.109Z"
   },
   {
    "duration": 12563,
    "start_time": "2023-01-06T17:24:07.123Z"
   },
   {
    "duration": 224,
    "start_time": "2023-01-06T17:24:19.688Z"
   },
   {
    "duration": 1227,
    "start_time": "2023-01-06T17:24:19.914Z"
   },
   {
    "duration": 49,
    "start_time": "2023-01-06T17:24:21.143Z"
   },
   {
    "duration": 93,
    "start_time": "2023-01-06T17:24:21.193Z"
   },
   {
    "duration": 92,
    "start_time": "2023-01-06T17:24:21.287Z"
   },
   {
    "duration": 5,
    "start_time": "2023-01-06T17:24:21.380Z"
   },
   {
    "duration": 134,
    "start_time": "2023-01-06T17:24:21.387Z"
   },
   {
    "duration": 6,
    "start_time": "2023-01-06T17:24:21.523Z"
   },
   {
    "duration": 527,
    "start_time": "2023-01-06T17:24:21.530Z"
   },
   {
    "duration": 58,
    "start_time": "2023-01-06T17:24:22.059Z"
   },
   {
    "duration": 4571,
    "start_time": "2023-01-06T17:24:22.119Z"
   },
   {
    "duration": 322,
    "start_time": "2023-01-06T17:24:26.692Z"
   },
   {
    "duration": 9,
    "start_time": "2023-01-06T17:24:27.015Z"
   },
   {
    "duration": 14,
    "start_time": "2023-01-06T17:24:27.026Z"
   },
   {
    "duration": 21,
    "start_time": "2023-01-06T17:24:27.041Z"
   },
   {
    "duration": 22,
    "start_time": "2023-01-06T17:24:27.064Z"
   },
   {
    "duration": 65,
    "start_time": "2023-01-06T17:24:27.088Z"
   },
   {
    "duration": 131,
    "start_time": "2023-01-06T17:24:27.154Z"
   },
   {
    "duration": 3840,
    "start_time": "2023-01-06T17:24:49.721Z"
   },
   {
    "duration": 1165,
    "start_time": "2023-01-06T17:24:53.563Z"
   },
   {
    "duration": 50,
    "start_time": "2023-01-06T17:24:54.729Z"
   },
   {
    "duration": 23,
    "start_time": "2023-01-06T17:24:54.781Z"
   },
   {
    "duration": 4,
    "start_time": "2023-01-06T17:24:54.806Z"
   },
   {
    "duration": 8,
    "start_time": "2023-01-06T17:24:54.812Z"
   },
   {
    "duration": 19,
    "start_time": "2023-01-06T17:24:54.822Z"
   },
   {
    "duration": 7,
    "start_time": "2023-01-06T17:24:54.843Z"
   },
   {
    "duration": 28,
    "start_time": "2023-01-06T17:24:54.852Z"
   },
   {
    "duration": 5,
    "start_time": "2023-01-06T17:24:54.882Z"
   },
   {
    "duration": 17,
    "start_time": "2023-01-06T17:24:54.888Z"
   },
   {
    "duration": 14,
    "start_time": "2023-01-06T17:24:54.907Z"
   },
   {
    "duration": 5,
    "start_time": "2023-01-06T17:24:54.923Z"
   },
   {
    "duration": 7,
    "start_time": "2023-01-06T17:24:54.931Z"
   },
   {
    "duration": 48,
    "start_time": "2023-01-06T17:24:54.940Z"
   },
   {
    "duration": 17,
    "start_time": "2023-01-06T17:24:54.990Z"
   },
   {
    "duration": 18,
    "start_time": "2023-01-06T17:24:55.008Z"
   },
   {
    "duration": 13,
    "start_time": "2023-01-06T17:24:55.028Z"
   },
   {
    "duration": 16,
    "start_time": "2023-01-06T17:24:55.043Z"
   },
   {
    "duration": 13,
    "start_time": "2023-01-06T17:24:55.078Z"
   },
   {
    "duration": 11,
    "start_time": "2023-01-06T17:24:55.093Z"
   },
   {
    "duration": 12296,
    "start_time": "2023-01-06T17:24:55.105Z"
   },
   {
    "duration": 232,
    "start_time": "2023-01-06T17:25:07.403Z"
   },
   {
    "duration": 1199,
    "start_time": "2023-01-06T17:25:07.637Z"
   },
   {
    "duration": 44,
    "start_time": "2023-01-06T17:25:08.837Z"
   },
   {
    "duration": 99,
    "start_time": "2023-01-06T17:25:08.882Z"
   },
   {
    "duration": 4,
    "start_time": "2023-01-06T17:25:08.983Z"
   },
   {
    "duration": 9,
    "start_time": "2023-01-06T17:25:09.079Z"
   },
   {
    "duration": 44,
    "start_time": "2023-01-06T17:25:09.090Z"
   },
   {
    "duration": 5,
    "start_time": "2023-01-06T17:25:09.135Z"
   },
   {
    "duration": 500,
    "start_time": "2023-01-06T17:25:09.141Z"
   },
   {
    "duration": 62,
    "start_time": "2023-01-06T17:25:09.643Z"
   },
   {
    "duration": 4889,
    "start_time": "2023-01-06T17:25:09.706Z"
   },
   {
    "duration": 303,
    "start_time": "2023-01-06T17:25:14.597Z"
   },
   {
    "duration": 11,
    "start_time": "2023-01-06T17:25:14.902Z"
   },
   {
    "duration": 6,
    "start_time": "2023-01-06T17:25:14.915Z"
   },
   {
    "duration": 9,
    "start_time": "2023-01-06T17:25:14.923Z"
   },
   {
    "duration": 11,
    "start_time": "2023-01-06T17:25:14.935Z"
   },
   {
    "duration": 55,
    "start_time": "2023-01-06T17:25:14.947Z"
   },
   {
    "duration": 157,
    "start_time": "2023-01-06T17:25:15.005Z"
   },
   {
    "duration": 3775,
    "start_time": "2023-01-06T17:25:43.935Z"
   },
   {
    "duration": 1121,
    "start_time": "2023-01-06T17:25:47.713Z"
   },
   {
    "duration": 48,
    "start_time": "2023-01-06T17:25:48.836Z"
   },
   {
    "duration": 21,
    "start_time": "2023-01-06T17:25:48.886Z"
   },
   {
    "duration": 3,
    "start_time": "2023-01-06T17:25:48.909Z"
   },
   {
    "duration": 10,
    "start_time": "2023-01-06T17:25:48.913Z"
   },
   {
    "duration": 29,
    "start_time": "2023-01-06T17:25:48.936Z"
   },
   {
    "duration": 19,
    "start_time": "2023-01-06T17:25:48.967Z"
   },
   {
    "duration": 17,
    "start_time": "2023-01-06T17:25:48.988Z"
   },
   {
    "duration": 6,
    "start_time": "2023-01-06T17:25:49.008Z"
   },
   {
    "duration": 16,
    "start_time": "2023-01-06T17:25:49.015Z"
   },
   {
    "duration": 24,
    "start_time": "2023-01-06T17:25:49.033Z"
   },
   {
    "duration": 11,
    "start_time": "2023-01-06T17:25:49.059Z"
   },
   {
    "duration": 17,
    "start_time": "2023-01-06T17:25:49.071Z"
   },
   {
    "duration": 56,
    "start_time": "2023-01-06T17:25:49.090Z"
   },
   {
    "duration": 16,
    "start_time": "2023-01-06T17:25:49.148Z"
   },
   {
    "duration": 27,
    "start_time": "2023-01-06T17:25:49.166Z"
   },
   {
    "duration": 18,
    "start_time": "2023-01-06T17:25:49.195Z"
   },
   {
    "duration": 16,
    "start_time": "2023-01-06T17:25:49.214Z"
   },
   {
    "duration": 12,
    "start_time": "2023-01-06T17:25:49.232Z"
   },
   {
    "duration": 14,
    "start_time": "2023-01-06T17:25:49.245Z"
   },
   {
    "duration": 12278,
    "start_time": "2023-01-06T17:25:49.261Z"
   },
   {
    "duration": 187,
    "start_time": "2023-01-06T17:26:01.541Z"
   },
   {
    "duration": 1211,
    "start_time": "2023-01-06T17:26:01.729Z"
   },
   {
    "duration": 45,
    "start_time": "2023-01-06T17:26:02.941Z"
   },
   {
    "duration": 94,
    "start_time": "2023-01-06T17:26:02.988Z"
   },
   {
    "duration": 95,
    "start_time": "2023-01-06T17:26:03.083Z"
   },
   {
    "duration": 97,
    "start_time": "2023-01-06T17:26:03.182Z"
   },
   {
    "duration": 46,
    "start_time": "2023-01-06T17:26:03.281Z"
   },
   {
    "duration": 5,
    "start_time": "2023-01-06T17:26:03.329Z"
   },
   {
    "duration": 531,
    "start_time": "2023-01-06T17:26:03.335Z"
   },
   {
    "duration": 66,
    "start_time": "2023-01-06T17:26:03.868Z"
   },
   {
    "duration": 4839,
    "start_time": "2023-01-06T17:26:03.937Z"
   },
   {
    "duration": 346,
    "start_time": "2023-01-06T17:26:08.778Z"
   },
   {
    "duration": 10,
    "start_time": "2023-01-06T17:26:09.125Z"
   },
   {
    "duration": 5,
    "start_time": "2023-01-06T17:26:09.136Z"
   },
   {
    "duration": 5,
    "start_time": "2023-01-06T17:26:09.143Z"
   },
   {
    "duration": 6,
    "start_time": "2023-01-06T17:26:09.150Z"
   },
   {
    "duration": 50,
    "start_time": "2023-01-06T17:26:09.158Z"
   },
   {
    "duration": 133,
    "start_time": "2023-01-06T17:26:09.210Z"
   },
   {
    "duration": 4007,
    "start_time": "2023-01-06T17:26:59.913Z"
   },
   {
    "duration": 1145,
    "start_time": "2023-01-06T17:27:03.924Z"
   },
   {
    "duration": 49,
    "start_time": "2023-01-06T17:27:05.070Z"
   },
   {
    "duration": 23,
    "start_time": "2023-01-06T17:27:05.121Z"
   },
   {
    "duration": 4,
    "start_time": "2023-01-06T17:27:05.147Z"
   },
   {
    "duration": 24,
    "start_time": "2023-01-06T17:27:05.153Z"
   },
   {
    "duration": 24,
    "start_time": "2023-01-06T17:27:05.179Z"
   },
   {
    "duration": 26,
    "start_time": "2023-01-06T17:27:05.206Z"
   },
   {
    "duration": 22,
    "start_time": "2023-01-06T17:27:05.234Z"
   },
   {
    "duration": 13,
    "start_time": "2023-01-06T17:27:05.257Z"
   },
   {
    "duration": 24,
    "start_time": "2023-01-06T17:27:05.272Z"
   },
   {
    "duration": 22,
    "start_time": "2023-01-06T17:27:05.298Z"
   },
   {
    "duration": 21,
    "start_time": "2023-01-06T17:27:05.321Z"
   },
   {
    "duration": 24,
    "start_time": "2023-01-06T17:27:05.347Z"
   },
   {
    "duration": 48,
    "start_time": "2023-01-06T17:27:05.373Z"
   },
   {
    "duration": 17,
    "start_time": "2023-01-06T17:27:05.423Z"
   },
   {
    "duration": 21,
    "start_time": "2023-01-06T17:27:05.442Z"
   },
   {
    "duration": 13,
    "start_time": "2023-01-06T17:27:05.464Z"
   },
   {
    "duration": 36,
    "start_time": "2023-01-06T17:27:05.479Z"
   },
   {
    "duration": 32,
    "start_time": "2023-01-06T17:27:05.517Z"
   },
   {
    "duration": 34,
    "start_time": "2023-01-06T17:27:05.551Z"
   },
   {
    "duration": 12803,
    "start_time": "2023-01-06T17:27:05.587Z"
   },
   {
    "duration": 226,
    "start_time": "2023-01-06T17:27:18.392Z"
   },
   {
    "duration": 1200,
    "start_time": "2023-01-06T17:27:18.620Z"
   },
   {
    "duration": 37,
    "start_time": "2023-01-06T17:27:19.821Z"
   },
   {
    "duration": 121,
    "start_time": "2023-01-06T17:27:19.859Z"
   },
   {
    "duration": 5,
    "start_time": "2023-01-06T17:27:19.982Z"
   },
   {
    "duration": 8,
    "start_time": "2023-01-06T17:27:20.079Z"
   },
   {
    "duration": 49,
    "start_time": "2023-01-06T17:27:20.089Z"
   },
   {
    "duration": 5,
    "start_time": "2023-01-06T17:27:20.140Z"
   },
   {
    "duration": 514,
    "start_time": "2023-01-06T17:27:20.146Z"
   },
   {
    "duration": 58,
    "start_time": "2023-01-06T17:27:20.662Z"
   },
   {
    "duration": 4626,
    "start_time": "2023-01-06T17:27:20.722Z"
   },
   {
    "duration": 339,
    "start_time": "2023-01-06T17:27:25.349Z"
   },
   {
    "duration": 10,
    "start_time": "2023-01-06T17:27:25.689Z"
   },
   {
    "duration": 6,
    "start_time": "2023-01-06T17:27:25.701Z"
   },
   {
    "duration": 22,
    "start_time": "2023-01-06T17:27:25.709Z"
   },
   {
    "duration": 19,
    "start_time": "2023-01-06T17:27:25.733Z"
   },
   {
    "duration": 37,
    "start_time": "2023-01-06T17:27:25.754Z"
   },
   {
    "duration": 139,
    "start_time": "2023-01-06T17:27:25.793Z"
   },
   {
    "duration": 3875,
    "start_time": "2023-01-06T17:28:22.780Z"
   },
   {
    "duration": 1174,
    "start_time": "2023-01-06T17:28:26.657Z"
   },
   {
    "duration": 49,
    "start_time": "2023-01-06T17:28:27.833Z"
   },
   {
    "duration": 23,
    "start_time": "2023-01-06T17:28:27.884Z"
   },
   {
    "duration": 19,
    "start_time": "2023-01-06T17:28:27.910Z"
   },
   {
    "duration": 29,
    "start_time": "2023-01-06T17:28:27.930Z"
   },
   {
    "duration": 33,
    "start_time": "2023-01-06T17:28:27.961Z"
   },
   {
    "duration": 34,
    "start_time": "2023-01-06T17:28:27.996Z"
   },
   {
    "duration": 26,
    "start_time": "2023-01-06T17:28:28.031Z"
   },
   {
    "duration": 16,
    "start_time": "2023-01-06T17:28:28.058Z"
   },
   {
    "duration": 18,
    "start_time": "2023-01-06T17:28:28.075Z"
   },
   {
    "duration": 21,
    "start_time": "2023-01-06T17:28:28.095Z"
   },
   {
    "duration": 25,
    "start_time": "2023-01-06T17:28:28.118Z"
   },
   {
    "duration": 8,
    "start_time": "2023-01-06T17:28:28.147Z"
   },
   {
    "duration": 30,
    "start_time": "2023-01-06T17:28:28.156Z"
   },
   {
    "duration": 17,
    "start_time": "2023-01-06T17:28:28.187Z"
   },
   {
    "duration": 19,
    "start_time": "2023-01-06T17:28:28.206Z"
   },
   {
    "duration": 15,
    "start_time": "2023-01-06T17:28:28.227Z"
   },
   {
    "duration": 47,
    "start_time": "2023-01-06T17:28:28.243Z"
   },
   {
    "duration": 17,
    "start_time": "2023-01-06T17:28:28.291Z"
   },
   {
    "duration": 17,
    "start_time": "2023-01-06T17:28:28.309Z"
   },
   {
    "duration": 12429,
    "start_time": "2023-01-06T17:28:28.328Z"
   },
   {
    "duration": 199,
    "start_time": "2023-01-06T17:28:40.759Z"
   },
   {
    "duration": 1328,
    "start_time": "2023-01-06T17:28:40.960Z"
   },
   {
    "duration": 40,
    "start_time": "2023-01-06T17:28:42.290Z"
   },
   {
    "duration": 147,
    "start_time": "2023-01-06T17:28:42.332Z"
   },
   {
    "duration": 5,
    "start_time": "2023-01-06T17:28:42.481Z"
   },
   {
    "duration": 10,
    "start_time": "2023-01-06T17:28:42.579Z"
   },
   {
    "duration": 59,
    "start_time": "2023-01-06T17:28:42.591Z"
   },
   {
    "duration": 5,
    "start_time": "2023-01-06T17:28:42.652Z"
   },
   {
    "duration": 519,
    "start_time": "2023-01-06T17:28:42.659Z"
   },
   {
    "duration": 48,
    "start_time": "2023-01-06T17:28:43.180Z"
   },
   {
    "duration": 4857,
    "start_time": "2023-01-06T17:28:43.230Z"
   },
   {
    "duration": 338,
    "start_time": "2023-01-06T17:28:48.089Z"
   },
   {
    "duration": 9,
    "start_time": "2023-01-06T17:28:48.428Z"
   },
   {
    "duration": 6,
    "start_time": "2023-01-06T17:28:48.439Z"
   },
   {
    "duration": 19,
    "start_time": "2023-01-06T17:28:48.446Z"
   },
   {
    "duration": 12,
    "start_time": "2023-01-06T17:28:48.466Z"
   },
   {
    "duration": 33,
    "start_time": "2023-01-06T17:28:48.479Z"
   },
   {
    "duration": 123,
    "start_time": "2023-01-06T17:28:48.513Z"
   },
   {
    "duration": 3714,
    "start_time": "2023-01-06T17:30:16.940Z"
   },
   {
    "duration": 1190,
    "start_time": "2023-01-06T17:30:20.657Z"
   },
   {
    "duration": 48,
    "start_time": "2023-01-06T17:30:21.849Z"
   },
   {
    "duration": 22,
    "start_time": "2023-01-06T17:30:21.899Z"
   },
   {
    "duration": 4,
    "start_time": "2023-01-06T17:30:21.922Z"
   },
   {
    "duration": 10,
    "start_time": "2023-01-06T17:30:21.927Z"
   },
   {
    "duration": 20,
    "start_time": "2023-01-06T17:30:21.938Z"
   },
   {
    "duration": 20,
    "start_time": "2023-01-06T17:30:21.959Z"
   },
   {
    "duration": 11,
    "start_time": "2023-01-06T17:30:21.981Z"
   },
   {
    "duration": 8,
    "start_time": "2023-01-06T17:30:21.995Z"
   },
   {
    "duration": 9,
    "start_time": "2023-01-06T17:30:22.005Z"
   },
   {
    "duration": 15,
    "start_time": "2023-01-06T17:30:22.016Z"
   },
   {
    "duration": 5,
    "start_time": "2023-01-06T17:30:22.033Z"
   },
   {
    "duration": 15,
    "start_time": "2023-01-06T17:30:22.040Z"
   },
   {
    "duration": 40,
    "start_time": "2023-01-06T17:30:22.057Z"
   },
   {
    "duration": 15,
    "start_time": "2023-01-06T17:30:22.099Z"
   },
   {
    "duration": 15,
    "start_time": "2023-01-06T17:30:22.116Z"
   },
   {
    "duration": 12,
    "start_time": "2023-01-06T17:30:22.133Z"
   },
   {
    "duration": 35,
    "start_time": "2023-01-06T17:30:22.146Z"
   },
   {
    "duration": 12,
    "start_time": "2023-01-06T17:30:22.182Z"
   },
   {
    "duration": 9,
    "start_time": "2023-01-06T17:30:22.196Z"
   },
   {
    "duration": 12588,
    "start_time": "2023-01-06T17:30:22.206Z"
   },
   {
    "duration": 244,
    "start_time": "2023-01-06T17:30:34.795Z"
   },
   {
    "duration": 1209,
    "start_time": "2023-01-06T17:30:35.041Z"
   },
   {
    "duration": 41,
    "start_time": "2023-01-06T17:30:36.252Z"
   },
   {
    "duration": 88,
    "start_time": "2023-01-06T17:30:36.295Z"
   },
   {
    "duration": 94,
    "start_time": "2023-01-06T17:30:36.385Z"
   },
   {
    "duration": 8,
    "start_time": "2023-01-06T17:30:36.484Z"
   },
   {
    "duration": 42,
    "start_time": "2023-01-06T17:30:36.578Z"
   },
   {
    "duration": 4,
    "start_time": "2023-01-06T17:30:36.622Z"
   },
   {
    "duration": 520,
    "start_time": "2023-01-06T17:30:36.628Z"
   },
   {
    "duration": 56,
    "start_time": "2023-01-06T17:30:37.150Z"
   },
   {
    "duration": 5092,
    "start_time": "2023-01-06T17:30:37.208Z"
   },
   {
    "duration": 371,
    "start_time": "2023-01-06T17:30:42.302Z"
   },
   {
    "duration": 11,
    "start_time": "2023-01-06T17:30:42.677Z"
   },
   {
    "duration": 21,
    "start_time": "2023-01-06T17:30:42.689Z"
   },
   {
    "duration": 16,
    "start_time": "2023-01-06T17:30:42.712Z"
   },
   {
    "duration": 33,
    "start_time": "2023-01-06T17:30:42.729Z"
   },
   {
    "duration": 50,
    "start_time": "2023-01-06T17:30:42.763Z"
   },
   {
    "duration": 134,
    "start_time": "2023-01-06T17:30:42.815Z"
   },
   {
    "duration": 3725,
    "start_time": "2023-01-06T17:31:08.645Z"
   },
   {
    "duration": 1228,
    "start_time": "2023-01-06T17:31:12.372Z"
   },
   {
    "duration": 52,
    "start_time": "2023-01-06T17:31:13.601Z"
   },
   {
    "duration": 24,
    "start_time": "2023-01-06T17:31:13.655Z"
   },
   {
    "duration": 4,
    "start_time": "2023-01-06T17:31:13.681Z"
   },
   {
    "duration": 10,
    "start_time": "2023-01-06T17:31:13.687Z"
   },
   {
    "duration": 19,
    "start_time": "2023-01-06T17:31:13.699Z"
   },
   {
    "duration": 7,
    "start_time": "2023-01-06T17:31:13.720Z"
   },
   {
    "duration": 6,
    "start_time": "2023-01-06T17:31:13.729Z"
   },
   {
    "duration": 6,
    "start_time": "2023-01-06T17:31:13.738Z"
   },
   {
    "duration": 7,
    "start_time": "2023-01-06T17:31:13.746Z"
   },
   {
    "duration": 27,
    "start_time": "2023-01-06T17:31:13.754Z"
   },
   {
    "duration": 4,
    "start_time": "2023-01-06T17:31:13.782Z"
   },
   {
    "duration": 8,
    "start_time": "2023-01-06T17:31:13.787Z"
   },
   {
    "duration": 29,
    "start_time": "2023-01-06T17:31:13.796Z"
   },
   {
    "duration": 19,
    "start_time": "2023-01-06T17:31:13.827Z"
   },
   {
    "duration": 52,
    "start_time": "2023-01-06T17:31:13.847Z"
   },
   {
    "duration": 17,
    "start_time": "2023-01-06T17:31:13.901Z"
   },
   {
    "duration": 20,
    "start_time": "2023-01-06T17:31:13.921Z"
   },
   {
    "duration": 39,
    "start_time": "2023-01-06T17:31:13.943Z"
   },
   {
    "duration": 14,
    "start_time": "2023-01-06T17:31:13.985Z"
   },
   {
    "duration": 12619,
    "start_time": "2023-01-06T17:31:14.002Z"
   },
   {
    "duration": 212,
    "start_time": "2023-01-06T17:31:26.623Z"
   },
   {
    "duration": 1209,
    "start_time": "2023-01-06T17:31:26.837Z"
   },
   {
    "duration": 48,
    "start_time": "2023-01-06T17:31:28.047Z"
   },
   {
    "duration": 85,
    "start_time": "2023-01-06T17:31:28.097Z"
   },
   {
    "duration": 95,
    "start_time": "2023-01-06T17:31:28.183Z"
   },
   {
    "duration": 4,
    "start_time": "2023-01-06T17:31:28.283Z"
   },
   {
    "duration": 137,
    "start_time": "2023-01-06T17:31:28.289Z"
   },
   {
    "duration": 5,
    "start_time": "2023-01-06T17:31:28.428Z"
   },
   {
    "duration": 501,
    "start_time": "2023-01-06T17:31:28.435Z"
   },
   {
    "duration": 58,
    "start_time": "2023-01-06T17:31:28.938Z"
   },
   {
    "duration": 4818,
    "start_time": "2023-01-06T17:31:28.997Z"
   },
   {
    "duration": 284,
    "start_time": "2023-01-06T17:31:33.817Z"
   },
   {
    "duration": 9,
    "start_time": "2023-01-06T17:31:34.102Z"
   },
   {
    "duration": 20,
    "start_time": "2023-01-06T17:31:34.113Z"
   },
   {
    "duration": 5,
    "start_time": "2023-01-06T17:31:34.135Z"
   },
   {
    "duration": 7,
    "start_time": "2023-01-06T17:31:34.142Z"
   },
   {
    "duration": 32,
    "start_time": "2023-01-06T17:31:34.151Z"
   },
   {
    "duration": 133,
    "start_time": "2023-01-06T17:31:34.184Z"
   },
   {
    "duration": 3787,
    "start_time": "2023-01-06T17:32:04.415Z"
   },
   {
    "duration": 1126,
    "start_time": "2023-01-06T17:32:08.204Z"
   },
   {
    "duration": 48,
    "start_time": "2023-01-06T17:32:09.331Z"
   },
   {
    "duration": 23,
    "start_time": "2023-01-06T17:32:09.381Z"
   },
   {
    "duration": 4,
    "start_time": "2023-01-06T17:32:09.406Z"
   },
   {
    "duration": 9,
    "start_time": "2023-01-06T17:32:09.411Z"
   },
   {
    "duration": 24,
    "start_time": "2023-01-06T17:32:09.422Z"
   },
   {
    "duration": 13,
    "start_time": "2023-01-06T17:32:09.448Z"
   },
   {
    "duration": 5,
    "start_time": "2023-01-06T17:32:09.477Z"
   },
   {
    "duration": 9,
    "start_time": "2023-01-06T17:32:09.485Z"
   },
   {
    "duration": 10,
    "start_time": "2023-01-06T17:32:09.496Z"
   },
   {
    "duration": 13,
    "start_time": "2023-01-06T17:32:09.508Z"
   },
   {
    "duration": 3,
    "start_time": "2023-01-06T17:32:09.523Z"
   },
   {
    "duration": 7,
    "start_time": "2023-01-06T17:32:09.528Z"
   },
   {
    "duration": 49,
    "start_time": "2023-01-06T17:32:09.536Z"
   },
   {
    "duration": 17,
    "start_time": "2023-01-06T17:32:09.587Z"
   },
   {
    "duration": 19,
    "start_time": "2023-01-06T17:32:09.606Z"
   },
   {
    "duration": 13,
    "start_time": "2023-01-06T17:32:09.626Z"
   },
   {
    "duration": 16,
    "start_time": "2023-01-06T17:32:09.640Z"
   },
   {
    "duration": 13,
    "start_time": "2023-01-06T17:32:09.677Z"
   },
   {
    "duration": 11,
    "start_time": "2023-01-06T17:32:09.692Z"
   },
   {
    "duration": 12720,
    "start_time": "2023-01-06T17:32:09.704Z"
   },
   {
    "duration": 214,
    "start_time": "2023-01-06T17:32:22.425Z"
   },
   {
    "duration": 1186,
    "start_time": "2023-01-06T17:32:22.640Z"
   },
   {
    "duration": 36,
    "start_time": "2023-01-06T17:32:23.827Z"
   },
   {
    "duration": 125,
    "start_time": "2023-01-06T17:32:23.864Z"
   },
   {
    "duration": 4,
    "start_time": "2023-01-06T17:32:24.079Z"
   },
   {
    "duration": 100,
    "start_time": "2023-01-06T17:32:24.086Z"
   },
   {
    "duration": 46,
    "start_time": "2023-01-06T17:32:24.187Z"
   },
   {
    "duration": 5,
    "start_time": "2023-01-06T17:32:24.235Z"
   },
   {
    "duration": 539,
    "start_time": "2023-01-06T17:32:24.241Z"
   },
   {
    "duration": 55,
    "start_time": "2023-01-06T17:32:24.782Z"
   },
   {
    "duration": 4843,
    "start_time": "2023-01-06T17:32:24.838Z"
   },
   {
    "duration": 345,
    "start_time": "2023-01-06T17:32:29.682Z"
   },
   {
    "duration": 10,
    "start_time": "2023-01-06T17:32:30.029Z"
   },
   {
    "duration": 17,
    "start_time": "2023-01-06T17:32:30.041Z"
   },
   {
    "duration": 32,
    "start_time": "2023-01-06T17:32:30.060Z"
   },
   {
    "duration": 36,
    "start_time": "2023-01-06T17:32:30.094Z"
   },
   {
    "duration": 45,
    "start_time": "2023-01-06T17:32:30.132Z"
   },
   {
    "duration": 141,
    "start_time": "2023-01-06T17:32:30.179Z"
   },
   {
    "duration": 4011,
    "start_time": "2023-01-06T17:32:50.804Z"
   },
   {
    "duration": 1134,
    "start_time": "2023-01-06T17:32:54.816Z"
   },
   {
    "duration": 48,
    "start_time": "2023-01-06T17:32:55.952Z"
   },
   {
    "duration": 23,
    "start_time": "2023-01-06T17:32:56.002Z"
   },
   {
    "duration": 4,
    "start_time": "2023-01-06T17:32:56.027Z"
   },
   {
    "duration": 8,
    "start_time": "2023-01-06T17:32:56.033Z"
   },
   {
    "duration": 38,
    "start_time": "2023-01-06T17:32:56.043Z"
   },
   {
    "duration": 9,
    "start_time": "2023-01-06T17:32:56.083Z"
   },
   {
    "duration": 7,
    "start_time": "2023-01-06T17:32:56.093Z"
   },
   {
    "duration": 7,
    "start_time": "2023-01-06T17:32:56.103Z"
   },
   {
    "duration": 9,
    "start_time": "2023-01-06T17:32:56.112Z"
   },
   {
    "duration": 20,
    "start_time": "2023-01-06T17:32:56.123Z"
   },
   {
    "duration": 6,
    "start_time": "2023-01-06T17:32:56.145Z"
   },
   {
    "duration": 7,
    "start_time": "2023-01-06T17:32:56.152Z"
   },
   {
    "duration": 42,
    "start_time": "2023-01-06T17:32:56.161Z"
   },
   {
    "duration": 17,
    "start_time": "2023-01-06T17:32:56.205Z"
   },
   {
    "duration": 21,
    "start_time": "2023-01-06T17:32:56.224Z"
   },
   {
    "duration": 33,
    "start_time": "2023-01-06T17:32:56.246Z"
   },
   {
    "duration": 17,
    "start_time": "2023-01-06T17:32:56.282Z"
   },
   {
    "duration": 14,
    "start_time": "2023-01-06T17:32:56.300Z"
   },
   {
    "duration": 8,
    "start_time": "2023-01-06T17:32:56.316Z"
   },
   {
    "duration": 12483,
    "start_time": "2023-01-06T17:32:56.326Z"
   },
   {
    "duration": 213,
    "start_time": "2023-01-06T17:33:08.810Z"
   },
   {
    "duration": 1191,
    "start_time": "2023-01-06T17:33:09.025Z"
   },
   {
    "duration": 39,
    "start_time": "2023-01-06T17:33:10.217Z"
   },
   {
    "duration": 124,
    "start_time": "2023-01-06T17:33:10.257Z"
   },
   {
    "duration": 4,
    "start_time": "2023-01-06T17:33:10.383Z"
   },
   {
    "duration": 5,
    "start_time": "2023-01-06T17:33:10.480Z"
   },
   {
    "duration": 44,
    "start_time": "2023-01-06T17:33:10.486Z"
   },
   {
    "duration": 5,
    "start_time": "2023-01-06T17:33:10.532Z"
   },
   {
    "duration": 513,
    "start_time": "2023-01-06T17:33:10.539Z"
   },
   {
    "duration": 63,
    "start_time": "2023-01-06T17:33:11.053Z"
   },
   {
    "duration": 5133,
    "start_time": "2023-01-06T17:33:11.117Z"
   },
   {
    "duration": 332,
    "start_time": "2023-01-06T17:33:16.253Z"
   },
   {
    "duration": 11,
    "start_time": "2023-01-06T17:33:16.587Z"
   },
   {
    "duration": 12,
    "start_time": "2023-01-06T17:33:16.600Z"
   },
   {
    "duration": 22,
    "start_time": "2023-01-06T17:33:16.613Z"
   },
   {
    "duration": 7,
    "start_time": "2023-01-06T17:33:16.637Z"
   },
   {
    "duration": 43,
    "start_time": "2023-01-06T17:33:16.646Z"
   },
   {
    "duration": 144,
    "start_time": "2023-01-06T17:33:16.691Z"
   },
   {
    "duration": 3731,
    "start_time": "2023-01-06T17:33:49.254Z"
   },
   {
    "duration": 1183,
    "start_time": "2023-01-06T17:33:52.988Z"
   },
   {
    "duration": 47,
    "start_time": "2023-01-06T17:33:54.172Z"
   },
   {
    "duration": 22,
    "start_time": "2023-01-06T17:33:54.221Z"
   },
   {
    "duration": 3,
    "start_time": "2023-01-06T17:33:54.245Z"
   },
   {
    "duration": 9,
    "start_time": "2023-01-06T17:33:54.249Z"
   },
   {
    "duration": 18,
    "start_time": "2023-01-06T17:33:54.259Z"
   },
   {
    "duration": 8,
    "start_time": "2023-01-06T17:33:54.278Z"
   },
   {
    "duration": 7,
    "start_time": "2023-01-06T17:33:54.287Z"
   },
   {
    "duration": 4,
    "start_time": "2023-01-06T17:33:54.296Z"
   },
   {
    "duration": 9,
    "start_time": "2023-01-06T17:33:54.301Z"
   },
   {
    "duration": 11,
    "start_time": "2023-01-06T17:33:54.311Z"
   },
   {
    "duration": 2,
    "start_time": "2023-01-06T17:33:54.324Z"
   },
   {
    "duration": 9,
    "start_time": "2023-01-06T17:33:54.327Z"
   },
   {
    "duration": 45,
    "start_time": "2023-01-06T17:33:54.338Z"
   },
   {
    "duration": 17,
    "start_time": "2023-01-06T17:33:54.384Z"
   },
   {
    "duration": 16,
    "start_time": "2023-01-06T17:33:54.402Z"
   },
   {
    "duration": 12,
    "start_time": "2023-01-06T17:33:54.419Z"
   },
   {
    "duration": 15,
    "start_time": "2023-01-06T17:33:54.432Z"
   },
   {
    "duration": 33,
    "start_time": "2023-01-06T17:33:54.449Z"
   },
   {
    "duration": 12,
    "start_time": "2023-01-06T17:33:54.483Z"
   },
   {
    "duration": 12479,
    "start_time": "2023-01-06T17:33:54.496Z"
   },
   {
    "duration": 224,
    "start_time": "2023-01-06T17:34:06.978Z"
   },
   {
    "duration": 1199,
    "start_time": "2023-01-06T17:34:07.203Z"
   },
   {
    "duration": 41,
    "start_time": "2023-01-06T17:34:08.403Z"
   },
   {
    "duration": 134,
    "start_time": "2023-01-06T17:34:08.445Z"
   },
   {
    "duration": 4,
    "start_time": "2023-01-06T17:34:08.581Z"
   },
   {
    "duration": 96,
    "start_time": "2023-01-06T17:34:08.588Z"
   },
   {
    "duration": 46,
    "start_time": "2023-01-06T17:34:08.686Z"
   },
   {
    "duration": 5,
    "start_time": "2023-01-06T17:34:08.734Z"
   },
   {
    "duration": 508,
    "start_time": "2023-01-06T17:34:08.740Z"
   },
   {
    "duration": 61,
    "start_time": "2023-01-06T17:34:09.250Z"
   },
   {
    "duration": 4943,
    "start_time": "2023-01-06T17:34:09.312Z"
   },
   {
    "duration": 332,
    "start_time": "2023-01-06T17:34:14.256Z"
   },
   {
    "duration": 11,
    "start_time": "2023-01-06T17:34:14.590Z"
   },
   {
    "duration": 5,
    "start_time": "2023-01-06T17:34:14.603Z"
   },
   {
    "duration": 8,
    "start_time": "2023-01-06T17:34:14.610Z"
   },
   {
    "duration": 9,
    "start_time": "2023-01-06T17:34:14.620Z"
   },
   {
    "duration": 58,
    "start_time": "2023-01-06T17:34:14.631Z"
   },
   {
    "duration": 151,
    "start_time": "2023-01-06T17:34:14.691Z"
   },
   {
    "duration": 3931,
    "start_time": "2023-01-06T17:34:37.375Z"
   },
   {
    "duration": 1260,
    "start_time": "2023-01-06T17:34:41.308Z"
   },
   {
    "duration": 50,
    "start_time": "2023-01-06T17:34:42.570Z"
   },
   {
    "duration": 24,
    "start_time": "2023-01-06T17:34:42.622Z"
   },
   {
    "duration": 4,
    "start_time": "2023-01-06T17:34:42.648Z"
   },
   {
    "duration": 9,
    "start_time": "2023-01-06T17:34:42.653Z"
   },
   {
    "duration": 20,
    "start_time": "2023-01-06T17:34:42.664Z"
   },
   {
    "duration": 5,
    "start_time": "2023-01-06T17:34:42.686Z"
   },
   {
    "duration": 5,
    "start_time": "2023-01-06T17:34:42.693Z"
   },
   {
    "duration": 5,
    "start_time": "2023-01-06T17:34:42.701Z"
   },
   {
    "duration": 10,
    "start_time": "2023-01-06T17:34:42.707Z"
   },
   {
    "duration": 12,
    "start_time": "2023-01-06T17:34:42.719Z"
   },
   {
    "duration": 3,
    "start_time": "2023-01-06T17:34:42.733Z"
   },
   {
    "duration": 41,
    "start_time": "2023-01-06T17:34:42.738Z"
   },
   {
    "duration": 27,
    "start_time": "2023-01-06T17:34:42.781Z"
   },
   {
    "duration": 17,
    "start_time": "2023-01-06T17:34:42.809Z"
   },
   {
    "duration": 17,
    "start_time": "2023-01-06T17:34:42.828Z"
   },
   {
    "duration": 37,
    "start_time": "2023-01-06T17:34:42.846Z"
   },
   {
    "duration": 14,
    "start_time": "2023-01-06T17:34:42.884Z"
   },
   {
    "duration": 13,
    "start_time": "2023-01-06T17:34:42.900Z"
   },
   {
    "duration": 9,
    "start_time": "2023-01-06T17:34:42.915Z"
   },
   {
    "duration": 12244,
    "start_time": "2023-01-06T17:34:42.925Z"
   },
   {
    "duration": 218,
    "start_time": "2023-01-06T17:34:55.170Z"
   },
   {
    "duration": 1208,
    "start_time": "2023-01-06T17:34:55.389Z"
   },
   {
    "duration": 42,
    "start_time": "2023-01-06T17:34:56.598Z"
   },
   {
    "duration": 140,
    "start_time": "2023-01-06T17:34:56.641Z"
   },
   {
    "duration": 94,
    "start_time": "2023-01-06T17:34:56.783Z"
   },
   {
    "duration": 9,
    "start_time": "2023-01-06T17:34:56.881Z"
   },
   {
    "duration": 128,
    "start_time": "2023-01-06T17:34:56.892Z"
   },
   {
    "duration": 5,
    "start_time": "2023-01-06T17:34:57.022Z"
   },
   {
    "duration": 511,
    "start_time": "2023-01-06T17:34:57.028Z"
   },
   {
    "duration": 57,
    "start_time": "2023-01-06T17:34:57.540Z"
   },
   {
    "duration": 4771,
    "start_time": "2023-01-06T17:34:57.599Z"
   },
   {
    "duration": 275,
    "start_time": "2023-01-06T17:35:02.372Z"
   },
   {
    "duration": 9,
    "start_time": "2023-01-06T17:35:02.648Z"
   },
   {
    "duration": 23,
    "start_time": "2023-01-06T17:35:02.659Z"
   },
   {
    "duration": 21,
    "start_time": "2023-01-06T17:35:02.684Z"
   },
   {
    "duration": 27,
    "start_time": "2023-01-06T17:35:02.707Z"
   },
   {
    "duration": 46,
    "start_time": "2023-01-06T17:35:02.735Z"
   },
   {
    "duration": 131,
    "start_time": "2023-01-06T17:35:02.782Z"
   },
   {
    "duration": 3760,
    "start_time": "2023-01-06T17:35:22.002Z"
   },
   {
    "duration": 1171,
    "start_time": "2023-01-06T17:35:25.764Z"
   },
   {
    "duration": 48,
    "start_time": "2023-01-06T17:35:26.937Z"
   },
   {
    "duration": 22,
    "start_time": "2023-01-06T17:35:26.986Z"
   },
   {
    "duration": 14,
    "start_time": "2023-01-06T17:35:27.010Z"
   },
   {
    "duration": 17,
    "start_time": "2023-01-06T17:35:27.025Z"
   },
   {
    "duration": 40,
    "start_time": "2023-01-06T17:35:27.043Z"
   },
   {
    "duration": 24,
    "start_time": "2023-01-06T17:35:27.084Z"
   },
   {
    "duration": 14,
    "start_time": "2023-01-06T17:35:27.110Z"
   },
   {
    "duration": 19,
    "start_time": "2023-01-06T17:35:27.126Z"
   },
   {
    "duration": 25,
    "start_time": "2023-01-06T17:35:27.147Z"
   },
   {
    "duration": 23,
    "start_time": "2023-01-06T17:35:27.173Z"
   },
   {
    "duration": 29,
    "start_time": "2023-01-06T17:35:27.198Z"
   },
   {
    "duration": 32,
    "start_time": "2023-01-06T17:35:27.229Z"
   },
   {
    "duration": 37,
    "start_time": "2023-01-06T17:35:27.262Z"
   },
   {
    "duration": 16,
    "start_time": "2023-01-06T17:35:27.300Z"
   },
   {
    "duration": 29,
    "start_time": "2023-01-06T17:35:27.317Z"
   },
   {
    "duration": 12,
    "start_time": "2023-01-06T17:35:27.347Z"
   },
   {
    "duration": 14,
    "start_time": "2023-01-06T17:35:27.360Z"
   },
   {
    "duration": 11,
    "start_time": "2023-01-06T17:35:27.377Z"
   },
   {
    "duration": 9,
    "start_time": "2023-01-06T17:35:27.390Z"
   },
   {
    "duration": 12125,
    "start_time": "2023-01-06T17:35:27.400Z"
   },
   {
    "duration": 238,
    "start_time": "2023-01-06T17:35:39.527Z"
   },
   {
    "duration": 1342,
    "start_time": "2023-01-06T17:35:39.767Z"
   },
   {
    "duration": 43,
    "start_time": "2023-01-06T17:35:41.110Z"
   },
   {
    "duration": 127,
    "start_time": "2023-01-06T17:35:41.155Z"
   },
   {
    "duration": 95,
    "start_time": "2023-01-06T17:35:41.284Z"
   },
   {
    "duration": 104,
    "start_time": "2023-01-06T17:35:41.383Z"
   },
   {
    "duration": 58,
    "start_time": "2023-01-06T17:35:41.489Z"
   },
   {
    "duration": 6,
    "start_time": "2023-01-06T17:35:41.548Z"
   },
   {
    "duration": 577,
    "start_time": "2023-01-06T17:35:41.556Z"
   },
   {
    "duration": 61,
    "start_time": "2023-01-06T17:35:42.135Z"
   },
   {
    "duration": 4914,
    "start_time": "2023-01-06T17:35:42.197Z"
   },
   {
    "duration": 248,
    "start_time": "2023-01-06T17:35:47.112Z"
   },
   {
    "duration": 16,
    "start_time": "2023-01-06T17:35:47.362Z"
   },
   {
    "duration": 19,
    "start_time": "2023-01-06T17:35:47.379Z"
   },
   {
    "duration": 17,
    "start_time": "2023-01-06T17:35:47.400Z"
   },
   {
    "duration": 31,
    "start_time": "2023-01-06T17:35:47.419Z"
   },
   {
    "duration": 55,
    "start_time": "2023-01-06T17:35:47.451Z"
   },
   {
    "duration": 150,
    "start_time": "2023-01-06T17:35:47.508Z"
   },
   {
    "duration": 3823,
    "start_time": "2023-01-06T17:36:07.981Z"
   },
   {
    "duration": 1184,
    "start_time": "2023-01-06T17:36:11.806Z"
   },
   {
    "duration": 52,
    "start_time": "2023-01-06T17:36:12.992Z"
   },
   {
    "duration": 25,
    "start_time": "2023-01-06T17:36:13.045Z"
   },
   {
    "duration": 4,
    "start_time": "2023-01-06T17:36:13.073Z"
   },
   {
    "duration": 12,
    "start_time": "2023-01-06T17:36:13.079Z"
   },
   {
    "duration": 22,
    "start_time": "2023-01-06T17:36:13.093Z"
   },
   {
    "duration": 14,
    "start_time": "2023-01-06T17:36:13.117Z"
   },
   {
    "duration": 8,
    "start_time": "2023-01-06T17:36:13.133Z"
   },
   {
    "duration": 9,
    "start_time": "2023-01-06T17:36:13.143Z"
   },
   {
    "duration": 12,
    "start_time": "2023-01-06T17:36:13.154Z"
   },
   {
    "duration": 14,
    "start_time": "2023-01-06T17:36:13.177Z"
   },
   {
    "duration": 5,
    "start_time": "2023-01-06T17:36:13.193Z"
   },
   {
    "duration": 12,
    "start_time": "2023-01-06T17:36:13.201Z"
   },
   {
    "duration": 26,
    "start_time": "2023-01-06T17:36:13.215Z"
   },
   {
    "duration": 17,
    "start_time": "2023-01-06T17:36:13.242Z"
   },
   {
    "duration": 19,
    "start_time": "2023-01-06T17:36:13.279Z"
   },
   {
    "duration": 14,
    "start_time": "2023-01-06T17:36:13.299Z"
   },
   {
    "duration": 18,
    "start_time": "2023-01-06T17:36:13.315Z"
   },
   {
    "duration": 14,
    "start_time": "2023-01-06T17:36:13.335Z"
   },
   {
    "duration": 32,
    "start_time": "2023-01-06T17:36:13.351Z"
   },
   {
    "duration": 12721,
    "start_time": "2023-01-06T17:36:13.385Z"
   },
   {
    "duration": 215,
    "start_time": "2023-01-06T17:36:26.107Z"
   },
   {
    "duration": 1195,
    "start_time": "2023-01-06T17:36:26.324Z"
   },
   {
    "duration": 37,
    "start_time": "2023-01-06T17:36:27.520Z"
   },
   {
    "duration": 122,
    "start_time": "2023-01-06T17:36:27.559Z"
   },
   {
    "duration": 5,
    "start_time": "2023-01-06T17:36:27.682Z"
   },
   {
    "duration": 7,
    "start_time": "2023-01-06T17:36:27.779Z"
   },
   {
    "duration": 52,
    "start_time": "2023-01-06T17:36:27.787Z"
   },
   {
    "duration": 6,
    "start_time": "2023-01-06T17:36:27.877Z"
   },
   {
    "duration": 513,
    "start_time": "2023-01-06T17:36:27.884Z"
   },
   {
    "duration": 50,
    "start_time": "2023-01-06T17:36:28.398Z"
   },
   {
    "duration": 4829,
    "start_time": "2023-01-06T17:36:28.449Z"
   },
   {
    "duration": 299,
    "start_time": "2023-01-06T17:36:33.279Z"
   },
   {
    "duration": 9,
    "start_time": "2023-01-06T17:36:33.580Z"
   },
   {
    "duration": 5,
    "start_time": "2023-01-06T17:36:33.591Z"
   },
   {
    "duration": 9,
    "start_time": "2023-01-06T17:36:33.597Z"
   },
   {
    "duration": 7,
    "start_time": "2023-01-06T17:36:33.607Z"
   },
   {
    "duration": 35,
    "start_time": "2023-01-06T17:36:33.615Z"
   },
   {
    "duration": 136,
    "start_time": "2023-01-06T17:36:33.652Z"
   },
   {
    "duration": 96,
    "start_time": "2023-01-06T17:39:35.363Z"
   },
   {
    "duration": 8,
    "start_time": "2023-01-06T17:39:55.262Z"
   },
   {
    "duration": 213,
    "start_time": "2023-01-06T17:40:05.498Z"
   },
   {
    "duration": 9,
    "start_time": "2023-01-06T17:40:47.110Z"
   },
   {
    "duration": 4195,
    "start_time": "2023-01-06T17:42:12.113Z"
   },
   {
    "duration": 1160,
    "start_time": "2023-01-06T17:42:16.311Z"
   },
   {
    "duration": 49,
    "start_time": "2023-01-06T17:42:17.472Z"
   },
   {
    "duration": 25,
    "start_time": "2023-01-06T17:42:17.522Z"
   },
   {
    "duration": 7,
    "start_time": "2023-01-06T17:42:17.550Z"
   },
   {
    "duration": 11,
    "start_time": "2023-01-06T17:42:17.558Z"
   },
   {
    "duration": 19,
    "start_time": "2023-01-06T17:42:17.570Z"
   },
   {
    "duration": 7,
    "start_time": "2023-01-06T17:42:17.590Z"
   },
   {
    "duration": 5,
    "start_time": "2023-01-06T17:42:17.599Z"
   },
   {
    "duration": 6,
    "start_time": "2023-01-06T17:42:17.605Z"
   },
   {
    "duration": 7,
    "start_time": "2023-01-06T17:42:17.612Z"
   },
   {
    "duration": 9,
    "start_time": "2023-01-06T17:42:17.620Z"
   },
   {
    "duration": 4,
    "start_time": "2023-01-06T17:42:17.631Z"
   },
   {
    "duration": 6,
    "start_time": "2023-01-06T17:42:17.638Z"
   },
   {
    "duration": 48,
    "start_time": "2023-01-06T17:42:17.646Z"
   },
   {
    "duration": 17,
    "start_time": "2023-01-06T17:42:17.696Z"
   },
   {
    "duration": 21,
    "start_time": "2023-01-06T17:42:17.715Z"
   },
   {
    "duration": 16,
    "start_time": "2023-01-06T17:42:17.738Z"
   },
   {
    "duration": 31,
    "start_time": "2023-01-06T17:42:17.756Z"
   },
   {
    "duration": 13,
    "start_time": "2023-01-06T17:42:17.789Z"
   },
   {
    "duration": 10,
    "start_time": "2023-01-06T17:42:17.803Z"
   },
   {
    "duration": 12263,
    "start_time": "2023-01-06T17:42:17.815Z"
   },
   {
    "duration": 233,
    "start_time": "2023-01-06T17:42:30.080Z"
   },
   {
    "duration": 1209,
    "start_time": "2023-01-06T17:42:30.315Z"
   },
   {
    "duration": 37,
    "start_time": "2023-01-06T17:42:31.525Z"
   },
   {
    "duration": 115,
    "start_time": "2023-01-06T17:42:31.563Z"
   },
   {
    "duration": 7,
    "start_time": "2023-01-06T17:42:31.681Z"
   },
   {
    "duration": 5,
    "start_time": "2023-01-06T17:42:31.778Z"
   },
   {
    "duration": 52,
    "start_time": "2023-01-06T17:42:31.784Z"
   },
   {
    "duration": 6,
    "start_time": "2023-01-06T17:42:31.838Z"
   },
   {
    "duration": 534,
    "start_time": "2023-01-06T17:42:31.845Z"
   },
   {
    "duration": 63,
    "start_time": "2023-01-06T17:42:32.380Z"
   },
   {
    "duration": 4876,
    "start_time": "2023-01-06T17:42:32.444Z"
   },
   {
    "duration": 295,
    "start_time": "2023-01-06T17:42:37.321Z"
   },
   {
    "duration": 10,
    "start_time": "2023-01-06T17:42:37.617Z"
   },
   {
    "duration": 17,
    "start_time": "2023-01-06T17:42:37.628Z"
   },
   {
    "duration": 30,
    "start_time": "2023-01-06T17:42:37.647Z"
   },
   {
    "duration": 20,
    "start_time": "2023-01-06T17:42:37.679Z"
   },
   {
    "duration": 44,
    "start_time": "2023-01-06T17:42:37.701Z"
   },
   {
    "duration": 133,
    "start_time": "2023-01-06T17:42:37.746Z"
   },
   {
    "duration": 3839,
    "start_time": "2023-01-06T17:42:58.869Z"
   },
   {
    "duration": 1307,
    "start_time": "2023-01-06T17:43:02.710Z"
   },
   {
    "duration": 57,
    "start_time": "2023-01-06T17:43:04.021Z"
   },
   {
    "duration": 24,
    "start_time": "2023-01-06T17:43:04.080Z"
   },
   {
    "duration": 4,
    "start_time": "2023-01-06T17:43:04.106Z"
   },
   {
    "duration": 10,
    "start_time": "2023-01-06T17:43:04.111Z"
   },
   {
    "duration": 22,
    "start_time": "2023-01-06T17:43:04.122Z"
   },
   {
    "duration": 47,
    "start_time": "2023-01-06T17:43:04.146Z"
   },
   {
    "duration": 11,
    "start_time": "2023-01-06T17:43:04.195Z"
   },
   {
    "duration": 11,
    "start_time": "2023-01-06T17:43:04.208Z"
   },
   {
    "duration": 21,
    "start_time": "2023-01-06T17:43:04.221Z"
   },
   {
    "duration": 15,
    "start_time": "2023-01-06T17:43:04.244Z"
   },
   {
    "duration": 4,
    "start_time": "2023-01-06T17:43:04.263Z"
   },
   {
    "duration": 10,
    "start_time": "2023-01-06T17:43:04.269Z"
   },
   {
    "duration": 36,
    "start_time": "2023-01-06T17:43:04.281Z"
   },
   {
    "duration": 19,
    "start_time": "2023-01-06T17:43:04.319Z"
   },
   {
    "duration": 20,
    "start_time": "2023-01-06T17:43:04.339Z"
   },
   {
    "duration": 28,
    "start_time": "2023-01-06T17:43:04.361Z"
   },
   {
    "duration": 18,
    "start_time": "2023-01-06T17:43:04.390Z"
   },
   {
    "duration": 18,
    "start_time": "2023-01-06T17:43:04.409Z"
   },
   {
    "duration": 14,
    "start_time": "2023-01-06T17:43:04.429Z"
   },
   {
    "duration": 12870,
    "start_time": "2023-01-06T17:43:04.445Z"
   },
   {
    "duration": 217,
    "start_time": "2023-01-06T17:43:17.316Z"
   },
   {
    "duration": 1187,
    "start_time": "2023-01-06T17:43:17.534Z"
   },
   {
    "duration": 34,
    "start_time": "2023-01-06T17:43:18.722Z"
   },
   {
    "duration": 123,
    "start_time": "2023-01-06T17:43:18.758Z"
   },
   {
    "duration": 5,
    "start_time": "2023-01-06T17:43:18.882Z"
   },
   {
    "duration": 100,
    "start_time": "2023-01-06T17:43:18.979Z"
   },
   {
    "duration": 48,
    "start_time": "2023-01-06T17:43:19.081Z"
   },
   {
    "duration": 4,
    "start_time": "2023-01-06T17:43:19.131Z"
   },
   {
    "duration": 502,
    "start_time": "2023-01-06T17:43:19.137Z"
   },
   {
    "duration": 57,
    "start_time": "2023-01-06T17:43:19.640Z"
   },
   {
    "duration": 4708,
    "start_time": "2023-01-06T17:43:19.698Z"
   },
   {
    "duration": 240,
    "start_time": "2023-01-06T17:43:24.408Z"
   },
   {
    "duration": 9,
    "start_time": "2023-01-06T17:43:24.649Z"
   },
   {
    "duration": 18,
    "start_time": "2023-01-06T17:43:24.660Z"
   },
   {
    "duration": 12,
    "start_time": "2023-01-06T17:43:24.680Z"
   },
   {
    "duration": 9,
    "start_time": "2023-01-06T17:43:24.694Z"
   },
   {
    "duration": 27,
    "start_time": "2023-01-06T17:43:24.705Z"
   },
   {
    "duration": 127,
    "start_time": "2023-01-06T17:43:24.736Z"
   },
   {
    "duration": 153,
    "start_time": "2023-01-06T17:44:59.844Z"
   },
   {
    "duration": 151,
    "start_time": "2023-01-06T17:45:58.391Z"
   },
   {
    "duration": 67,
    "start_time": "2023-01-06T17:46:06.278Z"
   },
   {
    "duration": 3778,
    "start_time": "2023-01-06T17:46:31.495Z"
   },
   {
    "duration": 1162,
    "start_time": "2023-01-06T17:46:35.275Z"
   },
   {
    "duration": 47,
    "start_time": "2023-01-06T17:46:36.439Z"
   },
   {
    "duration": 23,
    "start_time": "2023-01-06T17:46:36.489Z"
   },
   {
    "duration": 4,
    "start_time": "2023-01-06T17:46:36.514Z"
   },
   {
    "duration": 6,
    "start_time": "2023-01-06T17:46:36.520Z"
   },
   {
    "duration": 17,
    "start_time": "2023-01-06T17:46:36.528Z"
   },
   {
    "duration": 33,
    "start_time": "2023-01-06T17:46:36.547Z"
   },
   {
    "duration": 5,
    "start_time": "2023-01-06T17:46:36.582Z"
   },
   {
    "duration": 12,
    "start_time": "2023-01-06T17:46:36.590Z"
   },
   {
    "duration": 9,
    "start_time": "2023-01-06T17:46:36.604Z"
   },
   {
    "duration": 16,
    "start_time": "2023-01-06T17:46:36.615Z"
   },
   {
    "duration": 3,
    "start_time": "2023-01-06T17:46:36.633Z"
   },
   {
    "duration": 11,
    "start_time": "2023-01-06T17:46:36.637Z"
   },
   {
    "duration": 36,
    "start_time": "2023-01-06T17:46:36.649Z"
   },
   {
    "duration": 15,
    "start_time": "2023-01-06T17:46:36.687Z"
   },
   {
    "duration": 17,
    "start_time": "2023-01-06T17:46:36.703Z"
   },
   {
    "duration": 11,
    "start_time": "2023-01-06T17:46:36.722Z"
   },
   {
    "duration": 14,
    "start_time": "2023-01-06T17:46:36.734Z"
   },
   {
    "duration": 33,
    "start_time": "2023-01-06T17:46:36.749Z"
   },
   {
    "duration": 7,
    "start_time": "2023-01-06T17:46:36.784Z"
   },
   {
    "duration": 12415,
    "start_time": "2023-01-06T17:46:36.792Z"
   },
   {
    "duration": 213,
    "start_time": "2023-01-06T17:46:49.208Z"
   },
   {
    "duration": 1214,
    "start_time": "2023-01-06T17:46:49.422Z"
   },
   {
    "duration": 42,
    "start_time": "2023-01-06T17:46:50.638Z"
   },
   {
    "duration": 100,
    "start_time": "2023-01-06T17:46:50.682Z"
   },
   {
    "duration": 5,
    "start_time": "2023-01-06T17:46:50.783Z"
   },
   {
    "duration": 95,
    "start_time": "2023-01-06T17:46:50.791Z"
   },
   {
    "duration": 126,
    "start_time": "2023-01-06T17:46:50.888Z"
   },
   {
    "duration": 5,
    "start_time": "2023-01-06T17:46:51.016Z"
   },
   {
    "duration": 515,
    "start_time": "2023-01-06T17:46:51.022Z"
   },
   {
    "duration": 56,
    "start_time": "2023-01-06T17:46:51.538Z"
   },
   {
    "duration": 4788,
    "start_time": "2023-01-06T17:46:51.596Z"
   },
   {
    "duration": 255,
    "start_time": "2023-01-06T17:46:56.386Z"
   },
   {
    "duration": 9,
    "start_time": "2023-01-06T17:46:56.643Z"
   },
   {
    "duration": 5,
    "start_time": "2023-01-06T17:46:56.653Z"
   },
   {
    "duration": 161,
    "start_time": "2023-01-06T17:46:56.660Z"
   },
   {
    "duration": 77,
    "start_time": "2023-01-06T17:46:56.823Z"
   },
   {
    "duration": 27,
    "start_time": "2023-01-06T17:46:56.901Z"
   },
   {
    "duration": 141,
    "start_time": "2023-01-06T17:46:56.930Z"
   },
   {
    "duration": 224,
    "start_time": "2023-01-06T17:47:32.869Z"
   },
   {
    "duration": 3745,
    "start_time": "2023-01-06T17:47:44.384Z"
   },
   {
    "duration": 1115,
    "start_time": "2023-01-06T17:47:48.131Z"
   },
   {
    "duration": 48,
    "start_time": "2023-01-06T17:47:49.248Z"
   },
   {
    "duration": 21,
    "start_time": "2023-01-06T17:47:49.298Z"
   },
   {
    "duration": 3,
    "start_time": "2023-01-06T17:47:49.321Z"
   },
   {
    "duration": 11,
    "start_time": "2023-01-06T17:47:49.326Z"
   },
   {
    "duration": 16,
    "start_time": "2023-01-06T17:47:49.339Z"
   },
   {
    "duration": 10,
    "start_time": "2023-01-06T17:47:49.357Z"
   },
   {
    "duration": 4,
    "start_time": "2023-01-06T17:47:49.378Z"
   },
   {
    "duration": 6,
    "start_time": "2023-01-06T17:47:49.385Z"
   },
   {
    "duration": 12,
    "start_time": "2023-01-06T17:47:49.393Z"
   },
   {
    "duration": 18,
    "start_time": "2023-01-06T17:47:49.407Z"
   },
   {
    "duration": 5,
    "start_time": "2023-01-06T17:47:49.427Z"
   },
   {
    "duration": 16,
    "start_time": "2023-01-06T17:47:49.433Z"
   },
   {
    "duration": 33,
    "start_time": "2023-01-06T17:47:49.451Z"
   },
   {
    "duration": 16,
    "start_time": "2023-01-06T17:47:49.485Z"
   },
   {
    "duration": 17,
    "start_time": "2023-01-06T17:47:49.502Z"
   },
   {
    "duration": 12,
    "start_time": "2023-01-06T17:47:49.520Z"
   },
   {
    "duration": 15,
    "start_time": "2023-01-06T17:47:49.533Z"
   },
   {
    "duration": 30,
    "start_time": "2023-01-06T17:47:49.549Z"
   },
   {
    "duration": 12,
    "start_time": "2023-01-06T17:47:49.581Z"
   },
   {
    "duration": 12296,
    "start_time": "2023-01-06T17:47:49.594Z"
   },
   {
    "duration": 241,
    "start_time": "2023-01-06T17:48:01.892Z"
   },
   {
    "duration": 1285,
    "start_time": "2023-01-06T17:48:02.135Z"
   },
   {
    "duration": 40,
    "start_time": "2023-01-06T17:48:03.421Z"
   },
   {
    "duration": 119,
    "start_time": "2023-01-06T17:48:03.463Z"
   },
   {
    "duration": 95,
    "start_time": "2023-01-06T17:48:03.583Z"
   },
   {
    "duration": 5,
    "start_time": "2023-01-06T17:48:03.682Z"
   },
   {
    "duration": 92,
    "start_time": "2023-01-06T17:48:03.688Z"
   },
   {
    "duration": 5,
    "start_time": "2023-01-06T17:48:03.781Z"
   },
   {
    "duration": 530,
    "start_time": "2023-01-06T17:48:03.788Z"
   },
   {
    "duration": 63,
    "start_time": "2023-01-06T17:48:04.320Z"
   },
   {
    "duration": 4726,
    "start_time": "2023-01-06T17:48:04.385Z"
   },
   {
    "duration": 246,
    "start_time": "2023-01-06T17:48:09.112Z"
   },
   {
    "duration": 8,
    "start_time": "2023-01-06T17:48:09.360Z"
   },
   {
    "duration": 11,
    "start_time": "2023-01-06T17:48:09.370Z"
   },
   {
    "duration": 157,
    "start_time": "2023-01-06T17:48:09.383Z"
   },
   {
    "duration": 80,
    "start_time": "2023-01-06T17:48:09.541Z"
   },
   {
    "duration": 26,
    "start_time": "2023-01-06T17:48:09.623Z"
   },
   {
    "duration": 142,
    "start_time": "2023-01-06T17:48:09.651Z"
   },
   {
    "duration": 5,
    "start_time": "2023-01-06T17:48:25.907Z"
   },
   {
    "duration": 3812,
    "start_time": "2023-01-06T17:48:32.874Z"
   },
   {
    "duration": 1142,
    "start_time": "2023-01-06T17:48:36.688Z"
   },
   {
    "duration": 49,
    "start_time": "2023-01-06T17:48:37.832Z"
   },
   {
    "duration": 23,
    "start_time": "2023-01-06T17:48:37.883Z"
   },
   {
    "duration": 4,
    "start_time": "2023-01-06T17:48:37.907Z"
   },
   {
    "duration": 8,
    "start_time": "2023-01-06T17:48:37.913Z"
   },
   {
    "duration": 21,
    "start_time": "2023-01-06T17:48:37.922Z"
   },
   {
    "duration": 5,
    "start_time": "2023-01-06T17:48:37.944Z"
   },
   {
    "duration": 9,
    "start_time": "2023-01-06T17:48:37.950Z"
   },
   {
    "duration": 4,
    "start_time": "2023-01-06T17:48:37.979Z"
   },
   {
    "duration": 15,
    "start_time": "2023-01-06T17:48:37.984Z"
   },
   {
    "duration": 22,
    "start_time": "2023-01-06T17:48:38.001Z"
   },
   {
    "duration": 12,
    "start_time": "2023-01-06T17:48:38.025Z"
   },
   {
    "duration": 16,
    "start_time": "2023-01-06T17:48:38.039Z"
   },
   {
    "duration": 20,
    "start_time": "2023-01-06T17:48:38.056Z"
   },
   {
    "duration": 29,
    "start_time": "2023-01-06T17:48:38.077Z"
   },
   {
    "duration": 16,
    "start_time": "2023-01-06T17:48:38.108Z"
   },
   {
    "duration": 41,
    "start_time": "2023-01-06T17:48:38.126Z"
   },
   {
    "duration": 14,
    "start_time": "2023-01-06T17:48:38.168Z"
   },
   {
    "duration": 21,
    "start_time": "2023-01-06T17:48:38.183Z"
   },
   {
    "duration": 21,
    "start_time": "2023-01-06T17:48:38.206Z"
   },
   {
    "duration": 19,
    "start_time": "2023-01-06T17:48:38.228Z"
   },
   {
    "duration": 12421,
    "start_time": "2023-01-06T17:48:38.248Z"
   },
   {
    "duration": 216,
    "start_time": "2023-01-06T17:48:50.671Z"
   },
   {
    "duration": 1202,
    "start_time": "2023-01-06T17:48:50.889Z"
   },
   {
    "duration": 35,
    "start_time": "2023-01-06T17:48:52.093Z"
   },
   {
    "duration": 58,
    "start_time": "2023-01-06T17:48:52.130Z"
   },
   {
    "duration": 6,
    "start_time": "2023-01-06T17:48:52.281Z"
   },
   {
    "duration": 13,
    "start_time": "2023-01-06T17:48:52.379Z"
   },
   {
    "duration": 46,
    "start_time": "2023-01-06T17:48:52.394Z"
   },
   {
    "duration": 5,
    "start_time": "2023-01-06T17:48:52.441Z"
   },
   {
    "duration": 568,
    "start_time": "2023-01-06T17:48:52.448Z"
   },
   {
    "duration": 69,
    "start_time": "2023-01-06T17:48:53.017Z"
   },
   {
    "duration": 4775,
    "start_time": "2023-01-06T17:48:53.088Z"
   },
   {
    "duration": 256,
    "start_time": "2023-01-06T17:48:57.865Z"
   },
   {
    "duration": 10,
    "start_time": "2023-01-06T17:48:58.122Z"
   },
   {
    "duration": 5,
    "start_time": "2023-01-06T17:48:58.133Z"
   },
   {
    "duration": 174,
    "start_time": "2023-01-06T17:48:58.139Z"
   },
   {
    "duration": 75,
    "start_time": "2023-01-06T17:48:58.314Z"
   },
   {
    "duration": 24,
    "start_time": "2023-01-06T17:48:58.391Z"
   },
   {
    "duration": 137,
    "start_time": "2023-01-06T17:48:58.417Z"
   },
   {
    "duration": 1543,
    "start_time": "2023-01-06T18:08:34.192Z"
   },
   {
    "duration": 88,
    "start_time": "2023-01-06T18:08:39.057Z"
   },
   {
    "duration": 24,
    "start_time": "2023-01-06T18:09:46.207Z"
   },
   {
    "duration": 3725,
    "start_time": "2023-01-06T18:09:53.107Z"
   },
   {
    "duration": 1112,
    "start_time": "2023-01-06T18:09:56.834Z"
   },
   {
    "duration": 48,
    "start_time": "2023-01-06T18:09:57.948Z"
   },
   {
    "duration": 21,
    "start_time": "2023-01-06T18:09:57.998Z"
   },
   {
    "duration": 4,
    "start_time": "2023-01-06T18:09:58.020Z"
   },
   {
    "duration": 7,
    "start_time": "2023-01-06T18:09:58.026Z"
   },
   {
    "duration": 19,
    "start_time": "2023-01-06T18:09:58.035Z"
   },
   {
    "duration": 23,
    "start_time": "2023-01-06T18:09:58.055Z"
   },
   {
    "duration": 4,
    "start_time": "2023-01-06T18:09:58.080Z"
   },
   {
    "duration": 7,
    "start_time": "2023-01-06T18:09:58.086Z"
   },
   {
    "duration": 8,
    "start_time": "2023-01-06T18:09:58.094Z"
   },
   {
    "duration": 11,
    "start_time": "2023-01-06T18:09:58.103Z"
   },
   {
    "duration": 3,
    "start_time": "2023-01-06T18:09:58.115Z"
   },
   {
    "duration": 13,
    "start_time": "2023-01-06T18:09:58.119Z"
   },
   {
    "duration": 8,
    "start_time": "2023-01-06T18:09:58.134Z"
   },
   {
    "duration": 46,
    "start_time": "2023-01-06T18:09:58.143Z"
   },
   {
    "duration": 16,
    "start_time": "2023-01-06T18:09:58.190Z"
   },
   {
    "duration": 17,
    "start_time": "2023-01-06T18:09:58.207Z"
   },
   {
    "duration": 13,
    "start_time": "2023-01-06T18:09:58.226Z"
   },
   {
    "duration": 37,
    "start_time": "2023-01-06T18:09:58.241Z"
   },
   {
    "duration": 14,
    "start_time": "2023-01-06T18:09:58.280Z"
   },
   {
    "duration": 20,
    "start_time": "2023-01-06T18:09:58.296Z"
   },
   {
    "duration": 12167,
    "start_time": "2023-01-06T18:09:58.318Z"
   },
   {
    "duration": 219,
    "start_time": "2023-01-06T18:10:10.487Z"
   },
   {
    "duration": 1204,
    "start_time": "2023-01-06T18:10:10.708Z"
   },
   {
    "duration": 34,
    "start_time": "2023-01-06T18:10:11.914Z"
   },
   {
    "duration": 133,
    "start_time": "2023-01-06T18:10:11.950Z"
   },
   {
    "duration": 92,
    "start_time": "2023-01-06T18:10:12.087Z"
   },
   {
    "duration": 98,
    "start_time": "2023-01-06T18:10:12.181Z"
   },
   {
    "duration": 53,
    "start_time": "2023-01-06T18:10:12.281Z"
   },
   {
    "duration": 4,
    "start_time": "2023-01-06T18:10:12.336Z"
   },
   {
    "duration": 576,
    "start_time": "2023-01-06T18:10:12.342Z"
   },
   {
    "duration": 65,
    "start_time": "2023-01-06T18:10:12.920Z"
   },
   {
    "duration": 5201,
    "start_time": "2023-01-06T18:10:12.987Z"
   },
   {
    "duration": 240,
    "start_time": "2023-01-06T18:10:18.190Z"
   },
   {
    "duration": 9,
    "start_time": "2023-01-06T18:10:18.432Z"
   },
   {
    "duration": 5,
    "start_time": "2023-01-06T18:10:18.442Z"
   },
   {
    "duration": 157,
    "start_time": "2023-01-06T18:10:18.448Z"
   },
   {
    "duration": 20,
    "start_time": "2023-01-06T18:10:18.607Z"
   },
   {
    "duration": 1566,
    "start_time": "2023-01-06T18:10:18.628Z"
   },
   {
    "duration": 98,
    "start_time": "2023-01-06T18:10:20.195Z"
   },
   {
    "duration": 27,
    "start_time": "2023-01-06T18:10:20.295Z"
   },
   {
    "duration": 142,
    "start_time": "2023-01-06T18:10:20.323Z"
   },
   {
    "duration": 34,
    "start_time": "2023-01-06T18:24:31.032Z"
   },
   {
    "duration": 3945,
    "start_time": "2023-01-06T18:24:41.237Z"
   },
   {
    "duration": 1259,
    "start_time": "2023-01-06T18:24:45.184Z"
   },
   {
    "duration": 51,
    "start_time": "2023-01-06T18:24:46.445Z"
   },
   {
    "duration": 23,
    "start_time": "2023-01-06T18:24:46.499Z"
   },
   {
    "duration": 11,
    "start_time": "2023-01-06T18:24:46.523Z"
   },
   {
    "duration": 8,
    "start_time": "2023-01-06T18:24:46.536Z"
   },
   {
    "duration": 34,
    "start_time": "2023-01-06T18:24:46.545Z"
   },
   {
    "duration": 5,
    "start_time": "2023-01-06T18:24:46.581Z"
   },
   {
    "duration": 35,
    "start_time": "2023-01-06T18:24:46.588Z"
   },
   {
    "duration": 4,
    "start_time": "2023-01-06T18:24:46.625Z"
   },
   {
    "duration": 8,
    "start_time": "2023-01-06T18:24:46.630Z"
   },
   {
    "duration": 7,
    "start_time": "2023-01-06T18:24:46.640Z"
   },
   {
    "duration": 10,
    "start_time": "2023-01-06T18:24:46.649Z"
   },
   {
    "duration": 18,
    "start_time": "2023-01-06T18:24:46.661Z"
   },
   {
    "duration": 4,
    "start_time": "2023-01-06T18:24:46.681Z"
   },
   {
    "duration": 10,
    "start_time": "2023-01-06T18:24:46.687Z"
   },
   {
    "duration": 28,
    "start_time": "2023-01-06T18:24:46.699Z"
   },
   {
    "duration": 16,
    "start_time": "2023-01-06T18:24:46.728Z"
   },
   {
    "duration": 45,
    "start_time": "2023-01-06T18:24:46.745Z"
   },
   {
    "duration": 12,
    "start_time": "2023-01-06T18:24:46.792Z"
   },
   {
    "duration": 21,
    "start_time": "2023-01-06T18:24:46.806Z"
   },
   {
    "duration": 12,
    "start_time": "2023-01-06T18:24:46.828Z"
   },
   {
    "duration": 13,
    "start_time": "2023-01-06T18:24:46.842Z"
   },
   {
    "duration": 12478,
    "start_time": "2023-01-06T18:24:46.857Z"
   },
   {
    "duration": 242,
    "start_time": "2023-01-06T18:24:59.336Z"
   },
   {
    "duration": 1245,
    "start_time": "2023-01-06T18:24:59.579Z"
   },
   {
    "duration": 36,
    "start_time": "2023-01-06T18:25:00.826Z"
   },
   {
    "duration": 116,
    "start_time": "2023-01-06T18:25:00.865Z"
   },
   {
    "duration": 97,
    "start_time": "2023-01-06T18:25:00.983Z"
   },
   {
    "duration": 95,
    "start_time": "2023-01-06T18:25:01.085Z"
   },
   {
    "duration": 57,
    "start_time": "2023-01-06T18:25:01.181Z"
   },
   {
    "duration": 4,
    "start_time": "2023-01-06T18:25:01.240Z"
   },
   {
    "duration": 553,
    "start_time": "2023-01-06T18:25:01.246Z"
   },
   {
    "duration": 53,
    "start_time": "2023-01-06T18:25:01.801Z"
   },
   {
    "duration": 4911,
    "start_time": "2023-01-06T18:25:01.855Z"
   },
   {
    "duration": 254,
    "start_time": "2023-01-06T18:25:06.768Z"
   },
   {
    "duration": 12,
    "start_time": "2023-01-06T18:25:07.024Z"
   },
   {
    "duration": 11,
    "start_time": "2023-01-06T18:25:07.037Z"
   },
   {
    "duration": 195,
    "start_time": "2023-01-06T18:25:07.050Z"
   },
   {
    "duration": 32,
    "start_time": "2023-01-06T18:25:07.246Z"
   },
   {
    "duration": 1574,
    "start_time": "2023-01-06T18:25:07.280Z"
   },
   {
    "duration": 96,
    "start_time": "2023-01-06T18:25:08.856Z"
   },
   {
    "duration": 34,
    "start_time": "2023-01-06T18:25:08.954Z"
   },
   {
    "duration": 125,
    "start_time": "2023-01-06T18:25:08.990Z"
   },
   {
    "duration": 5,
    "start_time": "2023-01-06T18:25:41.832Z"
   },
   {
    "duration": 3736,
    "start_time": "2023-01-06T18:25:48.636Z"
   },
   {
    "duration": 1263,
    "start_time": "2023-01-06T18:25:52.375Z"
   },
   {
    "duration": 48,
    "start_time": "2023-01-06T18:25:53.640Z"
   },
   {
    "duration": 22,
    "start_time": "2023-01-06T18:25:53.690Z"
   },
   {
    "duration": 3,
    "start_time": "2023-01-06T18:25:53.715Z"
   },
   {
    "duration": 8,
    "start_time": "2023-01-06T18:25:53.720Z"
   },
   {
    "duration": 17,
    "start_time": "2023-01-06T18:25:53.729Z"
   },
   {
    "duration": 7,
    "start_time": "2023-01-06T18:25:53.747Z"
   },
   {
    "duration": 50,
    "start_time": "2023-01-06T18:25:53.756Z"
   },
   {
    "duration": 4,
    "start_time": "2023-01-06T18:25:53.808Z"
   },
   {
    "duration": 6,
    "start_time": "2023-01-06T18:25:53.814Z"
   },
   {
    "duration": 4,
    "start_time": "2023-01-06T18:25:53.822Z"
   },
   {
    "duration": 7,
    "start_time": "2023-01-06T18:25:53.827Z"
   },
   {
    "duration": 9,
    "start_time": "2023-01-06T18:25:53.837Z"
   },
   {
    "duration": 30,
    "start_time": "2023-01-06T18:25:53.848Z"
   },
   {
    "duration": 5,
    "start_time": "2023-01-06T18:25:53.881Z"
   },
   {
    "duration": 27,
    "start_time": "2023-01-06T18:25:53.888Z"
   },
   {
    "duration": 46,
    "start_time": "2023-01-06T18:25:53.918Z"
   },
   {
    "duration": 22,
    "start_time": "2023-01-06T18:25:53.966Z"
   },
   {
    "duration": 20,
    "start_time": "2023-01-06T18:25:53.990Z"
   },
   {
    "duration": 16,
    "start_time": "2023-01-06T18:25:54.012Z"
   },
   {
    "duration": 16,
    "start_time": "2023-01-06T18:25:54.031Z"
   },
   {
    "duration": 36,
    "start_time": "2023-01-06T18:25:54.049Z"
   },
   {
    "duration": 8,
    "start_time": "2023-01-06T18:25:54.087Z"
   },
   {
    "duration": 12222,
    "start_time": "2023-01-06T18:25:54.097Z"
   },
   {
    "duration": 236,
    "start_time": "2023-01-06T18:26:06.320Z"
   },
   {
    "duration": 1220,
    "start_time": "2023-01-06T18:26:06.558Z"
   },
   {
    "duration": 35,
    "start_time": "2023-01-06T18:26:07.779Z"
   },
   {
    "duration": 163,
    "start_time": "2023-01-06T18:26:07.816Z"
   },
   {
    "duration": 110,
    "start_time": "2023-01-06T18:26:07.980Z"
   },
   {
    "duration": 41,
    "start_time": "2023-01-06T18:26:08.091Z"
   },
   {
    "duration": 64,
    "start_time": "2023-01-06T18:26:08.133Z"
   },
   {
    "duration": 20,
    "start_time": "2023-01-06T18:26:08.198Z"
   },
   {
    "duration": 520,
    "start_time": "2023-01-06T18:26:08.220Z"
   },
   {
    "duration": 58,
    "start_time": "2023-01-06T18:26:08.742Z"
   },
   {
    "duration": 4912,
    "start_time": "2023-01-06T18:26:08.801Z"
   },
   {
    "duration": 297,
    "start_time": "2023-01-06T18:26:13.715Z"
   },
   {
    "duration": 14,
    "start_time": "2023-01-06T18:26:14.014Z"
   },
   {
    "duration": 43,
    "start_time": "2023-01-06T18:26:14.030Z"
   },
   {
    "duration": 180,
    "start_time": "2023-01-06T18:26:14.074Z"
   },
   {
    "duration": 38,
    "start_time": "2023-01-06T18:26:14.258Z"
   },
   {
    "duration": 1862,
    "start_time": "2023-01-06T18:26:14.298Z"
   },
   {
    "duration": 120,
    "start_time": "2023-01-06T18:26:16.162Z"
   },
   {
    "duration": 34,
    "start_time": "2023-01-06T18:26:16.284Z"
   },
   {
    "duration": 161,
    "start_time": "2023-01-06T18:26:16.320Z"
   },
   {
    "duration": 1561,
    "start_time": "2023-03-21T18:30:47.879Z"
   }
  ],
  "kernelspec": {
   "display_name": "Python 3 (ipykernel)",
   "language": "python",
   "name": "python3"
  },
  "language_info": {
   "codemirror_mode": {
    "name": "ipython",
    "version": 3
   },
   "file_extension": ".py",
   "mimetype": "text/x-python",
   "name": "python",
   "nbconvert_exporter": "python",
   "pygments_lexer": "ipython3",
   "version": "3.9.13"
  },
  "toc": {
   "base_numbering": 1,
   "nav_menu": {},
   "number_sections": true,
   "sideBar": true,
   "skip_h1_title": true,
   "title_cell": "Содержание",
   "title_sidebar": "Contents",
   "toc_cell": true,
   "toc_position": {},
   "toc_section_display": true,
   "toc_window_display": false
  }
 },
 "nbformat": 4,
 "nbformat_minor": 2
}
